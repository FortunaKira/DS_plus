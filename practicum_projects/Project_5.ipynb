{
 "cells": [
  {
   "cell_type": "markdown",
   "id": "a1ea28cf",
   "metadata": {},
   "source": [
    "<div style=\"border:solid green 2px; padding: 20px\">\n",
    "\n",
    "<b>Привет, Ксения! Поздравляю с выполнением очередного проекта!!</b>\n",
    "\n",
    "Меня зовут Петр Раздобреев и я буду проверять твою работу. Попробую помочь сделать тебе её еще лучше! В Практикуме принято общени на ты, но если это дискомфортно, то сообщи об этом)\n",
    "\n",
    "Ниже ты найдешь мои комментарии - пожалуйста, не перемещай, не изменяй и не удаляй их. Я буду использовать цветовую разметку:\n",
    "\n",
    "<div class=\"alert alert-danger\">\n",
    "<b>Комментарий ревьюера:</b>☁️Так выделены самые важные замечания. Без их отработки проект не будет принят. </div>\n",
    "\n",
    "<div class=\"alert alert-warning\">\n",
    "<b>Комментарий ревьюера:</b>⛅️ Так выделены небольшие замечания.Такие замечания в проекте допустимы, это пространство для улучшений в будущем.\n",
    "</div>\n",
    "\n",
    "<div class=\"alert alert-success\">\n",
    "<b>Комментарий ревьюера:</b>☀️Так я выделяю успешные идеи.</div>\n",
    "\n",
    "Давай работать над проектом в диалоге: если ты что-то меняешь в проекте или отвечаешь на мои комменатри — пиши об этом. Мне будет легче отследить изменения, если ты выделишь свои комментарии:\n",
    "<div class=\"alert alert-info\"> <b>Комментарий студента:</b> Например, вот так.</div>\n",
    "\n",
    "Всё это поможет выполнить повторную проверку твоего проекта оперативнее. \n",
    "    "
   ]
  },
  {
   "cell_type": "markdown",
   "id": "94080bb2",
   "metadata": {},
   "source": [
    "# Исследование данных сервиса аренды самокатов GoFast"
   ]
  },
  {
   "cell_type": "markdown",
   "id": "6c3e6a8b",
   "metadata": {},
   "source": [
    "Заказчик исследования - сервис GoFast, который предоставляет услуги краткосрочной аренды самокатов через мобильное приложение. Приложением можно пользоваться без подписки и сней, разница в тарифах:  \n",
    "без подписки:  \n",
    "- абонентская плата отсутствует;  \n",
    "- стоимость одной минуты поездки — 8 рублей;  \n",
    "- стоимость старта (начала поездки) — 50 рублей; \n",
    "\n",
    "с подпиской Ultra:  \n",
    "- абонентская плата — 199 рублей в месяц;  \n",
    "- стоимость одной минуты поездки — 6 рублей;  \n",
    "- стоимость старта — бесплатно.  \n",
    "\n",
    "Есть данные данные о некоторых пользователях из нескольких городов, а также об их поездках. Описание данных:  \n",
    "\n",
    "**Пользователи — users_go.csv**  \n",
    "- user_id - уникальный идентификатор пользователя\n",
    "- name - имя пользователя\n",
    "- age - возраст\n",
    "- city - город\n",
    "- subscription_type - тип подписки (free, ultra)  \n",
    "\n",
    "**Поездки — rides_go.csv**  \n",
    "- user_id - уникальный идентификатор пользователя\n",
    "- distance - расстояние, которое пользователь проехал в текущей сессии (в метрах)\n",
    "- duration - продолжительность сессии (в минутах) — время с того момента, как пользователь нажал кнопку «Начать поездку» до момента, как он нажал кнопку «Завершить поездку»\n",
    "- date - дата совершения поездки  \n",
    "\n",
    "**Подписки — subscriptions_go.csv**  \n",
    "- subscription_type - тип подписки\n",
    "- minute_price - стоимость одной минуты поездки по данной подписке\n",
    "- start_ride_price - стоимость начала поездки\n",
    "- subscription_fee - стоимость ежемесячного платежа  \n",
    "\n",
    "Нужно проанализировать данные и проверьте некоторые гипотезы, которые могут помочь бизнесу вырасти."
   ]
  },
  {
   "cell_type": "markdown",
   "id": "c8e5db88",
   "metadata": {},
   "source": [
    "Импортируем необходимые для работы библиотеки:"
   ]
  },
  {
   "cell_type": "code",
   "execution_count": 1,
   "id": "72576667",
   "metadata": {},
   "outputs": [],
   "source": [
    "from scipy import stats as st\n",
    "from scipy.stats import binom, poisson\n",
    "\n",
    "import pandas as pd\n",
    "import matplotlib.pyplot as plt\n",
    "import numpy as np"
   ]
  },
  {
   "cell_type": "markdown",
   "id": "41beb360",
   "metadata": {},
   "source": [
    "Задаём настройки отображения:"
   ]
  },
  {
   "cell_type": "code",
   "execution_count": 2,
   "id": "a9332e95",
   "metadata": {},
   "outputs": [],
   "source": [
    "pd.set_option('display.float_format', '{:,.2f}'.format)"
   ]
  },
  {
   "cell_type": "markdown",
   "id": "c42cbe00",
   "metadata": {},
   "source": [
    "#### Шаг 1. Загрузка данных"
   ]
  },
  {
   "cell_type": "markdown",
   "id": "00dbdd89",
   "metadata": {},
   "source": [
    "Считаем доступные данные из трёх источников:"
   ]
  },
  {
   "cell_type": "code",
   "execution_count": 3,
   "id": "eff9f206",
   "metadata": {},
   "outputs": [],
   "source": [
    "# загружаем данные из файла в dataframe\n",
    "try:\n",
    "    users_data = pd.read_csv('../datasets/users_go.csv')\n",
    "    rides_data = pd.read_csv('../datasets/rides_go.csv')\n",
    "    subscriptions_data = pd.read_csv('../datasets/subscriptions_go.csv')\n",
    "except:\n",
    "    users_data = pd.read_csv('/datasets/users_go.csv')\n",
    "    rides_data = pd.read_csv('/datasets/rides_go.csv')\n",
    "    subscriptions_data = pd.read_csv('/datasets/subscriptions_go.csv')\n",
    "\n",
    "# Чтобы смотреть все столбцы\n",
    "pd.set_option('display.max_columns', None)"
   ]
  },
  {
   "cell_type": "markdown",
   "id": "fb21f60d",
   "metadata": {},
   "source": [
    "Изучим df users_data:"
   ]
  },
  {
   "cell_type": "code",
   "execution_count": 4,
   "id": "a1c32417",
   "metadata": {},
   "outputs": [
    {
     "name": "stdout",
     "output_type": "stream",
     "text": [
      "<class 'pandas.core.frame.DataFrame'>\n",
      "RangeIndex: 1565 entries, 0 to 1564\n",
      "Data columns (total 5 columns):\n",
      " #   Column             Non-Null Count  Dtype \n",
      "---  ------             --------------  ----- \n",
      " 0   user_id            1565 non-null   int64 \n",
      " 1   name               1565 non-null   object\n",
      " 2   age                1565 non-null   int64 \n",
      " 3   city               1565 non-null   object\n",
      " 4   subscription_type  1565 non-null   object\n",
      "dtypes: int64(2), object(3)\n",
      "memory usage: 61.3+ KB\n"
     ]
    },
    {
     "data": {
      "text/plain": [
       "None"
      ]
     },
     "metadata": {},
     "output_type": "display_data"
    },
    {
     "data": {
      "text/html": [
       "<div>\n",
       "<style scoped>\n",
       "    .dataframe tbody tr th:only-of-type {\n",
       "        vertical-align: middle;\n",
       "    }\n",
       "\n",
       "    .dataframe tbody tr th {\n",
       "        vertical-align: top;\n",
       "    }\n",
       "\n",
       "    .dataframe thead th {\n",
       "        text-align: right;\n",
       "    }\n",
       "</style>\n",
       "<table border=\"1\" class=\"dataframe\">\n",
       "  <thead>\n",
       "    <tr style=\"text-align: right;\">\n",
       "      <th></th>\n",
       "      <th>user_id</th>\n",
       "      <th>name</th>\n",
       "      <th>age</th>\n",
       "      <th>city</th>\n",
       "      <th>subscription_type</th>\n",
       "    </tr>\n",
       "  </thead>\n",
       "  <tbody>\n",
       "    <tr>\n",
       "      <th>0</th>\n",
       "      <td>1</td>\n",
       "      <td>Кира</td>\n",
       "      <td>22</td>\n",
       "      <td>Тюмень</td>\n",
       "      <td>ultra</td>\n",
       "    </tr>\n",
       "    <tr>\n",
       "      <th>1</th>\n",
       "      <td>2</td>\n",
       "      <td>Станислав</td>\n",
       "      <td>31</td>\n",
       "      <td>Омск</td>\n",
       "      <td>ultra</td>\n",
       "    </tr>\n",
       "    <tr>\n",
       "      <th>2</th>\n",
       "      <td>3</td>\n",
       "      <td>Алексей</td>\n",
       "      <td>20</td>\n",
       "      <td>Москва</td>\n",
       "      <td>ultra</td>\n",
       "    </tr>\n",
       "    <tr>\n",
       "      <th>3</th>\n",
       "      <td>4</td>\n",
       "      <td>Константин</td>\n",
       "      <td>26</td>\n",
       "      <td>Ростов-на-Дону</td>\n",
       "      <td>ultra</td>\n",
       "    </tr>\n",
       "    <tr>\n",
       "      <th>4</th>\n",
       "      <td>5</td>\n",
       "      <td>Адель</td>\n",
       "      <td>28</td>\n",
       "      <td>Омск</td>\n",
       "      <td>ultra</td>\n",
       "    </tr>\n",
       "  </tbody>\n",
       "</table>\n",
       "</div>"
      ],
      "text/plain": [
       "   user_id        name  age            city subscription_type\n",
       "0        1        Кира   22          Тюмень             ultra\n",
       "1        2   Станислав   31            Омск             ultra\n",
       "2        3     Алексей   20          Москва             ultra\n",
       "3        4  Константин   26  Ростов-на-Дону             ultra\n",
       "4        5       Адель   28            Омск             ultra"
      ]
     },
     "execution_count": 4,
     "metadata": {},
     "output_type": "execute_result"
    }
   ],
   "source": [
    "display(users_data.info())\n",
    "users_data.head()"
   ]
  },
  {
   "cell_type": "markdown",
   "id": "11321871",
   "metadata": {},
   "source": [
    "<div class=\"alert alert-success\">\n",
    "<b>Комментарий ревьюера:</b>☀️\n",
    "    \n",
    "Для вывода `info` дополнительно необязательно писать `display`\n"
   ]
  },
  {
   "cell_type": "markdown",
   "id": "c6ffb3be",
   "metadata": {},
   "source": [
    "1565 клиентов у сервиса, типы данных корректные, менять что-то не потребуется, но на этапе предобработки нужно будет проверить, что города названы в едином стиле (исключить случаи вроде 'Москва' и 'москва', опечатки и т.п.)"
   ]
  },
  {
   "cell_type": "markdown",
   "id": "5608b475",
   "metadata": {},
   "source": [
    "Изучим df rides_data:"
   ]
  },
  {
   "cell_type": "code",
   "execution_count": 5,
   "id": "01be8afb",
   "metadata": {},
   "outputs": [
    {
     "name": "stdout",
     "output_type": "stream",
     "text": [
      "<class 'pandas.core.frame.DataFrame'>\n",
      "RangeIndex: 18068 entries, 0 to 18067\n",
      "Data columns (total 4 columns):\n",
      " #   Column    Non-Null Count  Dtype  \n",
      "---  ------    --------------  -----  \n",
      " 0   user_id   18068 non-null  int64  \n",
      " 1   distance  18068 non-null  float64\n",
      " 2   duration  18068 non-null  float64\n",
      " 3   date      18068 non-null  object \n",
      "dtypes: float64(2), int64(1), object(1)\n",
      "memory usage: 564.8+ KB\n"
     ]
    },
    {
     "data": {
      "text/plain": [
       "None"
      ]
     },
     "metadata": {},
     "output_type": "display_data"
    },
    {
     "data": {
      "text/html": [
       "<div>\n",
       "<style scoped>\n",
       "    .dataframe tbody tr th:only-of-type {\n",
       "        vertical-align: middle;\n",
       "    }\n",
       "\n",
       "    .dataframe tbody tr th {\n",
       "        vertical-align: top;\n",
       "    }\n",
       "\n",
       "    .dataframe thead th {\n",
       "        text-align: right;\n",
       "    }\n",
       "</style>\n",
       "<table border=\"1\" class=\"dataframe\">\n",
       "  <thead>\n",
       "    <tr style=\"text-align: right;\">\n",
       "      <th></th>\n",
       "      <th>user_id</th>\n",
       "      <th>distance</th>\n",
       "      <th>duration</th>\n",
       "      <th>date</th>\n",
       "    </tr>\n",
       "  </thead>\n",
       "  <tbody>\n",
       "    <tr>\n",
       "      <th>0</th>\n",
       "      <td>1</td>\n",
       "      <td>4,409.92</td>\n",
       "      <td>25.60</td>\n",
       "      <td>2021-01-01</td>\n",
       "    </tr>\n",
       "    <tr>\n",
       "      <th>1</th>\n",
       "      <td>1</td>\n",
       "      <td>2,617.59</td>\n",
       "      <td>15.82</td>\n",
       "      <td>2021-01-18</td>\n",
       "    </tr>\n",
       "    <tr>\n",
       "      <th>2</th>\n",
       "      <td>1</td>\n",
       "      <td>754.16</td>\n",
       "      <td>6.23</td>\n",
       "      <td>2021-04-20</td>\n",
       "    </tr>\n",
       "    <tr>\n",
       "      <th>3</th>\n",
       "      <td>1</td>\n",
       "      <td>2,694.78</td>\n",
       "      <td>18.51</td>\n",
       "      <td>2021-08-11</td>\n",
       "    </tr>\n",
       "    <tr>\n",
       "      <th>4</th>\n",
       "      <td>1</td>\n",
       "      <td>4,028.69</td>\n",
       "      <td>26.27</td>\n",
       "      <td>2021-08-28</td>\n",
       "    </tr>\n",
       "  </tbody>\n",
       "</table>\n",
       "</div>"
      ],
      "text/plain": [
       "   user_id  distance  duration        date\n",
       "0        1  4,409.92     25.60  2021-01-01\n",
       "1        1  2,617.59     15.82  2021-01-18\n",
       "2        1    754.16      6.23  2021-04-20\n",
       "3        1  2,694.78     18.51  2021-08-11\n",
       "4        1  4,028.69     26.27  2021-08-28"
      ]
     },
     "execution_count": 5,
     "metadata": {},
     "output_type": "execute_result"
    }
   ],
   "source": [
    "display(rides_data.info())\n",
    "rides_data.head()"
   ]
  },
  {
   "cell_type": "markdown",
   "id": "fa3d9c7a",
   "metadata": {},
   "source": [
    "Наши полторы тысячи клиентов совершили 18 с хвостиком тысяч поездок, не плохо. Точно поправим тип данных для date, со строкой работать не удобно, в остальном типы подходящие."
   ]
  },
  {
   "cell_type": "markdown",
   "id": "6e0a85d0",
   "metadata": {},
   "source": [
    "Изучим df subscriptions_data:"
   ]
  },
  {
   "cell_type": "code",
   "execution_count": 6,
   "id": "fdb32004",
   "metadata": {},
   "outputs": [
    {
     "name": "stdout",
     "output_type": "stream",
     "text": [
      "<class 'pandas.core.frame.DataFrame'>\n",
      "RangeIndex: 2 entries, 0 to 1\n",
      "Data columns (total 4 columns):\n",
      " #   Column             Non-Null Count  Dtype \n",
      "---  ------             --------------  ----- \n",
      " 0   subscription_type  2 non-null      object\n",
      " 1   minute_price       2 non-null      int64 \n",
      " 2   start_ride_price   2 non-null      int64 \n",
      " 3   subscription_fee   2 non-null      int64 \n",
      "dtypes: int64(3), object(1)\n",
      "memory usage: 192.0+ bytes\n"
     ]
    },
    {
     "data": {
      "text/plain": [
       "None"
      ]
     },
     "metadata": {},
     "output_type": "display_data"
    },
    {
     "data": {
      "text/html": [
       "<div>\n",
       "<style scoped>\n",
       "    .dataframe tbody tr th:only-of-type {\n",
       "        vertical-align: middle;\n",
       "    }\n",
       "\n",
       "    .dataframe tbody tr th {\n",
       "        vertical-align: top;\n",
       "    }\n",
       "\n",
       "    .dataframe thead th {\n",
       "        text-align: right;\n",
       "    }\n",
       "</style>\n",
       "<table border=\"1\" class=\"dataframe\">\n",
       "  <thead>\n",
       "    <tr style=\"text-align: right;\">\n",
       "      <th></th>\n",
       "      <th>subscription_type</th>\n",
       "      <th>minute_price</th>\n",
       "      <th>start_ride_price</th>\n",
       "      <th>subscription_fee</th>\n",
       "    </tr>\n",
       "  </thead>\n",
       "  <tbody>\n",
       "    <tr>\n",
       "      <th>0</th>\n",
       "      <td>free</td>\n",
       "      <td>8</td>\n",
       "      <td>50</td>\n",
       "      <td>0</td>\n",
       "    </tr>\n",
       "    <tr>\n",
       "      <th>1</th>\n",
       "      <td>ultra</td>\n",
       "      <td>6</td>\n",
       "      <td>0</td>\n",
       "      <td>199</td>\n",
       "    </tr>\n",
       "  </tbody>\n",
       "</table>\n",
       "</div>"
      ],
      "text/plain": [
       "  subscription_type  minute_price  start_ride_price  subscription_fee\n",
       "0              free             8                50                 0\n",
       "1             ultra             6                 0               199"
      ]
     },
     "execution_count": 6,
     "metadata": {},
     "output_type": "execute_result"
    }
   ],
   "source": [
    "display(subscriptions_data.info())\n",
    "subscriptions_data.head()"
   ]
  },
  {
   "cell_type": "markdown",
   "id": "b4530dea",
   "metadata": {},
   "source": [
    "Лучший df из имеющихся, справочник из двух записей, описывающих тарифы, все типы корректные."
   ]
  },
  {
   "cell_type": "markdown",
   "id": "bead2b04",
   "metadata": {},
   "source": [
    "**Вывод по шагу 1:**  \n",
    "На момент исследования у GoFast 1,5 тысячи клиентов, совершивших ~18 тысяч поездок и два возможных тарифа. Кроме того, ни в одной выборке нет пропущенных значений у фич. Далее переходим к предобработке данных, в конце следующего этапа число валидных клиентов и поездок может сократиться."
   ]
  },
  {
   "cell_type": "markdown",
   "id": "9a6222f6",
   "metadata": {},
   "source": [
    "<div class=\"alert alert-success\">\n",
    "<b>Комментарий ревьюера:</b>☀️\n",
    "    \n",
    "Замечательно, что знакомишься с датафреймом выводя и несколько первых строк и обзорную информацию при помощи `info`"
   ]
  },
  {
   "cell_type": "markdown",
   "id": "e95ebca7",
   "metadata": {},
   "source": [
    "#### Шаг 2. Предобработка данных"
   ]
  },
  {
   "cell_type": "markdown",
   "id": "6552b7a0",
   "metadata": {},
   "source": [
    "subscriptions_data в этом этапе не обрабатывается, т.к. он полностью просматриваем и корректен.  \n",
    "\n",
    "Начнём с приведения типов. В rides_data фичу date преобразуем (object -> datetime)"
   ]
  },
  {
   "cell_type": "code",
   "execution_count": 7,
   "id": "520d515e",
   "metadata": {},
   "outputs": [
    {
     "data": {
      "text/plain": [
       "0   2021-01-01\n",
       "1   2021-01-18\n",
       "2   2021-04-20\n",
       "3   2021-08-11\n",
       "4   2021-08-28\n",
       "Name: date, dtype: datetime64[ns]"
      ]
     },
     "execution_count": 7,
     "metadata": {},
     "output_type": "execute_result"
    }
   ],
   "source": [
    "rides_data['date'] = pd.to_datetime(rides_data['date'], format='%Y-%m-%d') # 2021-08-28\n",
    "rides_data['date'].head()"
   ]
  },
  {
   "cell_type": "markdown",
   "id": "4c6d6bc9",
   "metadata": {},
   "source": [
    "Для удобства построения графиков из даты выделим её составляющие (кроме номера дня месяца, он будет не очень информативен). Посмотрим, какие годы есть в выборке:"
   ]
  },
  {
   "cell_type": "code",
   "execution_count": 8,
   "id": "d35d9165",
   "metadata": {},
   "outputs": [
    {
     "data": {
      "text/plain": [
       "2021    18068\n",
       "Name: date, dtype: int64"
      ]
     },
     "execution_count": 8,
     "metadata": {},
     "output_type": "execute_result"
    }
   ],
   "source": [
    "rides_data['date'].dt.year.value_counts()"
   ]
  },
  {
   "cell_type": "markdown",
   "id": "ff9bd7b9",
   "metadata": {},
   "source": [
    "Всего один вариант, нет смысла его выделять. Рассмотрим месяцы:"
   ]
  },
  {
   "cell_type": "code",
   "execution_count": 9,
   "id": "8b52ca33",
   "metadata": {},
   "outputs": [
    {
     "data": {
      "text/plain": [
       "1     1585\n",
       "5     1560\n",
       "6     1553\n",
       "3     1544\n",
       "7     1529\n",
       "12    1527\n",
       "8     1518\n",
       "9     1517\n",
       "4     1506\n",
       "10    1475\n",
       "11    1418\n",
       "2     1336\n",
       "Name: date, dtype: int64"
      ]
     },
     "execution_count": 9,
     "metadata": {},
     "output_type": "execute_result"
    }
   ],
   "source": [
    "rides_data['date'].dt.month.value_counts()"
   ]
  },
  {
   "cell_type": "markdown",
   "id": "200397ba",
   "metadata": {},
   "source": [
    "Все 12 месяцев на месте. Похоже, только февраль выдался не самым приятным для катания на самокатах и всё же."
   ]
  },
  {
   "cell_type": "code",
   "execution_count": 10,
   "id": "16eb8c6d",
   "metadata": {},
   "outputs": [
    {
     "data": {
      "text/html": [
       "<div>\n",
       "<style scoped>\n",
       "    .dataframe tbody tr th:only-of-type {\n",
       "        vertical-align: middle;\n",
       "    }\n",
       "\n",
       "    .dataframe tbody tr th {\n",
       "        vertical-align: top;\n",
       "    }\n",
       "\n",
       "    .dataframe thead th {\n",
       "        text-align: right;\n",
       "    }\n",
       "</style>\n",
       "<table border=\"1\" class=\"dataframe\">\n",
       "  <thead>\n",
       "    <tr style=\"text-align: right;\">\n",
       "      <th></th>\n",
       "      <th>user_id</th>\n",
       "      <th>distance</th>\n",
       "      <th>duration</th>\n",
       "      <th>date</th>\n",
       "      <th>month</th>\n",
       "    </tr>\n",
       "  </thead>\n",
       "  <tbody>\n",
       "    <tr>\n",
       "      <th>0</th>\n",
       "      <td>1</td>\n",
       "      <td>4,409.92</td>\n",
       "      <td>25.60</td>\n",
       "      <td>2021-01-01</td>\n",
       "      <td>1</td>\n",
       "    </tr>\n",
       "    <tr>\n",
       "      <th>1</th>\n",
       "      <td>1</td>\n",
       "      <td>2,617.59</td>\n",
       "      <td>15.82</td>\n",
       "      <td>2021-01-18</td>\n",
       "      <td>1</td>\n",
       "    </tr>\n",
       "    <tr>\n",
       "      <th>2</th>\n",
       "      <td>1</td>\n",
       "      <td>754.16</td>\n",
       "      <td>6.23</td>\n",
       "      <td>2021-04-20</td>\n",
       "      <td>4</td>\n",
       "    </tr>\n",
       "    <tr>\n",
       "      <th>3</th>\n",
       "      <td>1</td>\n",
       "      <td>2,694.78</td>\n",
       "      <td>18.51</td>\n",
       "      <td>2021-08-11</td>\n",
       "      <td>8</td>\n",
       "    </tr>\n",
       "    <tr>\n",
       "      <th>4</th>\n",
       "      <td>1</td>\n",
       "      <td>4,028.69</td>\n",
       "      <td>26.27</td>\n",
       "      <td>2021-08-28</td>\n",
       "      <td>8</td>\n",
       "    </tr>\n",
       "  </tbody>\n",
       "</table>\n",
       "</div>"
      ],
      "text/plain": [
       "   user_id  distance  duration       date  month\n",
       "0        1  4,409.92     25.60 2021-01-01      1\n",
       "1        1  2,617.59     15.82 2021-01-18      1\n",
       "2        1    754.16      6.23 2021-04-20      4\n",
       "3        1  2,694.78     18.51 2021-08-11      8\n",
       "4        1  4,028.69     26.27 2021-08-28      8"
      ]
     },
     "execution_count": 10,
     "metadata": {},
     "output_type": "execute_result"
    }
   ],
   "source": [
    "rides_data['month'] = rides_data['date'].dt.month\n",
    "rides_data.head()"
   ]
  },
  {
   "cell_type": "markdown",
   "id": "d7572ad2",
   "metadata": {},
   "source": [
    "Красота. Дальше переходим к обработке пропусков. Т.к. в шаге 1 мы выяснили, что явных пропусков нет, попробуем найти нулевые значения, или отрицательные, или пустые строки. Начнём с users_data:"
   ]
  },
  {
   "cell_type": "code",
   "execution_count": 11,
   "id": "fcd86f15",
   "metadata": {},
   "outputs": [
    {
     "data": {
      "text/plain": [
       "['free', 'ultra']"
      ]
     },
     "metadata": {},
     "output_type": "display_data"
    },
    {
     "data": {
      "text/plain": [
       "['Агата',\n",
       " 'Аделина',\n",
       " 'Адель',\n",
       " 'Айдар',\n",
       " 'Александр',\n",
       " 'Александра',\n",
       " 'Алексей',\n",
       " 'Алина',\n",
       " 'Алиса',\n",
       " 'Алия',\n",
       " 'Алла',\n",
       " 'Альберт',\n",
       " 'Альбина',\n",
       " 'Алёна',\n",
       " 'Амалия',\n",
       " 'Амина',\n",
       " 'Амир',\n",
       " 'Анастасия',\n",
       " 'Анатолий',\n",
       " 'Ангелина',\n",
       " 'Андрей',\n",
       " 'Анжелика',\n",
       " 'Анна',\n",
       " 'Антон',\n",
       " 'Антонина',\n",
       " 'Ариана',\n",
       " 'Арина',\n",
       " 'Арсен',\n",
       " 'Арсений',\n",
       " 'Артемий',\n",
       " 'Артур',\n",
       " 'Артём',\n",
       " 'Богдан',\n",
       " 'Борис',\n",
       " 'Вадим',\n",
       " 'Валентина',\n",
       " 'Валерий',\n",
       " 'Валерия',\n",
       " 'Варвара',\n",
       " 'Василий',\n",
       " 'Василина',\n",
       " 'Василиса',\n",
       " 'Вера',\n",
       " 'Вероника',\n",
       " 'Виктор',\n",
       " 'Виктория',\n",
       " 'Виолетта',\n",
       " 'Виталий',\n",
       " 'Виталина',\n",
       " 'Влад',\n",
       " 'Влада',\n",
       " 'Владимир',\n",
       " 'Владислав',\n",
       " 'Владислава',\n",
       " 'Всеволод',\n",
       " 'Вячеслав',\n",
       " 'Галина',\n",
       " 'Георгий',\n",
       " 'Герман',\n",
       " 'Глеб',\n",
       " 'Гордей',\n",
       " 'Григорий',\n",
       " 'Давид',\n",
       " 'Дамир',\n",
       " 'Даниил',\n",
       " 'Данил',\n",
       " 'Данила',\n",
       " 'Даниэль',\n",
       " 'Дарина',\n",
       " 'Дарья',\n",
       " 'Демид',\n",
       " 'Денис',\n",
       " 'Диана',\n",
       " 'Дмитрий',\n",
       " 'Ева',\n",
       " 'Евгений',\n",
       " 'Евгения',\n",
       " 'Егор',\n",
       " 'Екатерина',\n",
       " 'Елена',\n",
       " 'Елизавета',\n",
       " 'Елисей',\n",
       " 'Есения',\n",
       " 'Жанна',\n",
       " 'Зарина',\n",
       " 'Захар',\n",
       " 'Злата',\n",
       " 'Иван',\n",
       " 'Игнат',\n",
       " 'Игорь',\n",
       " 'Ильдар',\n",
       " 'Илья',\n",
       " 'Инна',\n",
       " 'Ирина',\n",
       " 'Камилла',\n",
       " 'Карина',\n",
       " 'Каролина',\n",
       " 'Кира',\n",
       " 'Кирилл',\n",
       " 'Константин',\n",
       " 'Кристина',\n",
       " 'Ксения',\n",
       " 'Лариса',\n",
       " 'Лев',\n",
       " 'Леонид',\n",
       " 'Лиана',\n",
       " 'Лидия',\n",
       " 'Лилия',\n",
       " 'Любовь',\n",
       " 'Людмила',\n",
       " 'Мадина',\n",
       " 'Майя',\n",
       " 'Макар',\n",
       " 'Максим',\n",
       " 'Марат',\n",
       " 'Маргарита',\n",
       " 'Марина',\n",
       " 'Мария',\n",
       " 'Марк',\n",
       " 'Марсель',\n",
       " 'Матвей',\n",
       " 'Мелания',\n",
       " 'Милана',\n",
       " 'Милена',\n",
       " 'Мирон',\n",
       " 'Мирослав',\n",
       " 'Мирослава',\n",
       " 'Михаил',\n",
       " 'Назар',\n",
       " 'Наталия',\n",
       " 'Наталья',\n",
       " 'Наташа',\n",
       " 'Нелли',\n",
       " 'Ника',\n",
       " 'Никита',\n",
       " 'Николай',\n",
       " 'Нина',\n",
       " 'Одиссей',\n",
       " 'Оксана',\n",
       " 'Олег',\n",
       " 'Олеся',\n",
       " 'Ольга',\n",
       " 'Павел',\n",
       " 'Петр',\n",
       " 'Платон',\n",
       " 'Полина',\n",
       " 'Радмир',\n",
       " 'Рамиль',\n",
       " 'Регина',\n",
       " 'Роберт',\n",
       " 'Родион',\n",
       " 'Роман',\n",
       " 'Ростислав',\n",
       " 'Руслан',\n",
       " 'Рустам',\n",
       " 'Савелий',\n",
       " 'Самир',\n",
       " 'Самира',\n",
       " 'Светлана',\n",
       " 'Святогор',\n",
       " 'Святослав',\n",
       " 'Семен',\n",
       " 'Сергей',\n",
       " 'Снежана',\n",
       " 'София',\n",
       " 'Софья',\n",
       " 'Станислав',\n",
       " 'Степан',\n",
       " 'Стефания',\n",
       " 'Таисия',\n",
       " 'Тамара',\n",
       " 'Тамерлан',\n",
       " 'Татьяна',\n",
       " 'Тимофей',\n",
       " 'Тимур',\n",
       " 'Тихон',\n",
       " 'Ульяна',\n",
       " 'Федор',\n",
       " 'Эвелина',\n",
       " 'Эдуард',\n",
       " 'Элина',\n",
       " 'Эльвира',\n",
       " 'Эльмира',\n",
       " 'Эмилия',\n",
       " 'Эмиль',\n",
       " 'Юлиана',\n",
       " 'Юлия',\n",
       " 'Юрий',\n",
       " 'Ян',\n",
       " 'Яна',\n",
       " 'Яромир',\n",
       " 'Ярослав',\n",
       " 'Ярослава',\n",
       " 'Ясмина']"
      ]
     },
     "metadata": {},
     "output_type": "display_data"
    },
    {
     "data": {
      "text/plain": [
       "[12,\n",
       " 13,\n",
       " 14,\n",
       " 15,\n",
       " 16,\n",
       " 17,\n",
       " 18,\n",
       " 19,\n",
       " 20,\n",
       " 21,\n",
       " 22,\n",
       " 23,\n",
       " 24,\n",
       " 25,\n",
       " 26,\n",
       " 27,\n",
       " 28,\n",
       " 29,\n",
       " 30,\n",
       " 31,\n",
       " 32,\n",
       " 33,\n",
       " 34,\n",
       " 35,\n",
       " 36,\n",
       " 37,\n",
       " 38,\n",
       " 39,\n",
       " 43]"
      ]
     },
     "metadata": {},
     "output_type": "display_data"
    },
    {
     "data": {
      "text/plain": [
       "['Екатеринбург',\n",
       " 'Краснодар',\n",
       " 'Москва',\n",
       " 'Омск',\n",
       " 'Пятигорск',\n",
       " 'Ростов-на-Дону',\n",
       " 'Сочи',\n",
       " 'Тюмень']"
      ]
     },
     "metadata": {},
     "output_type": "display_data"
    }
   ],
   "source": [
    "display(sorted(users_data['subscription_type'].unique())) # Всё корректно\n",
    "display(sorted(users_data['name'].unique())) # Всё корректно\n",
    "display(sorted(users_data['age'].unique())) # Всё корректно\n",
    "display(sorted(users_data['city'].unique())) # Всё корректно"
   ]
  },
  {
   "cell_type": "markdown",
   "id": "ac49247c",
   "metadata": {},
   "source": [
    "В users_data нет пропущенных не корректных значений.  \n",
    "\n",
    "Теперь перейдём к rides_data:"
   ]
  },
  {
   "cell_type": "code",
   "execution_count": 12,
   "id": "b1a6f281",
   "metadata": {},
   "outputs": [
    {
     "data": {
      "text/plain": [
       "Series([], Name: distance, dtype: float64)"
      ]
     },
     "metadata": {},
     "output_type": "display_data"
    },
    {
     "data": {
      "text/plain": [
       "Series([], Name: duration, dtype: float64)"
      ]
     },
     "metadata": {},
     "output_type": "display_data"
    }
   ],
   "source": [
    "display(rides_data.loc[rides_data['distance'] <= 0, 'distance']) # Корректно\n",
    "display(rides_data.loc[rides_data['duration'] <= 0, 'duration']) # Корректно"
   ]
  },
  {
   "cell_type": "markdown",
   "id": "1363c360",
   "metadata": {},
   "source": [
    "В rides_data тоже нет значений, которые можно было бы считать пропущенными.  \n",
    "\n",
    "Теперь перейдём к поиску возможных явных дубликатов. Не явные дубликаты не буду рассматривать, т.к. они могли быть только у users_data, и я отсмотрела их в 10 ячейке. Начнём с users_data:"
   ]
  },
  {
   "cell_type": "code",
   "execution_count": 13,
   "id": "17646b74",
   "metadata": {},
   "outputs": [
    {
     "data": {
      "text/plain": [
       "'Кол-во явных дубликатов до обработки: 31'"
      ]
     },
     "metadata": {},
     "output_type": "display_data"
    },
    {
     "data": {
      "text/plain": [
       "'Кол-во явных дубликатов после обработки: 0'"
      ]
     },
     "metadata": {},
     "output_type": "display_data"
    }
   ],
   "source": [
    "display(f'Кол-во явных дубликатов до обработки: {users_data.duplicated().sum()}')\n",
    "users_data = users_data.drop_duplicates().reset_index(drop=True)\n",
    "display(f'Кол-во явных дубликатов после обработки: {users_data.duplicated().sum()}')"
   ]
  },
  {
   "cell_type": "markdown",
   "id": "ed39e90d",
   "metadata": {},
   "source": [
    "Теперь перейдём к rides_data:"
   ]
  },
  {
   "cell_type": "code",
   "execution_count": 14,
   "id": "12b6f2e9",
   "metadata": {},
   "outputs": [
    {
     "data": {
      "text/plain": [
       "'Кол-во явных дубликатов до обработки: 0'"
      ]
     },
     "metadata": {},
     "output_type": "display_data"
    },
    {
     "data": {
      "text/plain": [
       "'Кол-во явных дубликатов после обработки: 0'"
      ]
     },
     "metadata": {},
     "output_type": "display_data"
    }
   ],
   "source": [
    "display(f'Кол-во явных дубликатов до обработки: {rides_data.duplicated().sum()}')\n",
    "rides_data = rides_data.drop_duplicates().reset_index(drop=True)\n",
    "display(f'Кол-во явных дубликатов после обработки: {rides_data.duplicated().sum()}')"
   ]
  },
  {
   "cell_type": "markdown",
   "id": "cc8dedf4",
   "metadata": {},
   "source": [
    "<div class=\"alert alert-success\">\n",
    "<b>Комментарий ревьюера:</b>☀️\n",
    "    \n",
    "И про дубликаты не забываешь, замечательно. Но действия по первичному анализу датафреймов схожи, можно было бы функцию написать "
   ]
  },
  {
   "cell_type": "markdown",
   "id": "a85f90c2",
   "metadata": {},
   "source": [
    "Вопрос с дубликатами решён, в users_data был убран 31 дубликат, в rides_data их не было."
   ]
  },
  {
   "cell_type": "markdown",
   "id": "41b96a96",
   "metadata": {},
   "source": [
    "**Вывод по шагу 2:**  \n",
    "Изменили тип данных для date в users_data (object -> datetime), добавили столбец month в users_data. Проверили users_data и rides_data на пропуски и дубликаты.\n",
    "\n",
    "Итого, новый размер df-ов:  \n",
    "- rides_data: 18068 -> 18068 (без изменений)\n",
    "- users_data: 1565 -> 1534 (минус 31 запись, это 1.9% от изначального users_data)"
   ]
  },
  {
   "cell_type": "markdown",
   "id": "212593c7",
   "metadata": {},
   "source": [
    "#### Шаг 3. Исследовательский анализ данных"
   ]
  },
  {
   "cell_type": "markdown",
   "id": "c065c2f8",
   "metadata": {},
   "source": [
    "Опишем и визуализируем общую информацию о пользователях и поездках."
   ]
  },
  {
   "cell_type": "markdown",
   "id": "24e834ef",
   "metadata": {},
   "source": [
    "##### Частота встречаемости городов"
   ]
  },
  {
   "cell_type": "markdown",
   "id": "61c65edd",
   "metadata": {},
   "source": [
    "Посмотрим, в каких городах какое кол-во клиентов:"
   ]
  },
  {
   "cell_type": "code",
   "execution_count": 15,
   "id": "e9a8acfa",
   "metadata": {},
   "outputs": [
    {
     "data": {
      "text/html": [
       "<div>\n",
       "<style scoped>\n",
       "    .dataframe tbody tr th:only-of-type {\n",
       "        vertical-align: middle;\n",
       "    }\n",
       "\n",
       "    .dataframe tbody tr th {\n",
       "        vertical-align: top;\n",
       "    }\n",
       "\n",
       "    .dataframe thead th {\n",
       "        text-align: right;\n",
       "    }\n",
       "</style>\n",
       "<table border=\"1\" class=\"dataframe\">\n",
       "  <thead>\n",
       "    <tr style=\"text-align: right;\">\n",
       "      <th></th>\n",
       "      <th>cities_count</th>\n",
       "    </tr>\n",
       "    <tr>\n",
       "      <th>city</th>\n",
       "      <th></th>\n",
       "    </tr>\n",
       "  </thead>\n",
       "  <tbody>\n",
       "    <tr>\n",
       "      <th>Екатеринбург</th>\n",
       "      <td>204</td>\n",
       "    </tr>\n",
       "    <tr>\n",
       "      <th>Краснодар</th>\n",
       "      <td>193</td>\n",
       "    </tr>\n",
       "    <tr>\n",
       "      <th>Москва</th>\n",
       "      <td>168</td>\n",
       "    </tr>\n",
       "    <tr>\n",
       "      <th>Омск</th>\n",
       "      <td>183</td>\n",
       "    </tr>\n",
       "    <tr>\n",
       "      <th>Пятигорск</th>\n",
       "      <td>219</td>\n",
       "    </tr>\n",
       "    <tr>\n",
       "      <th>Ростов-на-Дону</th>\n",
       "      <td>198</td>\n",
       "    </tr>\n",
       "    <tr>\n",
       "      <th>Сочи</th>\n",
       "      <td>189</td>\n",
       "    </tr>\n",
       "    <tr>\n",
       "      <th>Тюмень</th>\n",
       "      <td>180</td>\n",
       "    </tr>\n",
       "  </tbody>\n",
       "</table>\n",
       "</div>"
      ],
      "text/plain": [
       "                cities_count\n",
       "city                        \n",
       "Екатеринбург             204\n",
       "Краснодар                193\n",
       "Москва                   168\n",
       "Омск                     183\n",
       "Пятигорск                219\n",
       "Ростов-на-Дону           198\n",
       "Сочи                     189\n",
       "Тюмень                   180"
      ]
     },
     "metadata": {},
     "output_type": "display_data"
    },
    {
     "data": {
      "image/png": "[encoded data removed]",
      "text/plain": [
       "<Figure size 720x360 with 1 Axes>"
      ]
     },
     "metadata": {
      "needs_background": "light"
     },
     "output_type": "display_data"
    }
   ],
   "source": [
    "pivot_users_data = users_data.pivot_table(index='city', values='user_id', aggfunc=['count'])\n",
    "pivot_users_data = pivot_users_data.set_axis(['cities_count'], axis='columns')\n",
    "\n",
    "display(pivot_users_data)\n",
    "\n",
    "(\n",
    "    pivot_users_data\n",
    "    .sort_values(by='cities_count', ascending=False)\n",
    "    .plot(y='cities_count', kind='bar', figsize=(10, 5), legend=False, grid=True, color='green', alpha=0.6)\n",
    ")\n",
    "plt.title('Кол-во клиентов по городам')\n",
    "plt.ylabel('Кол-во')\n",
    "plt.xlabel('Город')\n",
    "plt.show()"
   ]
  },
  {
   "cell_type": "markdown",
   "id": "6912c93f",
   "metadata": {},
   "source": [
    "<div class=\"alert alert-success\">\n",
    "<b>Комментарий ревьюера:</b>☀️\n",
    "    \n",
    "Подписи осей, сортировка значений на графике, отлично!"
   ]
  },
  {
   "cell_type": "markdown",
   "id": "c4602211",
   "metadata": {},
   "source": [
    "Всего 8 возможных городов, кол-во клиентов от 219 (Пятигорск) до 168 (Москва). Разница между этими минимумом и максимумом ~ 23%. Похоже, Московская конкуренция выше, чем у остальных городов."
   ]
  },
  {
   "cell_type": "markdown",
   "id": "a61e9870",
   "metadata": {},
   "source": [
    "##### Соотношение пользователей с подпиской и без подписки"
   ]
  },
  {
   "cell_type": "markdown",
   "id": "091afcc9",
   "metadata": {},
   "source": [
    "Так как глобально у нас клиенты могут быть двух категорий (по типу тарифа), интересно посмотреть на их соотношение:"
   ]
  },
  {
   "cell_type": "code",
   "execution_count": 16,
   "id": "5fffba9c",
   "metadata": {},
   "outputs": [
    {
     "data": {
      "text/html": [
       "<div>\n",
       "<style scoped>\n",
       "    .dataframe tbody tr th:only-of-type {\n",
       "        vertical-align: middle;\n",
       "    }\n",
       "\n",
       "    .dataframe tbody tr th {\n",
       "        vertical-align: top;\n",
       "    }\n",
       "\n",
       "    .dataframe thead tr th {\n",
       "        text-align: left;\n",
       "    }\n",
       "\n",
       "    .dataframe thead tr:last-of-type th {\n",
       "        text-align: right;\n",
       "    }\n",
       "</style>\n",
       "<table border=\"1\" class=\"dataframe\">\n",
       "  <thead>\n",
       "    <tr>\n",
       "      <th></th>\n",
       "      <th colspan=\"8\" halign=\"left\">count</th>\n",
       "    </tr>\n",
       "    <tr>\n",
       "      <th>city</th>\n",
       "      <th>Екатеринбург</th>\n",
       "      <th>Краснодар</th>\n",
       "      <th>Москва</th>\n",
       "      <th>Омск</th>\n",
       "      <th>Пятигорск</th>\n",
       "      <th>Ростов-на-Дону</th>\n",
       "      <th>Сочи</th>\n",
       "      <th>Тюмень</th>\n",
       "    </tr>\n",
       "    <tr>\n",
       "      <th>subscription_type</th>\n",
       "      <th></th>\n",
       "      <th></th>\n",
       "      <th></th>\n",
       "      <th></th>\n",
       "      <th></th>\n",
       "      <th></th>\n",
       "      <th></th>\n",
       "      <th></th>\n",
       "    </tr>\n",
       "  </thead>\n",
       "  <tbody>\n",
       "    <tr>\n",
       "      <th>free</th>\n",
       "      <td>112</td>\n",
       "      <td>112</td>\n",
       "      <td>84</td>\n",
       "      <td>92</td>\n",
       "      <td>125</td>\n",
       "      <td>109</td>\n",
       "      <td>103</td>\n",
       "      <td>98</td>\n",
       "    </tr>\n",
       "    <tr>\n",
       "      <th>ultra</th>\n",
       "      <td>92</td>\n",
       "      <td>81</td>\n",
       "      <td>84</td>\n",
       "      <td>91</td>\n",
       "      <td>94</td>\n",
       "      <td>89</td>\n",
       "      <td>86</td>\n",
       "      <td>82</td>\n",
       "    </tr>\n",
       "  </tbody>\n",
       "</table>\n",
       "</div>"
      ],
      "text/plain": [
       "                         count                                                 \\\n",
       "city              Екатеринбург Краснодар Москва Омск Пятигорск Ростов-на-Дону   \n",
       "subscription_type                                                               \n",
       "free                       112       112     84   92       125            109   \n",
       "ultra                       92        81     84   91        94             89   \n",
       "\n",
       "                               \n",
       "city              Сочи Тюмень  \n",
       "subscription_type              \n",
       "free               103     98  \n",
       "ultra               86     82  "
      ]
     },
     "metadata": {},
     "output_type": "display_data"
    },
    {
     "data": {
      "image/png": "[encoded data removed]",
      "text/plain": [
       "<Figure size 720x360 with 1 Axes>"
      ]
     },
     "metadata": {
      "needs_background": "light"
     },
     "output_type": "display_data"
    },
    {
     "data": {
      "text/plain": [
       "'Доля пользователей с подпиской: 46%'"
      ]
     },
     "metadata": {},
     "output_type": "display_data"
    },
    {
     "data": {
      "text/plain": [
       "'Доля пользователей без подписки: 54%'"
      ]
     },
     "metadata": {},
     "output_type": "display_data"
    }
   ],
   "source": [
    "pivot_users_data = users_data.pivot_table(index='subscription_type', columns=['city'], values='user_id', aggfunc=['count'])\n",
    "display(pivot_users_data)\n",
    "\n",
    "(\n",
    "    pivot_users_data\n",
    "    .plot( kind='bar', figsize=(10, 5), legend=True, grid=True, alpha=0.6)\n",
    ")\n",
    "plt.title('Соотношение пользователей с подпиской и без')\n",
    "plt.ylabel('Кол-во')\n",
    "plt.xlabel('Тариф')\n",
    "plt.show()\n",
    "\n",
    "pivot_users_data = users_data.pivot_table(index='subscription_type', values='user_id', aggfunc=['count'])\n",
    "pivot_users_data = pivot_users_data.set_axis(['subscription_types_count'], axis='columns')\n",
    "\n",
    "full_count = pivot_users_data['subscription_types_count'][0] + pivot_users_data['subscription_types_count'][1]\n",
    "ultra_sub = pivot_users_data['subscription_types_count'][1] / full_count\n",
    "free_sub = pivot_users_data['subscription_types_count'][0] / full_count\n",
    "\n",
    "display(f\"Доля пользователей с подпиской: {round((ultra_sub * 100))}%\")\n",
    "display(f\"Доля пользователей без подписки: {round((free_sub * 100))}%\")"
   ]
  },
  {
   "cell_type": "markdown",
   "id": "c6f51852",
   "metadata": {},
   "source": [
    "<div class=\"alert alert-success\">\n",
    "<b>Комментарий ревьюера:</b>☀️\n",
    "    \n",
    "Спасибо за агрегированные сведения выше"
   ]
  },
  {
   "cell_type": "markdown",
   "id": "472dca9f",
   "metadata": {},
   "source": [
    "Приблизительно пополам, пользователей без подписки больше. Значит ли это, что у нас почти половина клиентов пользуются сервисом так редко, что бесплатный тариф им выгоднее."
   ]
  },
  {
   "cell_type": "markdown",
   "id": "e291d389",
   "metadata": {},
   "source": [
    "##### Возраст пользователей"
   ]
  },
  {
   "cell_type": "markdown",
   "id": "2797b001",
   "metadata": {},
   "source": [
    "Какая возрастная категория в нашем сервисе самая популярная:"
   ]
  },
  {
   "cell_type": "code",
   "execution_count": 17,
   "id": "2799c6d0",
   "metadata": {},
   "outputs": [
    {
     "data": {
      "text/html": [
       "<div>\n",
       "<style scoped>\n",
       "    .dataframe tbody tr th:only-of-type {\n",
       "        vertical-align: middle;\n",
       "    }\n",
       "\n",
       "    .dataframe tbody tr th {\n",
       "        vertical-align: top;\n",
       "    }\n",
       "\n",
       "    .dataframe thead th {\n",
       "        text-align: right;\n",
       "    }\n",
       "</style>\n",
       "<table border=\"1\" class=\"dataframe\">\n",
       "  <thead>\n",
       "    <tr style=\"text-align: right;\">\n",
       "      <th></th>\n",
       "      <th>ages_count</th>\n",
       "    </tr>\n",
       "    <tr>\n",
       "      <th>age</th>\n",
       "      <th></th>\n",
       "    </tr>\n",
       "  </thead>\n",
       "  <tbody>\n",
       "    <tr>\n",
       "      <th>12</th>\n",
       "      <td>4</td>\n",
       "    </tr>\n",
       "    <tr>\n",
       "      <th>13</th>\n",
       "      <td>8</td>\n",
       "    </tr>\n",
       "    <tr>\n",
       "      <th>14</th>\n",
       "      <td>9</td>\n",
       "    </tr>\n",
       "    <tr>\n",
       "      <th>15</th>\n",
       "      <td>13</td>\n",
       "    </tr>\n",
       "    <tr>\n",
       "      <th>16</th>\n",
       "      <td>19</td>\n",
       "    </tr>\n",
       "    <tr>\n",
       "      <th>17</th>\n",
       "      <td>26</td>\n",
       "    </tr>\n",
       "    <tr>\n",
       "      <th>18</th>\n",
       "      <td>46</td>\n",
       "    </tr>\n",
       "    <tr>\n",
       "      <th>19</th>\n",
       "      <td>47</td>\n",
       "    </tr>\n",
       "    <tr>\n",
       "      <th>20</th>\n",
       "      <td>71</td>\n",
       "    </tr>\n",
       "    <tr>\n",
       "      <th>21</th>\n",
       "      <td>93</td>\n",
       "    </tr>\n",
       "    <tr>\n",
       "      <th>22</th>\n",
       "      <td>119</td>\n",
       "    </tr>\n",
       "    <tr>\n",
       "      <th>23</th>\n",
       "      <td>129</td>\n",
       "    </tr>\n",
       "    <tr>\n",
       "      <th>24</th>\n",
       "      <td>132</td>\n",
       "    </tr>\n",
       "    <tr>\n",
       "      <th>25</th>\n",
       "      <td>145</td>\n",
       "    </tr>\n",
       "    <tr>\n",
       "      <th>26</th>\n",
       "      <td>131</td>\n",
       "    </tr>\n",
       "    <tr>\n",
       "      <th>27</th>\n",
       "      <td>119</td>\n",
       "    </tr>\n",
       "    <tr>\n",
       "      <th>28</th>\n",
       "      <td>112</td>\n",
       "    </tr>\n",
       "    <tr>\n",
       "      <th>29</th>\n",
       "      <td>68</td>\n",
       "    </tr>\n",
       "    <tr>\n",
       "      <th>30</th>\n",
       "      <td>68</td>\n",
       "    </tr>\n",
       "    <tr>\n",
       "      <th>31</th>\n",
       "      <td>48</td>\n",
       "    </tr>\n",
       "    <tr>\n",
       "      <th>32</th>\n",
       "      <td>41</td>\n",
       "    </tr>\n",
       "    <tr>\n",
       "      <th>33</th>\n",
       "      <td>39</td>\n",
       "    </tr>\n",
       "    <tr>\n",
       "      <th>34</th>\n",
       "      <td>19</td>\n",
       "    </tr>\n",
       "    <tr>\n",
       "      <th>35</th>\n",
       "      <td>15</td>\n",
       "    </tr>\n",
       "    <tr>\n",
       "      <th>36</th>\n",
       "      <td>6</td>\n",
       "    </tr>\n",
       "    <tr>\n",
       "      <th>37</th>\n",
       "      <td>2</td>\n",
       "    </tr>\n",
       "    <tr>\n",
       "      <th>38</th>\n",
       "      <td>3</td>\n",
       "    </tr>\n",
       "    <tr>\n",
       "      <th>39</th>\n",
       "      <td>1</td>\n",
       "    </tr>\n",
       "    <tr>\n",
       "      <th>43</th>\n",
       "      <td>1</td>\n",
       "    </tr>\n",
       "  </tbody>\n",
       "</table>\n",
       "</div>"
      ],
      "text/plain": [
       "     ages_count\n",
       "age            \n",
       "12            4\n",
       "13            8\n",
       "14            9\n",
       "15           13\n",
       "16           19\n",
       "17           26\n",
       "18           46\n",
       "19           47\n",
       "20           71\n",
       "21           93\n",
       "22          119\n",
       "23          129\n",
       "24          132\n",
       "25          145\n",
       "26          131\n",
       "27          119\n",
       "28          112\n",
       "29           68\n",
       "30           68\n",
       "31           48\n",
       "32           41\n",
       "33           39\n",
       "34           19\n",
       "35           15\n",
       "36            6\n",
       "37            2\n",
       "38            3\n",
       "39            1\n",
       "43            1"
      ]
     },
     "metadata": {},
     "output_type": "display_data"
    },
    {
     "data": {
      "image/png": "[encoded data removed]",
      "text/plain": [
       "<Figure size 720x360 with 1 Axes>"
      ]
     },
     "metadata": {
      "needs_background": "light"
     },
     "output_type": "display_data"
    }
   ],
   "source": [
    "pivot_users_data = users_data.pivot_table(index='age', values='user_id', aggfunc=['count'])\n",
    "pivot_users_data = pivot_users_data.set_axis(['ages_count'], axis='columns')\n",
    "\n",
    "display(pivot_users_data)\n",
    "\n",
    "(\n",
    "    pivot_users_data\n",
    "    .sort_values(by='age', ascending=True)\n",
    "    .plot(y='ages_count', kind='bar', figsize=(10, 5), legend=False, grid=True, color='green', alpha=0.6)\n",
    ")\n",
    "plt.title('Возраст пользователей')\n",
    "plt.ylabel('Кол-во')\n",
    "plt.xlabel('Возраст')\n",
    "plt.show()"
   ]
  },
  {
   "cell_type": "code",
   "execution_count": 18,
   "id": "4c7fb88f",
   "metadata": {},
   "outputs": [
    {
     "data": {
      "text/plain": [
       "'Возраст клиентов средний: 24.9, медианный: 25.0'"
      ]
     },
     "metadata": {},
     "output_type": "display_data"
    }
   ],
   "source": [
    "display(f\"Возраст клиентов средний: {round(users_data['age'].mean(), 1)}, медианный: {users_data['age'].median()}\")"
   ]
  },
  {
   "cell_type": "markdown",
   "id": "b61d1994",
   "metadata": {},
   "source": [
    "Примерно от 20 до 30 лет - самая большая доля клиентов. Клиентам младше и старше, видимо, интереснее другие виды передвижения."
   ]
  },
  {
   "cell_type": "markdown",
   "id": "60c17311",
   "metadata": {},
   "source": [
    "<div class=\"alert alert-success\">\n",
    "<b>Комментарий ревьюера:</b>☀️\n",
    "    \n",
    "Спасибо за акцент на наличии и более юных пользователях, возможно финансово не у всех школьников есть деньги) "
   ]
  },
  {
   "cell_type": "markdown",
   "id": "9e0cf0e0",
   "metadata": {},
   "source": [
    "##### Расстояние, которое пользователь преодолел за одну поездку"
   ]
  },
  {
   "cell_type": "markdown",
   "id": "2093ad0a",
   "metadata": {},
   "source": [
    "Оценим расстояние, которое пользователи преодолевают за одну поездку. Посмотрим ~~в разрезе месяцев на среднее и медианное значения~~ на распределение:"
   ]
  },
  {
   "cell_type": "code",
   "execution_count": 19,
   "id": "4ef89680",
   "metadata": {},
   "outputs": [
    {
     "data": {
      "text/html": [
       "<div>\n",
       "<style scoped>\n",
       "    .dataframe tbody tr th:only-of-type {\n",
       "        vertical-align: middle;\n",
       "    }\n",
       "\n",
       "    .dataframe tbody tr th {\n",
       "        vertical-align: top;\n",
       "    }\n",
       "\n",
       "    .dataframe thead th {\n",
       "        text-align: right;\n",
       "    }\n",
       "</style>\n",
       "<table border=\"1\" class=\"dataframe\">\n",
       "  <thead>\n",
       "    <tr style=\"text-align: right;\">\n",
       "      <th></th>\n",
       "      <th>user_id</th>\n",
       "      <th>distance</th>\n",
       "      <th>duration</th>\n",
       "      <th>date</th>\n",
       "      <th>month</th>\n",
       "    </tr>\n",
       "  </thead>\n",
       "  <tbody>\n",
       "    <tr>\n",
       "      <th>0</th>\n",
       "      <td>1</td>\n",
       "      <td>4,409.92</td>\n",
       "      <td>25.60</td>\n",
       "      <td>2021-01-01</td>\n",
       "      <td>1</td>\n",
       "    </tr>\n",
       "    <tr>\n",
       "      <th>1</th>\n",
       "      <td>1</td>\n",
       "      <td>2,617.59</td>\n",
       "      <td>15.82</td>\n",
       "      <td>2021-01-18</td>\n",
       "      <td>1</td>\n",
       "    </tr>\n",
       "    <tr>\n",
       "      <th>2</th>\n",
       "      <td>1</td>\n",
       "      <td>754.16</td>\n",
       "      <td>6.23</td>\n",
       "      <td>2021-04-20</td>\n",
       "      <td>4</td>\n",
       "    </tr>\n",
       "    <tr>\n",
       "      <th>3</th>\n",
       "      <td>1</td>\n",
       "      <td>2,694.78</td>\n",
       "      <td>18.51</td>\n",
       "      <td>2021-08-11</td>\n",
       "      <td>8</td>\n",
       "    </tr>\n",
       "    <tr>\n",
       "      <th>4</th>\n",
       "      <td>1</td>\n",
       "      <td>4,028.69</td>\n",
       "      <td>26.27</td>\n",
       "      <td>2021-08-28</td>\n",
       "      <td>8</td>\n",
       "    </tr>\n",
       "  </tbody>\n",
       "</table>\n",
       "</div>"
      ],
      "text/plain": [
       "   user_id  distance  duration       date  month\n",
       "0        1  4,409.92     25.60 2021-01-01      1\n",
       "1        1  2,617.59     15.82 2021-01-18      1\n",
       "2        1    754.16      6.23 2021-04-20      4\n",
       "3        1  2,694.78     18.51 2021-08-11      8\n",
       "4        1  4,028.69     26.27 2021-08-28      8"
      ]
     },
     "execution_count": 19,
     "metadata": {},
     "output_type": "execute_result"
    }
   ],
   "source": [
    "rides_data.head()"
   ]
  },
  {
   "cell_type": "code",
   "execution_count": 20,
   "id": "655f03d1",
   "metadata": {},
   "outputs": [
    {
     "data": {
      "image/png": "[encoded data removed]",
      "text/plain": [
       "<Figure size 1080x504 with 1 Axes>"
      ]
     },
     "metadata": {
      "needs_background": "light"
     },
     "output_type": "display_data"
    },
    {
     "data": {
      "text/plain": [
       "'Общая медиана: 3133.61 м, общее среднее: 3070.66 м'"
      ]
     },
     "metadata": {},
     "output_type": "display_data"
    }
   ],
   "source": [
    "# V1\n",
    "# pivot_rides_data = rides_data.pivot_table(index='month', values='distance', aggfunc=['mean', 'median'])\n",
    "# pivot_rides_data = pivot_rides_data.set_axis(['mean_distance', 'median_distance'], axis='columns')\n",
    "\n",
    "# display(pivot_rides_data)\n",
    "\n",
    "# (\n",
    "#     pivot_rides_data\n",
    "#     .sort_values(by='month', ascending=True)\n",
    "#     .plot( kind='bar', figsize=(10, 5), legend=False, grid=True, alpha=0.6)\n",
    "# )\n",
    "# plt.title('Среднее и медианное расстояние за поездку по месяцам')\n",
    "# plt.ylabel('Метры')\n",
    "# plt.xlabel('Месяц')\n",
    "# plt.show()\n",
    "\n",
    "# V2\n",
    "(\n",
    "    rides_data\n",
    "    .pivot_table(index='user_id', values='distance', aggfunc=['median', 'mean'])\n",
    "    .plot(kind='hist', bins=100, figsize=(15, 7), grid=True, alpha=0.4, color=['blue', 'green'])\n",
    ")\n",
    "plt.axvline(x=round(rides_data['distance'].median(), 2), color='r')\n",
    "plt.text(round(rides_data['distance'].median(), 2), 5, 'общая медиана', rotation=90)\n",
    "plt.axvline(x=round(rides_data['distance'].mean(), 2), color='r')\n",
    "plt.text(round(rides_data['distance'].mean(), 2), 5, 'общее среднее', rotation=90)\n",
    "\n",
    "plt.title('Распределение дальности поездки')\n",
    "plt.ylabel('Кол-во')\n",
    "plt.xlabel('Метры')\n",
    "plt.show()\n",
    "\n",
    "display(f\"Общая медиана: {round(rides_data['distance'].median(), 2)} м, общее среднее: {round(rides_data['distance'].mean(), 2)} м\")"
   ]
  },
  {
   "cell_type": "markdown",
   "id": "771dcdf6",
   "metadata": {},
   "source": [
    "V1: ~~Практически равномерное распределение. При этом между средним и медианным нет большой разницы, а значит, нет и кучи аномалий в данных, это хорошо. Если не смотреть на разрезы, то в среднем самокат за поездку проезжает чуть больше 3 км.~~\n",
    "\n",
    "V2:  Распределение похоже на нормальное, медиана и среднее близко друг к другу, значит, больших выбросов нет. Судя по распределению, пользователи арендуют самокат чуть больше, чем на 3 км."
   ]
  },
  {
   "cell_type": "markdown",
   "id": "91887b7b",
   "metadata": {},
   "source": [
    "##### Продолжительность поездок"
   ]
  },
  {
   "cell_type": "markdown",
   "id": "98ab484d",
   "metadata": {},
   "source": [
    "Оценим время, которое пользователи проводят за рулём за одну поездку. Посмотрим в разрезе месяцев на среднее и медианное значения:"
   ]
  },
  {
   "cell_type": "code",
   "execution_count": 21,
   "id": "65afb01d",
   "metadata": {},
   "outputs": [
    {
     "data": {
      "image/png": "[encoded data removed]",
      "text/plain": [
       "<Figure size 1080x504 with 1 Axes>"
      ]
     },
     "metadata": {
      "needs_background": "light"
     },
     "output_type": "display_data"
    },
    {
     "data": {
      "text/plain": [
       "'Общая медиана: 17.68 мин, общее среднее: 17.81 мин'"
      ]
     },
     "metadata": {},
     "output_type": "display_data"
    }
   ],
   "source": [
    "# V1\n",
    "# pivot_rides_data = rides_data.pivot_table(index='month', values='duration', aggfunc=['mean', 'median'])\n",
    "# pivot_rides_data = pivot_rides_data.set_axis(['mean_duration', 'median_duratione'], axis='columns')\n",
    "\n",
    "# display(pivot_rides_data)\n",
    "\n",
    "# (\n",
    "#     pivot_rides_data\n",
    "#     .sort_values(by='month', ascending=True)\n",
    "#     .plot( kind='bar', figsize=(10, 5), legend=False, grid=True, alpha=0.6)\n",
    "# )\n",
    "# plt.title('Среднее и медианное время поездки по месяцам')\n",
    "# plt.ylabel('Продолжительность (мин)')\n",
    "# plt.xlabel('Месяц')\n",
    "# plt.show()\n",
    "\n",
    "# V2\n",
    "(\n",
    "    rides_data\n",
    "    .pivot_table(index='user_id', values='duration', aggfunc=['median', 'mean'])\n",
    "    .plot(kind='hist', bins=100, figsize=(15, 7), grid=True, alpha=0.4, color=['blue', 'green'])\n",
    ")\n",
    "plt.axvline(x=round(rides_data['duration'].median(), 2), color='r')\n",
    "plt.text(round(rides_data['duration'].median(), 2), 5, 'общая медиана', rotation=90)\n",
    "plt.axvline(x=round(rides_data['duration'].mean(), 2), color='r')\n",
    "plt.text(round(rides_data['duration'].mean(), 2), 5, 'общее среднее', rotation=90)\n",
    "\n",
    "plt.title('Распределение продолжительности поездки')\n",
    "plt.ylabel('Кол-во')\n",
    "plt.xlabel('Продолжительность (мин)')\n",
    "plt.show()\n",
    "\n",
    "display(f\"Общая медиана: {round(rides_data['duration'].median(), 2)} мин, общее среднее: {round(rides_data['duration'].mean(), 2)} мин\")"
   ]
  },
  {
   "cell_type": "markdown",
   "id": "8c0b0653",
   "metadata": {},
   "source": [
    "<div class=\"alert alert-danger\">\n",
    "<b>Комментарий ревьюера:</b>☁️\n",
    "\n",
    "Для дистанций и времени всё же ожидалось построение графиков распределений\n",
    "</div>  \n",
    "\n",
    "<div class=\"alert alert-info\"> <b>Комментарий студента:</b> Внесла исправления, старые варианты оставила закомментированными/зачёркнутыми с пометкой V1, новые под пометкой V2</div>\n"
   ]
  },
  {
   "cell_type": "markdown",
   "id": "f676812a",
   "metadata": {},
   "source": [
    "<div class=\"alert alert-success\">\n",
    "<b>Комментарий ревьюера v2:</b>☀️\n",
    "   \n",
    "Отлично! Спасибо и за добавление линий средних\n",
    "\n",
    "</div>"
   ]
  },
  {
   "cell_type": "markdown",
   "id": "244e1aa8",
   "metadata": {},
   "source": [
    "V1: ~~Снова практически равномерное распределение. Серьёзной разницы между средним и медианным значением опять нет, аномалий не ждём. Если не смотреть на разрезы, то в среднем самокат арендуют почти на 18 минут.~~  \n",
    "\n",
    "V2:  Распределение похоже на нормальное, медиана и среднее близко друг к другу, значит, больших выбросов нет. Судя по распределению, пользователи арендуют самокат почти на 18 мин."
   ]
  },
  {
   "cell_type": "markdown",
   "id": "39c60254",
   "metadata": {},
   "source": [
    "**Вывод по шагу 3:**  \n",
    "  \n",
    "По клиентам:  \n",
    "На этом этапе мы выяснили, что GoFast предоставляет аренду самокатов в 8 городах. Самый активный по кол-ву клиентов - Пятигорск (219 человек), наименее активный - Москва (168 человек), между ними разрыв ~23%. Если смотреть по всем городам, то доля клиентов с подпиской 46%, почти половина. От города к городу соотношение немного меняется, но средняя картина сохраняется, только в Москве и Омске клиентов с подпиской немного больше, чем без. Возможно, стоит проверить гипотезу о том, что почти половина клиентов \"редкие\" и им выгоднее не платить за подписку. Средний возраст клиентов от 20 до 30 лет, средний: 24.9, медианный: 25.0.  \n",
    "\n",
    "V1:  \n",
    "~~По поездкам:  \n",
    "Практически равномерное распределение по месяцам наблюдается как в дальности, так и в продолжительности поездок. В среднем самокат за поездку проезжает чуть больше 3 км и делает он это почти за 18 минут.~~  \n",
    "\n",
    "V2:  \n",
    "По поездкам:  \n",
    "Распределения похожи на нормальные, медианы и средние близко друг к другу, значит, больших выбросов нет. Судя по распределению, пользователи арендуют самокат чуть больше, чем на 3 км и по длительности почти на 18 минут."
   ]
  },
  {
   "cell_type": "markdown",
   "id": "a5959448",
   "metadata": {},
   "source": [
    "<div class=\"alert alert-success\">\n",
    "<b>Комментарий ревьюера:</b>☀️\n",
    "    \n",
    "Нравится наличие промежуточных выводов"
   ]
  },
  {
   "cell_type": "markdown",
   "id": "4ef51331",
   "metadata": {},
   "source": [
    "#### Шаг 4. Объединение данных"
   ]
  },
  {
   "cell_type": "markdown",
   "id": "63bf11d7",
   "metadata": {},
   "source": [
    "Объединим users_data, rides_data и subscriptions_data в один df, назовём full_data:"
   ]
  },
  {
   "cell_type": "code",
   "execution_count": 22,
   "id": "6bf288b5",
   "metadata": {},
   "outputs": [
    {
     "data": {
      "text/html": [
       "<div>\n",
       "<style scoped>\n",
       "    .dataframe tbody tr th:only-of-type {\n",
       "        vertical-align: middle;\n",
       "    }\n",
       "\n",
       "    .dataframe tbody tr th {\n",
       "        vertical-align: top;\n",
       "    }\n",
       "\n",
       "    .dataframe thead th {\n",
       "        text-align: right;\n",
       "    }\n",
       "</style>\n",
       "<table border=\"1\" class=\"dataframe\">\n",
       "  <thead>\n",
       "    <tr style=\"text-align: right;\">\n",
       "      <th></th>\n",
       "      <th>user_id</th>\n",
       "      <th>name</th>\n",
       "      <th>age</th>\n",
       "      <th>city</th>\n",
       "      <th>subscription_type</th>\n",
       "      <th>minute_price</th>\n",
       "      <th>start_ride_price</th>\n",
       "      <th>subscription_fee</th>\n",
       "    </tr>\n",
       "  </thead>\n",
       "  <tbody>\n",
       "    <tr>\n",
       "      <th>699</th>\n",
       "      <td>700</td>\n",
       "      <td>Айдар</td>\n",
       "      <td>22</td>\n",
       "      <td>Омск</td>\n",
       "      <td>free</td>\n",
       "      <td>8</td>\n",
       "      <td>50</td>\n",
       "      <td>0</td>\n",
       "    </tr>\n",
       "    <tr>\n",
       "      <th>700</th>\n",
       "      <td>701</td>\n",
       "      <td>Иван</td>\n",
       "      <td>31</td>\n",
       "      <td>Екатеринбург</td>\n",
       "      <td>free</td>\n",
       "      <td>8</td>\n",
       "      <td>50</td>\n",
       "      <td>0</td>\n",
       "    </tr>\n",
       "    <tr>\n",
       "      <th>701</th>\n",
       "      <td>702</td>\n",
       "      <td>Мирослава</td>\n",
       "      <td>20</td>\n",
       "      <td>Екатеринбург</td>\n",
       "      <td>free</td>\n",
       "      <td>8</td>\n",
       "      <td>50</td>\n",
       "      <td>0</td>\n",
       "    </tr>\n",
       "    <tr>\n",
       "      <th>702</th>\n",
       "      <td>703</td>\n",
       "      <td>Иван</td>\n",
       "      <td>30</td>\n",
       "      <td>Пятигорск</td>\n",
       "      <td>free</td>\n",
       "      <td>8</td>\n",
       "      <td>50</td>\n",
       "      <td>0</td>\n",
       "    </tr>\n",
       "    <tr>\n",
       "      <th>703</th>\n",
       "      <td>704</td>\n",
       "      <td>Мирон</td>\n",
       "      <td>29</td>\n",
       "      <td>Ростов-на-Дону</td>\n",
       "      <td>free</td>\n",
       "      <td>8</td>\n",
       "      <td>50</td>\n",
       "      <td>0</td>\n",
       "    </tr>\n",
       "  </tbody>\n",
       "</table>\n",
       "</div>"
      ],
      "text/plain": [
       "     user_id       name  age            city subscription_type  minute_price  \\\n",
       "699      700      Айдар   22            Омск              free             8   \n",
       "700      701       Иван   31    Екатеринбург              free             8   \n",
       "701      702  Мирослава   20    Екатеринбург              free             8   \n",
       "702      703       Иван   30       Пятигорск              free             8   \n",
       "703      704      Мирон   29  Ростов-на-Дону              free             8   \n",
       "\n",
       "     start_ride_price  subscription_fee  \n",
       "699                50                 0  \n",
       "700                50                 0  \n",
       "701                50                 0  \n",
       "702                50                 0  \n",
       "703                50                 0  "
      ]
     },
     "metadata": {},
     "output_type": "display_data"
    },
    {
     "data": {
      "text/html": [
       "<div>\n",
       "<style scoped>\n",
       "    .dataframe tbody tr th:only-of-type {\n",
       "        vertical-align: middle;\n",
       "    }\n",
       "\n",
       "    .dataframe tbody tr th {\n",
       "        vertical-align: top;\n",
       "    }\n",
       "\n",
       "    .dataframe thead th {\n",
       "        text-align: right;\n",
       "    }\n",
       "</style>\n",
       "<table border=\"1\" class=\"dataframe\">\n",
       "  <thead>\n",
       "    <tr style=\"text-align: right;\">\n",
       "      <th></th>\n",
       "      <th>user_id</th>\n",
       "      <th>name</th>\n",
       "      <th>age</th>\n",
       "      <th>city</th>\n",
       "      <th>subscription_type</th>\n",
       "      <th>minute_price</th>\n",
       "      <th>start_ride_price</th>\n",
       "      <th>subscription_fee</th>\n",
       "    </tr>\n",
       "  </thead>\n",
       "  <tbody>\n",
       "    <tr>\n",
       "      <th>0</th>\n",
       "      <td>1</td>\n",
       "      <td>Кира</td>\n",
       "      <td>22</td>\n",
       "      <td>Тюмень</td>\n",
       "      <td>ultra</td>\n",
       "      <td>6</td>\n",
       "      <td>0</td>\n",
       "      <td>199</td>\n",
       "    </tr>\n",
       "    <tr>\n",
       "      <th>1</th>\n",
       "      <td>2</td>\n",
       "      <td>Станислав</td>\n",
       "      <td>31</td>\n",
       "      <td>Омск</td>\n",
       "      <td>ultra</td>\n",
       "      <td>6</td>\n",
       "      <td>0</td>\n",
       "      <td>199</td>\n",
       "    </tr>\n",
       "    <tr>\n",
       "      <th>2</th>\n",
       "      <td>3</td>\n",
       "      <td>Алексей</td>\n",
       "      <td>20</td>\n",
       "      <td>Москва</td>\n",
       "      <td>ultra</td>\n",
       "      <td>6</td>\n",
       "      <td>0</td>\n",
       "      <td>199</td>\n",
       "    </tr>\n",
       "    <tr>\n",
       "      <th>3</th>\n",
       "      <td>4</td>\n",
       "      <td>Константин</td>\n",
       "      <td>26</td>\n",
       "      <td>Ростов-на-Дону</td>\n",
       "      <td>ultra</td>\n",
       "      <td>6</td>\n",
       "      <td>0</td>\n",
       "      <td>199</td>\n",
       "    </tr>\n",
       "    <tr>\n",
       "      <th>4</th>\n",
       "      <td>5</td>\n",
       "      <td>Адель</td>\n",
       "      <td>28</td>\n",
       "      <td>Омск</td>\n",
       "      <td>ultra</td>\n",
       "      <td>6</td>\n",
       "      <td>0</td>\n",
       "      <td>199</td>\n",
       "    </tr>\n",
       "  </tbody>\n",
       "</table>\n",
       "</div>"
      ],
      "text/plain": [
       "   user_id        name  age            city subscription_type  minute_price  \\\n",
       "0        1        Кира   22          Тюмень             ultra             6   \n",
       "1        2   Станислав   31            Омск             ultra             6   \n",
       "2        3     Алексей   20          Москва             ultra             6   \n",
       "3        4  Константин   26  Ростов-на-Дону             ultra             6   \n",
       "4        5       Адель   28            Омск             ultra             6   \n",
       "\n",
       "   start_ride_price  subscription_fee  \n",
       "0                 0               199  \n",
       "1                 0               199  \n",
       "2                 0               199  \n",
       "3                 0               199  \n",
       "4                 0               199  "
      ]
     },
     "metadata": {},
     "output_type": "display_data"
    }
   ],
   "source": [
    "# добавим каждому пользователю подробную информацию о его тарифе\n",
    "users_and_subscriptions_data = (\n",
    "    users_data\n",
    "    .merge(\n",
    "        subscriptions_data,\n",
    "        how='left'\n",
    "    )\n",
    ")\n",
    "# проверяем корректность\n",
    "display(users_and_subscriptions_data.query(\"subscription_type =='free'\").head())\n",
    "display(users_and_subscriptions_data.query(\"subscription_type =='ultra'\").head())"
   ]
  },
  {
   "cell_type": "code",
   "execution_count": 23,
   "id": "e8333878",
   "metadata": {},
   "outputs": [
    {
     "data": {
      "text/html": [
       "<div>\n",
       "<style scoped>\n",
       "    .dataframe tbody tr th:only-of-type {\n",
       "        vertical-align: middle;\n",
       "    }\n",
       "\n",
       "    .dataframe tbody tr th {\n",
       "        vertical-align: top;\n",
       "    }\n",
       "\n",
       "    .dataframe thead th {\n",
       "        text-align: right;\n",
       "    }\n",
       "</style>\n",
       "<table border=\"1\" class=\"dataframe\">\n",
       "  <thead>\n",
       "    <tr style=\"text-align: right;\">\n",
       "      <th></th>\n",
       "      <th>user_id</th>\n",
       "      <th>name</th>\n",
       "      <th>age</th>\n",
       "      <th>city</th>\n",
       "      <th>subscription_type</th>\n",
       "      <th>minute_price</th>\n",
       "      <th>start_ride_price</th>\n",
       "      <th>subscription_fee</th>\n",
       "      <th>distance</th>\n",
       "      <th>duration</th>\n",
       "      <th>date</th>\n",
       "      <th>month</th>\n",
       "    </tr>\n",
       "  </thead>\n",
       "  <tbody>\n",
       "    <tr>\n",
       "      <th>0</th>\n",
       "      <td>1</td>\n",
       "      <td>Кира</td>\n",
       "      <td>22</td>\n",
       "      <td>Тюмень</td>\n",
       "      <td>ultra</td>\n",
       "      <td>6</td>\n",
       "      <td>0</td>\n",
       "      <td>199</td>\n",
       "      <td>4,409.92</td>\n",
       "      <td>25.60</td>\n",
       "      <td>2021-01-01</td>\n",
       "      <td>1</td>\n",
       "    </tr>\n",
       "    <tr>\n",
       "      <th>1</th>\n",
       "      <td>1</td>\n",
       "      <td>Кира</td>\n",
       "      <td>22</td>\n",
       "      <td>Тюмень</td>\n",
       "      <td>ultra</td>\n",
       "      <td>6</td>\n",
       "      <td>0</td>\n",
       "      <td>199</td>\n",
       "      <td>2,617.59</td>\n",
       "      <td>15.82</td>\n",
       "      <td>2021-01-18</td>\n",
       "      <td>1</td>\n",
       "    </tr>\n",
       "    <tr>\n",
       "      <th>2</th>\n",
       "      <td>1</td>\n",
       "      <td>Кира</td>\n",
       "      <td>22</td>\n",
       "      <td>Тюмень</td>\n",
       "      <td>ultra</td>\n",
       "      <td>6</td>\n",
       "      <td>0</td>\n",
       "      <td>199</td>\n",
       "      <td>754.16</td>\n",
       "      <td>6.23</td>\n",
       "      <td>2021-04-20</td>\n",
       "      <td>4</td>\n",
       "    </tr>\n",
       "    <tr>\n",
       "      <th>3</th>\n",
       "      <td>1</td>\n",
       "      <td>Кира</td>\n",
       "      <td>22</td>\n",
       "      <td>Тюмень</td>\n",
       "      <td>ultra</td>\n",
       "      <td>6</td>\n",
       "      <td>0</td>\n",
       "      <td>199</td>\n",
       "      <td>2,694.78</td>\n",
       "      <td>18.51</td>\n",
       "      <td>2021-08-11</td>\n",
       "      <td>8</td>\n",
       "    </tr>\n",
       "    <tr>\n",
       "      <th>4</th>\n",
       "      <td>1</td>\n",
       "      <td>Кира</td>\n",
       "      <td>22</td>\n",
       "      <td>Тюмень</td>\n",
       "      <td>ultra</td>\n",
       "      <td>6</td>\n",
       "      <td>0</td>\n",
       "      <td>199</td>\n",
       "      <td>4,028.69</td>\n",
       "      <td>26.27</td>\n",
       "      <td>2021-08-28</td>\n",
       "      <td>8</td>\n",
       "    </tr>\n",
       "  </tbody>\n",
       "</table>\n",
       "</div>"
      ],
      "text/plain": [
       "   user_id  name  age    city subscription_type  minute_price  \\\n",
       "0        1  Кира   22  Тюмень             ultra             6   \n",
       "1        1  Кира   22  Тюмень             ultra             6   \n",
       "2        1  Кира   22  Тюмень             ultra             6   \n",
       "3        1  Кира   22  Тюмень             ultra             6   \n",
       "4        1  Кира   22  Тюмень             ultra             6   \n",
       "\n",
       "   start_ride_price  subscription_fee  distance  duration       date  month  \n",
       "0                 0               199  4,409.92     25.60 2021-01-01      1  \n",
       "1                 0               199  2,617.59     15.82 2021-01-18      1  \n",
       "2                 0               199    754.16      6.23 2021-04-20      4  \n",
       "3                 0               199  2,694.78     18.51 2021-08-11      8  \n",
       "4                 0               199  4,028.69     26.27 2021-08-28      8  "
      ]
     },
     "execution_count": 23,
     "metadata": {},
     "output_type": "execute_result"
    }
   ],
   "source": [
    "# к каждой записи о поездке добавляем полную информацию о пользователе, который её совершил\n",
    "full_data = (\n",
    "    users_and_subscriptions_data\n",
    "    .merge(\n",
    "        rides_data,\n",
    "        how='right'\n",
    "    )\n",
    ")\n",
    "# проверяем корректность\n",
    "full_data.head()"
   ]
  },
  {
   "cell_type": "markdown",
   "id": "1a55eb59",
   "metadata": {},
   "source": [
    "Теперь у нас df full_data содержит полный набор данных по каждой поездке, пользователю, который её совершил и его тарифном плане."
   ]
  },
  {
   "cell_type": "markdown",
   "id": "c8897fa8",
   "metadata": {},
   "source": [
    "<div class=\"alert alert-danger\">\n",
    "<b>Комментарий ревьюера:</b>☁️\n",
    "\n",
    "Прошу ещё добавить проверку, что после соединения таблиц не возникли пропуски, что размер объъединенной таблице соответствует ожиданиям\n",
    "\n",
    "</div>\n",
    "\n",
    "<div class=\"alert alert-info\"> <b>Комментарий студента:</b> Добавила проверку под этим комментарием</div>\n",
    " \n",
    "<div class=\"alert alert-success\">\n",
    "<b>Комментарий ревьюера v2:</b>☀️\n",
    "   \n",
    "\n",
    "Спасибо, пару проектов ещё прошу попроверять, затем ревьюеры будут лояльнее к проверкам\n",
    "</div>"
   ]
  },
  {
   "cell_type": "markdown",
   "id": "59ccc92a",
   "metadata": {},
   "source": [
    "Ожидается, что кол-во записей после объединения таблиц будет = 18068, т.к. именно столько было после предобработки у df rides_data на втором шаге, а объединение строится на том, что к данным этого df добавляются данные от двух других df:"
   ]
  },
  {
   "cell_type": "code",
   "execution_count": 24,
   "id": "f85d94d0",
   "metadata": {},
   "outputs": [
    {
     "name": "stdout",
     "output_type": "stream",
     "text": [
      "<class 'pandas.core.frame.DataFrame'>\n",
      "Int64Index: 18068 entries, 0 to 18067\n",
      "Data columns (total 12 columns):\n",
      " #   Column             Non-Null Count  Dtype         \n",
      "---  ------             --------------  -----         \n",
      " 0   user_id            18068 non-null  int64         \n",
      " 1   name               18068 non-null  object        \n",
      " 2   age                18068 non-null  int64         \n",
      " 3   city               18068 non-null  object        \n",
      " 4   subscription_type  18068 non-null  object        \n",
      " 5   minute_price       18068 non-null  int64         \n",
      " 6   start_ride_price   18068 non-null  int64         \n",
      " 7   subscription_fee   18068 non-null  int64         \n",
      " 8   distance           18068 non-null  float64       \n",
      " 9   duration           18068 non-null  float64       \n",
      " 10  date               18068 non-null  datetime64[ns]\n",
      " 11  month              18068 non-null  int64         \n",
      "dtypes: datetime64[ns](1), float64(2), int64(6), object(3)\n",
      "memory usage: 1.8+ MB\n"
     ]
    }
   ],
   "source": [
    "full_data.info()"
   ]
  },
  {
   "cell_type": "markdown",
   "id": "f81ee151",
   "metadata": {},
   "source": [
    "Полученное кол-во записей после объединения соответствует ожидаемому, порядок."
   ]
  },
  {
   "cell_type": "markdown",
   "id": "5643717c",
   "metadata": {},
   "source": [
    "На основе full_data выделим два df:  \n",
    "- c данными о пользователях без подписки (free_data)\n",
    "- с данными о пользователях с подпиской (ultra_data)"
   ]
  },
  {
   "cell_type": "code",
   "execution_count": 25,
   "id": "0e2cc4cf",
   "metadata": {},
   "outputs": [
    {
     "data": {
      "text/html": [
       "<div>\n",
       "<style scoped>\n",
       "    .dataframe tbody tr th:only-of-type {\n",
       "        vertical-align: middle;\n",
       "    }\n",
       "\n",
       "    .dataframe tbody tr th {\n",
       "        vertical-align: top;\n",
       "    }\n",
       "\n",
       "    .dataframe thead th {\n",
       "        text-align: right;\n",
       "    }\n",
       "</style>\n",
       "<table border=\"1\" class=\"dataframe\">\n",
       "  <thead>\n",
       "    <tr style=\"text-align: right;\">\n",
       "      <th></th>\n",
       "      <th>user_id</th>\n",
       "      <th>name</th>\n",
       "      <th>age</th>\n",
       "      <th>city</th>\n",
       "      <th>subscription_type</th>\n",
       "      <th>minute_price</th>\n",
       "      <th>start_ride_price</th>\n",
       "      <th>subscription_fee</th>\n",
       "      <th>distance</th>\n",
       "      <th>duration</th>\n",
       "      <th>date</th>\n",
       "      <th>month</th>\n",
       "    </tr>\n",
       "  </thead>\n",
       "  <tbody>\n",
       "    <tr>\n",
       "      <th>6500</th>\n",
       "      <td>700</td>\n",
       "      <td>Айдар</td>\n",
       "      <td>22</td>\n",
       "      <td>Омск</td>\n",
       "      <td>free</td>\n",
       "      <td>8</td>\n",
       "      <td>50</td>\n",
       "      <td>0</td>\n",
       "      <td>2,515.69</td>\n",
       "      <td>14.94</td>\n",
       "      <td>2021-01-02</td>\n",
       "      <td>1</td>\n",
       "    </tr>\n",
       "    <tr>\n",
       "      <th>6501</th>\n",
       "      <td>700</td>\n",
       "      <td>Айдар</td>\n",
       "      <td>22</td>\n",
       "      <td>Омск</td>\n",
       "      <td>free</td>\n",
       "      <td>8</td>\n",
       "      <td>50</td>\n",
       "      <td>0</td>\n",
       "      <td>846.93</td>\n",
       "      <td>16.23</td>\n",
       "      <td>2021-02-01</td>\n",
       "      <td>2</td>\n",
       "    </tr>\n",
       "    <tr>\n",
       "      <th>6502</th>\n",
       "      <td>700</td>\n",
       "      <td>Айдар</td>\n",
       "      <td>22</td>\n",
       "      <td>Омск</td>\n",
       "      <td>free</td>\n",
       "      <td>8</td>\n",
       "      <td>50</td>\n",
       "      <td>0</td>\n",
       "      <td>4,004.43</td>\n",
       "      <td>20.02</td>\n",
       "      <td>2021-02-04</td>\n",
       "      <td>2</td>\n",
       "    </tr>\n",
       "    <tr>\n",
       "      <th>6503</th>\n",
       "      <td>700</td>\n",
       "      <td>Айдар</td>\n",
       "      <td>22</td>\n",
       "      <td>Омск</td>\n",
       "      <td>free</td>\n",
       "      <td>8</td>\n",
       "      <td>50</td>\n",
       "      <td>0</td>\n",
       "      <td>1,205.91</td>\n",
       "      <td>9.78</td>\n",
       "      <td>2021-02-10</td>\n",
       "      <td>2</td>\n",
       "    </tr>\n",
       "    <tr>\n",
       "      <th>6504</th>\n",
       "      <td>700</td>\n",
       "      <td>Айдар</td>\n",
       "      <td>22</td>\n",
       "      <td>Омск</td>\n",
       "      <td>free</td>\n",
       "      <td>8</td>\n",
       "      <td>50</td>\n",
       "      <td>0</td>\n",
       "      <td>3,047.38</td>\n",
       "      <td>17.43</td>\n",
       "      <td>2021-02-14</td>\n",
       "      <td>2</td>\n",
       "    </tr>\n",
       "  </tbody>\n",
       "</table>\n",
       "</div>"
      ],
      "text/plain": [
       "      user_id   name  age  city subscription_type  minute_price  \\\n",
       "6500      700  Айдар   22  Омск              free             8   \n",
       "6501      700  Айдар   22  Омск              free             8   \n",
       "6502      700  Айдар   22  Омск              free             8   \n",
       "6503      700  Айдар   22  Омск              free             8   \n",
       "6504      700  Айдар   22  Омск              free             8   \n",
       "\n",
       "      start_ride_price  subscription_fee  distance  duration       date  month  \n",
       "6500                50                 0  2,515.69     14.94 2021-01-02      1  \n",
       "6501                50                 0    846.93     16.23 2021-02-01      2  \n",
       "6502                50                 0  4,004.43     20.02 2021-02-04      2  \n",
       "6503                50                 0  1,205.91      9.78 2021-02-10      2  \n",
       "6504                50                 0  3,047.38     17.43 2021-02-14      2  "
      ]
     },
     "metadata": {},
     "output_type": "display_data"
    }
   ],
   "source": [
    "free_data = full_data.query(\"subscription_type =='free'\")\n",
    "display(free_data.head())"
   ]
  },
  {
   "cell_type": "code",
   "execution_count": 26,
   "id": "9a42e990",
   "metadata": {},
   "outputs": [
    {
     "data": {
      "text/html": [
       "<div>\n",
       "<style scoped>\n",
       "    .dataframe tbody tr th:only-of-type {\n",
       "        vertical-align: middle;\n",
       "    }\n",
       "\n",
       "    .dataframe tbody tr th {\n",
       "        vertical-align: top;\n",
       "    }\n",
       "\n",
       "    .dataframe thead th {\n",
       "        text-align: right;\n",
       "    }\n",
       "</style>\n",
       "<table border=\"1\" class=\"dataframe\">\n",
       "  <thead>\n",
       "    <tr style=\"text-align: right;\">\n",
       "      <th></th>\n",
       "      <th>user_id</th>\n",
       "      <th>name</th>\n",
       "      <th>age</th>\n",
       "      <th>city</th>\n",
       "      <th>subscription_type</th>\n",
       "      <th>minute_price</th>\n",
       "      <th>start_ride_price</th>\n",
       "      <th>subscription_fee</th>\n",
       "      <th>distance</th>\n",
       "      <th>duration</th>\n",
       "      <th>date</th>\n",
       "      <th>month</th>\n",
       "    </tr>\n",
       "  </thead>\n",
       "  <tbody>\n",
       "    <tr>\n",
       "      <th>0</th>\n",
       "      <td>1</td>\n",
       "      <td>Кира</td>\n",
       "      <td>22</td>\n",
       "      <td>Тюмень</td>\n",
       "      <td>ultra</td>\n",
       "      <td>6</td>\n",
       "      <td>0</td>\n",
       "      <td>199</td>\n",
       "      <td>4,409.92</td>\n",
       "      <td>25.60</td>\n",
       "      <td>2021-01-01</td>\n",
       "      <td>1</td>\n",
       "    </tr>\n",
       "    <tr>\n",
       "      <th>1</th>\n",
       "      <td>1</td>\n",
       "      <td>Кира</td>\n",
       "      <td>22</td>\n",
       "      <td>Тюмень</td>\n",
       "      <td>ultra</td>\n",
       "      <td>6</td>\n",
       "      <td>0</td>\n",
       "      <td>199</td>\n",
       "      <td>2,617.59</td>\n",
       "      <td>15.82</td>\n",
       "      <td>2021-01-18</td>\n",
       "      <td>1</td>\n",
       "    </tr>\n",
       "    <tr>\n",
       "      <th>2</th>\n",
       "      <td>1</td>\n",
       "      <td>Кира</td>\n",
       "      <td>22</td>\n",
       "      <td>Тюмень</td>\n",
       "      <td>ultra</td>\n",
       "      <td>6</td>\n",
       "      <td>0</td>\n",
       "      <td>199</td>\n",
       "      <td>754.16</td>\n",
       "      <td>6.23</td>\n",
       "      <td>2021-04-20</td>\n",
       "      <td>4</td>\n",
       "    </tr>\n",
       "    <tr>\n",
       "      <th>3</th>\n",
       "      <td>1</td>\n",
       "      <td>Кира</td>\n",
       "      <td>22</td>\n",
       "      <td>Тюмень</td>\n",
       "      <td>ultra</td>\n",
       "      <td>6</td>\n",
       "      <td>0</td>\n",
       "      <td>199</td>\n",
       "      <td>2,694.78</td>\n",
       "      <td>18.51</td>\n",
       "      <td>2021-08-11</td>\n",
       "      <td>8</td>\n",
       "    </tr>\n",
       "    <tr>\n",
       "      <th>4</th>\n",
       "      <td>1</td>\n",
       "      <td>Кира</td>\n",
       "      <td>22</td>\n",
       "      <td>Тюмень</td>\n",
       "      <td>ultra</td>\n",
       "      <td>6</td>\n",
       "      <td>0</td>\n",
       "      <td>199</td>\n",
       "      <td>4,028.69</td>\n",
       "      <td>26.27</td>\n",
       "      <td>2021-08-28</td>\n",
       "      <td>8</td>\n",
       "    </tr>\n",
       "  </tbody>\n",
       "</table>\n",
       "</div>"
      ],
      "text/plain": [
       "   user_id  name  age    city subscription_type  minute_price  \\\n",
       "0        1  Кира   22  Тюмень             ultra             6   \n",
       "1        1  Кира   22  Тюмень             ultra             6   \n",
       "2        1  Кира   22  Тюмень             ultra             6   \n",
       "3        1  Кира   22  Тюмень             ultra             6   \n",
       "4        1  Кира   22  Тюмень             ultra             6   \n",
       "\n",
       "   start_ride_price  subscription_fee  distance  duration       date  month  \n",
       "0                 0               199  4,409.92     25.60 2021-01-01      1  \n",
       "1                 0               199  2,617.59     15.82 2021-01-18      1  \n",
       "2                 0               199    754.16      6.23 2021-04-20      4  \n",
       "3                 0               199  2,694.78     18.51 2021-08-11      8  \n",
       "4                 0               199  4,028.69     26.27 2021-08-28      8  "
      ]
     },
     "metadata": {},
     "output_type": "display_data"
    }
   ],
   "source": [
    "ultra_data = full_data.query(\"subscription_type =='ultra'\")\n",
    "display(ultra_data.head())"
   ]
  },
  {
   "cell_type": "markdown",
   "id": "11bface2",
   "metadata": {},
   "source": [
    "<div class=\"alert alert-success\">\n",
    "<b>Комментарий ревьюера:</b>☀️\n",
    "    \n",
    "В последней строке будет выведена переменная даже если просто вызвать её, без `print`, `display`"
   ]
  },
  {
   "cell_type": "markdown",
   "id": "e5596022",
   "metadata": {},
   "source": [
    "А теперь подробнее посмотрим информацию о расстоянии и времени поездок для пользователей обеих категорий раздельно."
   ]
  },
  {
   "cell_type": "code",
   "execution_count": 27,
   "id": "f07ab8ca",
   "metadata": {},
   "outputs": [
    {
     "data": {
      "image/png": "[encoded data removed]",
      "text/plain": [
       "<Figure size 1080x504 with 1 Axes>"
      ]
     },
     "metadata": {
      "needs_background": "light"
     },
     "output_type": "display_data"
    }
   ],
   "source": [
    "(\n",
    "    full_data\n",
    "    .pivot_table(index='month', columns='subscription_type', values='distance', aggfunc=['median'])\n",
    "    .plot(kind='line', figsize=(15, 7), legend=True, grid=True, alpha=0.6)\n",
    ")\n",
    "plt.title('Медианное дальность поездки по месяцам у клиентов')\n",
    "plt.ylabel('Продолжительность (м)')\n",
    "plt.xlabel('Месяц')\n",
    "plt.legend(loc = 'lower right')\n",
    "plt.show()"
   ]
  },
  {
   "cell_type": "code",
   "execution_count": 28,
   "id": "77480459",
   "metadata": {},
   "outputs": [
    {
     "data": {
      "text/html": [
       "<div>\n",
       "<style scoped>\n",
       "    .dataframe tbody tr th:only-of-type {\n",
       "        vertical-align: middle;\n",
       "    }\n",
       "\n",
       "    .dataframe tbody tr th {\n",
       "        vertical-align: top;\n",
       "    }\n",
       "\n",
       "    .dataframe thead th {\n",
       "        text-align: right;\n",
       "    }\n",
       "</style>\n",
       "<table border=\"1\" class=\"dataframe\">\n",
       "  <thead>\n",
       "    <tr style=\"text-align: right;\">\n",
       "      <th></th>\n",
       "      <th>mean_duration</th>\n",
       "      <th>median_duratione</th>\n",
       "    </tr>\n",
       "    <tr>\n",
       "      <th>month</th>\n",
       "      <th></th>\n",
       "      <th></th>\n",
       "    </tr>\n",
       "  </thead>\n",
       "  <tbody>\n",
       "    <tr>\n",
       "      <th>1</th>\n",
       "      <td>3,097.14</td>\n",
       "      <td>3,143.86</td>\n",
       "    </tr>\n",
       "    <tr>\n",
       "      <th>2</th>\n",
       "      <td>3,024.26</td>\n",
       "      <td>3,107.62</td>\n",
       "    </tr>\n",
       "    <tr>\n",
       "      <th>3</th>\n",
       "      <td>2,994.99</td>\n",
       "      <td>3,061.36</td>\n",
       "    </tr>\n",
       "    <tr>\n",
       "      <th>4</th>\n",
       "      <td>3,005.60</td>\n",
       "      <td>3,060.11</td>\n",
       "    </tr>\n",
       "    <tr>\n",
       "      <th>5</th>\n",
       "      <td>3,111.05</td>\n",
       "      <td>3,153.49</td>\n",
       "    </tr>\n",
       "    <tr>\n",
       "      <th>6</th>\n",
       "      <td>3,075.58</td>\n",
       "      <td>3,094.20</td>\n",
       "    </tr>\n",
       "    <tr>\n",
       "      <th>7</th>\n",
       "      <td>3,061.25</td>\n",
       "      <td>3,134.65</td>\n",
       "    </tr>\n",
       "    <tr>\n",
       "      <th>8</th>\n",
       "      <td>2,990.11</td>\n",
       "      <td>3,087.16</td>\n",
       "    </tr>\n",
       "    <tr>\n",
       "      <th>9</th>\n",
       "      <td>3,049.33</td>\n",
       "      <td>3,114.83</td>\n",
       "    </tr>\n",
       "    <tr>\n",
       "      <th>10</th>\n",
       "      <td>2,977.35</td>\n",
       "      <td>3,001.93</td>\n",
       "    </tr>\n",
       "    <tr>\n",
       "      <th>11</th>\n",
       "      <td>3,046.95</td>\n",
       "      <td>3,134.33</td>\n",
       "    </tr>\n",
       "    <tr>\n",
       "      <th>12</th>\n",
       "      <td>3,105.34</td>\n",
       "      <td>3,207.73</td>\n",
       "    </tr>\n",
       "  </tbody>\n",
       "</table>\n",
       "</div>"
      ],
      "text/plain": [
       "       mean_duration  median_duratione\n",
       "month                                 \n",
       "1           3,097.14          3,143.86\n",
       "2           3,024.26          3,107.62\n",
       "3           2,994.99          3,061.36\n",
       "4           3,005.60          3,060.11\n",
       "5           3,111.05          3,153.49\n",
       "6           3,075.58          3,094.20\n",
       "7           3,061.25          3,134.65\n",
       "8           2,990.11          3,087.16\n",
       "9           3,049.33          3,114.83\n",
       "10          2,977.35          3,001.93\n",
       "11          3,046.95          3,134.33\n",
       "12          3,105.34          3,207.73"
      ]
     },
     "metadata": {},
     "output_type": "display_data"
    },
    {
     "data": {
      "text/html": [
       "<div>\n",
       "<style scoped>\n",
       "    .dataframe tbody tr th:only-of-type {\n",
       "        vertical-align: middle;\n",
       "    }\n",
       "\n",
       "    .dataframe tbody tr th {\n",
       "        vertical-align: top;\n",
       "    }\n",
       "\n",
       "    .dataframe thead th {\n",
       "        text-align: right;\n",
       "    }\n",
       "</style>\n",
       "<table border=\"1\" class=\"dataframe\">\n",
       "  <thead>\n",
       "    <tr style=\"text-align: right;\">\n",
       "      <th></th>\n",
       "      <th>mean_duration</th>\n",
       "      <th>median_duratione</th>\n",
       "    </tr>\n",
       "    <tr>\n",
       "      <th>month</th>\n",
       "      <th></th>\n",
       "      <th></th>\n",
       "    </tr>\n",
       "  </thead>\n",
       "  <tbody>\n",
       "    <tr>\n",
       "      <th>1</th>\n",
       "      <td>3,077.32</td>\n",
       "      <td>3,135.45</td>\n",
       "    </tr>\n",
       "    <tr>\n",
       "      <th>2</th>\n",
       "      <td>3,100.77</td>\n",
       "      <td>3,159.34</td>\n",
       "    </tr>\n",
       "    <tr>\n",
       "      <th>3</th>\n",
       "      <td>3,128.24</td>\n",
       "      <td>3,155.14</td>\n",
       "    </tr>\n",
       "    <tr>\n",
       "      <th>4</th>\n",
       "      <td>3,111.74</td>\n",
       "      <td>3,114.32</td>\n",
       "    </tr>\n",
       "    <tr>\n",
       "      <th>5</th>\n",
       "      <td>3,125.53</td>\n",
       "      <td>3,150.30</td>\n",
       "    </tr>\n",
       "    <tr>\n",
       "      <th>6</th>\n",
       "      <td>3,117.32</td>\n",
       "      <td>3,132.68</td>\n",
       "    </tr>\n",
       "    <tr>\n",
       "      <th>7</th>\n",
       "      <td>3,151.00</td>\n",
       "      <td>3,201.38</td>\n",
       "    </tr>\n",
       "    <tr>\n",
       "      <th>8</th>\n",
       "      <td>3,120.93</td>\n",
       "      <td>3,159.94</td>\n",
       "    </tr>\n",
       "    <tr>\n",
       "      <th>9</th>\n",
       "      <td>3,081.55</td>\n",
       "      <td>3,141.97</td>\n",
       "    </tr>\n",
       "    <tr>\n",
       "      <th>10</th>\n",
       "      <td>3,138.26</td>\n",
       "      <td>3,137.92</td>\n",
       "    </tr>\n",
       "    <tr>\n",
       "      <th>11</th>\n",
       "      <td>3,106.92</td>\n",
       "      <td>3,151.49</td>\n",
       "    </tr>\n",
       "    <tr>\n",
       "      <th>12</th>\n",
       "      <td>3,121.41</td>\n",
       "      <td>3,154.13</td>\n",
       "    </tr>\n",
       "  </tbody>\n",
       "</table>\n",
       "</div>"
      ],
      "text/plain": [
       "       mean_duration  median_duratione\n",
       "month                                 \n",
       "1           3,077.32          3,135.45\n",
       "2           3,100.77          3,159.34\n",
       "3           3,128.24          3,155.14\n",
       "4           3,111.74          3,114.32\n",
       "5           3,125.53          3,150.30\n",
       "6           3,117.32          3,132.68\n",
       "7           3,151.00          3,201.38\n",
       "8           3,120.93          3,159.94\n",
       "9           3,081.55          3,141.97\n",
       "10          3,138.26          3,137.92\n",
       "11          3,106.92          3,151.49\n",
       "12          3,121.41          3,154.13"
      ]
     },
     "metadata": {},
     "output_type": "display_data"
    },
    {
     "data": {
      "text/plain": [
       "'Без разреза free, среднее: 3045.5 м, медианное: 3114.65 м'"
      ]
     },
     "metadata": {},
     "output_type": "display_data"
    },
    {
     "data": {
      "text/plain": [
       "'Без разреза ultra, среднее: 3115.45 м, медианное: 3148.64 м'"
      ]
     },
     "metadata": {},
     "output_type": "display_data"
    }
   ],
   "source": [
    "pivot_free_data = free_data.pivot_table(index='month', values='distance', aggfunc=['mean', 'median'])\n",
    "pivot_free_data = pivot_free_data.set_axis(['mean_duration', 'median_duratione'], axis='columns')\n",
    "\n",
    "pivot_ultra_data = ultra_data.pivot_table(index='month', values='distance', aggfunc=['mean', 'median'])\n",
    "pivot_ultra_data = pivot_ultra_data.set_axis(['mean_duration', 'median_duratione'], axis='columns')\n",
    "\n",
    "display(pivot_free_data, pivot_ultra_data)\n",
    "\n",
    "display(f\"Без разреза free, среднее: {round(free_data['distance'].mean(), 2)} м, медианное: {round(free_data['distance'].median(), 2)} м\")\n",
    "display(f\"Без разреза ultra, среднее: {round(ultra_data['distance'].mean(), 2)} м, медианное: {round(ultra_data['distance'].median(), 2)} м\")"
   ]
  },
  {
   "cell_type": "markdown",
   "id": "a41b0d74",
   "metadata": {},
   "source": [
    "На графике отлично видно, что только в январе и марте у \"free пользователей\" поездки немного длиннее, в декабре чуть более существенно. В остальном, \"ultra пользователи\" арендуют самокаты на большие расстояния. Если смотреть без разрезова по месяцам, то разница между дальностью поездок у двух категорий пользователей ~1%, это достаточно мало, поэтому можем сказать, что все пользователи арендую самокат примерно на 3 км с хвостиком."
   ]
  },
  {
   "cell_type": "code",
   "execution_count": 29,
   "id": "2b6c3528",
   "metadata": {},
   "outputs": [
    {
     "data": {
      "image/png": "[encoded data removed]",
      "text/plain": [
       "<Figure size 1080x504 with 1 Axes>"
      ]
     },
     "metadata": {
      "needs_background": "light"
     },
     "output_type": "display_data"
    }
   ],
   "source": [
    "(\n",
    "    full_data\n",
    "    .pivot_table(index='month', columns='subscription_type', values='duration', aggfunc=[ 'median'])\n",
    "    .plot(kind='line', figsize=(15, 7), legend=True, grid=True, alpha=0.6)\n",
    ")\n",
    "plt.title('Медианное время поездки по месяцам у клиентов')\n",
    "plt.ylabel('Продолжительность (мин)')\n",
    "plt.xlabel('Месяц')\n",
    "plt.legend(loc = 'lower right')\n",
    "plt.show()"
   ]
  },
  {
   "cell_type": "markdown",
   "id": "2fd749ef",
   "metadata": {},
   "source": [
    "<div class=\"alert alert-danger\">\n",
    "<b>Комментарий ревьюера:</b>☁️\n",
    "\n",
    "Также ожидалось сравнение распределений по тарифам дистанций, времени поездок\n",
    "</div>\n",
    "\n",
    "<div class=\"alert alert-info\"> <b>Комментарий студента:</b> Добавила сравнение немного ниже, отметила тегом V2</div>\n",
    "\n",
    "<div class=\"alert alert-success\">\n",
    "<b>Комментарий ревьюера v2:</b>☀️\n",
    "   \n",
    "\n",
    "Отлично\n",
    "</div>"
   ]
  },
  {
   "cell_type": "code",
   "execution_count": 30,
   "id": "83ec2306",
   "metadata": {},
   "outputs": [
    {
     "data": {
      "text/html": [
       "<div>\n",
       "<style scoped>\n",
       "    .dataframe tbody tr th:only-of-type {\n",
       "        vertical-align: middle;\n",
       "    }\n",
       "\n",
       "    .dataframe tbody tr th {\n",
       "        vertical-align: top;\n",
       "    }\n",
       "\n",
       "    .dataframe thead th {\n",
       "        text-align: right;\n",
       "    }\n",
       "</style>\n",
       "<table border=\"1\" class=\"dataframe\">\n",
       "  <thead>\n",
       "    <tr style=\"text-align: right;\">\n",
       "      <th></th>\n",
       "      <th>mean_duration</th>\n",
       "      <th>median_duratione</th>\n",
       "    </tr>\n",
       "    <tr>\n",
       "      <th>month</th>\n",
       "      <th></th>\n",
       "      <th></th>\n",
       "    </tr>\n",
       "  </thead>\n",
       "  <tbody>\n",
       "    <tr>\n",
       "      <th>1</th>\n",
       "      <td>17.46</td>\n",
       "      <td>17.35</td>\n",
       "    </tr>\n",
       "    <tr>\n",
       "      <th>2</th>\n",
       "      <td>17.15</td>\n",
       "      <td>16.96</td>\n",
       "    </tr>\n",
       "    <tr>\n",
       "      <th>3</th>\n",
       "      <td>17.07</td>\n",
       "      <td>17.10</td>\n",
       "    </tr>\n",
       "    <tr>\n",
       "      <th>4</th>\n",
       "      <td>17.54</td>\n",
       "      <td>17.47</td>\n",
       "    </tr>\n",
       "    <tr>\n",
       "      <th>5</th>\n",
       "      <td>17.64</td>\n",
       "      <td>17.22</td>\n",
       "    </tr>\n",
       "    <tr>\n",
       "      <th>6</th>\n",
       "      <td>17.55</td>\n",
       "      <td>17.55</td>\n",
       "    </tr>\n",
       "    <tr>\n",
       "      <th>7</th>\n",
       "      <td>17.49</td>\n",
       "      <td>17.34</td>\n",
       "    </tr>\n",
       "    <tr>\n",
       "      <th>8</th>\n",
       "      <td>17.15</td>\n",
       "      <td>17.18</td>\n",
       "    </tr>\n",
       "    <tr>\n",
       "      <th>9</th>\n",
       "      <td>17.42</td>\n",
       "      <td>17.13</td>\n",
       "    </tr>\n",
       "    <tr>\n",
       "      <th>10</th>\n",
       "      <td>17.21</td>\n",
       "      <td>17.23</td>\n",
       "    </tr>\n",
       "    <tr>\n",
       "      <th>11</th>\n",
       "      <td>17.42</td>\n",
       "      <td>17.36</td>\n",
       "    </tr>\n",
       "    <tr>\n",
       "      <th>12</th>\n",
       "      <td>17.56</td>\n",
       "      <td>17.70</td>\n",
       "    </tr>\n",
       "  </tbody>\n",
       "</table>\n",
       "</div>"
      ],
      "text/plain": [
       "       mean_duration  median_duratione\n",
       "month                                 \n",
       "1              17.46             17.35\n",
       "2              17.15             16.96\n",
       "3              17.07             17.10\n",
       "4              17.54             17.47\n",
       "5              17.64             17.22\n",
       "6              17.55             17.55\n",
       "7              17.49             17.34\n",
       "8              17.15             17.18\n",
       "9              17.42             17.13\n",
       "10             17.21             17.23\n",
       "11             17.42             17.36\n",
       "12             17.56             17.70"
      ]
     },
     "metadata": {},
     "output_type": "display_data"
    },
    {
     "data": {
      "text/html": [
       "<div>\n",
       "<style scoped>\n",
       "    .dataframe tbody tr th:only-of-type {\n",
       "        vertical-align: middle;\n",
       "    }\n",
       "\n",
       "    .dataframe tbody tr th {\n",
       "        vertical-align: top;\n",
       "    }\n",
       "\n",
       "    .dataframe thead th {\n",
       "        text-align: right;\n",
       "    }\n",
       "</style>\n",
       "<table border=\"1\" class=\"dataframe\">\n",
       "  <thead>\n",
       "    <tr style=\"text-align: right;\">\n",
       "      <th></th>\n",
       "      <th>mean_duration</th>\n",
       "      <th>median_duratione</th>\n",
       "    </tr>\n",
       "    <tr>\n",
       "      <th>month</th>\n",
       "      <th></th>\n",
       "      <th></th>\n",
       "    </tr>\n",
       "  </thead>\n",
       "  <tbody>\n",
       "    <tr>\n",
       "      <th>1</th>\n",
       "      <td>18.49</td>\n",
       "      <td>18.27</td>\n",
       "    </tr>\n",
       "    <tr>\n",
       "      <th>2</th>\n",
       "      <td>18.77</td>\n",
       "      <td>18.15</td>\n",
       "    </tr>\n",
       "    <tr>\n",
       "      <th>3</th>\n",
       "      <td>18.45</td>\n",
       "      <td>18.14</td>\n",
       "    </tr>\n",
       "    <tr>\n",
       "      <th>4</th>\n",
       "      <td>18.54</td>\n",
       "      <td>18.40</td>\n",
       "    </tr>\n",
       "    <tr>\n",
       "      <th>5</th>\n",
       "      <td>18.67</td>\n",
       "      <td>18.18</td>\n",
       "    </tr>\n",
       "    <tr>\n",
       "      <th>6</th>\n",
       "      <td>18.58</td>\n",
       "      <td>17.94</td>\n",
       "    </tr>\n",
       "    <tr>\n",
       "      <th>7</th>\n",
       "      <td>18.62</td>\n",
       "      <td>18.41</td>\n",
       "    </tr>\n",
       "    <tr>\n",
       "      <th>8</th>\n",
       "      <td>18.67</td>\n",
       "      <td>18.56</td>\n",
       "    </tr>\n",
       "    <tr>\n",
       "      <th>9</th>\n",
       "      <td>18.50</td>\n",
       "      <td>18.05</td>\n",
       "    </tr>\n",
       "    <tr>\n",
       "      <th>10</th>\n",
       "      <td>18.39</td>\n",
       "      <td>18.15</td>\n",
       "    </tr>\n",
       "    <tr>\n",
       "      <th>11</th>\n",
       "      <td>18.52</td>\n",
       "      <td>17.90</td>\n",
       "    </tr>\n",
       "    <tr>\n",
       "      <th>12</th>\n",
       "      <td>18.33</td>\n",
       "      <td>17.71</td>\n",
       "    </tr>\n",
       "  </tbody>\n",
       "</table>\n",
       "</div>"
      ],
      "text/plain": [
       "       mean_duration  median_duratione\n",
       "month                                 \n",
       "1              18.49             18.27\n",
       "2              18.77             18.15\n",
       "3              18.45             18.14\n",
       "4              18.54             18.40\n",
       "5              18.67             18.18\n",
       "6              18.58             17.94\n",
       "7              18.62             18.41\n",
       "8              18.67             18.56\n",
       "9              18.50             18.05\n",
       "10             18.39             18.15\n",
       "11             18.52             17.90\n",
       "12             18.33             17.71"
      ]
     },
     "metadata": {},
     "output_type": "display_data"
    },
    {
     "data": {
      "text/plain": [
       "'Без разреза free, среднее: 17.39 мин, медианное: 17.33 мин'"
      ]
     },
     "metadata": {},
     "output_type": "display_data"
    },
    {
     "data": {
      "text/plain": [
       "'Без разреза ultra, среднее: 18.54 мин, медианное: 18.18 мин'"
      ]
     },
     "metadata": {},
     "output_type": "display_data"
    }
   ],
   "source": [
    "pivot_free_data = free_data.pivot_table(index='month', values='duration', aggfunc=['mean', 'median'])\n",
    "pivot_free_data = pivot_free_data.set_axis(['mean_duration', 'median_duratione'], axis='columns')\n",
    "\n",
    "pivot_ultra_data = ultra_data.pivot_table(index='month', values='duration', aggfunc=['mean', 'median'])\n",
    "pivot_ultra_data = pivot_ultra_data.set_axis(['mean_duration', 'median_duratione'], axis='columns')\n",
    "\n",
    "display(pivot_free_data, pivot_ultra_data)\n",
    "\n",
    "display(f\"Без разреза free, среднее: {round(free_data['duration'].mean(), 2)} мин, медианное: {round(free_data['duration'].median(), 2)} мин\")\n",
    "display(f\"Без разреза ultra, среднее: {round(ultra_data['duration'].mean(), 2)} мин, медианное: {round(ultra_data['duration'].median(), 2)} мин\")"
   ]
  },
  {
   "cell_type": "markdown",
   "id": "894d2484",
   "metadata": {},
   "source": [
    "Картина похожа на аналогичную с дальностью поездки. В основном, \"ultra пользователи\" арендуют самокаты на большее время, чем \"free пользователи\". Только в декабре значения отличаются на 0,005654 мин, это очень мало, пренебрежём и будем считать, что в декабре время поездки \"ultra и free пользователей\" одинаково. Если без разрезов по месяцам, то \"ultra пользователи\" катаются на пол минуты дольше, это отличие в ~5%, оно мало, но всё же можно сказать, что время аренды немного больше."
   ]
  },
  {
   "cell_type": "markdown",
   "id": "4cdaf808",
   "metadata": {},
   "source": [
    "V2:  Посмотрим ещё на распределения:"
   ]
  },
  {
   "cell_type": "code",
   "execution_count": 31,
   "id": "b1c0e885",
   "metadata": {},
   "outputs": [
    {
     "data": {
      "image/png": "[encoded data removed]",
      "text/plain": [
       "<Figure size 1080x504 with 1 Axes>"
      ]
     },
     "metadata": {
      "needs_background": "light"
     },
     "output_type": "display_data"
    }
   ],
   "source": [
    "# V2 сравнение распределений по тарифам дистанций поездок\n",
    "(\n",
    "    full_data\n",
    "    .pivot_table(index='user_id', columns='subscription_type', values='distance', aggfunc='median')\n",
    "    .plot(kind='hist', bins=50, figsize=(15, 7), legend=True, grid=True, alpha=0.6)\n",
    ")\n",
    "plt.title('Распределение медианной дальности поездок у клиентов по тарифам')\n",
    "plt.ylabel('Кол-во')\n",
    "plt.xlabel('Дальность (м)')\n",
    "plt.legend(loc = 'upper right')\n",
    "\n",
    "free_median = round(full_data.query(\"subscription_type == 'free'\")['distance'].median(), 2)\n",
    "ultra_median = round(full_data.query(\"subscription_type == 'ultra'\")['distance'].median(), 2)\n",
    "plt.axvline(x=free_median, color='r')\n",
    "plt.text(free_median, 5, 'free median', rotation=90)\n",
    "plt.axvline(x=ultra_median, color='r')\n",
    "plt.text(ultra_median, 5, 'ultra median', rotation=90)\n",
    "\n",
    "plt.show()"
   ]
  },
  {
   "cell_type": "markdown",
   "id": "7011c475",
   "metadata": {},
   "source": [
    "V2:  Клиенты с подпиской чаще всего совершают поездки, близкие к медиане их сегмента, тогда как пользователи без подписки сильнее разбросаны от своей медианы, у них больше поездок, которые по дальности больше и меньше, чем клиентов с подпиской."
   ]
  },
  {
   "cell_type": "code",
   "execution_count": 32,
   "id": "1b64805b",
   "metadata": {},
   "outputs": [
    {
     "data": {
      "image/png": "[encoded data removed]",
      "text/plain": [
       "<Figure size 1080x504 with 1 Axes>"
      ]
     },
     "metadata": {
      "needs_background": "light"
     },
     "output_type": "display_data"
    }
   ],
   "source": [
    "# V2 сравнение распределений по тарифам времени поездок\n",
    "(\n",
    "    full_data\n",
    "    .pivot_table(index='user_id', columns='subscription_type', values='duration', aggfunc='median')\n",
    "    .plot(kind='hist', bins=50, figsize=(15, 7), legend=True, grid=True, alpha=0.6)\n",
    ")\n",
    "plt.title('Распределение медианного времени поездок у клиентов по тарифам')\n",
    "plt.ylabel('Кол-во')\n",
    "plt.xlabel('Продолжительность (мин)')\n",
    "plt.legend(loc = 'upper right')\n",
    "\n",
    "free_median = round(full_data.query(\"subscription_type == 'free'\")['duration'].median(), 2)\n",
    "ultra_median = round(full_data.query(\"subscription_type == 'ultra'\")['duration'].median(), 2)\n",
    "plt.axvline(x=free_median, color='r')\n",
    "plt.text(free_median, 5, 'free median', rotation=90)\n",
    "plt.axvline(x=ultra_median, color='r')\n",
    "plt.text(ultra_median, 5, 'ultra median', rotation=90)\n",
    "\n",
    "plt.show()"
   ]
  },
  {
   "cell_type": "markdown",
   "id": "b31dc479",
   "metadata": {},
   "source": [
    "V2:  Если в случае с дальностью поездки, free клиенты \"окружили\" ultra клиентов, то тут медиана ultra клиентов на секунды впереди медианы free клиентов, т.е. ultra клиенты чаще совершают более продолжительные поездки."
   ]
  },
  {
   "cell_type": "markdown",
   "id": "e05799f4",
   "metadata": {},
   "source": [
    "**Вывод по шагу 4:**  \n",
    "Объединили df-ы, теперь у нас df full_data содержит полный набор данных по каждой поездке, пользователю, который её совершил и его тарифном плане. При дальнейшем исследовании он будет являться \"базовым\".\n",
    "\n",
    "На основе full_data посмотрели в разрезе типов тарифов клиентов на дальность и продолжительность поездок, итоговая сводка выглядит так:\n",
    "- Все пользователи арендую самокат примерно на 3 км, разница между дальностью поездок у двух категорий пользователей ~1%\n",
    "- \"Ultra пользователи\" катаются на пол минуты дольше (~18 мин), \"free пользователи\" ~17.5 мин, это отличие в ~5%\n",
    "\n",
    "V2:  \n",
    "Заключение о просмотре распределений:  \n",
    "- Клиенты с подпиской чаще всего совершают поездки, близкие к медиане их сегмента, график распределения имеет чёткий пик, тогда как пользователи без подписки сильнее разбросаны от своей медианы, этот пик более пологий, у них больше поездок, которые по дальности больше и меньше, чем клиентов с подпиской.  \n",
    "- Если в случае с дальностью поездки, free клиенты \"окружили\" ultra клиентов, то тут медиана ultra клиентов на секунды впереди медианы free клиентов, т.е. ultra клиенты чаще совершают более продолжительные поездки."
   ]
  },
  {
   "cell_type": "markdown",
   "id": "402d620f",
   "metadata": {},
   "source": [
    "#### Шаг 5. Подсчёт выручки"
   ]
  },
  {
   "cell_type": "markdown",
   "id": "e1954d5e",
   "metadata": {},
   "source": [
    "Теперь есть общий df full_data, на основе которого можно рассчитать, какую выручку компания GoFast получила за 2021 год."
   ]
  },
  {
   "cell_type": "markdown",
   "id": "59a55b49",
   "metadata": {},
   "source": [
    "Создадим df pivot_full_data с агрегированными данными о поездках на основе df full_data. Найдём для каждого пользователя за каждый месяц:\n",
    "- суммарное расстояние\n",
    "- количество поездок\n",
    "- суммарное время"
   ]
  },
  {
   "cell_type": "markdown",
   "id": "f1918816",
   "metadata": {},
   "source": [
    "V2  \n",
    "В full_data округлим значения duration:"
   ]
  },
  {
   "cell_type": "code",
   "execution_count": 33,
   "id": "04841d2e",
   "metadata": {},
   "outputs": [
    {
     "name": "stdout",
     "output_type": "stream",
     "text": [
      "<class 'pandas.core.frame.DataFrame'>\n",
      "Int64Index: 18068 entries, 0 to 18067\n",
      "Data columns (total 12 columns):\n",
      " #   Column             Non-Null Count  Dtype         \n",
      "---  ------             --------------  -----         \n",
      " 0   user_id            18068 non-null  int64         \n",
      " 1   name               18068 non-null  object        \n",
      " 2   age                18068 non-null  int64         \n",
      " 3   city               18068 non-null  object        \n",
      " 4   subscription_type  18068 non-null  object        \n",
      " 5   minute_price       18068 non-null  int64         \n",
      " 6   start_ride_price   18068 non-null  int64         \n",
      " 7   subscription_fee   18068 non-null  int64         \n",
      " 8   distance           18068 non-null  float64       \n",
      " 9   duration           18068 non-null  int64         \n",
      " 10  date               18068 non-null  datetime64[ns]\n",
      " 11  month              18068 non-null  int64         \n",
      "dtypes: datetime64[ns](1), float64(1), int64(7), object(3)\n",
      "memory usage: 1.8+ MB\n"
     ]
    },
    {
     "data": {
      "text/html": [
       "<div>\n",
       "<style scoped>\n",
       "    .dataframe tbody tr th:only-of-type {\n",
       "        vertical-align: middle;\n",
       "    }\n",
       "\n",
       "    .dataframe tbody tr th {\n",
       "        vertical-align: top;\n",
       "    }\n",
       "\n",
       "    .dataframe thead th {\n",
       "        text-align: right;\n",
       "    }\n",
       "</style>\n",
       "<table border=\"1\" class=\"dataframe\">\n",
       "  <thead>\n",
       "    <tr style=\"text-align: right;\">\n",
       "      <th></th>\n",
       "      <th>user_id</th>\n",
       "      <th>name</th>\n",
       "      <th>age</th>\n",
       "      <th>city</th>\n",
       "      <th>subscription_type</th>\n",
       "      <th>minute_price</th>\n",
       "      <th>start_ride_price</th>\n",
       "      <th>subscription_fee</th>\n",
       "      <th>distance</th>\n",
       "      <th>duration</th>\n",
       "      <th>date</th>\n",
       "      <th>month</th>\n",
       "    </tr>\n",
       "  </thead>\n",
       "  <tbody>\n",
       "    <tr>\n",
       "      <th>0</th>\n",
       "      <td>1</td>\n",
       "      <td>Кира</td>\n",
       "      <td>22</td>\n",
       "      <td>Тюмень</td>\n",
       "      <td>ultra</td>\n",
       "      <td>6</td>\n",
       "      <td>0</td>\n",
       "      <td>199</td>\n",
       "      <td>4,409.92</td>\n",
       "      <td>26</td>\n",
       "      <td>2021-01-01</td>\n",
       "      <td>1</td>\n",
       "    </tr>\n",
       "    <tr>\n",
       "      <th>1</th>\n",
       "      <td>1</td>\n",
       "      <td>Кира</td>\n",
       "      <td>22</td>\n",
       "      <td>Тюмень</td>\n",
       "      <td>ultra</td>\n",
       "      <td>6</td>\n",
       "      <td>0</td>\n",
       "      <td>199</td>\n",
       "      <td>2,617.59</td>\n",
       "      <td>16</td>\n",
       "      <td>2021-01-18</td>\n",
       "      <td>1</td>\n",
       "    </tr>\n",
       "    <tr>\n",
       "      <th>2</th>\n",
       "      <td>1</td>\n",
       "      <td>Кира</td>\n",
       "      <td>22</td>\n",
       "      <td>Тюмень</td>\n",
       "      <td>ultra</td>\n",
       "      <td>6</td>\n",
       "      <td>0</td>\n",
       "      <td>199</td>\n",
       "      <td>754.16</td>\n",
       "      <td>7</td>\n",
       "      <td>2021-04-20</td>\n",
       "      <td>4</td>\n",
       "    </tr>\n",
       "    <tr>\n",
       "      <th>3</th>\n",
       "      <td>1</td>\n",
       "      <td>Кира</td>\n",
       "      <td>22</td>\n",
       "      <td>Тюмень</td>\n",
       "      <td>ultra</td>\n",
       "      <td>6</td>\n",
       "      <td>0</td>\n",
       "      <td>199</td>\n",
       "      <td>2,694.78</td>\n",
       "      <td>19</td>\n",
       "      <td>2021-08-11</td>\n",
       "      <td>8</td>\n",
       "    </tr>\n",
       "    <tr>\n",
       "      <th>4</th>\n",
       "      <td>1</td>\n",
       "      <td>Кира</td>\n",
       "      <td>22</td>\n",
       "      <td>Тюмень</td>\n",
       "      <td>ultra</td>\n",
       "      <td>6</td>\n",
       "      <td>0</td>\n",
       "      <td>199</td>\n",
       "      <td>4,028.69</td>\n",
       "      <td>27</td>\n",
       "      <td>2021-08-28</td>\n",
       "      <td>8</td>\n",
       "    </tr>\n",
       "  </tbody>\n",
       "</table>\n",
       "</div>"
      ],
      "text/plain": [
       "   user_id  name  age    city subscription_type  minute_price  \\\n",
       "0        1  Кира   22  Тюмень             ultra             6   \n",
       "1        1  Кира   22  Тюмень             ultra             6   \n",
       "2        1  Кира   22  Тюмень             ultra             6   \n",
       "3        1  Кира   22  Тюмень             ultra             6   \n",
       "4        1  Кира   22  Тюмень             ultra             6   \n",
       "\n",
       "   start_ride_price  subscription_fee  distance  duration       date  month  \n",
       "0                 0               199  4,409.92        26 2021-01-01      1  \n",
       "1                 0               199  2,617.59        16 2021-01-18      1  \n",
       "2                 0               199    754.16         7 2021-04-20      4  \n",
       "3                 0               199  2,694.78        19 2021-08-11      8  \n",
       "4                 0               199  4,028.69        27 2021-08-28      8  "
      ]
     },
     "execution_count": 33,
     "metadata": {},
     "output_type": "execute_result"
    }
   ],
   "source": [
    "# V2\n",
    "full_data['duration'] = np.ceil(full_data['duration']).astype('int')\n",
    "# full_data['distance'] = np.ceil(full_data['distance']).astype('int')\n",
    "\n",
    "full_data.info()\n",
    "full_data.head()"
   ]
  },
  {
   "cell_type": "markdown",
   "id": "88ba1fea",
   "metadata": {},
   "source": [
    "V2  Всё округлили в большую сторону и привели к целочисленному типу. "
   ]
  },
  {
   "cell_type": "code",
   "execution_count": 34,
   "id": "fe773863",
   "metadata": {},
   "outputs": [
    {
     "data": {
      "text/html": [
       "<div>\n",
       "<style scoped>\n",
       "    .dataframe tbody tr th:only-of-type {\n",
       "        vertical-align: middle;\n",
       "    }\n",
       "\n",
       "    .dataframe tbody tr th {\n",
       "        vertical-align: top;\n",
       "    }\n",
       "\n",
       "    .dataframe thead th {\n",
       "        text-align: right;\n",
       "    }\n",
       "</style>\n",
       "<table border=\"1\" class=\"dataframe\">\n",
       "  <thead>\n",
       "    <tr style=\"text-align: right;\">\n",
       "      <th></th>\n",
       "      <th></th>\n",
       "      <th>distance_sum</th>\n",
       "      <th>duration_sum</th>\n",
       "      <th>rides_count</th>\n",
       "    </tr>\n",
       "    <tr>\n",
       "      <th>user_id</th>\n",
       "      <th>month</th>\n",
       "      <th></th>\n",
       "      <th></th>\n",
       "      <th></th>\n",
       "    </tr>\n",
       "  </thead>\n",
       "  <tbody>\n",
       "    <tr>\n",
       "      <th rowspan=\"6\" valign=\"top\">1</th>\n",
       "      <th>1</th>\n",
       "      <td>7,027.51</td>\n",
       "      <td>42</td>\n",
       "      <td>2</td>\n",
       "    </tr>\n",
       "    <tr>\n",
       "      <th>4</th>\n",
       "      <td>754.16</td>\n",
       "      <td>7</td>\n",
       "      <td>1</td>\n",
       "    </tr>\n",
       "    <tr>\n",
       "      <th>8</th>\n",
       "      <td>6,723.47</td>\n",
       "      <td>46</td>\n",
       "      <td>2</td>\n",
       "    </tr>\n",
       "    <tr>\n",
       "      <th>10</th>\n",
       "      <td>5,809.91</td>\n",
       "      <td>32</td>\n",
       "      <td>2</td>\n",
       "    </tr>\n",
       "    <tr>\n",
       "      <th>11</th>\n",
       "      <td>7,003.50</td>\n",
       "      <td>56</td>\n",
       "      <td>3</td>\n",
       "    </tr>\n",
       "    <tr>\n",
       "      <th>12</th>\n",
       "      <td>6,751.63</td>\n",
       "      <td>28</td>\n",
       "      <td>2</td>\n",
       "    </tr>\n",
       "    <tr>\n",
       "      <th rowspan=\"7\" valign=\"top\">2</th>\n",
       "      <th>3</th>\n",
       "      <td>10,187.72</td>\n",
       "      <td>63</td>\n",
       "      <td>3</td>\n",
       "    </tr>\n",
       "    <tr>\n",
       "      <th>4</th>\n",
       "      <td>6,164.38</td>\n",
       "      <td>40</td>\n",
       "      <td>2</td>\n",
       "    </tr>\n",
       "    <tr>\n",
       "      <th>6</th>\n",
       "      <td>3,255.34</td>\n",
       "      <td>14</td>\n",
       "      <td>1</td>\n",
       "    </tr>\n",
       "    <tr>\n",
       "      <th>7</th>\n",
       "      <td>6,780.72</td>\n",
       "      <td>48</td>\n",
       "      <td>2</td>\n",
       "    </tr>\n",
       "    <tr>\n",
       "      <th>8</th>\n",
       "      <td>923.01</td>\n",
       "      <td>7</td>\n",
       "      <td>1</td>\n",
       "    </tr>\n",
       "    <tr>\n",
       "      <th>10</th>\n",
       "      <td>2,824.64</td>\n",
       "      <td>19</td>\n",
       "      <td>1</td>\n",
       "    </tr>\n",
       "    <tr>\n",
       "      <th>12</th>\n",
       "      <td>3,828.25</td>\n",
       "      <td>12</td>\n",
       "      <td>1</td>\n",
       "    </tr>\n",
       "    <tr>\n",
       "      <th rowspan=\"7\" valign=\"top\">3</th>\n",
       "      <th>1</th>\n",
       "      <td>3,061.78</td>\n",
       "      <td>13</td>\n",
       "      <td>1</td>\n",
       "    </tr>\n",
       "    <tr>\n",
       "      <th>2</th>\n",
       "      <td>5,421.15</td>\n",
       "      <td>39</td>\n",
       "      <td>2</td>\n",
       "    </tr>\n",
       "    <tr>\n",
       "      <th>4</th>\n",
       "      <td>2,956.65</td>\n",
       "      <td>21</td>\n",
       "      <td>1</td>\n",
       "    </tr>\n",
       "    <tr>\n",
       "      <th>5</th>\n",
       "      <td>9,064.03</td>\n",
       "      <td>63</td>\n",
       "      <td>3</td>\n",
       "    </tr>\n",
       "    <tr>\n",
       "      <th>7</th>\n",
       "      <td>10,919.60</td>\n",
       "      <td>67</td>\n",
       "      <td>3</td>\n",
       "    </tr>\n",
       "    <tr>\n",
       "      <th>9</th>\n",
       "      <td>2,891.01</td>\n",
       "      <td>23</td>\n",
       "      <td>1</td>\n",
       "    </tr>\n",
       "    <tr>\n",
       "      <th>12</th>\n",
       "      <td>2,593.38</td>\n",
       "      <td>13</td>\n",
       "      <td>1</td>\n",
       "    </tr>\n",
       "  </tbody>\n",
       "</table>\n",
       "</div>"
      ],
      "text/plain": [
       "               distance_sum  duration_sum  rides_count\n",
       "user_id month                                         \n",
       "1       1          7,027.51            42            2\n",
       "        4            754.16             7            1\n",
       "        8          6,723.47            46            2\n",
       "        10         5,809.91            32            2\n",
       "        11         7,003.50            56            3\n",
       "        12         6,751.63            28            2\n",
       "2       3         10,187.72            63            3\n",
       "        4          6,164.38            40            2\n",
       "        6          3,255.34            14            1\n",
       "        7          6,780.72            48            2\n",
       "        8            923.01             7            1\n",
       "        10         2,824.64            19            1\n",
       "        12         3,828.25            12            1\n",
       "3       1          3,061.78            13            1\n",
       "        2          5,421.15            39            2\n",
       "        4          2,956.65            21            1\n",
       "        5          9,064.03            63            3\n",
       "        7         10,919.60            67            3\n",
       "        9          2,891.01            23            1\n",
       "        12         2,593.38            13            1"
      ]
     },
     "execution_count": 34,
     "metadata": {},
     "output_type": "execute_result"
    }
   ],
   "source": [
    "pivot_full_data = full_data.pivot_table(index=['user_id', 'month'], values=['duration', 'distance'], aggfunc=['sum', 'count'], fill_value=0)\n",
    "pivot_full_data = pivot_full_data.set_axis(['distance_sum', 'duration_sum', 'rides_count', 'rides_count_dupl'], axis='columns')\n",
    "del pivot_full_data['rides_count_dupl']\n",
    "pivot_full_data.head(20)"
   ]
  },
  {
   "cell_type": "markdown",
   "id": "c11d4f9b",
   "metadata": {},
   "source": [
    "В df pivot_full_data добавим столбец с помесячной выручкой, которую принёс каждый пользователь. Для этого обратимся к информации об условиях оплаты для free и ultra тарифов. Продолжительность каждой поездки в каждой строке исходного датафрейма для подсчёта стоимости округляется до следующего целого числа в большую сторону."
   ]
  },
  {
   "cell_type": "markdown",
   "id": "9615f78e",
   "metadata": {},
   "source": [
    "*Помесячная выручка считается по формуле: стоимость старта поездки ×  количество поездок + стоимость одной минуты поездки × общая продолжительность всех поездок в минутах + стоимость подписки.*"
   ]
  },
  {
   "cell_type": "code",
   "execution_count": 35,
   "id": "7b811491",
   "metadata": {},
   "outputs": [
    {
     "data": {
      "text/html": [
       "<div>\n",
       "<style scoped>\n",
       "    .dataframe tbody tr th:only-of-type {\n",
       "        vertical-align: middle;\n",
       "    }\n",
       "\n",
       "    .dataframe tbody tr th {\n",
       "        vertical-align: top;\n",
       "    }\n",
       "\n",
       "    .dataframe thead th {\n",
       "        text-align: right;\n",
       "    }\n",
       "</style>\n",
       "<table border=\"1\" class=\"dataframe\">\n",
       "  <thead>\n",
       "    <tr style=\"text-align: right;\">\n",
       "      <th></th>\n",
       "      <th>user_id</th>\n",
       "      <th>month</th>\n",
       "      <th>distance_sum</th>\n",
       "      <th>duration_sum</th>\n",
       "      <th>rides_count</th>\n",
       "    </tr>\n",
       "  </thead>\n",
       "  <tbody>\n",
       "    <tr>\n",
       "      <th>0</th>\n",
       "      <td>1</td>\n",
       "      <td>1</td>\n",
       "      <td>7,027.51</td>\n",
       "      <td>42</td>\n",
       "      <td>2</td>\n",
       "    </tr>\n",
       "    <tr>\n",
       "      <th>1</th>\n",
       "      <td>1</td>\n",
       "      <td>4</td>\n",
       "      <td>754.16</td>\n",
       "      <td>7</td>\n",
       "      <td>1</td>\n",
       "    </tr>\n",
       "    <tr>\n",
       "      <th>2</th>\n",
       "      <td>1</td>\n",
       "      <td>8</td>\n",
       "      <td>6,723.47</td>\n",
       "      <td>46</td>\n",
       "      <td>2</td>\n",
       "    </tr>\n",
       "    <tr>\n",
       "      <th>3</th>\n",
       "      <td>1</td>\n",
       "      <td>10</td>\n",
       "      <td>5,809.91</td>\n",
       "      <td>32</td>\n",
       "      <td>2</td>\n",
       "    </tr>\n",
       "    <tr>\n",
       "      <th>4</th>\n",
       "      <td>1</td>\n",
       "      <td>11</td>\n",
       "      <td>7,003.50</td>\n",
       "      <td>56</td>\n",
       "      <td>3</td>\n",
       "    </tr>\n",
       "    <tr>\n",
       "      <th>...</th>\n",
       "      <td>...</td>\n",
       "      <td>...</td>\n",
       "      <td>...</td>\n",
       "      <td>...</td>\n",
       "      <td>...</td>\n",
       "    </tr>\n",
       "    <tr>\n",
       "      <th>11326</th>\n",
       "      <td>1534</td>\n",
       "      <td>6</td>\n",
       "      <td>3,409.47</td>\n",
       "      <td>26</td>\n",
       "      <td>2</td>\n",
       "    </tr>\n",
       "    <tr>\n",
       "      <th>11327</th>\n",
       "      <td>1534</td>\n",
       "      <td>8</td>\n",
       "      <td>7,622.45</td>\n",
       "      <td>48</td>\n",
       "      <td>2</td>\n",
       "    </tr>\n",
       "    <tr>\n",
       "      <th>11328</th>\n",
       "      <td>1534</td>\n",
       "      <td>9</td>\n",
       "      <td>4,928.17</td>\n",
       "      <td>23</td>\n",
       "      <td>1</td>\n",
       "    </tr>\n",
       "    <tr>\n",
       "      <th>11329</th>\n",
       "      <td>1534</td>\n",
       "      <td>11</td>\n",
       "      <td>13,350.02</td>\n",
       "      <td>78</td>\n",
       "      <td>4</td>\n",
       "    </tr>\n",
       "    <tr>\n",
       "      <th>11330</th>\n",
       "      <td>1534</td>\n",
       "      <td>12</td>\n",
       "      <td>2,371.71</td>\n",
       "      <td>16</td>\n",
       "      <td>1</td>\n",
       "    </tr>\n",
       "  </tbody>\n",
       "</table>\n",
       "<p>11331 rows × 5 columns</p>\n",
       "</div>"
      ],
      "text/plain": [
       "       user_id  month  distance_sum  duration_sum  rides_count\n",
       "0            1      1      7,027.51            42            2\n",
       "1            1      4        754.16             7            1\n",
       "2            1      8      6,723.47            46            2\n",
       "3            1     10      5,809.91            32            2\n",
       "4            1     11      7,003.50            56            3\n",
       "...        ...    ...           ...           ...          ...\n",
       "11326     1534      6      3,409.47            26            2\n",
       "11327     1534      8      7,622.45            48            2\n",
       "11328     1534      9      4,928.17            23            1\n",
       "11329     1534     11     13,350.02            78            4\n",
       "11330     1534     12      2,371.71            16            1\n",
       "\n",
       "[11331 rows x 5 columns]"
      ]
     },
     "metadata": {},
     "output_type": "display_data"
    }
   ],
   "source": [
    "# для удобства и простоты операций\n",
    "pivot_full_data.reset_index(inplace= True)\n",
    "display(pivot_full_data)"
   ]
  },
  {
   "cell_type": "markdown",
   "id": "8d657ae1",
   "metadata": {},
   "source": [
    "<div class=\"alert alert-danger\">\n",
    "<b>Комментарий ревьюера:</b>☁️\n",
    "\n",
    "* Ещё до всех агрегаций предполагалось округление длительностей поездок\n",
    "* Многовато получилось, до тысячи доходы по пользователям</div>\n",
    "\n",
    "<div class=\"alert alert-info\"> <b>Комментарий студента:</b> Добавила исправления с пометками V2. По стоимости так получилось из-за того. что я перепутала подписи к столбцам при аггрегации 😅</div>\n",
    "\n",
    "<div class=\"alert alert-success\">\n",
    "<b>Комментарий ревьюера v2:</b>☀️\n",
    "   \n",
    "\n",
    "Да, теперь доходы соответсвуют ожиданиям) \n",
    "</div>"
   ]
  },
  {
   "cell_type": "code",
   "execution_count": 36,
   "id": "b4c083ec",
   "metadata": {},
   "outputs": [
    {
     "data": {
      "text/html": [
       "<div>\n",
       "<style scoped>\n",
       "    .dataframe tbody tr th:only-of-type {\n",
       "        vertical-align: middle;\n",
       "    }\n",
       "\n",
       "    .dataframe tbody tr th {\n",
       "        vertical-align: top;\n",
       "    }\n",
       "\n",
       "    .dataframe thead th {\n",
       "        text-align: right;\n",
       "    }\n",
       "</style>\n",
       "<table border=\"1\" class=\"dataframe\">\n",
       "  <thead>\n",
       "    <tr style=\"text-align: right;\">\n",
       "      <th></th>\n",
       "      <th>user_id</th>\n",
       "      <th>month</th>\n",
       "      <th>distance_sum</th>\n",
       "      <th>duration_sum</th>\n",
       "      <th>rides_count</th>\n",
       "      <th>cost</th>\n",
       "      <th>subscription_type</th>\n",
       "    </tr>\n",
       "  </thead>\n",
       "  <tbody>\n",
       "    <tr>\n",
       "      <th>0</th>\n",
       "      <td>1</td>\n",
       "      <td>1</td>\n",
       "      <td>7,027.51</td>\n",
       "      <td>42</td>\n",
       "      <td>2</td>\n",
       "      <td>451.00</td>\n",
       "      <td>ultra</td>\n",
       "    </tr>\n",
       "    <tr>\n",
       "      <th>1</th>\n",
       "      <td>1</td>\n",
       "      <td>4</td>\n",
       "      <td>754.16</td>\n",
       "      <td>7</td>\n",
       "      <td>1</td>\n",
       "      <td>241.00</td>\n",
       "      <td>ultra</td>\n",
       "    </tr>\n",
       "    <tr>\n",
       "      <th>2</th>\n",
       "      <td>1</td>\n",
       "      <td>8</td>\n",
       "      <td>6,723.47</td>\n",
       "      <td>46</td>\n",
       "      <td>2</td>\n",
       "      <td>475.00</td>\n",
       "      <td>ultra</td>\n",
       "    </tr>\n",
       "    <tr>\n",
       "      <th>3</th>\n",
       "      <td>1</td>\n",
       "      <td>10</td>\n",
       "      <td>5,809.91</td>\n",
       "      <td>32</td>\n",
       "      <td>2</td>\n",
       "      <td>391.00</td>\n",
       "      <td>ultra</td>\n",
       "    </tr>\n",
       "    <tr>\n",
       "      <th>4</th>\n",
       "      <td>1</td>\n",
       "      <td>11</td>\n",
       "      <td>7,003.50</td>\n",
       "      <td>56</td>\n",
       "      <td>3</td>\n",
       "      <td>535.00</td>\n",
       "      <td>ultra</td>\n",
       "    </tr>\n",
       "    <tr>\n",
       "      <th>...</th>\n",
       "      <td>...</td>\n",
       "      <td>...</td>\n",
       "      <td>...</td>\n",
       "      <td>...</td>\n",
       "      <td>...</td>\n",
       "      <td>...</td>\n",
       "      <td>...</td>\n",
       "    </tr>\n",
       "    <tr>\n",
       "      <th>11326</th>\n",
       "      <td>1534</td>\n",
       "      <td>6</td>\n",
       "      <td>3,409.47</td>\n",
       "      <td>26</td>\n",
       "      <td>2</td>\n",
       "      <td>308.00</td>\n",
       "      <td>free</td>\n",
       "    </tr>\n",
       "    <tr>\n",
       "      <th>11327</th>\n",
       "      <td>1534</td>\n",
       "      <td>8</td>\n",
       "      <td>7,622.45</td>\n",
       "      <td>48</td>\n",
       "      <td>2</td>\n",
       "      <td>484.00</td>\n",
       "      <td>free</td>\n",
       "    </tr>\n",
       "    <tr>\n",
       "      <th>11328</th>\n",
       "      <td>1534</td>\n",
       "      <td>9</td>\n",
       "      <td>4,928.17</td>\n",
       "      <td>23</td>\n",
       "      <td>1</td>\n",
       "      <td>234.00</td>\n",
       "      <td>free</td>\n",
       "    </tr>\n",
       "    <tr>\n",
       "      <th>11329</th>\n",
       "      <td>1534</td>\n",
       "      <td>11</td>\n",
       "      <td>13,350.02</td>\n",
       "      <td>78</td>\n",
       "      <td>4</td>\n",
       "      <td>824.00</td>\n",
       "      <td>free</td>\n",
       "    </tr>\n",
       "    <tr>\n",
       "      <th>11330</th>\n",
       "      <td>1534</td>\n",
       "      <td>12</td>\n",
       "      <td>2,371.71</td>\n",
       "      <td>16</td>\n",
       "      <td>1</td>\n",
       "      <td>178.00</td>\n",
       "      <td>free</td>\n",
       "    </tr>\n",
       "  </tbody>\n",
       "</table>\n",
       "<p>11331 rows × 7 columns</p>\n",
       "</div>"
      ],
      "text/plain": [
       "       user_id  month  distance_sum  duration_sum  rides_count   cost  \\\n",
       "0            1      1      7,027.51            42            2 451.00   \n",
       "1            1      4        754.16             7            1 241.00   \n",
       "2            1      8      6,723.47            46            2 475.00   \n",
       "3            1     10      5,809.91            32            2 391.00   \n",
       "4            1     11      7,003.50            56            3 535.00   \n",
       "...        ...    ...           ...           ...          ...    ...   \n",
       "11326     1534      6      3,409.47            26            2 308.00   \n",
       "11327     1534      8      7,622.45            48            2 484.00   \n",
       "11328     1534      9      4,928.17            23            1 234.00   \n",
       "11329     1534     11     13,350.02            78            4 824.00   \n",
       "11330     1534     12      2,371.71            16            1 178.00   \n",
       "\n",
       "      subscription_type  \n",
       "0                 ultra  \n",
       "1                 ultra  \n",
       "2                 ultra  \n",
       "3                 ultra  \n",
       "4                 ultra  \n",
       "...                 ...  \n",
       "11326              free  \n",
       "11327              free  \n",
       "11328              free  \n",
       "11329              free  \n",
       "11330              free  \n",
       "\n",
       "[11331 rows x 7 columns]"
      ]
     },
     "execution_count": 36,
     "metadata": {},
     "output_type": "execute_result"
    }
   ],
   "source": [
    "def get_cost(user_id, duration_sum, rides_count):\n",
    "    uansd = users_and_subscriptions_data.loc[user_id-1]\n",
    "    return pd.Series([(uansd['start_ride_price'] * rides_count + uansd['minute_price'] * duration_sum + uansd['subscription_fee']), uansd['subscription_type']])\n",
    "\n",
    "pivot_full_data[['cost', 'subscription_type']] = pivot_full_data.apply(lambda x: get_cost(x.user_id, x.duration_sum, x.rides_count), axis=1)\n",
    "pivot_full_data"
   ]
  },
  {
   "cell_type": "markdown",
   "id": "9032dcef",
   "metadata": {},
   "source": [
    "Построим график доходов по месяцам:"
   ]
  },
  {
   "cell_type": "code",
   "execution_count": 37,
   "id": "52b73d0a",
   "metadata": {},
   "outputs": [
    {
     "data": {
      "text/html": [
       "<div>\n",
       "<style scoped>\n",
       "    .dataframe tbody tr th:only-of-type {\n",
       "        vertical-align: middle;\n",
       "    }\n",
       "\n",
       "    .dataframe tbody tr th {\n",
       "        vertical-align: top;\n",
       "    }\n",
       "\n",
       "    .dataframe thead th {\n",
       "        text-align: right;\n",
       "    }\n",
       "</style>\n",
       "<table border=\"1\" class=\"dataframe\">\n",
       "  <thead>\n",
       "    <tr style=\"text-align: right;\">\n",
       "      <th></th>\n",
       "      <th>user_id</th>\n",
       "      <th>distance_sum</th>\n",
       "      <th>duration_sum</th>\n",
       "      <th>rides_count</th>\n",
       "      <th>cost</th>\n",
       "    </tr>\n",
       "    <tr>\n",
       "      <th>month</th>\n",
       "      <th></th>\n",
       "      <th></th>\n",
       "      <th></th>\n",
       "      <th></th>\n",
       "      <th></th>\n",
       "    </tr>\n",
       "  </thead>\n",
       "  <tbody>\n",
       "    <tr>\n",
       "      <th>1</th>\n",
       "      <td>807825</td>\n",
       "      <td>4,897,394.08</td>\n",
       "      <td>29058</td>\n",
       "      <td>1585</td>\n",
       "      <td>337,958.00</td>\n",
       "    </tr>\n",
       "    <tr>\n",
       "      <th>2</th>\n",
       "      <td>707120</td>\n",
       "      <td>4,076,223.23</td>\n",
       "      <td>24328</td>\n",
       "      <td>1336</td>\n",
       "      <td>290,428.00</td>\n",
       "    </tr>\n",
       "    <tr>\n",
       "      <th>3</th>\n",
       "      <td>760503</td>\n",
       "      <td>4,699,017.21</td>\n",
       "      <td>27892</td>\n",
       "      <td>1544</td>\n",
       "      <td>329,822.00</td>\n",
       "    </tr>\n",
       "    <tr>\n",
       "      <th>4</th>\n",
       "      <td>750886</td>\n",
       "      <td>4,584,912.47</td>\n",
       "      <td>27713</td>\n",
       "      <td>1506</td>\n",
       "      <td>322,916.00</td>\n",
       "    </tr>\n",
       "    <tr>\n",
       "      <th>5</th>\n",
       "      <td>784128</td>\n",
       "      <td>4,861,883.62</td>\n",
       "      <td>28925</td>\n",
       "      <td>1560</td>\n",
       "      <td>337,265.00</td>\n",
       "    </tr>\n",
       "    <tr>\n",
       "      <th>6</th>\n",
       "      <td>801210</td>\n",
       "      <td>4,799,964.18</td>\n",
       "      <td>28615</td>\n",
       "      <td>1553</td>\n",
       "      <td>335,978.00</td>\n",
       "    </tr>\n",
       "    <tr>\n",
       "      <th>7</th>\n",
       "      <td>766749</td>\n",
       "      <td>4,732,169.49</td>\n",
       "      <td>28137</td>\n",
       "      <td>1529</td>\n",
       "      <td>328,504.00</td>\n",
       "    </tr>\n",
       "    <tr>\n",
       "      <th>8</th>\n",
       "      <td>767142</td>\n",
       "      <td>4,609,627.19</td>\n",
       "      <td>27630</td>\n",
       "      <td>1518</td>\n",
       "      <td>325,650.00</td>\n",
       "    </tr>\n",
       "    <tr>\n",
       "      <th>9</th>\n",
       "      <td>769158</td>\n",
       "      <td>4,642,430.11</td>\n",
       "      <td>27732</td>\n",
       "      <td>1517</td>\n",
       "      <td>323,037.00</td>\n",
       "    </tr>\n",
       "    <tr>\n",
       "      <th>10</th>\n",
       "      <td>741145</td>\n",
       "      <td>4,476,711.72</td>\n",
       "      <td>26750</td>\n",
       "      <td>1475</td>\n",
       "      <td>315,360.00</td>\n",
       "    </tr>\n",
       "    <tr>\n",
       "      <th>11</th>\n",
       "      <td>745997</td>\n",
       "      <td>4,350,078.84</td>\n",
       "      <td>25947</td>\n",
       "      <td>1418</td>\n",
       "      <td>305,622.00</td>\n",
       "    </tr>\n",
       "    <tr>\n",
       "      <th>12</th>\n",
       "      <td>788271</td>\n",
       "      <td>4,750,272.32</td>\n",
       "      <td>27981</td>\n",
       "      <td>1527</td>\n",
       "      <td>326,101.00</td>\n",
       "    </tr>\n",
       "  </tbody>\n",
       "</table>\n",
       "</div>"
      ],
      "text/plain": [
       "       user_id  distance_sum  duration_sum  rides_count       cost\n",
       "month                                                             \n",
       "1       807825  4,897,394.08         29058         1585 337,958.00\n",
       "2       707120  4,076,223.23         24328         1336 290,428.00\n",
       "3       760503  4,699,017.21         27892         1544 329,822.00\n",
       "4       750886  4,584,912.47         27713         1506 322,916.00\n",
       "5       784128  4,861,883.62         28925         1560 337,265.00\n",
       "6       801210  4,799,964.18         28615         1553 335,978.00\n",
       "7       766749  4,732,169.49         28137         1529 328,504.00\n",
       "8       767142  4,609,627.19         27630         1518 325,650.00\n",
       "9       769158  4,642,430.11         27732         1517 323,037.00\n",
       "10      741145  4,476,711.72         26750         1475 315,360.00\n",
       "11      745997  4,350,078.84         25947         1418 305,622.00\n",
       "12      788271  4,750,272.32         27981         1527 326,101.00"
      ]
     },
     "metadata": {},
     "output_type": "display_data"
    },
    {
     "data": {
      "image/png": "[encoded data removed]",
      "text/plain": [
       "<Figure size 1080x504 with 1 Axes>"
      ]
     },
     "metadata": {
      "needs_background": "light"
     },
     "output_type": "display_data"
    }
   ],
   "source": [
    "display(pivot_full_data.groupby('month').agg('sum'))\n",
    "(\n",
    "    pivot_full_data\n",
    "    .groupby('month').agg('sum')\n",
    "    .sort_values(by='month', ascending=False)\n",
    "    .plot(y='cost', kind='line', figsize=(15, 7), legend=False, grid=True, alpha=0.6)\n",
    ")\n",
    "plt.title('График доходов по месяцам')\n",
    "plt.ylabel('Руб.')\n",
    "plt.xlabel('Месяц')\n",
    "plt.show()"
   ]
  },
  {
   "cell_type": "markdown",
   "id": "2d77b68b",
   "metadata": {},
   "source": [
    "А всего за 2021 год было заработано:"
   ]
  },
  {
   "cell_type": "code",
   "execution_count": 38,
   "id": "09e54f65",
   "metadata": {},
   "outputs": [
    {
     "data": {
      "text/plain": [
       "3878641.0"
      ]
     },
     "execution_count": 38,
     "metadata": {},
     "output_type": "execute_result"
    }
   ],
   "source": [
    "pivot_full_data['cost'].sum()"
   ]
  },
  {
   "cell_type": "markdown",
   "id": "c4c2a17c",
   "metadata": {},
   "source": [
    "**Вывод по шагу 5:**  поправить сумму и выводы\n",
    "На этом этапе создали аггрегированный df pivot_full_data, который содержит суммарное расстояние, количество поездок, суммарное время и стоимость для каждого пользователя за каждый месяц. На основе этого df посторили график доходов GoFast по месяцам, похоже, в феврале желающих кататься меньше всего, а самый пик приходится на январь, май и декабрь. За 2021 год GoFast суммарно заработала ~~404,825,153~~ 3,878,641 рублей."
   ]
  },
  {
   "cell_type": "markdown",
   "id": "41545ac0",
   "metadata": {},
   "source": [
    "#### Шаг 6. Проверка гипотез"
   ]
  },
  {
   "cell_type": "markdown",
   "id": "f03cbf3c",
   "metadata": {},
   "source": [
    "Продакт-менеджеры сервиса хотят увеличить количество пользователей с подпиской. Для этого они будут проводить различные акции, но сначала нужно выяснить несколько важных моментов.  "
   ]
  },
  {
   "cell_type": "markdown",
   "id": "6b3b90ef",
   "metadata": {},
   "source": [
    "**6.1 Важно понять, тратят ли пользователи с подпиской больше времени на поездки? Если да, то пользователи с подпиской могут быть «выгоднее» для компании. Проверьте гипотезу. Используйте исходные данные о продолжительности каждой сессии — отдельно для подписчиков и тех, у кого нет подписки.**  "
   ]
  },
  {
   "cell_type": "markdown",
   "id": "8f7257fe",
   "metadata": {},
   "source": [
    "Итак, **нулевая гипотеза** - средние значения времени пользователей из двух групп <u>равны</u>, <b>альтернативная гипотеза</b> - среднее значение времени пользователей с подпиской <u>больше</u>, чем среднее значение времени пользователей без подписки.  \n",
    "\n",
    "Для иследования гипотезы используем генеральную совокупность, т.к. она достаточно мала для быстрой обработки. На основе генеральной совокупности построим гистограмму плотностей времени поездок у клиентов free и ultra. Т.к. показатель, который нужно оценить является непрерывной величиной, с изменением кол-ва \"корзин\" будет меняться её внешний вид."
   ]
  },
  {
   "cell_type": "code",
   "execution_count": 39,
   "id": "236dfa35",
   "metadata": {},
   "outputs": [
    {
     "data": {
      "image/png": "[encoded data removed]",
      "text/plain": [
       "<Figure size 1080x504 with 1 Axes>"
      ]
     },
     "metadata": {
      "needs_background": "light"
     },
     "output_type": "display_data"
    }
   ],
   "source": [
    "(\n",
    "    full_data\n",
    "    .pivot_table(index='user_id', columns='subscription_type', values='duration', aggfunc='mean')\n",
    "    .plot(kind='hist', bins=30, figsize=(15, 7), legend=True, grid=True, alpha=0.4, color=['blue','green'], label=['Free', 'Ultra'])\n",
    ")\n",
    "plt.title('Гистограмма плотностей времени поездок у клиентов free и ultra')\n",
    "plt.ylabel('Кол-во пользователей')\n",
    "plt.xlabel('Время поездки')\n",
    "plt.legend(loc = 'upper right')\n",
    "\n",
    "general_mean = full_data['duration'].mean()\n",
    "free_mean = full_data.query(\"subscription_type == 'free'\")['duration'].mean()\n",
    "ultra_mean = full_data.query(\"subscription_type == 'ultra'\")['duration'].mean()\n",
    "\n",
    "plt.axvline(x=general_mean, color='r') # среднее ген. совокупности\n",
    "plt.text(general_mean, 10, 'среднее ген. совокупности', rotation=90)\n",
    "plt.axvline(x=free_mean, color='y') # среднее для free\n",
    "plt.text(free_mean, 10, 'среднее для free', rotation=90)\n",
    "plt.axvline(x=ultra_mean, color='y') # среднее для ultra\n",
    "plt.text(ultra_mean, 10, 'среднее для ultra', rotation=90)\n",
    "\n",
    "plt.show()"
   ]
  },
  {
   "cell_type": "markdown",
   "id": "89587c96",
   "metadata": {},
   "source": [
    "<div class=\"alert alert-success\">\n",
    "<b>Комментарий ревьюера:</b>☀️\n",
    "    \n",
    "Отличнейший график, как раз подобное хотелось видеть выше. И подписи средних и разные цвета для тарифов, отлично"
   ]
  },
  {
   "cell_type": "code",
   "execution_count": 40,
   "id": "51379d5e",
   "metadata": {},
   "outputs": [
    {
     "name": "stdout",
     "output_type": "stream",
     "text": [
      "p-значение: 2.4959453720736625e-34\n",
      "Отвергаем нулевую гипотезу\n"
     ]
    }
   ],
   "source": [
    "ultra_ride_time = full_data.query(\"subscription_type == 'ultra'\")['duration']\n",
    "free_ride_time = full_data.query(\"subscription_type == 'free'\")['duration']\n",
    "\n",
    "alpha = 0.05 # уровень статистической значимости\n",
    "\n",
    "results = st.ttest_ind(ultra_ride_time, free_ride_time, alternative='greater')\n",
    "\n",
    "print('p-значение:', results.pvalue)\n",
    "\n",
    "if results.pvalue < alpha:\n",
    "    print('Отвергаем нулевую гипотезу')\n",
    "else:\n",
    "    print('Не получилось отвергнуть нулевую гипотезу')"
   ]
  },
  {
   "cell_type": "markdown",
   "id": "2348bf4b",
   "metadata": {},
   "source": [
    "Из гистограммы точно видно, что пользователи с подпиской тратят больше времени на поездки, дополнительно проверили это статистическим методом, заключение которого в отвержении нулевой гипотезы в пользу того, что среднее значение времени пользователей с подпиской <u>больше</u>, чем среднее значение времени пользователей без подписки.  "
   ]
  },
  {
   "cell_type": "markdown",
   "id": "dff34939",
   "metadata": {},
   "source": [
    "**6.2 Расстояние одной поездки в 3130 метров — оптимальное с точки зрения износа самоката. Можно ли сказать, что среднее расстояние, которое проезжают пользователи с подпиской за одну поездку, не превышает 3130 метров? Проверьте гипотезу и сделайте выводы.**  "
   ]
  },
  {
   "cell_type": "markdown",
   "id": "f273fdae",
   "metadata": {},
   "source": [
    "Сделаем, как и с прошлой гипотезой, наглядно и математически. Начнём с гипотез:  \n",
    "<b>Нулевая гипотеза</b> - среднее расстояние, которое проезжают пользователи за 1 поездку **=** 3130 м  \n",
    "<b>Альтернативная гипотеза</b> - среднее расстояние, которое проезжают пользователи за 1 поездку **<** 3130 м  "
   ]
  },
  {
   "cell_type": "code",
   "execution_count": 41,
   "id": "a0d302ae",
   "metadata": {},
   "outputs": [
    {
     "data": {
      "image/png": "[encoded data removed]",
      "text/plain": [
       "<Figure size 1080x504 with 1 Axes>"
      ]
     },
     "metadata": {
      "needs_background": "light"
     },
     "output_type": "display_data"
    }
   ],
   "source": [
    "(\n",
    "    full_data\n",
    "    .query(\"subscription_type == 'ultra'\")\n",
    "    .pivot_table(index='user_id', values='distance', aggfunc='mean')\n",
    "    .plot(kind='hist', bins=50, figsize=(15, 7), legend=False, grid=True, alpha=0.4, color='green')\n",
    ")\n",
    "plt.title('Гистограмма плотностей дальности поездок у ultra клиентов')\n",
    "plt.ylabel('Кол-во ultra пользователей')\n",
    "plt.xlabel('Метры')\n",
    "\n",
    "plt.axvline(x=3130, color='r')\n",
    "plt.text(3130, 5, 'оптимальное для износа самоката', rotation=90)\n",
    "\n",
    "plt.show()"
   ]
  },
  {
   "cell_type": "code",
   "execution_count": 42,
   "id": "0afde542",
   "metadata": {},
   "outputs": [
    {
     "name": "stdout",
     "output_type": "stream",
     "text": [
      "p-значение: 0.08046311521502146\n",
      "Отвергаем нулевую гипотезу\n"
     ]
    }
   ],
   "source": [
    "ultra_ride_distance = full_data.query(\"subscription_type == 'ultra'\")['distance']\n",
    "\n",
    "optimal_value = 3130 # оптимальное расстояние\n",
    "\n",
    "alpha = .1 # уровень статистической значимости\n",
    "\n",
    "results = st.ttest_1samp(\n",
    "    ultra_ride_distance, \n",
    "    optimal_value,\n",
    "    alternative='less')\n",
    "\n",
    "print('p-значение:', results.pvalue)\n",
    "\n",
    "if (results.pvalue < alpha):\n",
    "    print('Отвергаем нулевую гипотезу')\n",
    "else:\n",
    "    print('Не получилось отвергнуть нулевую гипотезу')"
   ]
  },
  {
   "cell_type": "markdown",
   "id": "9f750263",
   "metadata": {},
   "source": [
    "Если смотреть по графику, то визуально оптимальное значение примерно по середине. Тут результат очень зависит от того, что примем за уровень стат. значимости, при 0.05 считаем, что пользователи проезжают 3130 м, а при значении > 0.08 считаем, что пользователи проезжают < 3130 м. В данном случае, я считаю, что лучше поставить высокий уровень стат. значимости, т.к. нулевая гипотеза говорит о равенстве, так я задам этому равенству более жёсткие рамки. Итого, верна альтернативная гипотеза - среднее расстояние, которое проезжают пользователи за 1 поездку < 3130 м."
   ]
  },
  {
   "cell_type": "markdown",
   "id": "47077d83",
   "metadata": {},
   "source": [
    "<div class=\"alert alert-success\">\n",
    "<b>Комментарий ревьюера:</b>☀️\n",
    "    \n",
    "* Наиболее частые уровни 0.01, 0.05, зависит от того процента ошибок, которые кампания готова получать. \n",
    "* Здесь можно было бы выбрать альтернативную гипотезу - больше, так как именно этого больше всего боится бизнес, что поездки длиннее"
   ]
  },
  {
   "cell_type": "markdown",
   "id": "aae18676",
   "metadata": {},
   "source": [
    "<div class=\"alert alert-info\">\n",
    "<b>Нужна рекоммендация ревьюера:</b>\n",
    "<br>\n",
    "    Я не уверена, что верно выбрала уровень стат. значимости, т.к. решала это скорее интуитивно. Как это сделать правильно?\n",
    "</div>"
   ]
  },
  {
   "cell_type": "markdown",
   "id": "677fa1ba",
   "metadata": {},
   "source": [
    "**6.3 Проверьте гипотезу о том, будет ли помесячная выручка от пользователей с подпиской по месяцам выше, чем выручка от пользователей без подписки. Сделайте вывод.**  "
   ]
  },
  {
   "cell_type": "markdown",
   "id": "d72f241a",
   "metadata": {},
   "source": [
    "Для начала визуализируем данные, а потом проверим математически. Гипотезы:  \n",
    "<b>Нулевая гипотеза</b> - выручка от пользователей с подпиской по месяцам **такая же** как выручка от пользователей без подписки  \n",
    "<b>Альтернативная гипотеза</b> - выручка от пользователей с подпиской по месяцам **выше**, чем выручка от пользователей без подписки    "
   ]
  },
  {
   "cell_type": "code",
   "execution_count": 43,
   "id": "556c5cc1",
   "metadata": {},
   "outputs": [
    {
     "data": {
      "image/png": "[encoded data removed]",
      "text/plain": [
       "<Figure size 1080x504 with 1 Axes>"
      ]
     },
     "metadata": {
      "needs_background": "light"
     },
     "output_type": "display_data"
    },
    {
     "data": {
      "text/html": [
       "<div>\n",
       "<style scoped>\n",
       "    .dataframe tbody tr th:only-of-type {\n",
       "        vertical-align: middle;\n",
       "    }\n",
       "\n",
       "    .dataframe tbody tr th {\n",
       "        vertical-align: top;\n",
       "    }\n",
       "\n",
       "    .dataframe thead th {\n",
       "        text-align: right;\n",
       "    }\n",
       "</style>\n",
       "<table border=\"1\" class=\"dataframe\">\n",
       "  <thead>\n",
       "    <tr style=\"text-align: right;\">\n",
       "      <th>subscription_type</th>\n",
       "      <th>free</th>\n",
       "      <th>ultra</th>\n",
       "    </tr>\n",
       "    <tr>\n",
       "      <th>month</th>\n",
       "      <th></th>\n",
       "      <th></th>\n",
       "    </tr>\n",
       "  </thead>\n",
       "  <tbody>\n",
       "    <tr>\n",
       "      <th>1</th>\n",
       "      <td>193,850.00</td>\n",
       "      <td>144,108.00</td>\n",
       "    </tr>\n",
       "    <tr>\n",
       "      <th>2</th>\n",
       "      <td>165,856.00</td>\n",
       "      <td>124,572.00</td>\n",
       "    </tr>\n",
       "    <tr>\n",
       "      <th>3</th>\n",
       "      <td>187,214.00</td>\n",
       "      <td>142,608.00</td>\n",
       "    </tr>\n",
       "    <tr>\n",
       "      <th>4</th>\n",
       "      <td>185,598.00</td>\n",
       "      <td>137,318.00</td>\n",
       "    </tr>\n",
       "    <tr>\n",
       "      <th>5</th>\n",
       "      <td>188,030.00</td>\n",
       "      <td>149,235.00</td>\n",
       "    </tr>\n",
       "    <tr>\n",
       "      <th>6</th>\n",
       "      <td>192,144.00</td>\n",
       "      <td>143,834.00</td>\n",
       "    </tr>\n",
       "    <tr>\n",
       "      <th>7</th>\n",
       "      <td>185,038.00</td>\n",
       "      <td>143,466.00</td>\n",
       "    </tr>\n",
       "    <tr>\n",
       "      <th>8</th>\n",
       "      <td>187,116.00</td>\n",
       "      <td>138,534.00</td>\n",
       "    </tr>\n",
       "    <tr>\n",
       "      <th>9</th>\n",
       "      <td>193,700.00</td>\n",
       "      <td>129,337.00</td>\n",
       "    </tr>\n",
       "    <tr>\n",
       "      <th>10</th>\n",
       "      <td>181,428.00</td>\n",
       "      <td>133,932.00</td>\n",
       "    </tr>\n",
       "    <tr>\n",
       "      <th>11</th>\n",
       "      <td>179,076.00</td>\n",
       "      <td>126,546.00</td>\n",
       "    </tr>\n",
       "    <tr>\n",
       "      <th>12</th>\n",
       "      <td>195,054.00</td>\n",
       "      <td>131,047.00</td>\n",
       "    </tr>\n",
       "  </tbody>\n",
       "</table>\n",
       "</div>"
      ],
      "text/plain": [
       "subscription_type       free      ultra\n",
       "month                                  \n",
       "1                 193,850.00 144,108.00\n",
       "2                 165,856.00 124,572.00\n",
       "3                 187,214.00 142,608.00\n",
       "4                 185,598.00 137,318.00\n",
       "5                 188,030.00 149,235.00\n",
       "6                 192,144.00 143,834.00\n",
       "7                 185,038.00 143,466.00\n",
       "8                 187,116.00 138,534.00\n",
       "9                 193,700.00 129,337.00\n",
       "10                181,428.00 133,932.00\n",
       "11                179,076.00 126,546.00\n",
       "12                195,054.00 131,047.00"
      ]
     },
     "metadata": {},
     "output_type": "display_data"
    },
    {
     "data": {
      "text/plain": [
       "'Кол-во клиентов free: 6798, ultra: 4533'"
      ]
     },
     "metadata": {},
     "output_type": "display_data"
    }
   ],
   "source": [
    "(\n",
    "    pivot_full_data\n",
    "    .pivot_table(index='month', columns='subscription_type', values='cost', aggfunc='sum')\n",
    "    .plot(kind='line', figsize=(15, 7), legend=True, grid=True, alpha=0.4, color=['blue','green'], label=['Free', 'Ultra'])\n",
    ")\n",
    "plt.title('График выручки от клиентов free и ultra по месяцам')\n",
    "plt.ylabel('Сумма платежей (десятки млн)')\n",
    "plt.xlabel('Месяц')\n",
    "plt.legend(loc = 'lower right')\n",
    "plt.show()\n",
    "\n",
    "# Подробные данные\n",
    "display(pivot_full_data.pivot_table(index='month', columns='subscription_type', values='cost', aggfunc='sum'))\n",
    "free_count = pivot_full_data.query(\"subscription_type == 'free'\")['user_id'].count()\n",
    "ultra_count = pivot_full_data.query(\"subscription_type == 'ultra'\")['user_id'].count()\n",
    "display(f\"Кол-во клиентов free: {free_count}, ultra: {ultra_count}\")"
   ]
  },
  {
   "cell_type": "markdown",
   "id": "bca0fa1b",
   "metadata": {},
   "source": [
    "<div class=\"alert alert-danger\">\n",
    "<b>Комментарий ревьюера:</b>☁️\n",
    "\n",
    "* Всё же сравнение доходов по тарифам ожидалось по пользователям, месяцам, а не при агрегации всех доходом по месяцам. \n",
    "* Вывод поменяется</div>\n",
    "\n",
    "<div class=\"alert alert-info\"> <b>Комментарий студента V2:</b> Исправлено</div>\n"
   ]
  },
  {
   "cell_type": "markdown",
   "id": "ab1497d2",
   "metadata": {},
   "source": [
    "<div class=\"alert alert-success\">\n",
    "<b>Комментарий ревьюера v2:</b>☀️\n",
    "   \n",
    "Да, теперь правильно\n",
    "\n",
    "</div>"
   ]
  },
  {
   "cell_type": "markdown",
   "id": "430cf3c0",
   "metadata": {},
   "source": [
    "А теперь с правильной агрегацией:"
   ]
  },
  {
   "cell_type": "code",
   "execution_count": 61,
   "id": "b2928d0b",
   "metadata": {},
   "outputs": [
    {
     "data": {
      "image/png": "[encoded data removed]",
      "text/plain": [
       "<Figure size 1080x504 with 1 Axes>"
      ]
     },
     "metadata": {
      "needs_background": "light"
     },
     "output_type": "display_data"
    }
   ],
   "source": [
    "(\n",
    "    pivot_full_data\n",
    "    .pivot_table(index=['user_id', 'month'], columns='subscription_type', values='cost', aggfunc='sum')\n",
    "    .plot(kind='hist', bins=30, figsize=(15, 7), legend=True, grid=True, alpha=0.4, color=['blue','green'], label=['Free', 'Ultra'])\n",
    ")\n",
    "plt.title(f'График выручки от клиентов free и ultra')\n",
    "plt.ylabel('Кол-во клиентов')\n",
    "plt.xlabel('Траты на сервис')\n",
    "plt.show()"
   ]
  },
  {
   "cell_type": "code",
   "execution_count": 65,
   "id": "2f52ed41",
   "metadata": {},
   "outputs": [
    {
     "name": "stdout",
     "output_type": "stream",
     "text": [
      "p-значение: [1.88503944e-31]\n",
      "Отвергаем нулевую гипотезу\n"
     ]
    }
   ],
   "source": [
    "ultra_cost = pivot_full_data.query(\"subscription_type == 'ultra'\").pivot_table(index=['user_id', 'month'], values='cost', aggfunc='sum')\n",
    "free_cost  = pivot_full_data.query(\"subscription_type == 'free'\").pivot_table(index=['user_id', 'month'], values='cost', aggfunc='sum')\n",
    "\n",
    "alpha = 0.05 # уровень статистической значимости\n",
    "\n",
    "results = st.ttest_ind(ultra_cost, free_cost, alternative='greater')\n",
    "\n",
    "print('p-значение:', results.pvalue)\n",
    "\n",
    "if results.pvalue < alpha:\n",
    "    print('Отвергаем нулевую гипотезу')\n",
    "else:\n",
    "    print('Не получилось отвергнуть нулевую гипотезу')"
   ]
  },
  {
   "cell_type": "markdown",
   "id": "b8eace1d",
   "metadata": {},
   "source": [
    "p-значение настолько мало, что можно сказать, что выручка от пользователей с подпиской по месяцам выше, чем выручка от пользователей без подписки, хотя при общей агрегации так и не выглядит."
   ]
  },
  {
   "cell_type": "markdown",
   "id": "084f550c",
   "metadata": {},
   "source": [
    "**6.4 Представьте такую ситуацию: техническая команда сервиса обновила сервера, с которыми взаимодействует мобильное приложение. Она надеется, что из-за этого количество обращений в техподдержку значимо снизилось. Некоторый файл содержит для каждого пользователя данные о количестве обращений до обновления и после него. Какой тест вам понадобился бы для проверки этой гипотезы?**  "
   ]
  },
  {
   "cell_type": "markdown",
   "id": "48e29353",
   "metadata": {},
   "source": [
    "Я бы составила две гипотезы:  \n",
    "<b>Нулевая гипотеза</b> - кол-во обращений от пользователей осталось прежним   \n",
    "<b>Альтернативная гипотеза</b> - кол-во обращений от пользователей осталось стало ниже, чем до обновления\n",
    "\n",
    "Т.к. есть слово \"значимо\" в постановке вопроса, уровень статистической значимости нужно установить поменьше, чтобы только при значительном отклонении мы считали, что значение изменилось, а не осталось равным. Если описать решением, оно выглядело бы примерно так:"
   ]
  },
  {
   "cell_type": "code",
   "execution_count": 49,
   "id": "6908f30c",
   "metadata": {},
   "outputs": [],
   "source": [
    "# data = pd.read_csv('/datasets/data.csv') # предполагаемый файл с данными  \n",
    "# count_before = data.query(\"flag == 'before'\")['count'] # берём информацию о кол-вах обращений до обновления  \n",
    "# count_after = data.query(\"flag == 'after'\")['count'] # и после обновления  \n",
    "  \n",
    "# alpha = 0.05 # устанавливаем низкий уровень статистической значимости  \n",
    "\n",
    "# # ttest_rel применяется для проверки гипотез о равенстве для зависимых выборок  \n",
    "# results = st.ttest_rel(count_after, count_before, alternative='less')\n",
    "  \n",
    "# print('p-значение:', results.pvalue) # смотрим полученное p-value  \n",
    "  \n",
    "# if results.pvalue < alpha: # и получаем результат  \n",
    "#     print('Отвергаем нулевую гипотезу')  \n",
    "# else:  \n",
    "#     print('Не получилось отвергнуть нулевую гипотезу')  "
   ]
  },
  {
   "cell_type": "markdown",
   "id": "73ec45c1",
   "metadata": {},
   "source": [
    "<div class=\"alert alert-success\">\n",
    "<b>Комментарий ревьюера:</b>☀️\n",
    "    \n",
    "Говоришь о зависимости гипотез, односторонней альтернативной - отлично!"
   ]
  },
  {
   "cell_type": "markdown",
   "id": "a3a28748",
   "metadata": {},
   "source": [
    "Если p-value в результате проверки оказалось бы < уровня стат. значимости, значит, количество обращений в тех. поддержку действительно значимо сократилось. Если бы p-value было ооочень близко к 1.0, то стоило бы проверить, а не увеличилось ли количество обращений после обновления."
   ]
  },
  {
   "cell_type": "markdown",
   "id": "18566f69",
   "metadata": {},
   "source": [
    "**Вывод по шагу 6:**  \n",
    "Было проверено 4 гипотезы, результаты:  \n",
    "1. Пользователи с подпиской тратят больше времени на поездки, чем пользователи без неё.\n",
    "2. Среднее расстояние, которое проезжают пользователи за 1 поездку < 3130 м.\n",
    "3. Выручка от пользователей с подпиской по месяцам выше, чем выручка от пользователей без подписки.\n",
    "4. Описан алгоритм, по которому (при наличии данных) можно провести оценку изменения кол-ва обращений в тех. поддержку."
   ]
  },
  {
   "cell_type": "markdown",
   "id": "61213c5e",
   "metadata": {},
   "source": [
    "# Шаг 7. Распределения*"
   ]
  },
  {
   "cell_type": "markdown",
   "id": "08da5aa9",
   "metadata": {},
   "source": [
    "**7.1 Отделу маркетинга GoFast поставили задачу: нужно провести акцию с раздачей промокодов на один бесплатный месяц подписки, в рамках которой как минимум 100 существующих клиентов должны продлить эту подписку. То есть по завершении периода действия подписки пользователь может либо отказаться от неё, либо продлить, совершив соответствующий платёж.**  \n",
    "\n",
    "Эта акция уже проводилась ранее и по итогу выяснилось, что после бесплатного пробного периода подписку продлевают \n",
    "10 % пользователей. Выясните, какое минимальное количество промокодов нужно разослать, чтобы вероятность не выполнить план была примерно 5 %. Подберите параметры распределения, описывающего эту ситуацию, постройте график распределения и сформулируйте ответ на вопрос о количестве промокодов.  "
   ]
  },
  {
   "cell_type": "markdown",
   "id": "00ed4c1d",
   "metadata": {},
   "source": [
    "Итак, показатели, которые есть:  \n",
    "- вероятность продления после бесплатного периода = 0.1\n",
    "- вероятность привлечь **менее 100 клиентов** после пробного периода **должна оказаться** ~5%\n",
    "\n",
    "Нужно экспериментально выяснить, при каком кол-ве разосланных промокодов, мы с вероятностью ~95% получим платежи от 100 и более клиентов.\n",
    "\n",
    "Решим задачу через кумулятивную функцию распределения. Метод cdf() получает на вход один аргумент и возвращает вероятность, что случайная величина примет значение, меньшее заданного аргумента. "
   ]
  },
  {
   "cell_type": "code",
   "execution_count": 50,
   "id": "ccc953df",
   "metadata": {},
   "outputs": [
    {
     "data": {
      "image/png": "[encoded data removed]",
      "text/plain": [
       "<Figure size 1080x360 with 1 Axes>"
      ]
     },
     "metadata": {
      "needs_background": "light"
     },
     "output_type": "display_data"
    },
    {
     "data": {
      "text/plain": [
       "'Вероятность не выполнить план ~ 0.04955'"
      ]
     },
     "execution_count": 50,
     "metadata": {},
     "output_type": "execute_result"
    }
   ],
   "source": [
    "n = 1172 # экспериментально выявляем\n",
    "p = 0.1 # вероятность успеха\n",
    "\n",
    "distr = []\n",
    "\n",
    "for k in range(0, n + 1):\n",
    "    current_value = binom.cdf(k, n, p)\n",
    "    distr.append(current_value)\n",
    "    \n",
    "plt.figure(figsize=(15, 5))\n",
    "plt.xlim([0, 200]) \n",
    "plt.bar(range(0, n + 1), distr, width = 0.5)\n",
    "plt.axvline(x=100, color='r')\n",
    "plt.show()\n",
    "\n",
    "f\"Вероятность не выполнить план ~ {round(binom.cdf(100, n, p), 5)}\""
   ]
  },
  {
   "cell_type": "markdown",
   "id": "145ad847",
   "metadata": {},
   "source": [
    "V1 ~~В данном эксперименте я остановилась на 1300 промокодах (если это число увеличивать, вероятность привлечь менее 100 клиентов, кончено, снижается). Красной линией для наглядности отмечены 100 клиентов, вероятность, получить меньше 100 клиентов = сумма вероятностей столбцов левее черты, визуально она =~5%, а значит, 1300 разосланных промокодов обеспечат приток 100 и более клиентов с вероятностью 95%.~~  \n",
    "\n",
    "V2  \n",
    "В данном эксперименте я остановилась на 1172 промокодах (если это число увеличивать, вероятность привлечь менее 100 клиентов, кончено, снижается). Красной линией для наглядности отмечены 100 клиентов, вероятность, получить меньше 100 клиентов = сумма вероятностей столбцов левее черты, доп. информация под графиком отображает вероятность в точке 100 по x, она =~5%, а значит, 1172 разосланных промокодов обеспечат приток 100 и более клиентов с вероятностью ~ 95%.\n"
   ]
  },
  {
   "cell_type": "markdown",
   "id": "bfdf766c",
   "metadata": {},
   "source": [
    "<div class=\"alert alert-warning\">\n",
    "<b>Комментарий ревьюера:</b>⛅️ \n",
    "\n",
    "Как получено 1300, меньшего числа промокодов не будет достаточно?\n",
    "</div>\n",
    "\n",
    "<div class=\"alert alert-info\"> <b>Комментарий студента:</b> Получено очень на глаз) <br>Добавила вывод точной вероятности при конкретном значении, оптимальное кол-во изменилось в меньшую сторону </div>\n",
    "<div class=\"alert alert-success\">\n",
    "<b>Комментарий ревьюера v2:</b>☀️\n",
    "   \n",
    "Да, всё супер!) Единственное `cdf` считает вероятность от 100 включительно, поэтому надо было бы считать от 99\n",
    "\n",
    "</div>"
   ]
  },
  {
   "cell_type": "markdown",
   "id": "e6ac7512",
   "metadata": {},
   "source": [
    "**7.2 Отдел маркетинга рассылает клиентам push-уведомления в мобильном приложении. Клиенты могут открыть его или не открывать. Известно, что уведомления открывают около 40 % получивших клиентов. Отдел планирует разослать 1 млн уведомлений. С помощью аппроксимации постройте примерный график распределения и оцените вероятность того, что уведомление откроют не более 399,5 тыс. пользователей.**  "
   ]
  },
  {
   "cell_type": "markdown",
   "id": "c2e0cf50",
   "metadata": {},
   "source": [
    "V1 ~~Работаем большим кол-вом, поэтому переведём единицы измерения в тысячи, таким образом n будет равно не 1 млн. уведомлений, а 1000 тыс. (что тоже = 1 млн.). В остальном действуем как и с предыдущим распределением:~~"
   ]
  },
  {
   "cell_type": "code",
   "execution_count": 51,
   "id": "f436cad2",
   "metadata": {},
   "outputs": [],
   "source": [
    "# V1\n",
    "# n = 1000 # кол-во уведомлений (тыс)\n",
    "# p = 0.4 # вероятность успеха\n",
    "\n",
    "# distr = []\n",
    "\n",
    "# for k in range(0, n + 1):\n",
    "#     current_value = binom.cdf(k, n, p)\n",
    "#     distr.append(current_value)\n",
    "    \n",
    "# plt.figure(figsize=(15, 5))\n",
    "# # plt.xlim([300, 500]) \n",
    "# plt.bar(range(0, n + 1), distr, width = 0.5)\n",
    "# plt.axvline(x=399.5, color='r')\n",
    "# plt.show()"
   ]
  },
  {
   "cell_type": "markdown",
   "id": "19167485",
   "metadata": {},
   "source": [
    "<div class=\"alert alert-warning\">\n",
    "<b>Комментарий ревьюера:</b>⛅️ \n",
    "\n",
    "* Какова вероятность то?\n",
    "* Можешь дополнительно вывести одинаковы ли вероятности при миллионе уведомлений, 1000 тысяч, 100)    \n",
    "</div>\n",
    "\n",
    "<div class=\"alert alert-info\"> <b>Комментарий студента:</b> Поняла, в чём дело, вероятности не одинаковы, старое пометиа как V1, зачеркнула/закомментировала, новое под тегом V2</div>\n"
   ]
  },
  {
   "cell_type": "markdown",
   "id": "d9fe511f",
   "metadata": {},
   "source": [
    "V1  ~~Красной линией отмечена интересующая нас отметка в 399.5 тыс пользователей, визуально её пройдёт только 50%, это и есть вероятность того, что уведомление откроют не более 399,5 тыс. пользователей.~~"
   ]
  },
  {
   "cell_type": "markdown",
   "id": "92e970fb",
   "metadata": {},
   "source": [
    "Получим вероятность того, что уведомление откроют не более 399,5 тыс. пользователей:"
   ]
  },
  {
   "cell_type": "code",
   "execution_count": 52,
   "id": "a2ef4b5b",
   "metadata": {},
   "outputs": [
    {
     "data": {
      "text/plain": [
       "0.1539584359564276"
      ]
     },
     "execution_count": 52,
     "metadata": {},
     "output_type": "execute_result"
    }
   ],
   "source": [
    "binom.cdf(399500, 1000000, 0.4)"
   ]
  },
  {
   "cell_type": "code",
   "execution_count": 53,
   "id": "3b6c60be",
   "metadata": {},
   "outputs": [
    {
     "data": {
      "text/plain": [
       "0.4879850394856607"
      ]
     },
     "execution_count": 53,
     "metadata": {},
     "output_type": "execute_result"
    }
   ],
   "source": [
    "# и вот почему нельзя изменить единицы и получить тот же результат как я думала в V1\n",
    "binom.cdf(399.5, 1000, 0.4)"
   ]
  },
  {
   "cell_type": "markdown",
   "id": "87ead23a",
   "metadata": {},
   "source": [
    "<div class=\"alert alert-success\">\n",
    "<b>Комментарий ревьюера v2:</b>☀️\n",
    "   \n",
    "Спасибо за проверку! \n",
    "\n",
    "</div>"
   ]
  },
  {
   "cell_type": "markdown",
   "id": "b22760ab",
   "metadata": {},
   "source": [
    "<div class=\"alert alert-info\"> <b>Вопрос студента V2:</b> Нужна помощь с построением графика, на большом n умирает ядро и график не строится до конца, не понимаю, как это поправить?</div>"
   ]
  },
  {
   "cell_type": "markdown",
   "id": "0917912f",
   "metadata": {},
   "source": [
    "<div class=\"alert alert-success\">\n",
    "<b>Комментарий ревьюера v2:</b>☀️\n",
    "   \n",
    "\n",
    "Ниже вывел пример построения и прошу прощения выше не прокомментировал график, его нужно поправить, график строится на основе `cdf`, а ожидалось `pmf`, так как `cdf` считает вероятность получить значение столько и ниже, а `pmf`, вероятность исключительно этого значения \n",
    "</div>"
   ]
  },
  {
   "cell_type": "markdown",
   "id": "d1143a42",
   "metadata": {},
   "source": [
    "Построим график с помощью аппроксимации:"
   ]
  },
  {
   "cell_type": "code",
   "execution_count": 54,
   "id": "413efc2c",
   "metadata": {},
   "outputs": [
    {
     "data": {
      "image/png": "[encoded data removed]",
      "text/plain": [
       "<Figure size 432x288 with 1 Axes>"
      ]
     },
     "metadata": {
      "needs_background": "light"
     },
     "output_type": "display_data"
    }
   ],
   "source": [
    "# Код ревьюера\n",
    "\n",
    "n = 1000000\n",
    "p = 0.4\n",
    "\n",
    "mu = n * p\n",
    "sigma = np.sqrt(n * p * (1 - p))\n",
    "s = np.random.normal(mu, sigma, 1000)\n",
    "\n",
    "distr = st.norm(mu, sigma)\n",
    "\n",
    "plt.hist(s, 30)\n",
    "plt.title('Нормальное распределение')\n",
    "plt.xlabel('Количество пользователей');\n"
   ]
  },
  {
   "cell_type": "markdown",
   "id": "4e834319",
   "metadata": {},
   "source": [
    "Уведомление откроют не более 399,5 тыс. пользователей с вероятностью 0.1539584359564276."
   ]
  },
  {
   "cell_type": "markdown",
   "id": "6d4f4f74",
   "metadata": {},
   "source": [
    "**Вывод по шагу 7:**  \n",
    "Составили два распределения для проверки вероятностей, получили результаты:  \n",
    "- 1172 разосланных промокодов обеспечат приток 100 и более клиентов с вероятностью ~ 95%\n",
    "- уведомление откроют не более 399,5 тыс. пользователей с вероятностью 15,4%"
   ]
  },
  {
   "cell_type": "markdown",
   "id": "175fad9e",
   "metadata": {},
   "source": [
    "# Общий вывод"
   ]
  },
  {
   "cell_type": "markdown",
   "id": "b2b4baf6",
   "metadata": {},
   "source": [
    "На момент исследования у GoFast 1,5 тысячи клиентов, совершивших ~18 тысяч поездок и два возможных тарифа. Что удивительно, данные были в очень хорошем состоянии, изначально без пропусков (дальше неявных пропусков тоже обнаружено не было), и всего 31 дубликат (это 1.9% от изначального df, незначительное изменение объёма выборки). Поправила тип данных для date в users_data (object -> datetime), добавила столбец month в users_data.  \n",
    "\n",
    "Итого, размер df-ов, с которыми работали дальше:  \n",
    "- rides_data: 18068 -> 18068 (без изменений)\n",
    "- users_data: 1565 -> 1534 (минус 31 запись, это 1.9% от изначального users_data)  \n",
    "\n",
    "На этапе исследовательского анализа данных выяснили:  \n",
    "- GoFast предоставляет аренду самокатов в 8 городах.\n",
    "- Самый активный по кол-ву клиентов - Пятигорск (219 человек), наименее активный - Москва (168 человек) (между ними разрыв ~23).\n",
    "- Если смотреть по всем городам, то доля клиентов с подпиской 46%, почти половина. От города к городу соотношение немного меняется, но средняя картина сохраняется, только в Москве и Омске клиентов с подпиской немного больше, чем без.\n",
    "- Средний возраст клиентов от 20 до 30 лет, средний: 24.9, медианный: 25.0.\n",
    "- Практически равномерное распределение по месяцам наблюдается как в дальности, так и в продолжительности поездок. В среднем самокат за поездку проезжает чуть больше 3 км и делает он это почти за 18 минут.\n",
    "\n",
    "\n",
    "Дальше все df-ы объединили в один df full_data, содеращий полный набор данных по каждой поездке, пользователю, который её совершил и его тарифном плане. При дальнейшем исследовании он будет являться \"базовым\".  \n",
    " \n",
    "\n",
    "Посмотрели в разрезе типов тарифов клиентов на дальность и продолжительность поездок, итоговая сводка выглядит так:\n",
    "- Все пользователи арендую самокат примерно на 3 км, разница между дальностью поездок у двух категорий пользователей ~1%\n",
    "- \"Ultra пользователи\" катаются на пол минуты дольше (~18 мин), \"free пользователи\" ~17.5 мин, это отличие в ~5%  \n",
    "\n",
    "И посмотрели на распределение:\n",
    "- Клиенты с подпиской чаще всего совершают поездки, близкие к медиане их сегмента, график распределения имеет чёткий пик, тогда как пользователи без подписки сильнее разбросаны от своей медианы, этот пик более пологий, у них больше поездок, которые по дальности больше и меньше, чем клиентов с подпиской.\n",
    "- Если в случае с дальностью поездки, free клиенты \"окружили\" ultra клиентов, то тут медиана ultra клиентов на секунды впереди медианы free клиентов, т.е. ultra клиенты чаще совершают более продолжительные поездки.\n",
    "\n",
    "Создали аггрегированный df pivot_full_data, который содержит суммарное расстояние, количество поездок, суммарное время и стоимость для каждого пользователя за каждый месяц. На основе этого df посторили график доходов GoFast по месяцам, похоже, в феврале желающих кататься меньше всего, а самый пик приходится на январь, май и декабрь. За 2021 год GoFast суммарно заработала 3,878,641 рублей.\n",
    "\n",
    "Было проверено 4 гипотезы, результаты:  \n",
    "1. Пользователи с подпиской тратят больше времени на поездки, чем пользователи без неё.\n",
    "2. Среднее расстояние, которое проезжают пользователи за 1 поездку < 3130 м.\n",
    "3. Выручка от пользователей с подпиской по месяцам выше, чем выручка от пользователей без подписки.\n",
    "4. Описан алгоритм, по которому (при наличии данных) можно провести оценку изменения кол-ва обращений в тех. поддержку.\n",
    "\n",
    "Составили два распределения для проверки вероятностей, получили результаты:  \n",
    "- 1172 разосланных промокодов обеспечат приток 100 и более клиентов с вероятностью ~ 95%\n",
    "- уведомление откроют не более 399,5 тыс. пользователей с вероятностью 15,4%"
   ]
  },
  {
   "cell_type": "markdown",
   "id": "0c2a0f33",
   "metadata": {},
   "source": [
    "<div class=\"alert alert-success\">\n",
    "<b>Комментарий ревьюера:</b>☀️\n",
    "    \n",
    "Отличный вывод, нравятся дополнительные деления маркированным, нумерованными списками, молодец! Пару аспектов нужно обсудить, желаю лёгкости с правками в стат гипотезах и расчёте доходов</div>\n",
    "    \n",
    " <div class=\"alert alert-info\"> <b>Комментарий студента:</b> Поправила все комментарии красные, кроме одного, нужно более подробное пояснение и нужен совет, как поступить с отрисовкой графика в 7 шаге, 2 пункте. Эти два момента отметила как \"Вопрос студента V2\"</div>"
   ]
  },
  {
   "cell_type": "markdown",
   "id": "8c90004d",
   "metadata": {},
   "source": [
    "<div class=\"alert alert-success\">\n",
    "<b>Комментарий ревьюера v2:</b>☀️\n",
    "   \n",
    "Помог с этими двумя аспектами, принимаю и желаю успехов далее!)\n",
    "\n",
    "</div>"
   ]
  },
  {
   "cell_type": "markdown",
   "id": "25a3a569",
   "metadata": {},
   "source": [
    "**Итоговые рекомендации**  \n",
    "\n",
    "Один пользователь с подпиской приносит больше денег сервису, чем один пользователь без неё. В долях, все пользователи без подписки приносят больше, чем все пользователи с подпиской. Стоит подумать, как замотивировать пользователей покупать подписку. Возможно, можно как-то поиграть с промокодами и акциями.  \n",
    "\n",
    "Чем больше промокодов будет у клиентов, тем больше вероятность того, что клиенты будут лояльнее относиться к покупкам у сервиса. Нужно только осторожно обращаться с промокодами, которые сразу что-то предоставляют бесплатно, т.к. клиенты могут решить, что такие акции щедрости так регулярно происходят, что выгоднее не покупать ничего дополнительного, а просто дождаться промокодов. В таком случае, процент вероятности, что клиент что-то купит после получения промокода снизится, а он и так составляет 10%. Можно подумать о бонусных программах, чем больше пользователь является нашим клиентом, тем больше ему доступно плюшек."
   ]
  }
 ],
 "metadata": {
  "ExecuteTimeLog": [
   {
    "duration": 405,
    "start_time": "2023-11-30T07:06:15.442Z"
   },
   {
    "duration": 55,
    "start_time": "2023-11-30T07:22:04.769Z"
   },
   {
    "duration": 238,
    "start_time": "2023-11-30T07:22:07.508Z"
   },
   {
    "duration": 21,
    "start_time": "2023-11-30T07:22:09.479Z"
   },
   {
    "duration": 19,
    "start_time": "2023-11-30T07:22:30.495Z"
   },
   {
    "duration": 16,
    "start_time": "2023-11-30T07:22:34.755Z"
   },
   {
    "duration": 17,
    "start_time": "2023-11-30T09:31:47.310Z"
   },
   {
    "duration": 10,
    "start_time": "2023-11-30T09:37:56.256Z"
   },
   {
    "duration": 9,
    "start_time": "2023-11-30T09:40:20.393Z"
   },
   {
    "duration": 12,
    "start_time": "2023-11-30T09:40:33.278Z"
   },
   {
    "duration": 6,
    "start_time": "2023-11-30T09:40:38.777Z"
   },
   {
    "duration": 6,
    "start_time": "2023-11-30T09:43:17.157Z"
   },
   {
    "duration": 6,
    "start_time": "2023-11-30T09:43:26.236Z"
   },
   {
    "duration": 9,
    "start_time": "2023-11-30T09:43:38.811Z"
   },
   {
    "duration": 9,
    "start_time": "2023-11-30T09:43:51.116Z"
   },
   {
    "duration": 7,
    "start_time": "2023-11-30T09:43:55.939Z"
   },
   {
    "duration": 9,
    "start_time": "2023-11-30T09:45:37.985Z"
   },
   {
    "duration": 10,
    "start_time": "2023-11-30T09:45:52.778Z"
   },
   {
    "duration": 11,
    "start_time": "2023-11-30T09:51:14.887Z"
   },
   {
    "duration": 7,
    "start_time": "2023-11-30T09:51:41.727Z"
   },
   {
    "duration": 6,
    "start_time": "2023-11-30T09:52:10.701Z"
   },
   {
    "duration": 13,
    "start_time": "2023-11-30T09:52:20.855Z"
   },
   {
    "duration": 19,
    "start_time": "2023-11-30T09:52:50.598Z"
   },
   {
    "duration": 14,
    "start_time": "2023-11-30T09:53:19.991Z"
   },
   {
    "duration": 17,
    "start_time": "2023-11-30T09:53:57.354Z"
   },
   {
    "duration": 17,
    "start_time": "2023-11-30T09:55:12.107Z"
   },
   {
    "duration": 14,
    "start_time": "2023-11-30T09:55:20.215Z"
   },
   {
    "duration": 23,
    "start_time": "2023-11-30T09:55:59.689Z"
   },
   {
    "duration": 20,
    "start_time": "2023-11-30T09:56:13.792Z"
   },
   {
    "duration": 12,
    "start_time": "2023-11-30T09:56:55.710Z"
   },
   {
    "duration": 10,
    "start_time": "2023-11-30T09:57:30.774Z"
   },
   {
    "duration": 8,
    "start_time": "2023-11-30T10:00:24.544Z"
   },
   {
    "duration": 7,
    "start_time": "2023-11-30T10:00:37.643Z"
   },
   {
    "duration": 740,
    "start_time": "2023-11-30T10:00:46.848Z"
   },
   {
    "duration": 12,
    "start_time": "2023-11-30T10:01:36.575Z"
   },
   {
    "duration": 12,
    "start_time": "2023-11-30T10:01:52.291Z"
   },
   {
    "duration": 6,
    "start_time": "2023-11-30T10:03:37.508Z"
   },
   {
    "duration": 8,
    "start_time": "2023-11-30T10:03:44.798Z"
   },
   {
    "duration": 404,
    "start_time": "2023-11-30T10:05:26.633Z"
   },
   {
    "duration": 120,
    "start_time": "2023-11-30T10:05:27.039Z"
   },
   {
    "duration": 23,
    "start_time": "2023-11-30T10:05:27.160Z"
   },
   {
    "duration": 17,
    "start_time": "2023-11-30T10:05:27.184Z"
   },
   {
    "duration": 14,
    "start_time": "2023-11-30T10:05:27.203Z"
   },
   {
    "duration": 37,
    "start_time": "2023-11-30T10:05:27.218Z"
   },
   {
    "duration": 7,
    "start_time": "2023-11-30T10:05:27.257Z"
   },
   {
    "duration": 8,
    "start_time": "2023-11-30T10:05:27.265Z"
   },
   {
    "duration": 13,
    "start_time": "2023-11-30T10:05:27.275Z"
   },
   {
    "duration": 18,
    "start_time": "2023-11-30T10:05:27.289Z"
   },
   {
    "duration": 7,
    "start_time": "2023-11-30T10:05:27.309Z"
   },
   {
    "duration": 40,
    "start_time": "2023-11-30T10:05:27.317Z"
   },
   {
    "duration": 8,
    "start_time": "2023-11-30T10:05:27.358Z"
   },
   {
    "duration": 63,
    "start_time": "2023-11-30T10:07:02.686Z"
   },
   {
    "duration": 14,
    "start_time": "2023-11-30T10:07:10.910Z"
   },
   {
    "duration": 9,
    "start_time": "2023-11-30T10:07:28.004Z"
   },
   {
    "duration": 10,
    "start_time": "2023-11-30T10:07:48.678Z"
   },
   {
    "duration": 9,
    "start_time": "2023-11-30T10:08:07.149Z"
   },
   {
    "duration": 8,
    "start_time": "2023-11-30T10:08:34.722Z"
   },
   {
    "duration": 16,
    "start_time": "2023-11-30T10:11:49.242Z"
   },
   {
    "duration": 16,
    "start_time": "2023-11-30T10:11:55.344Z"
   },
   {
    "duration": 388,
    "start_time": "2023-11-30T10:13:04.364Z"
   },
   {
    "duration": 103,
    "start_time": "2023-11-30T10:13:04.753Z"
   },
   {
    "duration": 24,
    "start_time": "2023-11-30T10:13:04.857Z"
   },
   {
    "duration": 16,
    "start_time": "2023-11-30T10:13:04.883Z"
   },
   {
    "duration": 14,
    "start_time": "2023-11-30T10:13:04.902Z"
   },
   {
    "duration": 36,
    "start_time": "2023-11-30T10:13:04.917Z"
   },
   {
    "duration": 7,
    "start_time": "2023-11-30T10:13:04.954Z"
   },
   {
    "duration": 7,
    "start_time": "2023-11-30T10:13:04.962Z"
   },
   {
    "duration": 10,
    "start_time": "2023-11-30T10:13:04.970Z"
   },
   {
    "duration": 12,
    "start_time": "2023-11-30T10:13:04.981Z"
   },
   {
    "duration": 8,
    "start_time": "2023-11-30T10:13:04.995Z"
   },
   {
    "duration": 54,
    "start_time": "2023-11-30T10:13:05.004Z"
   },
   {
    "duration": 45,
    "start_time": "2023-11-30T10:13:05.060Z"
   },
   {
    "duration": 384,
    "start_time": "2023-11-30T10:15:20.975Z"
   },
   {
    "duration": 114,
    "start_time": "2023-11-30T10:15:21.361Z"
   },
   {
    "duration": 25,
    "start_time": "2023-11-30T10:15:21.476Z"
   },
   {
    "duration": 24,
    "start_time": "2023-11-30T10:15:21.503Z"
   },
   {
    "duration": 28,
    "start_time": "2023-11-30T10:15:21.528Z"
   },
   {
    "duration": 9,
    "start_time": "2023-11-30T10:15:21.557Z"
   },
   {
    "duration": 27,
    "start_time": "2023-11-30T10:15:21.567Z"
   },
   {
    "duration": 18,
    "start_time": "2023-11-30T10:15:21.596Z"
   },
   {
    "duration": 14,
    "start_time": "2023-11-30T10:15:21.615Z"
   },
   {
    "duration": 26,
    "start_time": "2023-11-30T10:15:21.632Z"
   },
   {
    "duration": 11,
    "start_time": "2023-11-30T10:15:21.659Z"
   },
   {
    "duration": 12,
    "start_time": "2023-11-30T10:15:21.672Z"
   },
   {
    "duration": 18,
    "start_time": "2023-11-30T10:15:21.686Z"
   },
   {
    "duration": 370,
    "start_time": "2023-11-30T10:40:26.411Z"
   },
   {
    "duration": 2,
    "start_time": "2023-11-30T10:41:22.677Z"
   },
   {
    "duration": 2,
    "start_time": "2023-11-30T10:41:57.373Z"
   },
   {
    "duration": 6,
    "start_time": "2023-11-30T10:44:28.114Z"
   },
   {
    "duration": 69,
    "start_time": "2023-11-30T10:47:04.807Z"
   },
   {
    "duration": 10,
    "start_time": "2023-11-30T10:47:26.040Z"
   },
   {
    "duration": 10,
    "start_time": "2023-11-30T10:47:38.817Z"
   },
   {
    "duration": 10,
    "start_time": "2023-11-30T10:47:44.349Z"
   },
   {
    "duration": 14,
    "start_time": "2023-11-30T10:47:48.724Z"
   },
   {
    "duration": 148,
    "start_time": "2023-11-30T10:48:16.682Z"
   },
   {
    "duration": 18,
    "start_time": "2023-11-30T10:49:05.130Z"
   },
   {
    "duration": 19,
    "start_time": "2023-11-30T10:50:09.048Z"
   },
   {
    "duration": 15,
    "start_time": "2023-11-30T10:50:28.186Z"
   },
   {
    "duration": 168,
    "start_time": "2023-11-30T10:51:07.289Z"
   },
   {
    "duration": 19,
    "start_time": "2023-11-30T10:56:24.332Z"
   },
   {
    "duration": 160,
    "start_time": "2023-11-30T10:56:48.713Z"
   },
   {
    "duration": 20,
    "start_time": "2023-11-30T10:57:02.698Z"
   },
   {
    "duration": 1542,
    "start_time": "2023-11-30T10:58:16.254Z"
   },
   {
    "duration": 222,
    "start_time": "2023-11-30T10:58:25.041Z"
   },
   {
    "duration": 274,
    "start_time": "2023-11-30T11:02:22.790Z"
   },
   {
    "duration": 263,
    "start_time": "2023-11-30T11:02:36.920Z"
   },
   {
    "duration": 244,
    "start_time": "2023-11-30T11:02:52.135Z"
   },
   {
    "duration": 164,
    "start_time": "2023-11-30T11:04:00.451Z"
   },
   {
    "duration": 151,
    "start_time": "2023-11-30T11:05:01.916Z"
   },
   {
    "duration": 86,
    "start_time": "2023-11-30T11:05:16.026Z"
   },
   {
    "duration": 1647,
    "start_time": "2023-11-30T11:05:30.404Z"
   },
   {
    "duration": 1398,
    "start_time": "2023-11-30T11:05:54.260Z"
   },
   {
    "duration": 1519,
    "start_time": "2023-11-30T11:05:59.449Z"
   },
   {
    "duration": 1273,
    "start_time": "2023-11-30T11:06:05.906Z"
   },
   {
    "duration": 1394,
    "start_time": "2023-11-30T11:06:42.830Z"
   },
   {
    "duration": 6,
    "start_time": "2023-11-30T11:07:27.286Z"
   },
   {
    "duration": 4,
    "start_time": "2023-11-30T11:08:43.387Z"
   },
   {
    "duration": 4,
    "start_time": "2023-11-30T11:09:11.767Z"
   },
   {
    "duration": 145,
    "start_time": "2023-11-30T11:09:41.095Z"
   },
   {
    "duration": 134,
    "start_time": "2023-11-30T11:09:59.057Z"
   },
   {
    "duration": 179,
    "start_time": "2023-11-30T11:10:34.302Z"
   },
   {
    "duration": 3,
    "start_time": "2023-11-30T11:12:18.307Z"
   },
   {
    "duration": 7,
    "start_time": "2023-11-30T11:12:27.821Z"
   },
   {
    "duration": 3,
    "start_time": "2023-11-30T11:13:06.382Z"
   },
   {
    "duration": 129,
    "start_time": "2023-11-30T11:20:18.886Z"
   },
   {
    "duration": 8,
    "start_time": "2023-11-30T11:24:20.939Z"
   },
   {
    "duration": 27,
    "start_time": "2023-11-30T11:26:24.654Z"
   },
   {
    "duration": 26,
    "start_time": "2023-11-30T11:26:52.198Z"
   },
   {
    "duration": 8,
    "start_time": "2023-11-30T11:28:16.023Z"
   },
   {
    "duration": 17079,
    "start_time": "2023-11-30T11:29:08.807Z"
   },
   {
    "duration": 5,
    "start_time": "2023-11-30T11:32:58.749Z"
   },
   {
    "duration": 5,
    "start_time": "2023-11-30T11:33:17.696Z"
   },
   {
    "duration": 20,
    "start_time": "2023-11-30T11:34:43.715Z"
   },
   {
    "duration": 277,
    "start_time": "2023-11-30T11:34:50.427Z"
   },
   {
    "duration": 169,
    "start_time": "2023-11-30T11:34:59.324Z"
   },
   {
    "duration": 172,
    "start_time": "2023-11-30T11:35:32.202Z"
   },
   {
    "duration": 15,
    "start_time": "2023-11-30T11:37:06.680Z"
   },
   {
    "duration": 179,
    "start_time": "2023-11-30T11:37:18.733Z"
   },
   {
    "duration": 180,
    "start_time": "2023-11-30T11:37:34.616Z"
   },
   {
    "duration": 196,
    "start_time": "2023-11-30T11:38:41.318Z"
   },
   {
    "duration": 207,
    "start_time": "2023-11-30T11:39:41.050Z"
   },
   {
    "duration": 189,
    "start_time": "2023-11-30T11:40:10.077Z"
   },
   {
    "duration": 614,
    "start_time": "2023-11-30T11:40:39.592Z"
   },
   {
    "duration": 103,
    "start_time": "2023-11-30T11:40:40.208Z"
   },
   {
    "duration": 21,
    "start_time": "2023-11-30T11:40:40.313Z"
   },
   {
    "duration": 26,
    "start_time": "2023-11-30T11:40:40.336Z"
   },
   {
    "duration": 15,
    "start_time": "2023-11-30T11:40:40.363Z"
   },
   {
    "duration": 19,
    "start_time": "2023-11-30T11:40:40.379Z"
   },
   {
    "duration": 7,
    "start_time": "2023-11-30T11:40:40.399Z"
   },
   {
    "duration": 10,
    "start_time": "2023-11-30T11:40:40.407Z"
   },
   {
    "duration": 35,
    "start_time": "2023-11-30T11:40:40.418Z"
   },
   {
    "duration": 11,
    "start_time": "2023-11-30T11:40:40.455Z"
   },
   {
    "duration": 8,
    "start_time": "2023-11-30T11:40:40.467Z"
   },
   {
    "duration": 13,
    "start_time": "2023-11-30T11:40:40.476Z"
   },
   {
    "duration": 16,
    "start_time": "2023-11-30T11:40:40.491Z"
   },
   {
    "duration": 199,
    "start_time": "2023-11-30T11:40:40.508Z"
   },
   {
    "duration": 146,
    "start_time": "2023-11-30T11:40:40.709Z"
   },
   {
    "duration": 288,
    "start_time": "2023-11-30T11:40:40.857Z"
   },
   {
    "duration": 12,
    "start_time": "2023-11-30T11:40:41.147Z"
   },
   {
    "duration": 247,
    "start_time": "2023-11-30T11:40:41.161Z"
   },
   {
    "duration": 193,
    "start_time": "2023-11-30T11:40:41.410Z"
   },
   {
    "duration": 158,
    "start_time": "2023-11-30T13:47:05.547Z"
   },
   {
    "duration": 139,
    "start_time": "2023-11-30T13:52:17.871Z"
   },
   {
    "duration": 72,
    "start_time": "2023-11-30T13:59:43.647Z"
   },
   {
    "duration": 5,
    "start_time": "2023-11-30T13:59:53.094Z"
   },
   {
    "duration": 6,
    "start_time": "2023-11-30T14:00:14.566Z"
   },
   {
    "duration": 6,
    "start_time": "2023-11-30T14:00:30.393Z"
   },
   {
    "duration": 6,
    "start_time": "2023-11-30T14:00:50.144Z"
   },
   {
    "duration": 5,
    "start_time": "2023-11-30T14:01:42.884Z"
   },
   {
    "duration": 186,
    "start_time": "2023-11-30T14:01:45.496Z"
   },
   {
    "duration": 5,
    "start_time": "2023-11-30T14:01:46.217Z"
   },
   {
    "duration": 598,
    "start_time": "2023-11-30T14:04:21.385Z"
   },
   {
    "duration": 106,
    "start_time": "2023-11-30T14:04:21.985Z"
   },
   {
    "duration": 19,
    "start_time": "2023-11-30T14:04:22.093Z"
   },
   {
    "duration": 28,
    "start_time": "2023-11-30T14:04:22.114Z"
   },
   {
    "duration": 14,
    "start_time": "2023-11-30T14:04:22.144Z"
   },
   {
    "duration": 9,
    "start_time": "2023-11-30T14:04:22.160Z"
   },
   {
    "duration": 6,
    "start_time": "2023-11-30T14:04:22.170Z"
   },
   {
    "duration": 7,
    "start_time": "2023-11-30T14:04:22.177Z"
   },
   {
    "duration": 10,
    "start_time": "2023-11-30T14:04:22.185Z"
   },
   {
    "duration": 10,
    "start_time": "2023-11-30T14:04:22.197Z"
   },
   {
    "duration": 47,
    "start_time": "2023-11-30T14:04:22.208Z"
   },
   {
    "duration": 10,
    "start_time": "2023-11-30T14:04:22.256Z"
   },
   {
    "duration": 16,
    "start_time": "2023-11-30T14:04:22.267Z"
   },
   {
    "duration": 187,
    "start_time": "2023-11-30T14:04:22.284Z"
   },
   {
    "duration": 149,
    "start_time": "2023-11-30T14:04:22.472Z"
   },
   {
    "duration": 259,
    "start_time": "2023-11-30T14:04:22.622Z"
   },
   {
    "duration": 9,
    "start_time": "2023-11-30T14:04:22.882Z"
   },
   {
    "duration": 247,
    "start_time": "2023-11-30T14:04:22.892Z"
   },
   {
    "duration": 14,
    "start_time": "2023-11-30T14:04:23.141Z"
   },
   {
    "duration": 204,
    "start_time": "2023-11-30T14:04:23.157Z"
   },
   {
    "duration": 5,
    "start_time": "2023-11-30T14:04:23.363Z"
   },
   {
    "duration": 114,
    "start_time": "2023-11-30T14:56:18.623Z"
   },
   {
    "duration": 68,
    "start_time": "2023-11-30T14:56:25.856Z"
   },
   {
    "duration": 391,
    "start_time": "2023-11-30T14:56:33.430Z"
   },
   {
    "duration": 1422,
    "start_time": "2023-11-30T14:56:55.069Z"
   },
   {
    "duration": 1720,
    "start_time": "2023-11-30T14:57:16.309Z"
   },
   {
    "duration": 1425,
    "start_time": "2023-11-30T14:57:46.317Z"
   },
   {
    "duration": 1626,
    "start_time": "2023-11-30T14:58:24.056Z"
   },
   {
    "duration": 252,
    "start_time": "2023-11-30T14:59:15.021Z"
   },
   {
    "duration": 4,
    "start_time": "2023-11-30T15:04:30.651Z"
   },
   {
    "duration": 4,
    "start_time": "2023-11-30T15:04:38.162Z"
   },
   {
    "duration": 5,
    "start_time": "2023-11-30T15:05:27.836Z"
   },
   {
    "duration": 6,
    "start_time": "2023-11-30T15:05:41.420Z"
   },
   {
    "duration": 45,
    "start_time": "2023-12-01T09:17:12.542Z"
   },
   {
    "duration": 758,
    "start_time": "2023-12-01T09:17:19.720Z"
   },
   {
    "duration": 340,
    "start_time": "2023-12-01T09:17:20.480Z"
   },
   {
    "duration": 21,
    "start_time": "2023-12-01T09:17:20.822Z"
   },
   {
    "duration": 31,
    "start_time": "2023-12-01T09:17:20.847Z"
   },
   {
    "duration": 18,
    "start_time": "2023-12-01T09:17:20.879Z"
   },
   {
    "duration": 31,
    "start_time": "2023-12-01T09:17:20.899Z"
   },
   {
    "duration": 13,
    "start_time": "2023-12-01T09:17:20.932Z"
   },
   {
    "duration": 23,
    "start_time": "2023-12-01T09:17:20.946Z"
   },
   {
    "duration": 18,
    "start_time": "2023-12-01T09:17:20.971Z"
   },
   {
    "duration": 22,
    "start_time": "2023-12-01T09:17:20.992Z"
   },
   {
    "duration": 22,
    "start_time": "2023-12-01T09:17:21.016Z"
   },
   {
    "duration": 12,
    "start_time": "2023-12-01T09:17:21.040Z"
   },
   {
    "duration": 49,
    "start_time": "2023-12-01T09:17:21.054Z"
   },
   {
    "duration": 174,
    "start_time": "2023-12-01T09:17:21.104Z"
   },
   {
    "duration": 255,
    "start_time": "2023-12-01T09:17:21.280Z"
   },
   {
    "duration": 283,
    "start_time": "2023-12-01T09:17:21.537Z"
   },
   {
    "duration": 6,
    "start_time": "2023-12-01T09:17:21.822Z"
   },
   {
    "duration": 54,
    "start_time": "2023-12-01T09:17:21.830Z"
   },
   {
    "duration": 288,
    "start_time": "2023-12-01T09:17:21.886Z"
   },
   {
    "duration": 6,
    "start_time": "2023-12-01T09:17:22.175Z"
   },
   {
    "duration": 213,
    "start_time": "2023-12-01T09:17:22.183Z"
   },
   {
    "duration": 6,
    "start_time": "2023-12-01T09:17:22.398Z"
   },
   {
    "duration": 33,
    "start_time": "2023-12-01T09:17:22.405Z"
   },
   {
    "duration": 14,
    "start_time": "2023-12-01T09:17:33.718Z"
   },
   {
    "duration": 19,
    "start_time": "2023-12-01T09:18:40.424Z"
   },
   {
    "duration": 662,
    "start_time": "2023-12-01T09:19:51.361Z"
   },
   {
    "duration": 99,
    "start_time": "2023-12-01T09:19:52.025Z"
   },
   {
    "duration": 20,
    "start_time": "2023-12-01T09:19:52.125Z"
   },
   {
    "duration": 49,
    "start_time": "2023-12-01T09:19:52.147Z"
   },
   {
    "duration": 33,
    "start_time": "2023-12-01T09:19:52.197Z"
   },
   {
    "duration": 43,
    "start_time": "2023-12-01T09:19:52.232Z"
   },
   {
    "duration": 17,
    "start_time": "2023-12-01T09:19:52.277Z"
   },
   {
    "duration": 21,
    "start_time": "2023-12-01T09:19:52.295Z"
   },
   {
    "duration": 23,
    "start_time": "2023-12-01T09:19:52.317Z"
   },
   {
    "duration": 24,
    "start_time": "2023-12-01T09:19:52.343Z"
   },
   {
    "duration": 29,
    "start_time": "2023-12-01T09:19:52.369Z"
   },
   {
    "duration": 61,
    "start_time": "2023-12-01T09:19:52.399Z"
   },
   {
    "duration": 52,
    "start_time": "2023-12-01T09:19:52.462Z"
   },
   {
    "duration": 194,
    "start_time": "2023-12-01T09:19:52.516Z"
   },
   {
    "duration": 268,
    "start_time": "2023-12-01T09:19:52.712Z"
   },
   {
    "duration": 285,
    "start_time": "2023-12-01T09:19:52.981Z"
   },
   {
    "duration": 4,
    "start_time": "2023-12-01T09:19:53.272Z"
   },
   {
    "duration": 27,
    "start_time": "2023-12-01T09:19:53.278Z"
   },
   {
    "duration": 285,
    "start_time": "2023-12-01T09:19:53.306Z"
   },
   {
    "duration": 5,
    "start_time": "2023-12-01T09:19:53.593Z"
   },
   {
    "duration": 235,
    "start_time": "2023-12-01T09:19:53.599Z"
   },
   {
    "duration": 5,
    "start_time": "2023-12-01T09:19:53.835Z"
   },
   {
    "duration": 44,
    "start_time": "2023-12-01T09:19:53.842Z"
   },
   {
    "duration": 46,
    "start_time": "2023-12-01T09:19:53.888Z"
   },
   {
    "duration": 13,
    "start_time": "2023-12-01T09:23:06.219Z"
   },
   {
    "duration": 13,
    "start_time": "2023-12-01T09:24:56.297Z"
   },
   {
    "duration": 19,
    "start_time": "2023-12-01T09:25:05.670Z"
   },
   {
    "duration": 84,
    "start_time": "2023-12-01T09:25:56.077Z"
   },
   {
    "duration": 18,
    "start_time": "2023-12-01T09:26:15.559Z"
   },
   {
    "duration": 15,
    "start_time": "2023-12-01T09:26:27.116Z"
   },
   {
    "duration": 16,
    "start_time": "2023-12-01T09:26:43.525Z"
   },
   {
    "duration": 22,
    "start_time": "2023-12-01T09:27:06.006Z"
   },
   {
    "duration": 18,
    "start_time": "2023-12-01T09:39:15.527Z"
   },
   {
    "duration": 15,
    "start_time": "2023-12-01T09:39:19.624Z"
   },
   {
    "duration": 203,
    "start_time": "2023-12-01T09:44:11.516Z"
   },
   {
    "duration": 196,
    "start_time": "2023-12-01T09:45:01.199Z"
   },
   {
    "duration": 1462,
    "start_time": "2023-12-01T09:47:22.747Z"
   },
   {
    "duration": 1378,
    "start_time": "2023-12-01T09:47:53.818Z"
   },
   {
    "duration": 372,
    "start_time": "2023-12-01T09:48:05.445Z"
   },
   {
    "duration": 72,
    "start_time": "2023-12-01T09:48:54.838Z"
   },
   {
    "duration": 464,
    "start_time": "2023-12-01T09:49:02.158Z"
   },
   {
    "duration": 316,
    "start_time": "2023-12-01T09:51:18.897Z"
   },
   {
    "duration": 73,
    "start_time": "2023-12-01T09:53:24.883Z"
   },
   {
    "duration": 287,
    "start_time": "2023-12-01T09:53:35.973Z"
   },
   {
    "duration": 36,
    "start_time": "2023-12-01T09:54:15.365Z"
   },
   {
    "duration": 291,
    "start_time": "2023-12-01T09:56:00.048Z"
   },
   {
    "duration": 284,
    "start_time": "2023-12-01T09:56:09.821Z"
   },
   {
    "duration": 300,
    "start_time": "2023-12-01T09:58:01.845Z"
   },
   {
    "duration": 37,
    "start_time": "2023-12-01T09:59:13.292Z"
   },
   {
    "duration": 101,
    "start_time": "2023-12-01T09:59:32.417Z"
   },
   {
    "duration": 594,
    "start_time": "2023-12-01T09:59:58.527Z"
   },
   {
    "duration": 99,
    "start_time": "2023-12-01T09:59:59.122Z"
   },
   {
    "duration": 20,
    "start_time": "2023-12-01T09:59:59.223Z"
   },
   {
    "duration": 17,
    "start_time": "2023-12-01T09:59:59.244Z"
   },
   {
    "duration": 15,
    "start_time": "2023-12-01T09:59:59.263Z"
   },
   {
    "duration": 11,
    "start_time": "2023-12-01T09:59:59.280Z"
   },
   {
    "duration": 66,
    "start_time": "2023-12-01T09:59:59.293Z"
   },
   {
    "duration": 7,
    "start_time": "2023-12-01T09:59:59.360Z"
   },
   {
    "duration": 12,
    "start_time": "2023-12-01T09:59:59.368Z"
   },
   {
    "duration": 11,
    "start_time": "2023-12-01T09:59:59.382Z"
   },
   {
    "duration": 7,
    "start_time": "2023-12-01T09:59:59.395Z"
   },
   {
    "duration": 18,
    "start_time": "2023-12-01T09:59:59.404Z"
   },
   {
    "duration": 16,
    "start_time": "2023-12-01T09:59:59.424Z"
   },
   {
    "duration": 202,
    "start_time": "2023-12-01T09:59:59.442Z"
   },
   {
    "duration": 261,
    "start_time": "2023-12-01T09:59:59.645Z"
   },
   {
    "duration": 288,
    "start_time": "2023-12-01T09:59:59.907Z"
   },
   {
    "duration": 4,
    "start_time": "2023-12-01T10:00:00.197Z"
   },
   {
    "duration": 21,
    "start_time": "2023-12-01T10:00:00.203Z"
   },
   {
    "duration": 251,
    "start_time": "2023-12-01T10:00:00.226Z"
   },
   {
    "duration": 5,
    "start_time": "2023-12-01T10:00:00.478Z"
   },
   {
    "duration": 276,
    "start_time": "2023-12-01T10:00:00.484Z"
   },
   {
    "duration": 12,
    "start_time": "2023-12-01T10:00:00.761Z"
   },
   {
    "duration": 47,
    "start_time": "2023-12-01T10:00:00.775Z"
   },
   {
    "duration": 54,
    "start_time": "2023-12-01T10:00:00.823Z"
   },
   {
    "duration": 53,
    "start_time": "2023-12-01T10:00:00.879Z"
   },
   {
    "duration": 35,
    "start_time": "2023-12-01T10:00:00.934Z"
   },
   {
    "duration": 308,
    "start_time": "2023-12-01T10:00:00.971Z"
   },
   {
    "duration": 37,
    "start_time": "2023-12-01T10:00:01.282Z"
   },
   {
    "duration": 330,
    "start_time": "2023-12-01T10:00:01.320Z"
   },
   {
    "duration": 40,
    "start_time": "2023-12-01T10:00:01.652Z"
   },
   {
    "duration": 253,
    "start_time": "2023-12-01T10:09:08.486Z"
   },
   {
    "duration": 229,
    "start_time": "2023-12-01T10:09:21.399Z"
   },
   {
    "duration": 239,
    "start_time": "2023-12-01T10:09:40.161Z"
   },
   {
    "duration": 191,
    "start_time": "2023-12-01T10:11:20.900Z"
   },
   {
    "duration": 198,
    "start_time": "2023-12-01T10:11:55.262Z"
   },
   {
    "duration": 39,
    "start_time": "2023-12-01T10:17:42.079Z"
   },
   {
    "duration": 25,
    "start_time": "2023-12-01T10:39:37.517Z"
   },
   {
    "duration": 157,
    "start_time": "2023-12-01T10:40:06.057Z"
   },
   {
    "duration": 78,
    "start_time": "2023-12-01T10:42:32.991Z"
   },
   {
    "duration": 84,
    "start_time": "2023-12-01T10:42:41.553Z"
   },
   {
    "duration": 3,
    "start_time": "2023-12-01T10:44:16.226Z"
   },
   {
    "duration": 1134,
    "start_time": "2023-12-01T10:44:43.069Z"
   },
   {
    "duration": 34,
    "start_time": "2023-12-01T10:48:08.647Z"
   },
   {
    "duration": 11,
    "start_time": "2023-12-01T10:49:53.898Z"
   },
   {
    "duration": 277,
    "start_time": "2023-12-01T10:50:01.787Z"
   },
   {
    "duration": 33,
    "start_time": "2023-12-01T10:50:59.959Z"
   },
   {
    "duration": 602,
    "start_time": "2023-12-01T10:51:29.298Z"
   },
   {
    "duration": 98,
    "start_time": "2023-12-01T10:51:29.902Z"
   },
   {
    "duration": 20,
    "start_time": "2023-12-01T10:51:30.001Z"
   },
   {
    "duration": 76,
    "start_time": "2023-12-01T10:51:30.023Z"
   },
   {
    "duration": 56,
    "start_time": "2023-12-01T10:51:30.101Z"
   },
   {
    "duration": 43,
    "start_time": "2023-12-01T10:51:30.159Z"
   },
   {
    "duration": 32,
    "start_time": "2023-12-01T10:51:30.203Z"
   },
   {
    "duration": 33,
    "start_time": "2023-12-01T10:51:30.236Z"
   },
   {
    "duration": 31,
    "start_time": "2023-12-01T10:51:30.271Z"
   },
   {
    "duration": 29,
    "start_time": "2023-12-01T10:51:30.305Z"
   },
   {
    "duration": 59,
    "start_time": "2023-12-01T10:51:30.335Z"
   },
   {
    "duration": 50,
    "start_time": "2023-12-01T10:51:30.396Z"
   },
   {
    "duration": 46,
    "start_time": "2023-12-01T10:51:30.448Z"
   },
   {
    "duration": 192,
    "start_time": "2023-12-01T10:51:30.496Z"
   },
   {
    "duration": 258,
    "start_time": "2023-12-01T10:51:30.690Z"
   },
   {
    "duration": 274,
    "start_time": "2023-12-01T10:51:30.949Z"
   },
   {
    "duration": 5,
    "start_time": "2023-12-01T10:51:31.224Z"
   },
   {
    "duration": 67,
    "start_time": "2023-12-01T10:51:31.230Z"
   },
   {
    "duration": 266,
    "start_time": "2023-12-01T10:51:31.299Z"
   },
   {
    "duration": 10,
    "start_time": "2023-12-01T10:51:31.566Z"
   },
   {
    "duration": 242,
    "start_time": "2023-12-01T10:51:31.577Z"
   },
   {
    "duration": 5,
    "start_time": "2023-12-01T10:51:31.821Z"
   },
   {
    "duration": 38,
    "start_time": "2023-12-01T10:51:31.828Z"
   },
   {
    "duration": 23,
    "start_time": "2023-12-01T10:51:31.868Z"
   },
   {
    "duration": 38,
    "start_time": "2023-12-01T10:51:31.892Z"
   },
   {
    "duration": 21,
    "start_time": "2023-12-01T10:51:31.932Z"
   },
   {
    "duration": 191,
    "start_time": "2023-12-01T10:51:31.955Z"
   },
   {
    "duration": 43,
    "start_time": "2023-12-01T10:51:32.149Z"
   },
   {
    "duration": 211,
    "start_time": "2023-12-01T10:51:32.193Z"
   },
   {
    "duration": 36,
    "start_time": "2023-12-01T10:51:32.405Z"
   },
   {
    "duration": 346,
    "start_time": "2023-12-01T10:51:32.442Z"
   },
   {
    "duration": 42,
    "start_time": "2023-12-01T10:51:42.054Z"
   },
   {
    "duration": 37,
    "start_time": "2023-12-01T10:52:52.467Z"
   },
   {
    "duration": 33,
    "start_time": "2023-12-01T10:53:06.733Z"
   },
   {
    "duration": 1116,
    "start_time": "2023-12-01T10:54:05.896Z"
   },
   {
    "duration": 923,
    "start_time": "2023-12-01T10:54:17.397Z"
   },
   {
    "duration": 1090,
    "start_time": "2023-12-01T10:54:34.820Z"
   },
   {
    "duration": 13,
    "start_time": "2023-12-01T10:55:08.149Z"
   },
   {
    "duration": 1029,
    "start_time": "2023-12-01T10:55:34.437Z"
   },
   {
    "duration": 705,
    "start_time": "2023-12-01T10:58:37.785Z"
   },
   {
    "duration": 5,
    "start_time": "2023-12-01T10:58:49.593Z"
   },
   {
    "duration": 8,
    "start_time": "2023-12-01T10:59:25.473Z"
   },
   {
    "duration": 1060,
    "start_time": "2023-12-01T10:59:49.835Z"
   },
   {
    "duration": 7,
    "start_time": "2023-12-01T11:00:03.284Z"
   },
   {
    "duration": 5,
    "start_time": "2023-12-01T11:00:09.570Z"
   },
   {
    "duration": 6,
    "start_time": "2023-12-01T13:59:02.179Z"
   },
   {
    "duration": 12,
    "start_time": "2023-12-01T13:59:19.509Z"
   },
   {
    "duration": 7,
    "start_time": "2023-12-01T14:00:40.515Z"
   },
   {
    "duration": 3,
    "start_time": "2023-12-01T14:02:42.983Z"
   },
   {
    "duration": 4,
    "start_time": "2023-12-01T14:03:50.418Z"
   },
   {
    "duration": 15,
    "start_time": "2023-12-01T14:03:54.944Z"
   },
   {
    "duration": 6,
    "start_time": "2023-12-01T14:04:31.707Z"
   },
   {
    "duration": 9,
    "start_time": "2023-12-01T14:04:58.096Z"
   },
   {
    "duration": 7,
    "start_time": "2023-12-01T14:05:09.401Z"
   },
   {
    "duration": 4,
    "start_time": "2023-12-01T14:05:17.144Z"
   },
   {
    "duration": 5,
    "start_time": "2023-12-01T14:05:32.561Z"
   },
   {
    "duration": 14,
    "start_time": "2023-12-01T14:06:18.359Z"
   },
   {
    "duration": 30,
    "start_time": "2023-12-01T14:07:39.128Z"
   },
   {
    "duration": 11,
    "start_time": "2023-12-01T14:07:56.772Z"
   },
   {
    "duration": 8,
    "start_time": "2023-12-01T14:08:31.743Z"
   },
   {
    "duration": 1078,
    "start_time": "2023-12-01T14:08:39.250Z"
   },
   {
    "duration": 7,
    "start_time": "2023-12-01T14:08:47.511Z"
   },
   {
    "duration": 10,
    "start_time": "2023-12-01T14:08:54.820Z"
   },
   {
    "duration": 6,
    "start_time": "2023-12-01T14:09:02.034Z"
   },
   {
    "duration": 8,
    "start_time": "2023-12-01T14:10:25.560Z"
   },
   {
    "duration": 4,
    "start_time": "2023-12-01T14:10:31.696Z"
   },
   {
    "duration": 5,
    "start_time": "2023-12-01T14:10:39.770Z"
   },
   {
    "duration": 8,
    "start_time": "2023-12-01T14:11:02.730Z"
   },
   {
    "duration": 4,
    "start_time": "2023-12-01T14:11:21.590Z"
   },
   {
    "duration": 5,
    "start_time": "2023-12-01T14:13:12.137Z"
   },
   {
    "duration": 14,
    "start_time": "2023-12-01T14:13:16.253Z"
   },
   {
    "duration": 14,
    "start_time": "2023-12-01T14:14:10.746Z"
   },
   {
    "duration": 5,
    "start_time": "2023-12-01T14:14:17.808Z"
   },
   {
    "duration": 14,
    "start_time": "2023-12-01T14:14:25.548Z"
   },
   {
    "duration": 11,
    "start_time": "2023-12-01T14:18:48.051Z"
   },
   {
    "duration": 11,
    "start_time": "2023-12-01T14:19:05.997Z"
   },
   {
    "duration": 7,
    "start_time": "2023-12-01T14:20:38.853Z"
   },
   {
    "duration": 4,
    "start_time": "2023-12-01T14:20:51.818Z"
   },
   {
    "duration": 15,
    "start_time": "2023-12-01T14:21:03.854Z"
   },
   {
    "duration": 610,
    "start_time": "2023-12-01T14:21:29.406Z"
   },
   {
    "duration": 125,
    "start_time": "2023-12-01T14:21:30.018Z"
   },
   {
    "duration": 20,
    "start_time": "2023-12-01T14:21:30.145Z"
   },
   {
    "duration": 42,
    "start_time": "2023-12-01T14:21:30.167Z"
   },
   {
    "duration": 27,
    "start_time": "2023-12-01T14:21:30.211Z"
   },
   {
    "duration": 31,
    "start_time": "2023-12-01T14:21:30.240Z"
   },
   {
    "duration": 36,
    "start_time": "2023-12-01T14:21:30.273Z"
   },
   {
    "duration": 44,
    "start_time": "2023-12-01T14:21:30.310Z"
   },
   {
    "duration": 29,
    "start_time": "2023-12-01T14:21:30.356Z"
   },
   {
    "duration": 47,
    "start_time": "2023-12-01T14:21:30.387Z"
   },
   {
    "duration": 60,
    "start_time": "2023-12-01T14:21:30.436Z"
   },
   {
    "duration": 35,
    "start_time": "2023-12-01T14:21:30.498Z"
   },
   {
    "duration": 64,
    "start_time": "2023-12-01T14:21:30.535Z"
   },
   {
    "duration": 218,
    "start_time": "2023-12-01T14:21:30.600Z"
   },
   {
    "duration": 257,
    "start_time": "2023-12-01T14:21:30.820Z"
   },
   {
    "duration": 290,
    "start_time": "2023-12-01T14:21:31.078Z"
   },
   {
    "duration": 6,
    "start_time": "2023-12-01T14:21:31.369Z"
   },
   {
    "duration": 41,
    "start_time": "2023-12-01T14:21:31.376Z"
   },
   {
    "duration": 300,
    "start_time": "2023-12-01T14:21:31.419Z"
   },
   {
    "duration": 5,
    "start_time": "2023-12-01T14:21:31.721Z"
   },
   {
    "duration": 226,
    "start_time": "2023-12-01T14:21:31.727Z"
   },
   {
    "duration": 5,
    "start_time": "2023-12-01T14:21:31.954Z"
   },
   {
    "duration": 50,
    "start_time": "2023-12-01T14:21:31.960Z"
   },
   {
    "duration": 32,
    "start_time": "2023-12-01T14:21:32.011Z"
   },
   {
    "duration": 29,
    "start_time": "2023-12-01T14:21:32.045Z"
   },
   {
    "duration": 14,
    "start_time": "2023-12-01T14:21:32.076Z"
   },
   {
    "duration": 204,
    "start_time": "2023-12-01T14:21:32.091Z"
   },
   {
    "duration": 37,
    "start_time": "2023-12-01T14:21:32.298Z"
   },
   {
    "duration": 228,
    "start_time": "2023-12-01T14:21:32.337Z"
   },
   {
    "duration": 42,
    "start_time": "2023-12-01T14:21:32.567Z"
   },
   {
    "duration": 30,
    "start_time": "2023-12-01T14:21:32.611Z"
   },
   {
    "duration": 35,
    "start_time": "2023-12-01T14:21:32.642Z"
   },
   {
    "duration": 68,
    "start_time": "2023-12-01T14:21:32.679Z"
   },
   {
    "duration": 0,
    "start_time": "2023-12-01T14:21:32.749Z"
   },
   {
    "duration": 13,
    "start_time": "2023-12-01T14:24:39.390Z"
   },
   {
    "duration": 82,
    "start_time": "2023-12-01T14:26:15.396Z"
   },
   {
    "duration": 66,
    "start_time": "2023-12-01T14:26:31.922Z"
   },
   {
    "duration": 26,
    "start_time": "2023-12-01T14:27:17.390Z"
   },
   {
    "duration": 19,
    "start_time": "2023-12-01T14:27:55.211Z"
   },
   {
    "duration": 21,
    "start_time": "2023-12-01T14:28:29.527Z"
   },
   {
    "duration": 20,
    "start_time": "2023-12-01T14:29:20.232Z"
   },
   {
    "duration": 27,
    "start_time": "2023-12-01T14:30:09.187Z"
   },
   {
    "duration": 16,
    "start_time": "2023-12-01T14:35:34.876Z"
   },
   {
    "duration": 15,
    "start_time": "2023-12-01T14:35:57.403Z"
   },
   {
    "duration": 13,
    "start_time": "2023-12-01T14:36:09.275Z"
   },
   {
    "duration": 15,
    "start_time": "2023-12-01T14:36:26.974Z"
   },
   {
    "duration": 15,
    "start_time": "2023-12-01T14:36:55.023Z"
   },
   {
    "duration": 15,
    "start_time": "2023-12-01T14:38:16.697Z"
   },
   {
    "duration": 14,
    "start_time": "2023-12-01T14:38:40.593Z"
   },
   {
    "duration": 11,
    "start_time": "2023-12-01T14:38:52.679Z"
   },
   {
    "duration": 971,
    "start_time": "2023-12-01T14:39:19.002Z"
   },
   {
    "duration": 1168,
    "start_time": "2023-12-01T14:39:26.228Z"
   },
   {
    "duration": 1031,
    "start_time": "2023-12-01T14:40:28.326Z"
   },
   {
    "duration": 1749,
    "start_time": "2023-12-01T14:41:43.993Z"
   },
   {
    "duration": 92,
    "start_time": "2023-12-01T14:42:38.633Z"
   },
   {
    "duration": 62,
    "start_time": "2023-12-01T14:42:49.652Z"
   },
   {
    "duration": 10,
    "start_time": "2023-12-01T14:42:59.350Z"
   },
   {
    "duration": 4,
    "start_time": "2023-12-01T14:44:35.022Z"
   },
   {
    "duration": 11,
    "start_time": "2023-12-01T14:44:47.752Z"
   },
   {
    "duration": 3194,
    "start_time": "2023-12-01T14:44:55.905Z"
   },
   {
    "duration": 4834,
    "start_time": "2023-12-01T14:45:43.112Z"
   },
   {
    "duration": 18,
    "start_time": "2023-12-01T14:46:16.812Z"
   },
   {
    "duration": 22,
    "start_time": "2023-12-01T14:46:38.402Z"
   },
   {
    "duration": 4177,
    "start_time": "2023-12-01T14:46:58.813Z"
   },
   {
    "duration": 5,
    "start_time": "2023-12-01T14:47:39.896Z"
   },
   {
    "duration": 4,
    "start_time": "2023-12-01T14:48:27.636Z"
   },
   {
    "duration": 4095,
    "start_time": "2023-12-01T14:49:34.483Z"
   },
   {
    "duration": 1742,
    "start_time": "2023-12-01T14:50:07.709Z"
   },
   {
    "duration": 1788,
    "start_time": "2023-12-01T14:50:20.842Z"
   },
   {
    "duration": 624,
    "start_time": "2023-12-01T14:51:23.731Z"
   },
   {
    "duration": 104,
    "start_time": "2023-12-01T14:51:24.358Z"
   },
   {
    "duration": 21,
    "start_time": "2023-12-01T14:51:24.463Z"
   },
   {
    "duration": 42,
    "start_time": "2023-12-01T14:51:24.486Z"
   },
   {
    "duration": 30,
    "start_time": "2023-12-01T14:51:24.529Z"
   },
   {
    "duration": 9,
    "start_time": "2023-12-01T14:51:24.561Z"
   },
   {
    "duration": 11,
    "start_time": "2023-12-01T14:51:24.571Z"
   },
   {
    "duration": 10,
    "start_time": "2023-12-01T14:51:24.584Z"
   },
   {
    "duration": 22,
    "start_time": "2023-12-01T14:51:24.595Z"
   },
   {
    "duration": 15,
    "start_time": "2023-12-01T14:51:24.619Z"
   },
   {
    "duration": 8,
    "start_time": "2023-12-01T14:51:24.636Z"
   },
   {
    "duration": 28,
    "start_time": "2023-12-01T14:51:24.645Z"
   },
   {
    "duration": 18,
    "start_time": "2023-12-01T14:51:24.674Z"
   },
   {
    "duration": 196,
    "start_time": "2023-12-01T14:51:24.695Z"
   },
   {
    "duration": 271,
    "start_time": "2023-12-01T14:51:24.893Z"
   },
   {
    "duration": 270,
    "start_time": "2023-12-01T14:51:25.173Z"
   },
   {
    "duration": 4,
    "start_time": "2023-12-01T14:51:25.445Z"
   },
   {
    "duration": 23,
    "start_time": "2023-12-01T14:51:25.451Z"
   },
   {
    "duration": 255,
    "start_time": "2023-12-01T14:51:25.475Z"
   },
   {
    "duration": 5,
    "start_time": "2023-12-01T14:51:25.731Z"
   },
   {
    "duration": 215,
    "start_time": "2023-12-01T14:51:25.738Z"
   },
   {
    "duration": 5,
    "start_time": "2023-12-01T14:51:25.955Z"
   },
   {
    "duration": 32,
    "start_time": "2023-12-01T14:51:25.961Z"
   },
   {
    "duration": 20,
    "start_time": "2023-12-01T14:51:25.995Z"
   },
   {
    "duration": 16,
    "start_time": "2023-12-01T14:51:26.017Z"
   },
   {
    "duration": 44,
    "start_time": "2023-12-01T14:51:26.034Z"
   },
   {
    "duration": 216,
    "start_time": "2023-12-01T14:51:26.080Z"
   },
   {
    "duration": 36,
    "start_time": "2023-12-01T14:51:26.298Z"
   },
   {
    "duration": 238,
    "start_time": "2023-12-01T14:51:26.335Z"
   },
   {
    "duration": 37,
    "start_time": "2023-12-01T14:51:26.574Z"
   },
   {
    "duration": 30,
    "start_time": "2023-12-01T14:51:26.612Z"
   },
   {
    "duration": 37,
    "start_time": "2023-12-01T14:51:26.644Z"
   },
   {
    "duration": 1747,
    "start_time": "2023-12-01T14:51:26.682Z"
   },
   {
    "duration": 5,
    "start_time": "2023-12-01T14:53:41.861Z"
   },
   {
    "duration": 75,
    "start_time": "2023-12-01T14:56:31.717Z"
   },
   {
    "duration": 224,
    "start_time": "2023-12-01T14:56:43.201Z"
   },
   {
    "duration": 183,
    "start_time": "2023-12-01T14:57:10.272Z"
   },
   {
    "duration": 171,
    "start_time": "2023-12-01T14:57:56.459Z"
   },
   {
    "duration": 14,
    "start_time": "2023-12-01T14:58:18.543Z"
   },
   {
    "duration": 12,
    "start_time": "2023-12-01T15:01:29.908Z"
   },
   {
    "duration": 158,
    "start_time": "2023-12-01T15:01:36.161Z"
   },
   {
    "duration": 639,
    "start_time": "2023-12-01T15:04:25.262Z"
   },
   {
    "duration": 2,
    "start_time": "2023-12-01T15:04:25.903Z"
   },
   {
    "duration": 143,
    "start_time": "2023-12-01T15:04:25.906Z"
   },
   {
    "duration": 19,
    "start_time": "2023-12-01T15:04:26.051Z"
   },
   {
    "duration": 28,
    "start_time": "2023-12-01T15:04:26.071Z"
   },
   {
    "duration": 14,
    "start_time": "2023-12-01T15:04:26.100Z"
   },
   {
    "duration": 8,
    "start_time": "2023-12-01T15:04:26.115Z"
   },
   {
    "duration": 6,
    "start_time": "2023-12-01T15:04:26.124Z"
   },
   {
    "duration": 8,
    "start_time": "2023-12-01T15:04:26.131Z"
   },
   {
    "duration": 10,
    "start_time": "2023-12-01T15:04:26.141Z"
   },
   {
    "duration": 10,
    "start_time": "2023-12-01T15:04:26.173Z"
   },
   {
    "duration": 7,
    "start_time": "2023-12-01T15:04:26.185Z"
   },
   {
    "duration": 12,
    "start_time": "2023-12-01T15:04:26.194Z"
   },
   {
    "duration": 17,
    "start_time": "2023-12-01T15:04:26.208Z"
   },
   {
    "duration": 210,
    "start_time": "2023-12-01T15:04:26.227Z"
   },
   {
    "duration": 248,
    "start_time": "2023-12-01T15:04:26.439Z"
   },
   {
    "duration": 263,
    "start_time": "2023-12-01T15:04:26.688Z"
   },
   {
    "duration": 5,
    "start_time": "2023-12-01T15:04:26.953Z"
   },
   {
    "duration": 18,
    "start_time": "2023-12-01T15:04:26.959Z"
   },
   {
    "duration": 262,
    "start_time": "2023-12-01T15:04:26.979Z"
   },
   {
    "duration": 5,
    "start_time": "2023-12-01T15:04:27.242Z"
   },
   {
    "duration": 214,
    "start_time": "2023-12-01T15:04:27.249Z"
   },
   {
    "duration": 9,
    "start_time": "2023-12-01T15:04:27.464Z"
   },
   {
    "duration": 31,
    "start_time": "2023-12-01T15:04:27.475Z"
   },
   {
    "duration": 18,
    "start_time": "2023-12-01T15:04:27.507Z"
   },
   {
    "duration": 34,
    "start_time": "2023-12-01T15:04:27.527Z"
   },
   {
    "duration": 14,
    "start_time": "2023-12-01T15:04:27.562Z"
   },
   {
    "duration": 599,
    "start_time": "2023-12-01T15:04:58.435Z"
   },
   {
    "duration": 3,
    "start_time": "2023-12-01T15:04:59.035Z"
   },
   {
    "duration": 160,
    "start_time": "2023-12-01T15:04:59.039Z"
   },
   {
    "duration": 19,
    "start_time": "2023-12-01T15:04:59.201Z"
   },
   {
    "duration": 16,
    "start_time": "2023-12-01T15:04:59.221Z"
   },
   {
    "duration": 12,
    "start_time": "2023-12-01T15:04:59.238Z"
   },
   {
    "duration": 24,
    "start_time": "2023-12-01T15:04:59.252Z"
   },
   {
    "duration": 6,
    "start_time": "2023-12-01T15:04:59.278Z"
   },
   {
    "duration": 12,
    "start_time": "2023-12-01T15:04:59.285Z"
   },
   {
    "duration": 10,
    "start_time": "2023-12-01T15:04:59.298Z"
   },
   {
    "duration": 10,
    "start_time": "2023-12-01T15:04:59.309Z"
   },
   {
    "duration": 8,
    "start_time": "2023-12-01T15:04:59.320Z"
   },
   {
    "duration": 47,
    "start_time": "2023-12-01T15:04:59.329Z"
   },
   {
    "duration": 17,
    "start_time": "2023-12-01T15:04:59.379Z"
   },
   {
    "duration": 183,
    "start_time": "2023-12-01T15:04:59.397Z"
   },
   {
    "duration": 263,
    "start_time": "2023-12-01T15:04:59.582Z"
   },
   {
    "duration": 301,
    "start_time": "2023-12-01T15:04:59.847Z"
   },
   {
    "duration": 4,
    "start_time": "2023-12-01T15:05:00.150Z"
   },
   {
    "duration": 31,
    "start_time": "2023-12-01T15:05:00.155Z"
   },
   {
    "duration": 270,
    "start_time": "2023-12-01T15:05:00.188Z"
   },
   {
    "duration": 4,
    "start_time": "2023-12-01T15:05:00.460Z"
   },
   {
    "duration": 260,
    "start_time": "2023-12-01T15:05:00.466Z"
   },
   {
    "duration": 5,
    "start_time": "2023-12-01T15:05:00.728Z"
   },
   {
    "duration": 57,
    "start_time": "2023-12-01T15:05:00.735Z"
   },
   {
    "duration": 51,
    "start_time": "2023-12-01T15:05:00.794Z"
   },
   {
    "duration": 62,
    "start_time": "2023-12-01T15:05:00.847Z"
   },
   {
    "duration": 43,
    "start_time": "2023-12-01T15:05:00.910Z"
   },
   {
    "duration": 328,
    "start_time": "2023-12-01T15:05:00.955Z"
   },
   {
    "duration": 35,
    "start_time": "2023-12-01T15:05:01.284Z"
   },
   {
    "duration": 314,
    "start_time": "2023-12-01T15:05:01.321Z"
   },
   {
    "duration": 38,
    "start_time": "2023-12-01T15:05:01.637Z"
   },
   {
    "duration": 93,
    "start_time": "2023-12-01T15:05:01.677Z"
   },
   {
    "duration": 23,
    "start_time": "2023-12-01T15:05:01.771Z"
   },
   {
    "duration": 1963,
    "start_time": "2023-12-01T15:05:01.795Z"
   },
   {
    "duration": 17,
    "start_time": "2023-12-01T15:05:03.760Z"
   },
   {
    "duration": 176,
    "start_time": "2023-12-01T15:05:03.779Z"
   },
   {
    "duration": 4,
    "start_time": "2023-12-01T15:05:03.957Z"
   },
   {
    "duration": 160,
    "start_time": "2023-12-01T15:05:29.178Z"
   },
   {
    "duration": 52,
    "start_time": "2023-12-02T16:07:13.991Z"
   },
   {
    "duration": 759,
    "start_time": "2023-12-02T16:07:19.068Z"
   },
   {
    "duration": 3,
    "start_time": "2023-12-02T16:07:19.829Z"
   },
   {
    "duration": 338,
    "start_time": "2023-12-02T16:07:19.833Z"
   },
   {
    "duration": 20,
    "start_time": "2023-12-02T16:07:20.173Z"
   },
   {
    "duration": 18,
    "start_time": "2023-12-02T16:07:20.195Z"
   },
   {
    "duration": 16,
    "start_time": "2023-12-02T16:07:20.215Z"
   },
   {
    "duration": 10,
    "start_time": "2023-12-02T16:07:20.232Z"
   },
   {
    "duration": 18,
    "start_time": "2023-12-02T16:07:20.244Z"
   },
   {
    "duration": 20,
    "start_time": "2023-12-02T16:07:20.264Z"
   },
   {
    "duration": 11,
    "start_time": "2023-12-02T16:07:20.287Z"
   },
   {
    "duration": 11,
    "start_time": "2023-12-02T16:07:20.315Z"
   },
   {
    "duration": 8,
    "start_time": "2023-12-02T16:07:20.327Z"
   },
   {
    "duration": 25,
    "start_time": "2023-12-02T16:07:20.336Z"
   },
   {
    "duration": 18,
    "start_time": "2023-12-02T16:07:20.362Z"
   },
   {
    "duration": 197,
    "start_time": "2023-12-02T16:07:20.381Z"
   },
   {
    "duration": 271,
    "start_time": "2023-12-02T16:07:20.580Z"
   },
   {
    "duration": 284,
    "start_time": "2023-12-02T16:07:20.852Z"
   },
   {
    "duration": 5,
    "start_time": "2023-12-02T16:07:21.137Z"
   },
   {
    "duration": 13,
    "start_time": "2023-12-02T16:07:21.143Z"
   },
   {
    "duration": 258,
    "start_time": "2023-12-02T16:07:21.158Z"
   },
   {
    "duration": 4,
    "start_time": "2023-12-02T16:07:21.418Z"
   },
   {
    "duration": 204,
    "start_time": "2023-12-02T16:07:21.424Z"
   },
   {
    "duration": 5,
    "start_time": "2023-12-02T16:07:21.629Z"
   },
   {
    "duration": 33,
    "start_time": "2023-12-02T16:07:21.635Z"
   },
   {
    "duration": 17,
    "start_time": "2023-12-02T16:07:21.670Z"
   },
   {
    "duration": 32,
    "start_time": "2023-12-02T16:07:21.689Z"
   },
   {
    "duration": 13,
    "start_time": "2023-12-02T16:07:21.723Z"
   },
   {
    "duration": 200,
    "start_time": "2023-12-02T16:07:21.739Z"
   },
   {
    "duration": 36,
    "start_time": "2023-12-02T16:07:21.940Z"
   },
   {
    "duration": 229,
    "start_time": "2023-12-02T16:07:21.978Z"
   },
   {
    "duration": 38,
    "start_time": "2023-12-02T16:07:22.209Z"
   },
   {
    "duration": 31,
    "start_time": "2023-12-02T16:07:22.248Z"
   },
   {
    "duration": 33,
    "start_time": "2023-12-02T16:07:22.281Z"
   },
   {
    "duration": 1750,
    "start_time": "2023-12-02T16:07:22.316Z"
   },
   {
    "duration": 163,
    "start_time": "2023-12-02T16:07:24.068Z"
   },
   {
    "duration": 4,
    "start_time": "2023-12-02T16:07:24.233Z"
   },
   {
    "duration": 238,
    "start_time": "2023-12-02T16:07:24.238Z"
   },
   {
    "duration": 218,
    "start_time": "2023-12-02T16:07:51.682Z"
   },
   {
    "duration": 224,
    "start_time": "2023-12-02T16:07:55.390Z"
   },
   {
    "duration": 244,
    "start_time": "2023-12-02T16:08:05.736Z"
   },
   {
    "duration": 247,
    "start_time": "2023-12-02T16:08:21.114Z"
   },
   {
    "duration": 229,
    "start_time": "2023-12-02T16:08:31.042Z"
   },
   {
    "duration": 309,
    "start_time": "2023-12-02T16:11:44.808Z"
   },
   {
    "duration": 225,
    "start_time": "2023-12-02T16:11:55.365Z"
   },
   {
    "duration": 17,
    "start_time": "2023-12-02T16:12:36.548Z"
   },
   {
    "duration": 12,
    "start_time": "2023-12-02T16:13:35.594Z"
   },
   {
    "duration": 223,
    "start_time": "2023-12-02T16:15:45.615Z"
   },
   {
    "duration": 18,
    "start_time": "2023-12-02T16:16:10.254Z"
   },
   {
    "duration": 245,
    "start_time": "2023-12-02T16:16:35.532Z"
   },
   {
    "duration": 226,
    "start_time": "2023-12-02T16:18:12.255Z"
   },
   {
    "duration": 240,
    "start_time": "2023-12-02T16:18:19.884Z"
   },
   {
    "duration": 259,
    "start_time": "2023-12-02T16:18:26.891Z"
   },
   {
    "duration": 515,
    "start_time": "2023-12-02T16:18:34.790Z"
   },
   {
    "duration": 566,
    "start_time": "2023-12-02T16:18:44.560Z"
   },
   {
    "duration": 242,
    "start_time": "2023-12-02T16:19:01.204Z"
   },
   {
    "duration": 233,
    "start_time": "2023-12-02T16:22:22.571Z"
   },
   {
    "duration": 242,
    "start_time": "2023-12-02T16:22:36.419Z"
   },
   {
    "duration": 239,
    "start_time": "2023-12-02T16:23:32.734Z"
   },
   {
    "duration": 439,
    "start_time": "2023-12-02T16:23:53.821Z"
   },
   {
    "duration": 507,
    "start_time": "2023-12-02T16:24:47.900Z"
   },
   {
    "duration": 2910,
    "start_time": "2023-12-02T16:26:43.359Z"
   },
   {
    "duration": 242,
    "start_time": "2023-12-02T16:26:59.599Z"
   },
   {
    "duration": 289,
    "start_time": "2023-12-02T16:27:06.071Z"
   },
   {
    "duration": 349,
    "start_time": "2023-12-02T16:27:16.096Z"
   },
   {
    "duration": 293,
    "start_time": "2023-12-02T16:27:24.975Z"
   },
   {
    "duration": 469,
    "start_time": "2023-12-02T16:34:15.235Z"
   },
   {
    "duration": 4,
    "start_time": "2023-12-02T16:41:46.660Z"
   },
   {
    "duration": 380,
    "start_time": "2023-12-02T16:49:40.035Z"
   },
   {
    "duration": 475,
    "start_time": "2023-12-02T16:51:41.432Z"
   },
   {
    "duration": 383,
    "start_time": "2023-12-02T16:52:25.733Z"
   },
   {
    "duration": 403,
    "start_time": "2023-12-02T16:52:32.371Z"
   },
   {
    "duration": 510,
    "start_time": "2023-12-02T17:01:18.587Z"
   },
   {
    "duration": 376,
    "start_time": "2023-12-02T17:02:26.184Z"
   },
   {
    "duration": 6,
    "start_time": "2023-12-02T17:02:58.965Z"
   },
   {
    "duration": 5,
    "start_time": "2023-12-02T17:06:09.539Z"
   },
   {
    "duration": 10,
    "start_time": "2023-12-02T17:06:49.760Z"
   },
   {
    "duration": 407,
    "start_time": "2023-12-02T17:07:10.453Z"
   },
   {
    "duration": 11,
    "start_time": "2023-12-02T17:07:32.888Z"
   },
   {
    "duration": 396,
    "start_time": "2023-12-02T17:08:56.871Z"
   },
   {
    "duration": 397,
    "start_time": "2023-12-02T17:10:24.089Z"
   },
   {
    "duration": 404,
    "start_time": "2023-12-02T17:11:00.313Z"
   },
   {
    "duration": 481,
    "start_time": "2023-12-02T17:12:48.804Z"
   },
   {
    "duration": 411,
    "start_time": "2023-12-02T17:12:57.857Z"
   },
   {
    "duration": 413,
    "start_time": "2023-12-02T17:16:07.797Z"
   },
   {
    "duration": 389,
    "start_time": "2023-12-02T17:16:24.221Z"
   },
   {
    "duration": 11,
    "start_time": "2023-12-02T17:19:31.733Z"
   },
   {
    "duration": 11,
    "start_time": "2023-12-02T17:21:58.540Z"
   },
   {
    "duration": 8361,
    "start_time": "2023-12-02T17:27:21.710Z"
   },
   {
    "duration": 424,
    "start_time": "2023-12-02T17:27:43.668Z"
   },
   {
    "duration": 1080,
    "start_time": "2023-12-02T17:27:49.195Z"
   },
   {
    "duration": 3,
    "start_time": "2023-12-02T17:27:50.276Z"
   },
   {
    "duration": 164,
    "start_time": "2023-12-02T17:27:50.280Z"
   },
   {
    "duration": 20,
    "start_time": "2023-12-02T17:27:50.446Z"
   },
   {
    "duration": 39,
    "start_time": "2023-12-02T17:27:50.467Z"
   },
   {
    "duration": 14,
    "start_time": "2023-12-02T17:27:50.508Z"
   },
   {
    "duration": 15,
    "start_time": "2023-12-02T17:27:50.523Z"
   },
   {
    "duration": 12,
    "start_time": "2023-12-02T17:27:50.539Z"
   },
   {
    "duration": 6,
    "start_time": "2023-12-02T17:27:50.553Z"
   },
   {
    "duration": 10,
    "start_time": "2023-12-02T17:27:50.562Z"
   },
   {
    "duration": 11,
    "start_time": "2023-12-02T17:27:50.573Z"
   },
   {
    "duration": 37,
    "start_time": "2023-12-02T17:27:50.585Z"
   },
   {
    "duration": 10,
    "start_time": "2023-12-02T17:27:50.623Z"
   },
   {
    "duration": 17,
    "start_time": "2023-12-02T17:27:50.634Z"
   },
   {
    "duration": 211,
    "start_time": "2023-12-02T17:27:50.653Z"
   },
   {
    "duration": 264,
    "start_time": "2023-12-02T17:27:50.866Z"
   },
   {
    "duration": 273,
    "start_time": "2023-12-02T17:27:51.131Z"
   },
   {
    "duration": 11,
    "start_time": "2023-12-02T17:27:51.405Z"
   },
   {
    "duration": 9,
    "start_time": "2023-12-02T17:27:51.418Z"
   },
   {
    "duration": 200,
    "start_time": "2023-12-02T17:27:51.428Z"
   },
   {
    "duration": 5,
    "start_time": "2023-12-02T17:27:51.629Z"
   },
   {
    "duration": 215,
    "start_time": "2023-12-02T17:27:51.635Z"
   },
   {
    "duration": 5,
    "start_time": "2023-12-02T17:27:51.851Z"
   },
   {
    "duration": 52,
    "start_time": "2023-12-02T17:27:51.857Z"
   },
   {
    "duration": 20,
    "start_time": "2023-12-02T17:27:51.910Z"
   },
   {
    "duration": 18,
    "start_time": "2023-12-02T17:27:51.932Z"
   },
   {
    "duration": 15,
    "start_time": "2023-12-02T17:27:51.952Z"
   },
   {
    "duration": 213,
    "start_time": "2023-12-02T17:27:51.969Z"
   },
   {
    "duration": 43,
    "start_time": "2023-12-02T17:27:52.184Z"
   },
   {
    "duration": 214,
    "start_time": "2023-12-02T17:27:52.228Z"
   },
   {
    "duration": 35,
    "start_time": "2023-12-02T17:27:52.444Z"
   },
   {
    "duration": 50,
    "start_time": "2023-12-02T17:27:52.481Z"
   },
   {
    "duration": 12,
    "start_time": "2023-12-02T17:27:52.532Z"
   },
   {
    "duration": 1730,
    "start_time": "2023-12-02T17:27:52.546Z"
   },
   {
    "duration": 170,
    "start_time": "2023-12-02T17:27:54.277Z"
   },
   {
    "duration": 4,
    "start_time": "2023-12-02T17:27:54.448Z"
   },
   {
    "duration": 506,
    "start_time": "2023-12-02T17:27:54.453Z"
   },
   {
    "duration": 16,
    "start_time": "2023-12-02T17:27:54.961Z"
   },
   {
    "duration": 8,
    "start_time": "2023-12-02T17:33:24.857Z"
   },
   {
    "duration": 358,
    "start_time": "2023-12-02T17:34:55.876Z"
   },
   {
    "duration": 194,
    "start_time": "2023-12-02T17:36:23.327Z"
   },
   {
    "duration": 173,
    "start_time": "2023-12-02T17:36:35.780Z"
   },
   {
    "duration": 267,
    "start_time": "2023-12-02T17:36:43.387Z"
   },
   {
    "duration": 279,
    "start_time": "2023-12-02T17:36:57.026Z"
   },
   {
    "duration": 407,
    "start_time": "2023-12-02T17:37:08.258Z"
   },
   {
    "duration": 503,
    "start_time": "2023-12-02T17:38:14.436Z"
   },
   {
    "duration": 319,
    "start_time": "2023-12-02T17:39:42.320Z"
   },
   {
    "duration": 8,
    "start_time": "2023-12-02T17:41:03.549Z"
   },
   {
    "duration": 8,
    "start_time": "2023-12-02T17:41:09.010Z"
   },
   {
    "duration": 8,
    "start_time": "2023-12-02T17:44:02.872Z"
   },
   {
    "duration": 9,
    "start_time": "2023-12-02T17:49:01.325Z"
   },
   {
    "duration": 9,
    "start_time": "2023-12-02T17:50:14.986Z"
   },
   {
    "duration": 8,
    "start_time": "2023-12-02T17:50:31.125Z"
   },
   {
    "duration": 7,
    "start_time": "2023-12-02T17:50:36.045Z"
   },
   {
    "duration": 1025,
    "start_time": "2023-12-02T17:54:04.842Z"
   },
   {
    "duration": 2,
    "start_time": "2023-12-02T17:54:05.869Z"
   },
   {
    "duration": 156,
    "start_time": "2023-12-02T17:54:05.873Z"
   },
   {
    "duration": 20,
    "start_time": "2023-12-02T17:54:06.031Z"
   },
   {
    "duration": 19,
    "start_time": "2023-12-02T17:54:06.052Z"
   },
   {
    "duration": 30,
    "start_time": "2023-12-02T17:54:06.072Z"
   },
   {
    "duration": 14,
    "start_time": "2023-12-02T17:54:06.103Z"
   },
   {
    "duration": 25,
    "start_time": "2023-12-02T17:54:06.118Z"
   },
   {
    "duration": 26,
    "start_time": "2023-12-02T17:54:06.145Z"
   },
   {
    "duration": 18,
    "start_time": "2023-12-02T17:54:06.173Z"
   },
   {
    "duration": 12,
    "start_time": "2023-12-02T17:54:06.193Z"
   },
   {
    "duration": 19,
    "start_time": "2023-12-02T17:54:06.206Z"
   },
   {
    "duration": 14,
    "start_time": "2023-12-02T17:54:06.226Z"
   },
   {
    "duration": 20,
    "start_time": "2023-12-02T17:54:06.242Z"
   },
   {
    "duration": 179,
    "start_time": "2023-12-02T17:54:06.264Z"
   },
   {
    "duration": 257,
    "start_time": "2023-12-02T17:54:06.445Z"
   },
   {
    "duration": 281,
    "start_time": "2023-12-02T17:54:06.704Z"
   },
   {
    "duration": 5,
    "start_time": "2023-12-02T17:54:06.986Z"
   },
   {
    "duration": 24,
    "start_time": "2023-12-02T17:54:06.992Z"
   },
   {
    "duration": 209,
    "start_time": "2023-12-02T17:54:07.017Z"
   },
   {
    "duration": 5,
    "start_time": "2023-12-02T17:54:07.228Z"
   },
   {
    "duration": 221,
    "start_time": "2023-12-02T17:54:07.234Z"
   },
   {
    "duration": 5,
    "start_time": "2023-12-02T17:54:07.457Z"
   },
   {
    "duration": 24,
    "start_time": "2023-12-02T17:54:07.463Z"
   },
   {
    "duration": 37,
    "start_time": "2023-12-02T17:54:07.488Z"
   },
   {
    "duration": 18,
    "start_time": "2023-12-02T17:54:07.526Z"
   },
   {
    "duration": 13,
    "start_time": "2023-12-02T17:54:07.546Z"
   },
   {
    "duration": 211,
    "start_time": "2023-12-02T17:54:07.564Z"
   },
   {
    "duration": 48,
    "start_time": "2023-12-02T17:54:07.776Z"
   },
   {
    "duration": 214,
    "start_time": "2023-12-02T17:54:07.825Z"
   },
   {
    "duration": 37,
    "start_time": "2023-12-02T17:54:08.040Z"
   },
   {
    "duration": 52,
    "start_time": "2023-12-02T17:54:08.078Z"
   },
   {
    "duration": 12,
    "start_time": "2023-12-02T17:54:08.132Z"
   },
   {
    "duration": 1789,
    "start_time": "2023-12-02T17:54:08.146Z"
   },
   {
    "duration": 168,
    "start_time": "2023-12-02T17:54:09.936Z"
   },
   {
    "duration": 11,
    "start_time": "2023-12-02T17:54:10.105Z"
   },
   {
    "duration": 474,
    "start_time": "2023-12-02T17:54:10.118Z"
   },
   {
    "duration": 12,
    "start_time": "2023-12-02T17:54:10.593Z"
   },
   {
    "duration": 324,
    "start_time": "2023-12-02T17:54:10.616Z"
   },
   {
    "duration": 8,
    "start_time": "2023-12-02T17:54:10.942Z"
   },
   {
    "duration": 47,
    "start_time": "2023-12-02T20:12:15.207Z"
   },
   {
    "duration": 54,
    "start_time": "2023-12-02T20:15:18.529Z"
   },
   {
    "duration": 0,
    "start_time": "2023-12-02T20:15:18.586Z"
   },
   {
    "duration": 0,
    "start_time": "2023-12-02T20:15:18.587Z"
   },
   {
    "duration": 2,
    "start_time": "2023-12-02T20:15:24.845Z"
   },
   {
    "duration": 3,
    "start_time": "2023-12-02T20:15:24.848Z"
   },
   {
    "duration": 105,
    "start_time": "2023-12-02T20:15:24.853Z"
   },
   {
    "duration": 14,
    "start_time": "2023-12-02T20:15:24.959Z"
   },
   {
    "duration": 13,
    "start_time": "2023-12-02T20:15:24.974Z"
   },
   {
    "duration": 11,
    "start_time": "2023-12-02T20:15:24.989Z"
   },
   {
    "duration": 7,
    "start_time": "2023-12-02T20:15:25.002Z"
   },
   {
    "duration": 5,
    "start_time": "2023-12-02T20:15:25.015Z"
   },
   {
    "duration": 15,
    "start_time": "2023-12-02T20:15:25.021Z"
   },
   {
    "duration": 15,
    "start_time": "2023-12-02T20:15:25.038Z"
   },
   {
    "duration": 12,
    "start_time": "2023-12-02T20:15:25.055Z"
   },
   {
    "duration": 8,
    "start_time": "2023-12-02T20:15:25.068Z"
   },
   {
    "duration": 11,
    "start_time": "2023-12-02T20:15:25.077Z"
   },
   {
    "duration": 20,
    "start_time": "2023-12-02T20:15:25.116Z"
   },
   {
    "duration": 159,
    "start_time": "2023-12-02T20:15:25.138Z"
   },
   {
    "duration": 224,
    "start_time": "2023-12-02T20:15:25.298Z"
   },
   {
    "duration": 221,
    "start_time": "2023-12-02T20:15:25.524Z"
   },
   {
    "duration": 4,
    "start_time": "2023-12-02T20:15:25.746Z"
   },
   {
    "duration": 8,
    "start_time": "2023-12-02T20:15:25.751Z"
   },
   {
    "duration": 176,
    "start_time": "2023-12-02T20:15:25.760Z"
   },
   {
    "duration": 4,
    "start_time": "2023-12-02T20:15:25.938Z"
   },
   {
    "duration": 177,
    "start_time": "2023-12-02T20:15:25.943Z"
   },
   {
    "duration": 4,
    "start_time": "2023-12-02T20:15:26.121Z"
   },
   {
    "duration": 19,
    "start_time": "2023-12-02T20:15:26.127Z"
   },
   {
    "duration": 16,
    "start_time": "2023-12-02T20:15:26.147Z"
   },
   {
    "duration": 16,
    "start_time": "2023-12-02T20:15:26.165Z"
   },
   {
    "duration": 40,
    "start_time": "2023-12-02T20:15:26.183Z"
   },
   {
    "duration": 175,
    "start_time": "2023-12-02T20:15:26.224Z"
   },
   {
    "duration": 37,
    "start_time": "2023-12-02T20:15:26.401Z"
   },
   {
    "duration": 239,
    "start_time": "2023-12-02T20:15:26.439Z"
   },
   {
    "duration": 40,
    "start_time": "2023-12-02T20:15:26.679Z"
   },
   {
    "duration": 23,
    "start_time": "2023-12-02T20:15:26.720Z"
   },
   {
    "duration": 9,
    "start_time": "2023-12-02T20:15:26.745Z"
   },
   {
    "duration": 1621,
    "start_time": "2023-12-02T20:15:26.756Z"
   },
   {
    "duration": 152,
    "start_time": "2023-12-02T20:15:28.378Z"
   },
   {
    "duration": 4,
    "start_time": "2023-12-02T20:15:28.531Z"
   },
   {
    "duration": 367,
    "start_time": "2023-12-02T20:15:28.536Z"
   },
   {
    "duration": 16,
    "start_time": "2023-12-02T20:15:28.904Z"
   },
   {
    "duration": 300,
    "start_time": "2023-12-02T20:15:28.921Z"
   },
   {
    "duration": 7,
    "start_time": "2023-12-02T20:15:29.223Z"
   },
   {
    "duration": 322,
    "start_time": "2023-12-02T20:15:29.235Z"
   },
   {
    "duration": 885,
    "start_time": "2023-12-02T20:15:41.167Z"
   },
   {
    "duration": 2,
    "start_time": "2023-12-02T20:15:42.054Z"
   },
   {
    "duration": 158,
    "start_time": "2023-12-02T20:15:42.057Z"
   },
   {
    "duration": 18,
    "start_time": "2023-12-02T20:15:42.217Z"
   },
   {
    "duration": 14,
    "start_time": "2023-12-02T20:15:42.236Z"
   },
   {
    "duration": 12,
    "start_time": "2023-12-02T20:15:42.251Z"
   },
   {
    "duration": 7,
    "start_time": "2023-12-02T20:15:42.265Z"
   },
   {
    "duration": 43,
    "start_time": "2023-12-02T20:15:42.273Z"
   },
   {
    "duration": 5,
    "start_time": "2023-12-02T20:15:42.317Z"
   },
   {
    "duration": 8,
    "start_time": "2023-12-02T20:15:42.323Z"
   },
   {
    "duration": 15,
    "start_time": "2023-12-02T20:15:42.332Z"
   },
   {
    "duration": 8,
    "start_time": "2023-12-02T20:15:42.348Z"
   },
   {
    "duration": 8,
    "start_time": "2023-12-02T20:15:42.357Z"
   },
   {
    "duration": 53,
    "start_time": "2023-12-02T20:15:42.366Z"
   },
   {
    "duration": 161,
    "start_time": "2023-12-02T20:15:42.421Z"
   },
   {
    "duration": 208,
    "start_time": "2023-12-02T20:15:42.583Z"
   },
   {
    "duration": 218,
    "start_time": "2023-12-02T20:15:42.792Z"
   },
   {
    "duration": 4,
    "start_time": "2023-12-02T20:15:43.014Z"
   },
   {
    "duration": 8,
    "start_time": "2023-12-02T20:15:43.019Z"
   },
   {
    "duration": 179,
    "start_time": "2023-12-02T20:15:43.029Z"
   },
   {
    "duration": 8,
    "start_time": "2023-12-02T20:15:43.209Z"
   },
   {
    "duration": 177,
    "start_time": "2023-12-02T20:15:43.218Z"
   },
   {
    "duration": 4,
    "start_time": "2023-12-02T20:15:43.397Z"
   },
   {
    "duration": 34,
    "start_time": "2023-12-02T20:15:43.402Z"
   },
   {
    "duration": 16,
    "start_time": "2023-12-02T20:15:43.438Z"
   },
   {
    "duration": 14,
    "start_time": "2023-12-02T20:15:43.455Z"
   },
   {
    "duration": 12,
    "start_time": "2023-12-02T20:15:43.470Z"
   },
   {
    "duration": 186,
    "start_time": "2023-12-02T20:15:43.485Z"
   },
   {
    "duration": 45,
    "start_time": "2023-12-02T20:15:43.673Z"
   },
   {
    "duration": 180,
    "start_time": "2023-12-02T20:15:43.719Z"
   },
   {
    "duration": 33,
    "start_time": "2023-12-02T20:15:43.900Z"
   },
   {
    "duration": 25,
    "start_time": "2023-12-02T20:15:43.934Z"
   },
   {
    "duration": 10,
    "start_time": "2023-12-02T20:15:43.960Z"
   },
   {
    "duration": 1608,
    "start_time": "2023-12-02T20:15:43.972Z"
   },
   {
    "duration": 144,
    "start_time": "2023-12-02T20:15:45.581Z"
   },
   {
    "duration": 3,
    "start_time": "2023-12-02T20:15:45.726Z"
   },
   {
    "duration": 404,
    "start_time": "2023-12-02T20:15:45.731Z"
   },
   {
    "duration": 10,
    "start_time": "2023-12-02T20:15:46.136Z"
   },
   {
    "duration": 303,
    "start_time": "2023-12-02T20:15:46.147Z"
   },
   {
    "duration": 10,
    "start_time": "2023-12-02T20:15:46.451Z"
   },
   {
    "duration": 380,
    "start_time": "2023-12-02T20:15:46.462Z"
   },
   {
    "duration": 1715,
    "start_time": "2023-12-02T20:19:48.539Z"
   },
   {
    "duration": 3293,
    "start_time": "2023-12-02T20:21:43.519Z"
   },
   {
    "duration": 904,
    "start_time": "2023-12-02T20:22:02.509Z"
   },
   {
    "duration": 4,
    "start_time": "2023-12-02T20:22:03.415Z"
   },
   {
    "duration": 150,
    "start_time": "2023-12-02T20:22:03.420Z"
   },
   {
    "duration": 16,
    "start_time": "2023-12-02T20:22:03.572Z"
   },
   {
    "duration": 19,
    "start_time": "2023-12-02T20:22:03.589Z"
   },
   {
    "duration": 16,
    "start_time": "2023-12-02T20:22:03.610Z"
   },
   {
    "duration": 9,
    "start_time": "2023-12-02T20:22:03.628Z"
   },
   {
    "duration": 5,
    "start_time": "2023-12-02T20:22:03.638Z"
   },
   {
    "duration": 11,
    "start_time": "2023-12-02T20:22:03.644Z"
   },
   {
    "duration": 9,
    "start_time": "2023-12-02T20:22:03.658Z"
   },
   {
    "duration": 10,
    "start_time": "2023-12-02T20:22:03.668Z"
   },
   {
    "duration": 37,
    "start_time": "2023-12-02T20:22:03.680Z"
   },
   {
    "duration": 8,
    "start_time": "2023-12-02T20:22:03.719Z"
   },
   {
    "duration": 14,
    "start_time": "2023-12-02T20:22:03.728Z"
   },
   {
    "duration": 166,
    "start_time": "2023-12-02T20:22:03.743Z"
   },
   {
    "duration": 211,
    "start_time": "2023-12-02T20:22:03.910Z"
   },
   {
    "duration": 218,
    "start_time": "2023-12-02T20:22:04.122Z"
   },
   {
    "duration": 4,
    "start_time": "2023-12-02T20:22:04.341Z"
   },
   {
    "duration": 8,
    "start_time": "2023-12-02T20:22:04.346Z"
   },
   {
    "duration": 180,
    "start_time": "2023-12-02T20:22:04.355Z"
   },
   {
    "duration": 4,
    "start_time": "2023-12-02T20:22:04.536Z"
   },
   {
    "duration": 180,
    "start_time": "2023-12-02T20:22:04.542Z"
   },
   {
    "duration": 5,
    "start_time": "2023-12-02T20:22:04.723Z"
   },
   {
    "duration": 21,
    "start_time": "2023-12-02T20:22:04.728Z"
   },
   {
    "duration": 16,
    "start_time": "2023-12-02T20:22:04.751Z"
   },
   {
    "duration": 14,
    "start_time": "2023-12-02T20:22:04.769Z"
   },
   {
    "duration": 38,
    "start_time": "2023-12-02T20:22:04.784Z"
   },
   {
    "duration": 170,
    "start_time": "2023-12-02T20:22:04.825Z"
   },
   {
    "duration": 36,
    "start_time": "2023-12-02T20:22:04.997Z"
   },
   {
    "duration": 188,
    "start_time": "2023-12-02T20:22:05.034Z"
   },
   {
    "duration": 31,
    "start_time": "2023-12-02T20:22:05.223Z"
   },
   {
    "duration": 25,
    "start_time": "2023-12-02T20:22:05.256Z"
   },
   {
    "duration": 40,
    "start_time": "2023-12-02T20:22:05.282Z"
   },
   {
    "duration": 1561,
    "start_time": "2023-12-02T20:22:05.324Z"
   },
   {
    "duration": 3445,
    "start_time": "2023-12-02T20:22:06.886Z"
   },
   {
    "duration": 174,
    "start_time": "2023-12-02T20:22:10.333Z"
   },
   {
    "duration": 8,
    "start_time": "2023-12-02T20:22:10.508Z"
   },
   {
    "duration": 441,
    "start_time": "2023-12-02T20:22:10.518Z"
   },
   {
    "duration": 13,
    "start_time": "2023-12-02T20:22:10.961Z"
   },
   {
    "duration": 373,
    "start_time": "2023-12-02T20:22:10.976Z"
   },
   {
    "duration": 10,
    "start_time": "2023-12-02T20:22:11.350Z"
   },
   {
    "duration": 417,
    "start_time": "2023-12-02T20:22:11.362Z"
   },
   {
    "duration": 90,
    "start_time": "2023-12-02T20:22:51.623Z"
   },
   {
    "duration": 12,
    "start_time": "2023-12-02T20:23:04.685Z"
   },
   {
    "duration": 1061,
    "start_time": "2023-12-02T20:23:23.055Z"
   },
   {
    "duration": 2,
    "start_time": "2023-12-02T20:23:24.118Z"
   },
   {
    "duration": 132,
    "start_time": "2023-12-02T20:23:24.121Z"
   },
   {
    "duration": 16,
    "start_time": "2023-12-02T20:23:24.255Z"
   },
   {
    "duration": 13,
    "start_time": "2023-12-02T20:23:24.273Z"
   },
   {
    "duration": 12,
    "start_time": "2023-12-02T20:23:24.287Z"
   },
   {
    "duration": 7,
    "start_time": "2023-12-02T20:23:24.300Z"
   },
   {
    "duration": 8,
    "start_time": "2023-12-02T20:23:24.308Z"
   },
   {
    "duration": 5,
    "start_time": "2023-12-02T20:23:24.317Z"
   },
   {
    "duration": 7,
    "start_time": "2023-12-02T20:23:24.323Z"
   },
   {
    "duration": 8,
    "start_time": "2023-12-02T20:23:24.332Z"
   },
   {
    "duration": 7,
    "start_time": "2023-12-02T20:23:24.341Z"
   },
   {
    "duration": 8,
    "start_time": "2023-12-02T20:23:24.349Z"
   },
   {
    "duration": 66,
    "start_time": "2023-12-02T20:23:24.359Z"
   },
   {
    "duration": 150,
    "start_time": "2023-12-02T20:23:24.426Z"
   },
   {
    "duration": 221,
    "start_time": "2023-12-02T20:23:24.578Z"
   },
   {
    "duration": 230,
    "start_time": "2023-12-02T20:23:24.800Z"
   },
   {
    "duration": 5,
    "start_time": "2023-12-02T20:23:25.031Z"
   },
   {
    "duration": 16,
    "start_time": "2023-12-02T20:23:25.037Z"
   },
   {
    "duration": 176,
    "start_time": "2023-12-02T20:23:25.054Z"
   },
   {
    "duration": 5,
    "start_time": "2023-12-02T20:23:25.231Z"
   },
   {
    "duration": 186,
    "start_time": "2023-12-02T20:23:25.237Z"
   },
   {
    "duration": 5,
    "start_time": "2023-12-02T20:23:25.424Z"
   },
   {
    "duration": 20,
    "start_time": "2023-12-02T20:23:25.430Z"
   },
   {
    "duration": 16,
    "start_time": "2023-12-02T20:23:25.451Z"
   },
   {
    "duration": 13,
    "start_time": "2023-12-02T20:23:25.469Z"
   },
   {
    "duration": 43,
    "start_time": "2023-12-02T20:23:25.483Z"
   },
   {
    "duration": 170,
    "start_time": "2023-12-02T20:23:25.528Z"
   },
   {
    "duration": 35,
    "start_time": "2023-12-02T20:23:25.700Z"
   },
   {
    "duration": 187,
    "start_time": "2023-12-02T20:23:25.736Z"
   },
   {
    "duration": 29,
    "start_time": "2023-12-02T20:23:25.924Z"
   },
   {
    "duration": 24,
    "start_time": "2023-12-02T20:23:25.954Z"
   },
   {
    "duration": 39,
    "start_time": "2023-12-02T20:23:25.979Z"
   },
   {
    "duration": 1555,
    "start_time": "2023-12-02T20:23:26.020Z"
   },
   {
    "duration": 3334,
    "start_time": "2023-12-02T20:23:27.576Z"
   },
   {
    "duration": 154,
    "start_time": "2023-12-02T20:23:30.912Z"
   },
   {
    "duration": 4,
    "start_time": "2023-12-02T20:23:31.067Z"
   },
   {
    "duration": 369,
    "start_time": "2023-12-02T20:23:31.072Z"
   },
   {
    "duration": 9,
    "start_time": "2023-12-02T20:23:31.442Z"
   },
   {
    "duration": 339,
    "start_time": "2023-12-02T20:23:31.452Z"
   },
   {
    "duration": 7,
    "start_time": "2023-12-02T20:23:31.793Z"
   },
   {
    "duration": 18,
    "start_time": "2023-12-02T20:23:31.801Z"
   },
   {
    "duration": 199,
    "start_time": "2023-12-02T20:23:31.820Z"
   },
   {
    "duration": 15,
    "start_time": "2023-12-02T20:24:07.551Z"
   },
   {
    "duration": 21,
    "start_time": "2023-12-02T20:24:52.261Z"
   },
   {
    "duration": 196,
    "start_time": "2023-12-02T20:34:14.894Z"
   },
   {
    "duration": 196,
    "start_time": "2023-12-02T20:38:07.914Z"
   },
   {
    "duration": 199,
    "start_time": "2023-12-02T20:38:28.507Z"
   },
   {
    "duration": 214,
    "start_time": "2023-12-02T20:38:38.046Z"
   },
   {
    "duration": 215,
    "start_time": "2023-12-02T20:38:50.508Z"
   },
   {
    "duration": 222,
    "start_time": "2023-12-02T20:38:55.570Z"
   },
   {
    "duration": 208,
    "start_time": "2023-12-02T20:38:59.854Z"
   },
   {
    "duration": 219,
    "start_time": "2023-12-02T20:39:09.107Z"
   },
   {
    "duration": 217,
    "start_time": "2023-12-02T20:39:23.199Z"
   },
   {
    "duration": 266,
    "start_time": "2023-12-02T20:39:29.599Z"
   },
   {
    "duration": 222,
    "start_time": "2023-12-02T20:39:35.005Z"
   },
   {
    "duration": 195,
    "start_time": "2023-12-02T20:39:42.396Z"
   },
   {
    "duration": 233,
    "start_time": "2023-12-02T21:16:57.685Z"
   },
   {
    "duration": 62015,
    "start_time": "2023-12-02T21:17:03.943Z"
   },
   {
    "duration": 208,
    "start_time": "2023-12-02T21:18:17.755Z"
   },
   {
    "duration": 207,
    "start_time": "2023-12-02T21:24:12.692Z"
   },
   {
    "duration": 225,
    "start_time": "2023-12-02T21:29:51.048Z"
   },
   {
    "duration": 66,
    "start_time": "2023-12-02T21:30:23.534Z"
   },
   {
    "duration": 210,
    "start_time": "2023-12-02T21:32:09.411Z"
   },
   {
    "duration": 221,
    "start_time": "2023-12-02T21:32:31.107Z"
   },
   {
    "duration": 214,
    "start_time": "2023-12-02T21:33:37.056Z"
   },
   {
    "duration": 186,
    "start_time": "2023-12-02T21:35:55.168Z"
   },
   {
    "duration": 8,
    "start_time": "2023-12-02T21:39:16.385Z"
   },
   {
    "duration": 8,
    "start_time": "2023-12-02T21:40:00.856Z"
   },
   {
    "duration": 9,
    "start_time": "2023-12-02T21:41:24.154Z"
   },
   {
    "duration": 6,
    "start_time": "2023-12-02T21:43:50.327Z"
   },
   {
    "duration": 4,
    "start_time": "2023-12-02T21:44:19.061Z"
   },
   {
    "duration": 3,
    "start_time": "2023-12-02T22:02:42.978Z"
   },
   {
    "duration": 7,
    "start_time": "2023-12-03T09:45:11.540Z"
   },
   {
    "duration": 108,
    "start_time": "2023-12-03T09:45:27.293Z"
   },
   {
    "duration": 136,
    "start_time": "2023-12-03T09:48:20.282Z"
   },
   {
    "duration": 337,
    "start_time": "2023-12-03T09:48:27.438Z"
   },
   {
    "duration": 593,
    "start_time": "2023-12-03T09:48:39.483Z"
   },
   {
    "duration": 7012,
    "start_time": "2023-12-03T09:48:46.380Z"
   },
   {
    "duration": 3503,
    "start_time": "2023-12-03T09:49:31.981Z"
   },
   {
    "duration": 74,
    "start_time": "2023-12-03T09:49:42.823Z"
   },
   {
    "duration": 889,
    "start_time": "2023-12-03T09:49:55.383Z"
   },
   {
    "duration": 487,
    "start_time": "2023-12-03T09:50:26.609Z"
   },
   {
    "duration": 529,
    "start_time": "2023-12-03T09:50:50.802Z"
   },
   {
    "duration": 3542,
    "start_time": "2023-12-03T09:51:06.306Z"
   },
   {
    "duration": 2573,
    "start_time": "2023-12-03T09:53:46.907Z"
   },
   {
    "duration": 1104,
    "start_time": "2023-12-03T09:53:55.579Z"
   },
   {
    "duration": 1622,
    "start_time": "2023-12-03T09:55:37.880Z"
   },
   {
    "duration": 1104,
    "start_time": "2023-12-03T09:55:44.361Z"
   },
   {
    "duration": 1069,
    "start_time": "2023-12-03T09:56:44.535Z"
   },
   {
    "duration": 4303,
    "start_time": "2023-12-03T09:57:05.727Z"
   },
   {
    "duration": 1163,
    "start_time": "2023-12-03T09:57:31.688Z"
   },
   {
    "duration": 1132,
    "start_time": "2023-12-03T09:58:33.935Z"
   },
   {
    "duration": 1871,
    "start_time": "2023-12-03T09:58:40.776Z"
   },
   {
    "duration": 1091,
    "start_time": "2023-12-03T09:58:49.884Z"
   },
   {
    "duration": 1617,
    "start_time": "2023-12-03T09:59:07.573Z"
   },
   {
    "duration": 2404,
    "start_time": "2023-12-03T09:59:30.664Z"
   },
   {
    "duration": 1331,
    "start_time": "2023-12-03T10:00:02.069Z"
   },
   {
    "duration": 2114,
    "start_time": "2023-12-03T10:06:45.988Z"
   },
   {
    "duration": 1348,
    "start_time": "2023-12-03T10:06:56.319Z"
   },
   {
    "duration": 2229,
    "start_time": "2023-12-03T10:07:54.779Z"
   },
   {
    "duration": 1483,
    "start_time": "2023-12-03T10:08:06.877Z"
   },
   {
    "duration": 1450,
    "start_time": "2023-12-03T10:12:49.711Z"
   },
   {
    "duration": 2311,
    "start_time": "2023-12-03T10:13:36.733Z"
   },
   {
    "duration": 1435,
    "start_time": "2023-12-03T10:13:54.511Z"
   },
   {
    "duration": 1430,
    "start_time": "2023-12-03T10:14:03.791Z"
   },
   {
    "duration": 2260,
    "start_time": "2023-12-03T10:14:25.051Z"
   },
   {
    "duration": 1442,
    "start_time": "2023-12-03T10:14:37.175Z"
   },
   {
    "duration": 1383,
    "start_time": "2023-12-03T10:14:42.533Z"
   },
   {
    "duration": 2531,
    "start_time": "2023-12-03T10:14:59.828Z"
   },
   {
    "duration": 1546,
    "start_time": "2023-12-03T10:15:10.034Z"
   },
   {
    "duration": 2239,
    "start_time": "2023-12-03T10:16:31.494Z"
   },
   {
    "duration": 1443,
    "start_time": "2023-12-03T10:17:01.074Z"
   },
   {
    "duration": 29604,
    "start_time": "2023-12-03T10:19:13.029Z"
   },
   {
    "duration": 11,
    "start_time": "2023-12-03T10:19:44.221Z"
   },
   {
    "duration": 615,
    "start_time": "2023-12-03T10:19:56.648Z"
   },
   {
    "duration": 602,
    "start_time": "2023-12-03T10:20:08.249Z"
   },
   {
    "duration": 1188,
    "start_time": "2023-12-03T10:21:02.219Z"
   },
   {
    "duration": 1947,
    "start_time": "2023-12-03T10:21:27.356Z"
   },
   {
    "duration": 1180,
    "start_time": "2023-12-03T10:22:05.233Z"
   },
   {
    "duration": 1138,
    "start_time": "2023-12-03T10:22:15.157Z"
   },
   {
    "duration": 1953,
    "start_time": "2023-12-03T10:22:24.264Z"
   },
   {
    "duration": 1197,
    "start_time": "2023-12-03T10:22:39.194Z"
   },
   {
    "duration": 1170,
    "start_time": "2023-12-03T10:29:05.304Z"
   },
   {
    "duration": 941,
    "start_time": "2023-12-03T10:29:24.906Z"
   },
   {
    "duration": 3,
    "start_time": "2023-12-03T10:29:25.849Z"
   },
   {
    "duration": 138,
    "start_time": "2023-12-03T10:29:25.853Z"
   },
   {
    "duration": 18,
    "start_time": "2023-12-03T10:29:25.992Z"
   },
   {
    "duration": 13,
    "start_time": "2023-12-03T10:29:26.011Z"
   },
   {
    "duration": 12,
    "start_time": "2023-12-03T10:29:26.025Z"
   },
   {
    "duration": 7,
    "start_time": "2023-12-03T10:29:26.038Z"
   },
   {
    "duration": 7,
    "start_time": "2023-12-03T10:29:26.046Z"
   },
   {
    "duration": 5,
    "start_time": "2023-12-03T10:29:26.054Z"
   },
   {
    "duration": 7,
    "start_time": "2023-12-03T10:29:26.061Z"
   },
   {
    "duration": 9,
    "start_time": "2023-12-03T10:29:26.069Z"
   },
   {
    "duration": 41,
    "start_time": "2023-12-03T10:29:26.079Z"
   },
   {
    "duration": 9,
    "start_time": "2023-12-03T10:29:26.121Z"
   },
   {
    "duration": 15,
    "start_time": "2023-12-03T10:29:26.131Z"
   },
   {
    "duration": 168,
    "start_time": "2023-12-03T10:29:26.147Z"
   },
   {
    "duration": 221,
    "start_time": "2023-12-03T10:29:26.317Z"
   },
   {
    "duration": 218,
    "start_time": "2023-12-03T10:29:26.540Z"
   },
   {
    "duration": 5,
    "start_time": "2023-12-03T10:29:26.759Z"
   },
   {
    "duration": 9,
    "start_time": "2023-12-03T10:29:26.766Z"
   },
   {
    "duration": 175,
    "start_time": "2023-12-03T10:29:26.777Z"
   },
   {
    "duration": 4,
    "start_time": "2023-12-03T10:29:26.954Z"
   },
   {
    "duration": 174,
    "start_time": "2023-12-03T10:29:26.959Z"
   },
   {
    "duration": 4,
    "start_time": "2023-12-03T10:29:27.135Z"
   },
   {
    "duration": 19,
    "start_time": "2023-12-03T10:29:27.140Z"
   },
   {
    "duration": 18,
    "start_time": "2023-12-03T10:29:27.160Z"
   },
   {
    "duration": 38,
    "start_time": "2023-12-03T10:29:27.179Z"
   },
   {
    "duration": 11,
    "start_time": "2023-12-03T10:29:27.218Z"
   },
   {
    "duration": 177,
    "start_time": "2023-12-03T10:29:27.231Z"
   },
   {
    "duration": 33,
    "start_time": "2023-12-03T10:29:27.414Z"
   },
   {
    "duration": 187,
    "start_time": "2023-12-03T10:29:27.448Z"
   },
   {
    "duration": 29,
    "start_time": "2023-12-03T10:29:27.637Z"
   },
   {
    "duration": 23,
    "start_time": "2023-12-03T10:29:27.667Z"
   },
   {
    "duration": 29,
    "start_time": "2023-12-03T10:29:27.691Z"
   },
   {
    "duration": 1575,
    "start_time": "2023-12-03T10:29:27.721Z"
   },
   {
    "duration": 3340,
    "start_time": "2023-12-03T10:29:29.298Z"
   },
   {
    "duration": 143,
    "start_time": "2023-12-03T10:29:32.639Z"
   },
   {
    "duration": 4,
    "start_time": "2023-12-03T10:29:32.783Z"
   },
   {
    "duration": 365,
    "start_time": "2023-12-03T10:29:32.788Z"
   },
   {
    "duration": 9,
    "start_time": "2023-12-03T10:29:33.154Z"
   },
   {
    "duration": 327,
    "start_time": "2023-12-03T10:29:33.164Z"
   },
   {
    "duration": 7,
    "start_time": "2023-12-03T10:29:33.492Z"
   },
   {
    "duration": 194,
    "start_time": "2023-12-03T10:29:33.500Z"
   },
   {
    "duration": 7,
    "start_time": "2023-12-03T10:29:33.696Z"
   },
   {
    "duration": 4,
    "start_time": "2023-12-03T10:29:33.715Z"
   },
   {
    "duration": 4,
    "start_time": "2023-12-03T10:29:33.720Z"
   },
   {
    "duration": 1511,
    "start_time": "2023-12-03T10:29:33.725Z"
   },
   {
    "duration": 1280,
    "start_time": "2023-12-03T10:29:35.237Z"
   },
   {
    "duration": 920,
    "start_time": "2023-12-03T10:48:13.697Z"
   },
   {
    "duration": 2,
    "start_time": "2023-12-03T10:48:14.621Z"
   },
   {
    "duration": 143,
    "start_time": "2023-12-03T10:48:14.625Z"
   },
   {
    "duration": 19,
    "start_time": "2023-12-03T10:48:14.769Z"
   },
   {
    "duration": 15,
    "start_time": "2023-12-03T10:48:14.790Z"
   },
   {
    "duration": 15,
    "start_time": "2023-12-03T10:48:14.807Z"
   },
   {
    "duration": 9,
    "start_time": "2023-12-03T10:48:14.823Z"
   },
   {
    "duration": 6,
    "start_time": "2023-12-03T10:48:14.833Z"
   },
   {
    "duration": 11,
    "start_time": "2023-12-03T10:48:14.840Z"
   },
   {
    "duration": 7,
    "start_time": "2023-12-03T10:48:14.853Z"
   },
   {
    "duration": 10,
    "start_time": "2023-12-03T10:48:14.861Z"
   },
   {
    "duration": 7,
    "start_time": "2023-12-03T10:48:14.872Z"
   },
   {
    "duration": 40,
    "start_time": "2023-12-03T10:48:14.881Z"
   },
   {
    "duration": 16,
    "start_time": "2023-12-03T10:48:14.923Z"
   },
   {
    "duration": 165,
    "start_time": "2023-12-03T10:48:14.941Z"
   },
   {
    "duration": 219,
    "start_time": "2023-12-03T10:48:15.107Z"
   },
   {
    "duration": 222,
    "start_time": "2023-12-03T10:48:15.327Z"
   },
   {
    "duration": 4,
    "start_time": "2023-12-03T10:48:15.550Z"
   },
   {
    "duration": 8,
    "start_time": "2023-12-03T10:48:15.555Z"
   },
   {
    "duration": 177,
    "start_time": "2023-12-03T10:48:15.564Z"
   },
   {
    "duration": 4,
    "start_time": "2023-12-03T10:48:15.743Z"
   },
   {
    "duration": 186,
    "start_time": "2023-12-03T10:48:15.748Z"
   },
   {
    "duration": 5,
    "start_time": "2023-12-03T10:48:15.936Z"
   },
   {
    "duration": 21,
    "start_time": "2023-12-03T10:48:15.943Z"
   },
   {
    "duration": 16,
    "start_time": "2023-12-03T10:48:15.966Z"
   },
   {
    "duration": 41,
    "start_time": "2023-12-03T10:48:15.984Z"
   },
   {
    "duration": 12,
    "start_time": "2023-12-03T10:48:16.027Z"
   },
   {
    "duration": 187,
    "start_time": "2023-12-03T10:48:16.043Z"
   },
   {
    "duration": 31,
    "start_time": "2023-12-03T10:48:16.231Z"
   },
   {
    "duration": 195,
    "start_time": "2023-12-03T10:48:16.264Z"
   },
   {
    "duration": 30,
    "start_time": "2023-12-03T10:48:16.460Z"
   },
   {
    "duration": 40,
    "start_time": "2023-12-03T10:48:16.491Z"
   },
   {
    "duration": 10,
    "start_time": "2023-12-03T10:48:16.533Z"
   },
   {
    "duration": 1582,
    "start_time": "2023-12-03T10:48:16.545Z"
   },
   {
    "duration": 3363,
    "start_time": "2023-12-03T10:48:18.128Z"
   },
   {
    "duration": 145,
    "start_time": "2023-12-03T10:48:21.492Z"
   },
   {
    "duration": 4,
    "start_time": "2023-12-03T10:48:21.639Z"
   },
   {
    "duration": 385,
    "start_time": "2023-12-03T10:48:21.644Z"
   },
   {
    "duration": 11,
    "start_time": "2023-12-03T10:48:22.030Z"
   },
   {
    "duration": 305,
    "start_time": "2023-12-03T10:48:22.042Z"
   },
   {
    "duration": 7,
    "start_time": "2023-12-03T10:48:22.348Z"
   },
   {
    "duration": 191,
    "start_time": "2023-12-03T10:48:22.356Z"
   },
   {
    "duration": 7,
    "start_time": "2023-12-03T10:48:22.549Z"
   },
   {
    "duration": 4,
    "start_time": "2023-12-03T10:48:22.557Z"
   },
   {
    "duration": 2,
    "start_time": "2023-12-03T10:48:22.562Z"
   },
   {
    "duration": 1492,
    "start_time": "2023-12-03T10:48:22.565Z"
   },
   {
    "duration": 1259,
    "start_time": "2023-12-03T10:48:24.059Z"
   },
   {
    "duration": 52,
    "start_time": "2023-12-03T16:16:53.914Z"
   },
   {
    "duration": 1362,
    "start_time": "2023-12-03T16:21:48.212Z"
   },
   {
    "duration": 3,
    "start_time": "2023-12-03T16:21:49.576Z"
   },
   {
    "duration": 397,
    "start_time": "2023-12-03T16:21:49.581Z"
   },
   {
    "duration": 24,
    "start_time": "2023-12-03T16:21:49.980Z"
   },
   {
    "duration": 63,
    "start_time": "2023-12-03T16:21:50.006Z"
   },
   {
    "duration": 15,
    "start_time": "2023-12-03T16:21:50.070Z"
   },
   {
    "duration": 67,
    "start_time": "2023-12-03T16:21:50.087Z"
   },
   {
    "duration": 6,
    "start_time": "2023-12-03T16:21:50.155Z"
   },
   {
    "duration": 34,
    "start_time": "2023-12-03T16:21:50.163Z"
   },
   {
    "duration": 54,
    "start_time": "2023-12-03T16:21:50.199Z"
   },
   {
    "duration": 11,
    "start_time": "2023-12-03T16:21:50.254Z"
   },
   {
    "duration": 23,
    "start_time": "2023-12-03T16:21:50.266Z"
   },
   {
    "duration": 15,
    "start_time": "2023-12-03T16:21:50.290Z"
   },
   {
    "duration": 62,
    "start_time": "2023-12-03T16:21:50.306Z"
   },
   {
    "duration": 205,
    "start_time": "2023-12-03T16:21:50.369Z"
   },
   {
    "duration": 241,
    "start_time": "2023-12-03T16:21:50.575Z"
   },
   {
    "duration": 266,
    "start_time": "2023-12-03T16:21:50.817Z"
   },
   {
    "duration": 6,
    "start_time": "2023-12-03T16:21:51.085Z"
   },
   {
    "duration": 15,
    "start_time": "2023-12-03T16:21:51.092Z"
   },
   {
    "duration": 214,
    "start_time": "2023-12-03T16:21:51.108Z"
   },
   {
    "duration": 5,
    "start_time": "2023-12-03T16:21:51.324Z"
   },
   {
    "duration": 214,
    "start_time": "2023-12-03T16:21:51.330Z"
   },
   {
    "duration": 8,
    "start_time": "2023-12-03T16:21:51.552Z"
   },
   {
    "duration": 61,
    "start_time": "2023-12-03T16:21:51.561Z"
   },
   {
    "duration": 24,
    "start_time": "2023-12-03T16:21:51.624Z"
   },
   {
    "duration": 15,
    "start_time": "2023-12-03T16:21:51.650Z"
   },
   {
    "duration": 15,
    "start_time": "2023-12-03T16:21:51.667Z"
   },
   {
    "duration": 214,
    "start_time": "2023-12-03T16:21:51.686Z"
   },
   {
    "duration": 50,
    "start_time": "2023-12-03T16:21:51.902Z"
   },
   {
    "duration": 202,
    "start_time": "2023-12-03T16:21:51.953Z"
   },
   {
    "duration": 54,
    "start_time": "2023-12-03T16:21:52.157Z"
   },
   {
    "duration": 54,
    "start_time": "2023-12-03T16:21:52.213Z"
   },
   {
    "duration": 14,
    "start_time": "2023-12-03T16:21:52.269Z"
   },
   {
    "duration": 1791,
    "start_time": "2023-12-03T16:21:52.284Z"
   },
   {
    "duration": 4233,
    "start_time": "2023-12-03T16:21:54.077Z"
   },
   {
    "duration": 160,
    "start_time": "2023-12-03T16:21:58.312Z"
   },
   {
    "duration": 4,
    "start_time": "2023-12-03T16:21:58.474Z"
   },
   {
    "duration": 404,
    "start_time": "2023-12-03T16:21:58.480Z"
   },
   {
    "duration": 10,
    "start_time": "2023-12-03T16:21:58.886Z"
   },
   {
    "duration": 372,
    "start_time": "2023-12-03T16:21:58.897Z"
   },
   {
    "duration": 10,
    "start_time": "2023-12-03T16:21:59.271Z"
   },
   {
    "duration": 247,
    "start_time": "2023-12-03T16:21:59.283Z"
   },
   {
    "duration": 20,
    "start_time": "2023-12-03T16:21:59.532Z"
   },
   {
    "duration": 5,
    "start_time": "2023-12-03T16:21:59.553Z"
   },
   {
    "duration": 3,
    "start_time": "2023-12-03T16:21:59.560Z"
   },
   {
    "duration": 1906,
    "start_time": "2023-12-03T16:21:59.564Z"
   },
   {
    "duration": 1690,
    "start_time": "2023-12-03T16:22:01.472Z"
   },
   {
    "duration": 5,
    "start_time": "2023-12-03T16:22:03.166Z"
   },
   {
    "duration": 17,
    "start_time": "2023-12-03T16:22:13.527Z"
   },
   {
    "duration": 3,
    "start_time": "2023-12-03T18:40:16.737Z"
   },
   {
    "duration": 3,
    "start_time": "2023-12-03T18:42:18.556Z"
   },
   {
    "duration": 45,
    "start_time": "2023-12-03T18:44:31.545Z"
   },
   {
    "duration": 1200,
    "start_time": "2023-12-03T18:44:39.210Z"
   },
   {
    "duration": 3,
    "start_time": "2023-12-03T18:44:40.414Z"
   },
   {
    "duration": 406,
    "start_time": "2023-12-03T18:44:40.418Z"
   },
   {
    "duration": 22,
    "start_time": "2023-12-03T18:44:40.826Z"
   },
   {
    "duration": 17,
    "start_time": "2023-12-03T18:44:40.850Z"
   },
   {
    "duration": 15,
    "start_time": "2023-12-03T18:44:40.869Z"
   },
   {
    "duration": 32,
    "start_time": "2023-12-03T18:44:40.886Z"
   },
   {
    "duration": 10,
    "start_time": "2023-12-03T18:44:40.920Z"
   },
   {
    "duration": 10,
    "start_time": "2023-12-03T18:44:40.932Z"
   },
   {
    "duration": 14,
    "start_time": "2023-12-03T18:44:40.944Z"
   },
   {
    "duration": 13,
    "start_time": "2023-12-03T18:44:40.960Z"
   },
   {
    "duration": 46,
    "start_time": "2023-12-03T18:44:40.975Z"
   },
   {
    "duration": 12,
    "start_time": "2023-12-03T18:44:41.023Z"
   },
   {
    "duration": 19,
    "start_time": "2023-12-03T18:44:41.039Z"
   },
   {
    "duration": 207,
    "start_time": "2023-12-03T18:44:41.059Z"
   },
   {
    "duration": 261,
    "start_time": "2023-12-03T18:44:41.268Z"
   },
   {
    "duration": 280,
    "start_time": "2023-12-03T18:44:41.531Z"
   },
   {
    "duration": 4,
    "start_time": "2023-12-03T18:44:41.814Z"
   },
   {
    "duration": 8,
    "start_time": "2023-12-03T18:44:41.820Z"
   },
   {
    "duration": 18,
    "start_time": "2023-12-03T18:44:41.830Z"
   },
   {
    "duration": 5,
    "start_time": "2023-12-03T18:44:41.850Z"
   },
   {
    "duration": 28,
    "start_time": "2023-12-03T18:44:41.857Z"
   },
   {
    "duration": 30,
    "start_time": "2023-12-03T18:44:41.886Z"
   },
   {
    "duration": 13,
    "start_time": "2023-12-03T18:44:41.918Z"
   },
   {
    "duration": 14,
    "start_time": "2023-12-03T18:44:41.933Z"
   },
   {
    "duration": 13,
    "start_time": "2023-12-03T18:44:41.948Z"
   },
   {
    "duration": 235,
    "start_time": "2023-12-03T18:44:41.962Z"
   },
   {
    "duration": 41,
    "start_time": "2023-12-03T18:44:42.199Z"
   },
   {
    "duration": 223,
    "start_time": "2023-12-03T18:44:42.241Z"
   },
   {
    "duration": 50,
    "start_time": "2023-12-03T18:44:42.466Z"
   },
   {
    "duration": 31,
    "start_time": "2023-12-03T18:44:42.518Z"
   },
   {
    "duration": 13,
    "start_time": "2023-12-03T18:44:42.551Z"
   },
   {
    "duration": 1751,
    "start_time": "2023-12-03T18:44:42.566Z"
   },
   {
    "duration": 4204,
    "start_time": "2023-12-03T18:44:44.319Z"
   },
   {
    "duration": 173,
    "start_time": "2023-12-03T18:44:48.524Z"
   },
   {
    "duration": 5,
    "start_time": "2023-12-03T18:44:48.698Z"
   },
   {
    "duration": 552,
    "start_time": "2023-12-03T18:44:48.704Z"
   },
   {
    "duration": 11,
    "start_time": "2023-12-03T18:44:49.258Z"
   },
   {
    "duration": 375,
    "start_time": "2023-12-03T18:44:49.271Z"
   },
   {
    "duration": 9,
    "start_time": "2023-12-03T18:44:49.647Z"
   },
   {
    "duration": 233,
    "start_time": "2023-12-03T18:44:49.659Z"
   },
   {
    "duration": 25,
    "start_time": "2023-12-03T18:44:49.893Z"
   },
   {
    "duration": 16,
    "start_time": "2023-12-03T18:44:49.920Z"
   },
   {
    "duration": 8,
    "start_time": "2023-12-03T18:44:49.937Z"
   },
   {
    "duration": 1927,
    "start_time": "2023-12-03T18:44:49.947Z"
   },
   {
    "duration": 1616,
    "start_time": "2023-12-03T18:44:51.876Z"
   },
   {
    "duration": 14,
    "start_time": "2023-12-03T18:48:53.109Z"
   },
   {
    "duration": 104,
    "start_time": "2023-12-03T18:53:54.028Z"
   },
   {
    "duration": 222,
    "start_time": "2023-12-03T18:54:08.779Z"
   },
   {
    "duration": 52,
    "start_time": "2023-12-03T18:54:38.056Z"
   },
   {
    "duration": 711,
    "start_time": "2023-12-03T18:55:01.256Z"
   },
   {
    "duration": 596,
    "start_time": "2023-12-03T18:55:23.134Z"
   },
   {
    "duration": 670,
    "start_time": "2023-12-03T18:55:57.794Z"
   },
   {
    "duration": 655,
    "start_time": "2023-12-03T18:56:43.244Z"
   },
   {
    "duration": 859,
    "start_time": "2023-12-03T18:58:00.438Z"
   },
   {
    "duration": 416,
    "start_time": "2023-12-03T18:58:12.704Z"
   },
   {
    "duration": 603,
    "start_time": "2023-12-03T18:59:50.703Z"
   },
   {
    "duration": 630,
    "start_time": "2023-12-03T19:01:19.057Z"
   },
   {
    "duration": 754,
    "start_time": "2023-12-03T19:02:01.732Z"
   },
   {
    "duration": 223,
    "start_time": "2023-12-03T19:27:40.931Z"
   },
   {
    "duration": 635,
    "start_time": "2023-12-03T19:29:55.822Z"
   },
   {
    "duration": 640,
    "start_time": "2023-12-03T19:30:47.404Z"
   },
   {
    "duration": 644,
    "start_time": "2023-12-03T19:31:09.088Z"
   },
   {
    "duration": 440,
    "start_time": "2023-12-03T19:32:08.019Z"
   },
   {
    "duration": 292,
    "start_time": "2023-12-03T19:33:13.771Z"
   },
   {
    "duration": 443,
    "start_time": "2023-12-03T19:35:00.498Z"
   },
   {
    "duration": 405,
    "start_time": "2023-12-03T19:36:05.785Z"
   },
   {
    "duration": 424,
    "start_time": "2023-12-03T19:37:09.191Z"
   },
   {
    "duration": 581,
    "start_time": "2023-12-03T19:37:28.708Z"
   },
   {
    "duration": 447,
    "start_time": "2023-12-03T19:53:24.436Z"
   },
   {
    "duration": 47,
    "start_time": "2023-12-04T11:18:43.044Z"
   },
   {
    "duration": 1294,
    "start_time": "2023-12-04T11:18:47.764Z"
   },
   {
    "duration": 3,
    "start_time": "2023-12-04T11:18:49.060Z"
   },
   {
    "duration": 309,
    "start_time": "2023-12-04T11:18:49.064Z"
   },
   {
    "duration": 22,
    "start_time": "2023-12-04T11:18:49.375Z"
   },
   {
    "duration": 33,
    "start_time": "2023-12-04T11:18:49.398Z"
   },
   {
    "duration": 20,
    "start_time": "2023-12-04T11:18:49.433Z"
   },
   {
    "duration": 22,
    "start_time": "2023-12-04T11:18:49.454Z"
   },
   {
    "duration": 11,
    "start_time": "2023-12-04T11:18:49.478Z"
   },
   {
    "duration": 9,
    "start_time": "2023-12-04T11:18:49.490Z"
   },
   {
    "duration": 14,
    "start_time": "2023-12-04T11:18:49.502Z"
   },
   {
    "duration": 14,
    "start_time": "2023-12-04T11:18:49.518Z"
   },
   {
    "duration": 33,
    "start_time": "2023-12-04T11:18:49.533Z"
   },
   {
    "duration": 29,
    "start_time": "2023-12-04T11:18:49.567Z"
   },
   {
    "duration": 37,
    "start_time": "2023-12-04T11:18:49.597Z"
   },
   {
    "duration": 204,
    "start_time": "2023-12-04T11:18:49.636Z"
   },
   {
    "duration": 261,
    "start_time": "2023-12-04T11:18:49.841Z"
   },
   {
    "duration": 294,
    "start_time": "2023-12-04T11:18:50.103Z"
   },
   {
    "duration": 4,
    "start_time": "2023-12-04T11:18:50.399Z"
   },
   {
    "duration": 15,
    "start_time": "2023-12-04T11:18:50.405Z"
   },
   {
    "duration": 699,
    "start_time": "2023-12-04T11:18:50.422Z"
   },
   {
    "duration": 668,
    "start_time": "2023-12-04T11:18:51.123Z"
   },
   {
    "duration": 24,
    "start_time": "2023-12-04T11:18:51.792Z"
   },
   {
    "duration": 19,
    "start_time": "2023-12-04T11:18:51.817Z"
   },
   {
    "duration": 123,
    "start_time": "2023-12-04T11:18:51.837Z"
   },
   {
    "duration": 30,
    "start_time": "2023-12-04T11:18:51.961Z"
   },
   {
    "duration": 14,
    "start_time": "2023-12-04T11:18:51.992Z"
   },
   {
    "duration": 208,
    "start_time": "2023-12-04T11:18:52.008Z"
   },
   {
    "duration": 54,
    "start_time": "2023-12-04T11:18:52.219Z"
   },
   {
    "duration": 231,
    "start_time": "2023-12-04T11:18:52.275Z"
   },
   {
    "duration": 52,
    "start_time": "2023-12-04T11:18:52.507Z"
   },
   {
    "duration": 457,
    "start_time": "2023-12-04T11:18:52.561Z"
   },
   {
    "duration": 442,
    "start_time": "2023-12-04T11:18:53.020Z"
   },
   {
    "duration": 7,
    "start_time": "2023-12-04T11:18:53.464Z"
   },
   {
    "duration": 68,
    "start_time": "2023-12-04T11:18:53.472Z"
   },
   {
    "duration": 13,
    "start_time": "2023-12-04T11:18:53.542Z"
   },
   {
    "duration": 4307,
    "start_time": "2023-12-04T11:18:53.556Z"
   },
   {
    "duration": 173,
    "start_time": "2023-12-04T11:18:57.865Z"
   },
   {
    "duration": 4,
    "start_time": "2023-12-04T11:18:58.040Z"
   },
   {
    "duration": 398,
    "start_time": "2023-12-04T11:18:58.046Z"
   },
   {
    "duration": 15,
    "start_time": "2023-12-04T11:18:58.446Z"
   },
   {
    "duration": 427,
    "start_time": "2023-12-04T11:18:58.463Z"
   },
   {
    "duration": 11,
    "start_time": "2023-12-04T11:18:58.892Z"
   },
   {
    "duration": 244,
    "start_time": "2023-12-04T11:18:58.905Z"
   },
   {
    "duration": 12,
    "start_time": "2023-12-04T11:18:59.159Z"
   },
   {
    "duration": 5,
    "start_time": "2023-12-04T11:18:59.173Z"
   },
   {
    "duration": 25,
    "start_time": "2023-12-04T11:18:59.180Z"
   },
   {
    "duration": 1986,
    "start_time": "2023-12-04T11:18:59.207Z"
   },
   {
    "duration": 1738,
    "start_time": "2023-12-04T11:19:01.195Z"
   },
   {
    "duration": 5,
    "start_time": "2023-12-04T11:19:03.832Z"
   },
   {
    "duration": 99,
    "start_time": "2023-12-04T11:20:09.719Z"
   },
   {
    "duration": 7,
    "start_time": "2023-12-04T11:21:41.363Z"
   },
   {
    "duration": 6,
    "start_time": "2023-12-04T11:21:58.849Z"
   },
   {
    "duration": 5,
    "start_time": "2023-12-04T11:22:11.740Z"
   },
   {
    "duration": 6,
    "start_time": "2023-12-04T11:22:26.378Z"
   },
   {
    "duration": 6,
    "start_time": "2023-12-04T11:23:22.590Z"
   },
   {
    "duration": 6,
    "start_time": "2023-12-04T11:23:39.378Z"
   },
   {
    "duration": 9,
    "start_time": "2023-12-04T11:25:04.872Z"
   },
   {
    "duration": 5,
    "start_time": "2023-12-04T11:25:37.596Z"
   },
   {
    "duration": 4,
    "start_time": "2023-12-04T11:25:49.998Z"
   },
   {
    "duration": 16,
    "start_time": "2023-12-04T11:26:02.368Z"
   },
   {
    "duration": 16,
    "start_time": "2023-12-04T11:26:27.096Z"
   },
   {
    "duration": 33,
    "start_time": "2023-12-04T11:26:45.066Z"
   },
   {
    "duration": 34,
    "start_time": "2023-12-04T11:27:59.900Z"
   },
   {
    "duration": 36,
    "start_time": "2023-12-04T11:28:56.967Z"
   },
   {
    "duration": 20,
    "start_time": "2023-12-04T11:29:52.258Z"
   },
   {
    "duration": 13,
    "start_time": "2023-12-04T11:30:25.547Z"
   },
   {
    "duration": 4384,
    "start_time": "2023-12-04T11:30:41.926Z"
   },
   {
    "duration": 171,
    "start_time": "2023-12-04T11:32:58.103Z"
   },
   {
    "duration": 5,
    "start_time": "2023-12-04T11:33:06.799Z"
   },
   {
    "duration": 12,
    "start_time": "2023-12-04T11:33:54.895Z"
   },
   {
    "duration": 189,
    "start_time": "2023-12-04T11:34:36.558Z"
   },
   {
    "duration": 220,
    "start_time": "2023-12-04T12:07:49.501Z"
   },
   {
    "duration": 1126,
    "start_time": "2023-12-04T12:07:59.803Z"
   },
   {
    "duration": 3,
    "start_time": "2023-12-04T12:08:00.931Z"
   },
   {
    "duration": 198,
    "start_time": "2023-12-04T12:08:00.936Z"
   },
   {
    "duration": 25,
    "start_time": "2023-12-04T12:08:01.137Z"
   },
   {
    "duration": 47,
    "start_time": "2023-12-04T12:08:01.164Z"
   },
   {
    "duration": 35,
    "start_time": "2023-12-04T12:08:01.213Z"
   },
   {
    "duration": 20,
    "start_time": "2023-12-04T12:08:01.250Z"
   },
   {
    "duration": 32,
    "start_time": "2023-12-04T12:08:01.272Z"
   },
   {
    "duration": 31,
    "start_time": "2023-12-04T12:08:01.306Z"
   },
   {
    "duration": 40,
    "start_time": "2023-12-04T12:08:01.339Z"
   },
   {
    "duration": 49,
    "start_time": "2023-12-04T12:08:01.380Z"
   },
   {
    "duration": 52,
    "start_time": "2023-12-04T12:08:01.430Z"
   },
   {
    "duration": 39,
    "start_time": "2023-12-04T12:08:01.483Z"
   },
   {
    "duration": 25,
    "start_time": "2023-12-04T12:08:01.524Z"
   },
   {
    "duration": 213,
    "start_time": "2023-12-04T12:08:01.550Z"
   },
   {
    "duration": 284,
    "start_time": "2023-12-04T12:08:01.765Z"
   },
   {
    "duration": 335,
    "start_time": "2023-12-04T12:08:02.051Z"
   },
   {
    "duration": 5,
    "start_time": "2023-12-04T12:08:02.388Z"
   },
   {
    "duration": 33,
    "start_time": "2023-12-04T12:08:02.395Z"
   },
   {
    "duration": 688,
    "start_time": "2023-12-04T12:08:02.430Z"
   },
   {
    "duration": 713,
    "start_time": "2023-12-04T12:08:03.120Z"
   },
   {
    "duration": 38,
    "start_time": "2023-12-04T12:08:03.835Z"
   },
   {
    "duration": 19,
    "start_time": "2023-12-04T12:08:03.874Z"
   },
   {
    "duration": 116,
    "start_time": "2023-12-04T12:08:03.895Z"
   },
   {
    "duration": 14,
    "start_time": "2023-12-04T12:08:04.013Z"
   },
   {
    "duration": 75,
    "start_time": "2023-12-04T12:08:04.029Z"
   },
   {
    "duration": 203,
    "start_time": "2023-12-04T12:08:04.106Z"
   },
   {
    "duration": 50,
    "start_time": "2023-12-04T12:08:04.312Z"
   },
   {
    "duration": 237,
    "start_time": "2023-12-04T12:08:04.363Z"
   },
   {
    "duration": 38,
    "start_time": "2023-12-04T12:08:04.602Z"
   },
   {
    "duration": 494,
    "start_time": "2023-12-04T12:08:04.658Z"
   },
   {
    "duration": 504,
    "start_time": "2023-12-04T12:08:05.154Z"
   },
   {
    "duration": 24,
    "start_time": "2023-12-04T12:08:05.660Z"
   },
   {
    "duration": 43,
    "start_time": "2023-12-04T12:08:05.685Z"
   },
   {
    "duration": 13,
    "start_time": "2023-12-04T12:08:05.729Z"
   },
   {
    "duration": 4512,
    "start_time": "2023-12-04T12:08:05.759Z"
   },
   {
    "duration": 192,
    "start_time": "2023-12-04T12:08:10.273Z"
   },
   {
    "duration": 5,
    "start_time": "2023-12-04T12:08:10.466Z"
   },
   {
    "duration": 457,
    "start_time": "2023-12-04T12:08:10.473Z"
   },
   {
    "duration": 11,
    "start_time": "2023-12-04T12:08:10.932Z"
   },
   {
    "duration": 464,
    "start_time": "2023-12-04T12:08:10.945Z"
   },
   {
    "duration": 9,
    "start_time": "2023-12-04T12:08:11.411Z"
   },
   {
    "duration": 244,
    "start_time": "2023-12-04T12:08:11.422Z"
   },
   {
    "duration": 12,
    "start_time": "2023-12-04T12:08:11.668Z"
   },
   {
    "duration": 6,
    "start_time": "2023-12-04T12:08:11.682Z"
   },
   {
    "duration": 3,
    "start_time": "2023-12-04T12:08:11.689Z"
   },
   {
    "duration": 2118,
    "start_time": "2023-12-04T12:08:11.694Z"
   },
   {
    "duration": 1764,
    "start_time": "2023-12-04T12:08:13.814Z"
   },
   {
    "duration": 297,
    "start_time": "2023-12-04T12:17:27.091Z"
   },
   {
    "duration": 243,
    "start_time": "2023-12-04T12:17:41.498Z"
   },
   {
    "duration": 0,
    "start_time": "2023-12-04T12:26:56.364Z"
   },
   {
    "duration": 0,
    "start_time": "2023-12-04T12:26:56.367Z"
   },
   {
    "duration": 1069,
    "start_time": "2023-12-04T12:27:01.161Z"
   },
   {
    "duration": 3,
    "start_time": "2023-12-04T12:27:02.232Z"
   },
   {
    "duration": 212,
    "start_time": "2023-12-04T12:27:02.237Z"
   },
   {
    "duration": 23,
    "start_time": "2023-12-04T12:27:02.451Z"
   },
   {
    "duration": 33,
    "start_time": "2023-12-04T12:27:02.476Z"
   },
   {
    "duration": 42,
    "start_time": "2023-12-04T12:27:02.511Z"
   },
   {
    "duration": 26,
    "start_time": "2023-12-04T12:27:02.554Z"
   },
   {
    "duration": 24,
    "start_time": "2023-12-04T12:27:02.582Z"
   },
   {
    "duration": 25,
    "start_time": "2023-12-04T12:27:02.608Z"
   },
   {
    "duration": 41,
    "start_time": "2023-12-04T12:27:02.636Z"
   },
   {
    "duration": 21,
    "start_time": "2023-12-04T12:27:02.678Z"
   },
   {
    "duration": 12,
    "start_time": "2023-12-04T12:27:02.701Z"
   },
   {
    "duration": 31,
    "start_time": "2023-12-04T12:27:02.714Z"
   },
   {
    "duration": 29,
    "start_time": "2023-12-04T12:27:02.746Z"
   },
   {
    "duration": 183,
    "start_time": "2023-12-04T12:27:02.777Z"
   },
   {
    "duration": 280,
    "start_time": "2023-12-04T12:27:02.961Z"
   },
   {
    "duration": 293,
    "start_time": "2023-12-04T12:27:03.243Z"
   },
   {
    "duration": 5,
    "start_time": "2023-12-04T12:27:03.538Z"
   },
   {
    "duration": 28,
    "start_time": "2023-12-04T12:27:03.544Z"
   },
   {
    "duration": 674,
    "start_time": "2023-12-04T12:27:03.574Z"
   },
   {
    "duration": 689,
    "start_time": "2023-12-04T12:27:04.249Z"
   },
   {
    "duration": 35,
    "start_time": "2023-12-04T12:27:04.940Z"
   },
   {
    "duration": 21,
    "start_time": "2023-12-04T12:27:04.976Z"
   },
   {
    "duration": 116,
    "start_time": "2023-12-04T12:27:04.998Z"
   },
   {
    "duration": 15,
    "start_time": "2023-12-04T12:27:05.116Z"
   },
   {
    "duration": 28,
    "start_time": "2023-12-04T12:27:05.132Z"
   },
   {
    "duration": 212,
    "start_time": "2023-12-04T12:27:05.162Z"
   },
   {
    "duration": 42,
    "start_time": "2023-12-04T12:27:05.378Z"
   },
   {
    "duration": 240,
    "start_time": "2023-12-04T12:27:05.421Z"
   },
   {
    "duration": 38,
    "start_time": "2023-12-04T12:27:05.663Z"
   },
   {
    "duration": 441,
    "start_time": "2023-12-04T12:27:05.703Z"
   },
   {
    "duration": 464,
    "start_time": "2023-12-04T12:27:06.145Z"
   },
   {
    "duration": 24,
    "start_time": "2023-12-04T12:27:06.611Z"
   },
   {
    "duration": 49,
    "start_time": "2023-12-04T12:27:06.637Z"
   },
   {
    "duration": 12,
    "start_time": "2023-12-04T12:27:06.688Z"
   },
   {
    "duration": 4407,
    "start_time": "2023-12-04T12:27:06.702Z"
   },
   {
    "duration": 185,
    "start_time": "2023-12-04T12:27:11.111Z"
   },
   {
    "duration": 4,
    "start_time": "2023-12-04T12:27:11.297Z"
   },
   {
    "duration": 416,
    "start_time": "2023-12-04T12:27:11.303Z"
   },
   {
    "duration": 11,
    "start_time": "2023-12-04T12:27:11.721Z"
   },
   {
    "duration": 440,
    "start_time": "2023-12-04T12:27:11.733Z"
   },
   {
    "duration": 8,
    "start_time": "2023-12-04T12:27:12.176Z"
   },
   {
    "duration": 249,
    "start_time": "2023-12-04T12:27:12.186Z"
   },
   {
    "duration": 24,
    "start_time": "2023-12-04T12:27:12.437Z"
   },
   {
    "duration": 5,
    "start_time": "2023-12-04T12:27:12.463Z"
   },
   {
    "duration": 27,
    "start_time": "2023-12-04T12:27:12.470Z"
   },
   {
    "duration": 2013,
    "start_time": "2023-12-04T12:27:12.499Z"
   },
   {
    "duration": 14591,
    "start_time": "2023-12-04T12:27:14.513Z"
   },
   {
    "duration": 4,
    "start_time": "2023-12-04T12:27:29.106Z"
   },
   {
    "duration": 4,
    "start_time": "2023-12-04T12:27:45.712Z"
   },
   {
    "duration": 5,
    "start_time": "2023-12-04T12:28:07.659Z"
   },
   {
    "duration": 5,
    "start_time": "2023-12-04T12:28:41.690Z"
   },
   {
    "duration": 403,
    "start_time": "2023-12-04T12:28:58.771Z"
   },
   {
    "duration": 1328,
    "start_time": "2023-12-04T12:29:05.696Z"
   },
   {
    "duration": 266,
    "start_time": "2023-12-04T12:29:20.968Z"
   },
   {
    "duration": 1592,
    "start_time": "2023-12-04T12:29:34.254Z"
   },
   {
    "duration": 1700,
    "start_time": "2023-12-04T12:29:50.494Z"
   },
   {
    "duration": 5,
    "start_time": "2023-12-04T12:30:26.719Z"
   },
   {
    "duration": 5,
    "start_time": "2023-12-04T12:30:55.498Z"
   },
   {
    "duration": 3,
    "start_time": "2023-12-04T12:31:44.539Z"
   },
   {
    "duration": 4,
    "start_time": "2023-12-04T12:33:47.768Z"
   },
   {
    "duration": 2081,
    "start_time": "2023-12-04T12:35:59.100Z"
   },
   {
    "duration": 2180,
    "start_time": "2023-12-04T12:36:10.073Z"
   },
   {
    "duration": 2052,
    "start_time": "2023-12-04T12:36:18.094Z"
   },
   {
    "duration": 2180,
    "start_time": "2023-12-04T12:36:25.565Z"
   },
   {
    "duration": 2111,
    "start_time": "2023-12-04T12:36:38.627Z"
   },
   {
    "duration": 2129,
    "start_time": "2023-12-04T12:36:49.439Z"
   },
   {
    "duration": 2136,
    "start_time": "2023-12-04T12:36:56.532Z"
   },
   {
    "duration": 2071,
    "start_time": "2023-12-04T12:37:09.045Z"
   },
   {
    "duration": 2221,
    "start_time": "2023-12-04T12:37:18.471Z"
   },
   {
    "duration": 2102,
    "start_time": "2023-12-04T12:37:26.160Z"
   },
   {
    "duration": 2097,
    "start_time": "2023-12-04T12:37:35.293Z"
   },
   {
    "duration": 2211,
    "start_time": "2023-12-04T12:37:44.251Z"
   },
   {
    "duration": 2145,
    "start_time": "2023-12-04T12:37:51.892Z"
   },
   {
    "duration": 2066,
    "start_time": "2023-12-04T12:37:58.887Z"
   },
   {
    "duration": 1910,
    "start_time": "2023-12-04T12:38:08.869Z"
   },
   {
    "duration": 2041,
    "start_time": "2023-12-04T12:40:16.043Z"
   },
   {
    "duration": 1932,
    "start_time": "2023-12-04T12:40:47.869Z"
   },
   {
    "duration": 5,
    "start_time": "2023-12-04T12:45:22.152Z"
   },
   {
    "duration": 183,
    "start_time": "2023-12-04T12:51:06.466Z"
   },
   {
    "duration": 10334,
    "start_time": "2023-12-04T12:52:13.770Z"
   },
   {
    "duration": 10494,
    "start_time": "2023-12-04T12:53:15.727Z"
   },
   {
    "duration": 10294,
    "start_time": "2023-12-04T12:53:41.307Z"
   },
   {
    "duration": 10460,
    "start_time": "2023-12-04T12:54:08.904Z"
   },
   {
    "duration": 175103,
    "start_time": "2023-12-04T12:54:37.442Z"
   },
   {
    "duration": 10692,
    "start_time": "2023-12-04T12:57:34.552Z"
   },
   {
    "duration": 106224,
    "start_time": "2023-12-04T12:57:46.016Z"
   },
   {
    "duration": 1108,
    "start_time": "2023-12-04T13:01:09.487Z"
   },
   {
    "duration": 1107,
    "start_time": "2023-12-04T13:02:14.786Z"
   },
   {
    "duration": 1104,
    "start_time": "2023-12-04T13:09:17.750Z"
   },
   {
    "duration": 3,
    "start_time": "2023-12-04T13:09:18.856Z"
   },
   {
    "duration": 278,
    "start_time": "2023-12-04T13:09:18.860Z"
   },
   {
    "duration": 23,
    "start_time": "2023-12-04T13:09:19.140Z"
   },
   {
    "duration": 16,
    "start_time": "2023-12-04T13:09:19.165Z"
   },
   {
    "duration": 14,
    "start_time": "2023-12-04T13:09:19.183Z"
   },
   {
    "duration": 11,
    "start_time": "2023-12-04T13:09:19.198Z"
   },
   {
    "duration": 6,
    "start_time": "2023-12-04T13:09:19.210Z"
   },
   {
    "duration": 43,
    "start_time": "2023-12-04T13:09:19.217Z"
   },
   {
    "duration": 10,
    "start_time": "2023-12-04T13:09:19.264Z"
   },
   {
    "duration": 12,
    "start_time": "2023-12-04T13:09:19.276Z"
   },
   {
    "duration": 10,
    "start_time": "2023-12-04T13:09:19.289Z"
   },
   {
    "duration": 14,
    "start_time": "2023-12-04T13:09:19.300Z"
   },
   {
    "duration": 52,
    "start_time": "2023-12-04T13:09:19.315Z"
   },
   {
    "duration": 189,
    "start_time": "2023-12-04T13:09:19.369Z"
   },
   {
    "duration": 274,
    "start_time": "2023-12-04T13:09:19.560Z"
   },
   {
    "duration": 291,
    "start_time": "2023-12-04T13:09:19.836Z"
   },
   {
    "duration": 5,
    "start_time": "2023-12-04T13:09:20.129Z"
   },
   {
    "duration": 92,
    "start_time": "2023-12-04T13:09:20.136Z"
   },
   {
    "duration": 696,
    "start_time": "2023-12-04T13:09:20.230Z"
   },
   {
    "duration": 753,
    "start_time": "2023-12-04T13:09:20.958Z"
   },
   {
    "duration": 23,
    "start_time": "2023-12-04T13:09:21.712Z"
   },
   {
    "duration": 34,
    "start_time": "2023-12-04T13:09:21.736Z"
   },
   {
    "duration": 102,
    "start_time": "2023-12-04T13:09:21.771Z"
   },
   {
    "duration": 15,
    "start_time": "2023-12-04T13:09:21.875Z"
   },
   {
    "duration": 13,
    "start_time": "2023-12-04T13:09:21.892Z"
   },
   {
    "duration": 216,
    "start_time": "2023-12-04T13:09:21.907Z"
   },
   {
    "duration": 41,
    "start_time": "2023-12-04T13:09:22.126Z"
   },
   {
    "duration": 227,
    "start_time": "2023-12-04T13:09:22.169Z"
   },
   {
    "duration": 35,
    "start_time": "2023-12-04T13:09:22.397Z"
   },
   {
    "duration": 427,
    "start_time": "2023-12-04T13:09:22.434Z"
   },
   {
    "duration": 474,
    "start_time": "2023-12-04T13:09:22.862Z"
   },
   {
    "duration": 32,
    "start_time": "2023-12-04T13:09:23.338Z"
   },
   {
    "duration": 31,
    "start_time": "2023-12-04T13:09:23.372Z"
   },
   {
    "duration": 13,
    "start_time": "2023-12-04T13:09:23.404Z"
   },
   {
    "duration": 4276,
    "start_time": "2023-12-04T13:09:23.419Z"
   },
   {
    "duration": 176,
    "start_time": "2023-12-04T13:09:27.697Z"
   },
   {
    "duration": 4,
    "start_time": "2023-12-04T13:09:27.874Z"
   },
   {
    "duration": 430,
    "start_time": "2023-12-04T13:09:27.880Z"
   },
   {
    "duration": 11,
    "start_time": "2023-12-04T13:09:28.312Z"
   },
   {
    "duration": 440,
    "start_time": "2023-12-04T13:09:28.325Z"
   },
   {
    "duration": 8,
    "start_time": "2023-12-04T13:09:28.766Z"
   },
   {
    "duration": 237,
    "start_time": "2023-12-04T13:09:28.776Z"
   },
   {
    "duration": 9,
    "start_time": "2023-12-04T13:09:29.014Z"
   },
   {
    "duration": 8,
    "start_time": "2023-12-04T13:09:29.025Z"
   },
   {
    "duration": 9,
    "start_time": "2023-12-04T13:09:29.034Z"
   },
   {
    "duration": 1810,
    "start_time": "2023-12-04T13:09:29.044Z"
   },
   {
    "duration": 2,
    "start_time": "2023-12-04T13:09:30.859Z"
   },
   {
    "duration": 69,
    "start_time": "2023-12-04T13:09:30.862Z"
   },
   {
    "duration": 39,
    "start_time": "2023-12-04T13:09:30.932Z"
   },
   {
    "duration": 1727,
    "start_time": "2023-12-04T13:16:43.336Z"
   },
   {
    "duration": 442,
    "start_time": "2023-12-04T13:17:04.443Z"
   },
   {
    "duration": 107335,
    "start_time": "2023-12-04T13:17:10.478Z"
   },
   {
    "duration": 3,
    "start_time": "2023-12-04T13:20:52.629Z"
   },
   {
    "duration": 1057,
    "start_time": "2023-12-04T13:21:04.044Z"
   },
   {
    "duration": 2,
    "start_time": "2023-12-04T13:21:05.103Z"
   },
   {
    "duration": 305,
    "start_time": "2023-12-04T13:21:05.107Z"
   },
   {
    "duration": 22,
    "start_time": "2023-12-04T13:21:05.414Z"
   },
   {
    "duration": 30,
    "start_time": "2023-12-04T13:21:05.438Z"
   },
   {
    "duration": 20,
    "start_time": "2023-12-04T13:21:05.470Z"
   },
   {
    "duration": 17,
    "start_time": "2023-12-04T13:21:05.492Z"
   },
   {
    "duration": 12,
    "start_time": "2023-12-04T13:21:05.510Z"
   },
   {
    "duration": 23,
    "start_time": "2023-12-04T13:21:05.524Z"
   },
   {
    "duration": 22,
    "start_time": "2023-12-04T13:21:05.549Z"
   },
   {
    "duration": 40,
    "start_time": "2023-12-04T13:21:05.573Z"
   },
   {
    "duration": 15,
    "start_time": "2023-12-04T13:21:05.614Z"
   },
   {
    "duration": 41,
    "start_time": "2023-12-04T13:21:05.630Z"
   },
   {
    "duration": 54,
    "start_time": "2023-12-04T13:21:05.672Z"
   },
   {
    "duration": 227,
    "start_time": "2023-12-04T13:21:05.727Z"
   },
   {
    "duration": 260,
    "start_time": "2023-12-04T13:21:05.958Z"
   },
   {
    "duration": 282,
    "start_time": "2023-12-04T13:21:06.219Z"
   },
   {
    "duration": 5,
    "start_time": "2023-12-04T13:21:06.503Z"
   },
   {
    "duration": 14,
    "start_time": "2023-12-04T13:21:06.510Z"
   },
   {
    "duration": 689,
    "start_time": "2023-12-04T13:21:06.525Z"
   },
   {
    "duration": 668,
    "start_time": "2023-12-04T13:21:07.216Z"
   },
   {
    "duration": 24,
    "start_time": "2023-12-04T13:21:07.886Z"
   },
   {
    "duration": 19,
    "start_time": "2023-12-04T13:21:07.911Z"
   },
   {
    "duration": 116,
    "start_time": "2023-12-04T13:21:07.931Z"
   },
   {
    "duration": 20,
    "start_time": "2023-12-04T13:21:08.048Z"
   },
   {
    "duration": 13,
    "start_time": "2023-12-04T13:21:08.069Z"
   },
   {
    "duration": 200,
    "start_time": "2023-12-04T13:21:08.084Z"
   },
   {
    "duration": 37,
    "start_time": "2023-12-04T13:21:08.288Z"
   },
   {
    "duration": 235,
    "start_time": "2023-12-04T13:21:08.326Z"
   },
   {
    "duration": 39,
    "start_time": "2023-12-04T13:21:08.562Z"
   },
   {
    "duration": 432,
    "start_time": "2023-12-04T13:21:08.603Z"
   },
   {
    "duration": 458,
    "start_time": "2023-12-04T13:21:09.037Z"
   },
   {
    "duration": 23,
    "start_time": "2023-12-04T13:21:09.497Z"
   },
   {
    "duration": 48,
    "start_time": "2023-12-04T13:21:09.522Z"
   },
   {
    "duration": 13,
    "start_time": "2023-12-04T13:21:09.572Z"
   },
   {
    "duration": 4302,
    "start_time": "2023-12-04T13:21:09.586Z"
   },
   {
    "duration": 187,
    "start_time": "2023-12-04T13:21:13.890Z"
   },
   {
    "duration": 4,
    "start_time": "2023-12-04T13:21:14.079Z"
   },
   {
    "duration": 432,
    "start_time": "2023-12-04T13:21:14.085Z"
   },
   {
    "duration": 11,
    "start_time": "2023-12-04T13:21:14.519Z"
   },
   {
    "duration": 449,
    "start_time": "2023-12-04T13:21:14.532Z"
   },
   {
    "duration": 9,
    "start_time": "2023-12-04T13:21:14.983Z"
   },
   {
    "duration": 236,
    "start_time": "2023-12-04T13:21:14.993Z"
   },
   {
    "duration": 10,
    "start_time": "2023-12-04T13:21:15.231Z"
   },
   {
    "duration": 18,
    "start_time": "2023-12-04T13:21:15.243Z"
   },
   {
    "duration": 2,
    "start_time": "2023-12-04T13:21:15.263Z"
   },
   {
    "duration": 1813,
    "start_time": "2023-12-04T13:21:15.267Z"
   },
   {
    "duration": 3,
    "start_time": "2023-12-04T13:21:17.082Z"
   },
   {
    "duration": 6,
    "start_time": "2023-12-04T13:21:17.086Z"
   },
   {
    "duration": 6,
    "start_time": "2023-12-04T13:21:17.093Z"
   },
   {
    "duration": 4,
    "start_time": "2023-12-04T13:21:17.100Z"
   },
   {
    "duration": 1058,
    "start_time": "2023-12-04T13:23:47.778Z"
   },
   {
    "duration": 3,
    "start_time": "2023-12-04T13:23:48.838Z"
   },
   {
    "duration": 164,
    "start_time": "2023-12-04T13:23:48.843Z"
   },
   {
    "duration": 21,
    "start_time": "2023-12-04T13:23:49.009Z"
   },
   {
    "duration": 19,
    "start_time": "2023-12-04T13:23:49.031Z"
   },
   {
    "duration": 16,
    "start_time": "2023-12-04T13:23:49.051Z"
   },
   {
    "duration": 10,
    "start_time": "2023-12-04T13:23:49.068Z"
   },
   {
    "duration": 8,
    "start_time": "2023-12-04T13:23:49.079Z"
   },
   {
    "duration": 6,
    "start_time": "2023-12-04T13:23:49.089Z"
   },
   {
    "duration": 10,
    "start_time": "2023-12-04T13:23:49.098Z"
   },
   {
    "duration": 50,
    "start_time": "2023-12-04T13:23:49.109Z"
   },
   {
    "duration": 10,
    "start_time": "2023-12-04T13:23:49.161Z"
   },
   {
    "duration": 12,
    "start_time": "2023-12-04T13:23:49.172Z"
   },
   {
    "duration": 21,
    "start_time": "2023-12-04T13:23:49.186Z"
   },
   {
    "duration": 231,
    "start_time": "2023-12-04T13:23:49.210Z"
   },
   {
    "duration": 290,
    "start_time": "2023-12-04T13:23:49.443Z"
   },
   {
    "duration": 315,
    "start_time": "2023-12-04T13:23:49.735Z"
   },
   {
    "duration": 10,
    "start_time": "2023-12-04T13:23:50.052Z"
   },
   {
    "duration": 25,
    "start_time": "2023-12-04T13:23:50.063Z"
   },
   {
    "duration": 769,
    "start_time": "2023-12-04T13:23:50.089Z"
   },
   {
    "duration": 748,
    "start_time": "2023-12-04T13:23:50.861Z"
   },
   {
    "duration": 54,
    "start_time": "2023-12-04T13:23:51.611Z"
   },
   {
    "duration": 21,
    "start_time": "2023-12-04T13:23:51.667Z"
   },
   {
    "duration": 116,
    "start_time": "2023-12-04T13:23:51.690Z"
   },
   {
    "duration": 16,
    "start_time": "2023-12-04T13:23:51.808Z"
   },
   {
    "duration": 33,
    "start_time": "2023-12-04T13:23:51.825Z"
   },
   {
    "duration": 229,
    "start_time": "2023-12-04T13:23:51.860Z"
   },
   {
    "duration": 43,
    "start_time": "2023-12-04T13:23:52.095Z"
   },
   {
    "duration": 257,
    "start_time": "2023-12-04T13:23:52.139Z"
   },
   {
    "duration": 41,
    "start_time": "2023-12-04T13:23:52.398Z"
   },
   {
    "duration": 500,
    "start_time": "2023-12-04T13:23:52.458Z"
   },
   {
    "duration": 526,
    "start_time": "2023-12-04T13:23:52.961Z"
   },
   {
    "duration": 31,
    "start_time": "2023-12-04T13:23:53.489Z"
   },
   {
    "duration": 55,
    "start_time": "2023-12-04T13:23:53.522Z"
   },
   {
    "duration": 17,
    "start_time": "2023-12-04T13:23:53.579Z"
   },
   {
    "duration": 4734,
    "start_time": "2023-12-04T13:23:53.598Z"
   },
   {
    "duration": 189,
    "start_time": "2023-12-04T13:23:58.334Z"
   },
   {
    "duration": 5,
    "start_time": "2023-12-04T13:23:58.525Z"
   },
   {
    "duration": 455,
    "start_time": "2023-12-04T13:23:58.532Z"
   },
   {
    "duration": 11,
    "start_time": "2023-12-04T13:23:58.989Z"
   },
   {
    "duration": 425,
    "start_time": "2023-12-04T13:23:59.002Z"
   },
   {
    "duration": 10,
    "start_time": "2023-12-04T13:23:59.429Z"
   },
   {
    "duration": 255,
    "start_time": "2023-12-04T13:23:59.440Z"
   },
   {
    "duration": 10,
    "start_time": "2023-12-04T13:23:59.696Z"
   },
   {
    "duration": 48,
    "start_time": "2023-12-04T13:23:59.708Z"
   },
   {
    "duration": 19,
    "start_time": "2023-12-04T13:23:59.757Z"
   },
   {
    "duration": 1956,
    "start_time": "2023-12-04T13:23:59.777Z"
   },
   {
    "duration": 3,
    "start_time": "2023-12-04T13:24:01.734Z"
   },
   {
    "duration": 67,
    "start_time": "2023-12-04T13:24:01.738Z"
   },
   {
    "duration": 33,
    "start_time": "2023-12-04T13:24:01.807Z"
   },
   {
    "duration": 41,
    "start_time": "2023-12-04T13:24:01.842Z"
   },
   {
    "duration": 1089,
    "start_time": "2023-12-04T21:49:44.593Z"
   },
   {
    "duration": 2,
    "start_time": "2023-12-04T21:49:45.684Z"
   },
   {
    "duration": 160,
    "start_time": "2023-12-04T21:49:45.687Z"
   },
   {
    "duration": 20,
    "start_time": "2023-12-04T21:49:45.849Z"
   },
   {
    "duration": 15,
    "start_time": "2023-12-04T21:49:45.871Z"
   },
   {
    "duration": 14,
    "start_time": "2023-12-04T21:49:45.888Z"
   },
   {
    "duration": 21,
    "start_time": "2023-12-04T21:49:45.903Z"
   },
   {
    "duration": 5,
    "start_time": "2023-12-04T21:49:45.926Z"
   },
   {
    "duration": 6,
    "start_time": "2023-12-04T21:49:45.933Z"
   },
   {
    "duration": 9,
    "start_time": "2023-12-04T21:49:45.940Z"
   },
   {
    "duration": 11,
    "start_time": "2023-12-04T21:49:45.950Z"
   },
   {
    "duration": 11,
    "start_time": "2023-12-04T21:49:45.962Z"
   },
   {
    "duration": 48,
    "start_time": "2023-12-04T21:49:45.974Z"
   },
   {
    "duration": 17,
    "start_time": "2023-12-04T21:49:46.025Z"
   },
   {
    "duration": 192,
    "start_time": "2023-12-04T21:49:46.043Z"
   },
   {
    "duration": 252,
    "start_time": "2023-12-04T21:49:46.236Z"
   },
   {
    "duration": 279,
    "start_time": "2023-12-04T21:49:46.489Z"
   },
   {
    "duration": 4,
    "start_time": "2023-12-04T21:49:46.770Z"
   },
   {
    "duration": 9,
    "start_time": "2023-12-04T21:49:46.775Z"
   },
   {
    "duration": 643,
    "start_time": "2023-12-04T21:49:46.786Z"
   },
   {
    "duration": 619,
    "start_time": "2023-12-04T21:49:47.431Z"
   },
   {
    "duration": 25,
    "start_time": "2023-12-04T21:49:48.052Z"
   },
   {
    "duration": 41,
    "start_time": "2023-12-04T21:49:48.079Z"
   },
   {
    "duration": 114,
    "start_time": "2023-12-04T21:49:48.122Z"
   },
   {
    "duration": 15,
    "start_time": "2023-12-04T21:49:48.237Z"
   },
   {
    "duration": 13,
    "start_time": "2023-12-04T21:49:48.254Z"
   },
   {
    "duration": 209,
    "start_time": "2023-12-04T21:49:48.269Z"
   },
   {
    "duration": 43,
    "start_time": "2023-12-04T21:49:48.480Z"
   },
   {
    "duration": 207,
    "start_time": "2023-12-04T21:49:48.525Z"
   },
   {
    "duration": 34,
    "start_time": "2023-12-04T21:49:48.734Z"
   },
   {
    "duration": 415,
    "start_time": "2023-12-04T21:49:48.769Z"
   },
   {
    "duration": 438,
    "start_time": "2023-12-04T21:49:49.186Z"
   },
   {
    "duration": 22,
    "start_time": "2023-12-04T21:49:49.625Z"
   },
   {
    "duration": 30,
    "start_time": "2023-12-04T21:49:49.648Z"
   },
   {
    "duration": 36,
    "start_time": "2023-12-04T21:49:49.680Z"
   },
   {
    "duration": 4208,
    "start_time": "2023-12-04T21:49:49.717Z"
   },
   {
    "duration": 175,
    "start_time": "2023-12-04T21:49:53.927Z"
   },
   {
    "duration": 5,
    "start_time": "2023-12-04T21:49:54.103Z"
   },
   {
    "duration": 435,
    "start_time": "2023-12-04T21:49:54.114Z"
   },
   {
    "duration": 12,
    "start_time": "2023-12-04T21:49:54.550Z"
   },
   {
    "duration": 420,
    "start_time": "2023-12-04T21:49:54.565Z"
   },
   {
    "duration": 9,
    "start_time": "2023-12-04T21:49:54.986Z"
   },
   {
    "duration": 231,
    "start_time": "2023-12-04T21:49:54.996Z"
   },
   {
    "duration": 16,
    "start_time": "2023-12-04T21:49:55.228Z"
   },
   {
    "duration": 11,
    "start_time": "2023-12-04T21:49:55.246Z"
   },
   {
    "duration": 10,
    "start_time": "2023-12-04T21:49:55.259Z"
   },
   {
    "duration": 8,
    "start_time": "2023-12-04T21:49:55.270Z"
   },
   {
    "duration": 3,
    "start_time": "2023-12-04T21:49:55.280Z"
   },
   {
    "duration": 1748,
    "start_time": "2023-12-04T21:49:55.313Z"
   },
   {
    "duration": 2,
    "start_time": "2023-12-04T21:49:57.062Z"
   },
   {
    "duration": 9,
    "start_time": "2023-12-04T21:49:57.065Z"
   },
   {
    "duration": 10,
    "start_time": "2023-12-04T21:49:57.076Z"
   },
   {
    "duration": 4,
    "start_time": "2023-12-04T21:49:57.087Z"
   },
   {
    "duration": 155,
    "start_time": "2023-12-04T21:54:35.406Z"
   },
   {
    "duration": 81,
    "start_time": "2023-12-05T13:31:49.599Z"
   },
   {
    "duration": 42,
    "start_time": "2023-12-05T13:31:54.476Z"
   },
   {
    "duration": 1121,
    "start_time": "2023-12-06T12:55:57.172Z"
   },
   {
    "duration": 3,
    "start_time": "2023-12-06T12:55:58.295Z"
   },
   {
    "duration": 274,
    "start_time": "2023-12-06T12:55:58.300Z"
   },
   {
    "duration": 21,
    "start_time": "2023-12-06T12:55:58.576Z"
   },
   {
    "duration": 15,
    "start_time": "2023-12-06T12:55:58.598Z"
   },
   {
    "duration": 14,
    "start_time": "2023-12-06T12:55:58.614Z"
   },
   {
    "duration": 8,
    "start_time": "2023-12-06T12:55:58.630Z"
   },
   {
    "duration": 7,
    "start_time": "2023-12-06T12:55:58.669Z"
   },
   {
    "duration": 14,
    "start_time": "2023-12-06T12:55:58.678Z"
   },
   {
    "duration": 14,
    "start_time": "2023-12-06T12:55:58.696Z"
   },
   {
    "duration": 11,
    "start_time": "2023-12-06T12:55:58.711Z"
   },
   {
    "duration": 9,
    "start_time": "2023-12-06T12:55:58.723Z"
   },
   {
    "duration": 37,
    "start_time": "2023-12-06T12:55:58.734Z"
   },
   {
    "duration": 16,
    "start_time": "2023-12-06T12:55:58.772Z"
   },
   {
    "duration": 168,
    "start_time": "2023-12-06T12:55:58.789Z"
   },
   {
    "duration": 224,
    "start_time": "2023-12-06T12:55:58.958Z"
   },
   {
    "duration": 249,
    "start_time": "2023-12-06T12:55:59.184Z"
   },
   {
    "duration": 4,
    "start_time": "2023-12-06T12:55:59.435Z"
   },
   {
    "duration": 16,
    "start_time": "2023-12-06T12:55:59.441Z"
   },
   {
    "duration": 607,
    "start_time": "2023-12-06T12:55:59.458Z"
   },
   {
    "duration": 576,
    "start_time": "2023-12-06T12:56:00.069Z"
   },
   {
    "duration": 32,
    "start_time": "2023-12-06T12:56:00.646Z"
   },
   {
    "duration": 18,
    "start_time": "2023-12-06T12:56:00.680Z"
   },
   {
    "duration": 88,
    "start_time": "2023-12-06T12:56:00.699Z"
   },
   {
    "duration": 12,
    "start_time": "2023-12-06T12:56:00.788Z"
   },
   {
    "duration": 26,
    "start_time": "2023-12-06T12:56:00.801Z"
   },
   {
    "duration": 177,
    "start_time": "2023-12-06T12:56:00.829Z"
   },
   {
    "duration": 32,
    "start_time": "2023-12-06T12:56:01.010Z"
   },
   {
    "duration": 188,
    "start_time": "2023-12-06T12:56:01.043Z"
   },
   {
    "duration": 40,
    "start_time": "2023-12-06T12:56:01.232Z"
   },
   {
    "duration": 426,
    "start_time": "2023-12-06T12:56:01.273Z"
   },
   {
    "duration": 414,
    "start_time": "2023-12-06T12:56:01.700Z"
   },
   {
    "duration": 19,
    "start_time": "2023-12-06T12:56:02.116Z"
   },
   {
    "duration": 63,
    "start_time": "2023-12-06T12:56:02.137Z"
   },
   {
    "duration": 81,
    "start_time": "2023-12-06T12:56:02.202Z"
   },
   {
    "duration": 3540,
    "start_time": "2023-12-06T12:56:02.284Z"
   },
   {
    "duration": 152,
    "start_time": "2023-12-06T12:56:05.825Z"
   },
   {
    "duration": 4,
    "start_time": "2023-12-06T12:56:05.979Z"
   },
   {
    "duration": 400,
    "start_time": "2023-12-06T12:56:05.985Z"
   },
   {
    "duration": 10,
    "start_time": "2023-12-06T12:56:06.387Z"
   },
   {
    "duration": 385,
    "start_time": "2023-12-06T12:56:06.398Z"
   },
   {
    "duration": 8,
    "start_time": "2023-12-06T12:56:06.784Z"
   },
   {
    "duration": 205,
    "start_time": "2023-12-06T12:56:06.794Z"
   },
   {
    "duration": 13,
    "start_time": "2023-12-06T12:56:07.001Z"
   },
   {
    "duration": 34,
    "start_time": "2023-12-06T12:56:07.015Z"
   },
   {
    "duration": 139,
    "start_time": "2023-12-06T12:56:07.050Z"
   },
   {
    "duration": 0,
    "start_time": "2023-12-06T12:56:07.190Z"
   },
   {
    "duration": 0,
    "start_time": "2023-12-06T12:56:07.191Z"
   },
   {
    "duration": 0,
    "start_time": "2023-12-06T12:56:07.192Z"
   },
   {
    "duration": 0,
    "start_time": "2023-12-06T12:56:07.193Z"
   },
   {
    "duration": 0,
    "start_time": "2023-12-06T12:56:07.194Z"
   },
   {
    "duration": 0,
    "start_time": "2023-12-06T12:56:07.195Z"
   },
   {
    "duration": 0,
    "start_time": "2023-12-06T12:56:07.196Z"
   },
   {
    "duration": 0,
    "start_time": "2023-12-06T12:56:07.197Z"
   },
   {
    "duration": 0,
    "start_time": "2023-12-06T12:56:07.198Z"
   },
   {
    "duration": 4,
    "start_time": "2023-12-06T12:56:19.006Z"
   },
   {
    "duration": 4,
    "start_time": "2023-12-06T12:56:47.345Z"
   },
   {
    "duration": 348,
    "start_time": "2023-12-06T12:59:02.677Z"
   },
   {
    "duration": 1213,
    "start_time": "2023-12-06T13:01:46.286Z"
   },
   {
    "duration": 229,
    "start_time": "2023-12-06T13:03:10.507Z"
   },
   {
    "duration": 213,
    "start_time": "2023-12-06T13:03:26.863Z"
   },
   {
    "duration": 246,
    "start_time": "2023-12-06T13:03:31.969Z"
   },
   {
    "duration": 221,
    "start_time": "2023-12-06T13:03:39.574Z"
   },
   {
    "duration": 293,
    "start_time": "2023-12-06T13:03:43.999Z"
   },
   {
    "duration": 4,
    "start_time": "2023-12-06T13:07:21.878Z"
   },
   {
    "duration": 434,
    "start_time": "2023-12-06T13:08:47.248Z"
   },
   {
    "duration": 4,
    "start_time": "2023-12-06T13:09:08.937Z"
   },
   {
    "duration": 450,
    "start_time": "2023-12-06T13:09:46.362Z"
   },
   {
    "duration": 4,
    "start_time": "2023-12-06T13:10:02.782Z"
   },
   {
    "duration": 4,
    "start_time": "2023-12-06T13:10:34.766Z"
   },
   {
    "duration": 438,
    "start_time": "2023-12-06T13:10:58.372Z"
   },
   {
    "duration": 547,
    "start_time": "2023-12-06T13:12:53.363Z"
   },
   {
    "duration": 2598,
    "start_time": "2023-12-06T13:13:12.826Z"
   },
   {
    "duration": 2918,
    "start_time": "2023-12-06T13:17:18.219Z"
   },
   {
    "duration": 2926,
    "start_time": "2023-12-06T13:18:00.715Z"
   },
   {
    "duration": 2687,
    "start_time": "2023-12-06T13:18:21.591Z"
   },
   {
    "duration": 236,
    "start_time": "2023-12-06T14:06:53.141Z"
   },
   {
    "duration": 8,
    "start_time": "2023-12-06T14:11:18.225Z"
   },
   {
    "duration": 9,
    "start_time": "2023-12-06T14:13:15.284Z"
   },
   {
    "duration": 9,
    "start_time": "2023-12-06T14:13:19.351Z"
   },
   {
    "duration": 9,
    "start_time": "2023-12-06T14:13:24.219Z"
   },
   {
    "duration": 9,
    "start_time": "2023-12-06T14:13:28.613Z"
   },
   {
    "duration": 9,
    "start_time": "2023-12-06T14:13:32.658Z"
   },
   {
    "duration": 9,
    "start_time": "2023-12-06T14:13:47.893Z"
   },
   {
    "duration": 9,
    "start_time": "2023-12-06T14:13:52.279Z"
   },
   {
    "duration": 982,
    "start_time": "2023-12-06T14:14:17.474Z"
   },
   {
    "duration": 3,
    "start_time": "2023-12-06T14:14:18.457Z"
   },
   {
    "duration": 161,
    "start_time": "2023-12-06T14:14:18.461Z"
   },
   {
    "duration": 19,
    "start_time": "2023-12-06T14:14:18.623Z"
   },
   {
    "duration": 19,
    "start_time": "2023-12-06T14:14:18.644Z"
   },
   {
    "duration": 21,
    "start_time": "2023-12-06T14:14:18.665Z"
   },
   {
    "duration": 26,
    "start_time": "2023-12-06T14:14:18.688Z"
   },
   {
    "duration": 31,
    "start_time": "2023-12-06T14:14:18.715Z"
   },
   {
    "duration": 28,
    "start_time": "2023-12-06T14:14:18.747Z"
   },
   {
    "duration": 27,
    "start_time": "2023-12-06T14:14:18.778Z"
   },
   {
    "duration": 26,
    "start_time": "2023-12-06T14:14:18.806Z"
   },
   {
    "duration": 23,
    "start_time": "2023-12-06T14:14:18.834Z"
   },
   {
    "duration": 26,
    "start_time": "2023-12-06T14:14:18.858Z"
   },
   {
    "duration": 33,
    "start_time": "2023-12-06T14:14:18.885Z"
   },
   {
    "duration": 200,
    "start_time": "2023-12-06T14:14:18.919Z"
   },
   {
    "duration": 226,
    "start_time": "2023-12-06T14:14:19.121Z"
   },
   {
    "duration": 234,
    "start_time": "2023-12-06T14:14:19.349Z"
   },
   {
    "duration": 5,
    "start_time": "2023-12-06T14:14:19.585Z"
   },
   {
    "duration": 34,
    "start_time": "2023-12-06T14:14:19.592Z"
   },
   {
    "duration": 570,
    "start_time": "2023-12-06T14:14:19.628Z"
   },
   {
    "duration": 542,
    "start_time": "2023-12-06T14:14:20.199Z"
   },
   {
    "duration": 31,
    "start_time": "2023-12-06T14:14:20.742Z"
   },
   {
    "duration": 25,
    "start_time": "2023-12-06T14:14:20.775Z"
   },
   {
    "duration": 90,
    "start_time": "2023-12-06T14:14:20.801Z"
   },
   {
    "duration": 13,
    "start_time": "2023-12-06T14:14:20.893Z"
   },
   {
    "duration": 36,
    "start_time": "2023-12-06T14:14:20.907Z"
   },
   {
    "duration": 172,
    "start_time": "2023-12-06T14:14:20.945Z"
   },
   {
    "duration": 32,
    "start_time": "2023-12-06T14:14:21.122Z"
   },
   {
    "duration": 192,
    "start_time": "2023-12-06T14:14:21.156Z"
   },
   {
    "duration": 36,
    "start_time": "2023-12-06T14:14:21.349Z"
   },
   {
    "duration": 412,
    "start_time": "2023-12-06T14:14:21.386Z"
   },
   {
    "duration": 416,
    "start_time": "2023-12-06T14:14:21.799Z"
   },
   {
    "duration": 18,
    "start_time": "2023-12-06T14:14:22.216Z"
   },
   {
    "duration": 45,
    "start_time": "2023-12-06T14:14:22.236Z"
   },
   {
    "duration": 16,
    "start_time": "2023-12-06T14:14:22.283Z"
   },
   {
    "duration": 3441,
    "start_time": "2023-12-06T14:14:22.300Z"
   },
   {
    "duration": 151,
    "start_time": "2023-12-06T14:14:25.743Z"
   },
   {
    "duration": 4,
    "start_time": "2023-12-06T14:14:25.895Z"
   },
   {
    "duration": 380,
    "start_time": "2023-12-06T14:14:25.900Z"
   },
   {
    "duration": 11,
    "start_time": "2023-12-06T14:14:26.282Z"
   },
   {
    "duration": 367,
    "start_time": "2023-12-06T14:14:26.295Z"
   },
   {
    "duration": 12,
    "start_time": "2023-12-06T14:14:26.663Z"
   },
   {
    "duration": 205,
    "start_time": "2023-12-06T14:14:26.676Z"
   },
   {
    "duration": 12,
    "start_time": "2023-12-06T14:14:26.882Z"
   },
   {
    "duration": 42,
    "start_time": "2023-12-06T14:14:26.895Z"
   },
   {
    "duration": 250,
    "start_time": "2023-12-06T14:14:26.938Z"
   },
   {
    "duration": 9,
    "start_time": "2023-12-06T14:14:27.189Z"
   },
   {
    "duration": 47,
    "start_time": "2023-12-06T14:14:27.199Z"
   },
   {
    "duration": 49,
    "start_time": "2023-12-06T14:14:27.247Z"
   },
   {
    "duration": 1450,
    "start_time": "2023-12-06T14:14:27.298Z"
   },
   {
    "duration": 3,
    "start_time": "2023-12-06T14:14:28.749Z"
   },
   {
    "duration": 17,
    "start_time": "2023-12-06T14:14:28.754Z"
   },
   {
    "duration": 33,
    "start_time": "2023-12-06T14:14:28.772Z"
   },
   {
    "duration": 138,
    "start_time": "2023-12-06T14:14:28.806Z"
   },
   {
    "duration": 9,
    "start_time": "2023-12-06T14:15:18.960Z"
   },
   {
    "duration": 5,
    "start_time": "2023-12-06T14:15:20.375Z"
   },
   {
    "duration": 9,
    "start_time": "2023-12-06T14:16:11.157Z"
   },
   {
    "duration": 26,
    "start_time": "2023-12-06T14:26:53.265Z"
   },
   {
    "duration": 10,
    "start_time": "2023-12-06T14:34:56.387Z"
   },
   {
    "duration": 23,
    "start_time": "2023-12-06T14:35:28.574Z"
   },
   {
    "duration": 256,
    "start_time": "2023-12-06T14:37:12.868Z"
   },
   {
    "duration": 4,
    "start_time": "2023-12-06T14:37:47.857Z"
   },
   {
    "duration": 20,
    "start_time": "2023-12-06T14:38:10.844Z"
   },
   {
    "duration": 5,
    "start_time": "2023-12-06T14:38:12.115Z"
   },
   {
    "duration": 23,
    "start_time": "2023-12-06T14:53:15.740Z"
   }
  ],
  "kernelspec": {
   "display_name": "Python 3 (ipykernel)",
   "language": "python",
   "name": "python3"
  },
  "language_info": {
   "codemirror_mode": {
    "name": "ipython",
    "version": 3
   },
   "file_extension": ".py",
   "mimetype": "text/x-python",
   "name": "python",
   "nbconvert_exporter": "python",
   "pygments_lexer": "ipython3",
   "version": "3.9.18"
  },
  "toc": {
   "base_numbering": 1,
   "nav_menu": {},
   "number_sections": true,
   "sideBar": true,
   "skip_h1_title": true,
   "title_cell": "Table of Contents",
   "title_sidebar": "Contents",
   "toc_cell": false,
   "toc_position": {},
   "toc_section_display": true,
   "toc_window_display": true
  }
 },
 "nbformat": 4,
 "nbformat_minor": 5
}
