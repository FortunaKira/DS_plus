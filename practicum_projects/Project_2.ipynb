{
 "cells": [
  {
   "cell_type": "markdown",
   "id": "55184437",
   "metadata": {},
   "source": [
    "<b>Привет!</b>\n",
    "\n",
    "Меня зовут Харочкина Екатерина, и я буду проверять твой проект. Давай общаться на «ты», но если это неудобно, пожалуйста, сообщи. Моя основная цель — не указать на совершенные тобою ошибки, а поделиться своим опытом и помочь тебе совершенствоваться как профессионалу.\n",
    "\n",
    "Ты подготовила замечательный проект, но есть аспекты, которые еще можно улучшить. Я буду использовать комментарии с цветовой разметкой. Пожалуйста, **не перемещай, не изменяй и не удаляй их**. Это поможет выполнить повторную проверку твоего проекта оперативнее.\n",
    "\n",
    "<div class=\"alert alert-danger\">\n",
    "<b>Комментарий ревьюера №1</b> ❌\n",
    "    \n",
    "Таким комментарием выделены самые важные замечания. Без их отработки проект не будет принят.\n",
    "</div>\n",
    "\n",
    "<div class=\"alert alert-warning\">\n",
    "<b>Комментарий ревьюера №1</b> ⚠️\n",
    "    \n",
    "Таким комментарием выделены небольшие замечания и рекомендации, которые будет хорошо учесть.\n",
    "</div>\n",
    "\n",
    "<div class=\"alert alert-success\">\n",
    "<b>Комментарий ревьюера №1</b> ✅\n",
    "    \n",
    "Таким комментарием выделены удачные решения🙂\n",
    "</div>\n",
    "\n",
    "Свои комментарии ты можешь помечать синим цветом.\n",
    "\n",
    "<div class=\"alert alert-info\">\n",
    "<b>Комментарий студента №1</b>\n",
    "    \n",
    "Так ты можешь оформить свой комментарий\n",
    "</div>\n",
    "\n",
    "Давай работать над проектом в диалоге: если ты **что-то меняешь** в проекте по моим рекомендациям — **пиши об этом**. После того, как ты все доработаешь, я смогу принять твой проект!) "
   ]
  },
  {
   "cell_type": "markdown",
   "id": "6998585f",
   "metadata": {
    "deletable": false,
    "editable": false,
    "id": "c81daeeb"
   },
   "source": [
    "# Исследование надежности заемщиков\n"
   ]
  },
  {
   "cell_type": "markdown",
   "id": "786a2545",
   "metadata": {},
   "source": [
    "<div class=\"alert alert-success\">\n",
    "<b>Комментарий ревьюера №1</b> ✅\n",
    "    \n",
    "Можно оформить описание проекта\n",
    "</div>"
   ]
  },
  {
   "cell_type": "markdown",
   "id": "852b8477",
   "metadata": {
    "deletable": false,
    "editable": false,
    "id": "827c20bf"
   },
   "source": [
    "Во второй части проекта вы выполните шаги 3 и 4. Их вручную проверит ревьюер.\n",
    "Чтобы вам не пришлось писать код заново для шагов 1 и 2, мы добавили авторские решения в ячейки с кодом. \n",
    "\n"
   ]
  },
  {
   "cell_type": "markdown",
   "id": "84b279aa",
   "metadata": {
    "deletable": false,
    "editable": false,
    "id": "744d7639"
   },
   "source": [
    "## Откройте таблицу и изучите общую информацию о данных"
   ]
  },
  {
   "cell_type": "markdown",
   "id": "cf7eb2db",
   "metadata": {
    "deletable": false,
    "editable": false,
    "id": "e7a14c31"
   },
   "source": [
    "**Задание 1. Импортируйте библиотеку pandas. Считайте данные из csv-файла в датафрейм и сохраните в переменную `data`. Путь к файлу:**\n",
    "\n",
    "`/datasets/data.csv`"
   ]
  },
  {
   "cell_type": "code",
   "execution_count": 1,
   "id": "7f419857",
   "metadata": {
    "deletable": false,
    "id": "7bcf75c9"
   },
   "outputs": [],
   "source": [
    "import pandas as pd\n",
    "\n",
    "try:\n",
    "    data = pd.read_csv('/datasets/data.csv')\n",
    "except:\n",
    "    data = pd.read_csv('https://code.s3.yandex.net/datasets/data.csv')"
   ]
  },
  {
   "cell_type": "markdown",
   "id": "7d992bbb",
   "metadata": {
    "deletable": false,
    "editable": false,
    "id": "b8038fe3"
   },
   "source": [
    "**Задание 2. Выведите первые 20 строчек датафрейма `data` на экран.**"
   ]
  },
  {
   "cell_type": "code",
   "execution_count": 2,
   "id": "c00122a3",
   "metadata": {
    "deletable": false,
    "id": "2a7cab99",
    "outputId": "1a8f3ef2-d323-4ec2-ddf7-89670b5944c4"
   },
   "outputs": [
    {
     "data": {
      "text/html": [
       "<div>\n",
       "<style scoped>\n",
       "    .dataframe tbody tr th:only-of-type {\n",
       "        vertical-align: middle;\n",
       "    }\n",
       "\n",
       "    .dataframe tbody tr th {\n",
       "        vertical-align: top;\n",
       "    }\n",
       "\n",
       "    .dataframe thead th {\n",
       "        text-align: right;\n",
       "    }\n",
       "</style>\n",
       "<table border=\"1\" class=\"dataframe\">\n",
       "  <thead>\n",
       "    <tr style=\"text-align: right;\">\n",
       "      <th></th>\n",
       "      <th>children</th>\n",
       "      <th>days_employed</th>\n",
       "      <th>dob_years</th>\n",
       "      <th>education</th>\n",
       "      <th>education_id</th>\n",
       "      <th>family_status</th>\n",
       "      <th>family_status_id</th>\n",
       "      <th>gender</th>\n",
       "      <th>income_type</th>\n",
       "      <th>debt</th>\n",
       "      <th>total_income</th>\n",
       "      <th>purpose</th>\n",
       "    </tr>\n",
       "  </thead>\n",
       "  <tbody>\n",
       "    <tr>\n",
       "      <th>0</th>\n",
       "      <td>1</td>\n",
       "      <td>-8437.673028</td>\n",
       "      <td>42</td>\n",
       "      <td>высшее</td>\n",
       "      <td>0</td>\n",
       "      <td>женат / замужем</td>\n",
       "      <td>0</td>\n",
       "      <td>F</td>\n",
       "      <td>сотрудник</td>\n",
       "      <td>0</td>\n",
       "      <td>253875.639453</td>\n",
       "      <td>покупка жилья</td>\n",
       "    </tr>\n",
       "    <tr>\n",
       "      <th>1</th>\n",
       "      <td>1</td>\n",
       "      <td>-4024.803754</td>\n",
       "      <td>36</td>\n",
       "      <td>среднее</td>\n",
       "      <td>1</td>\n",
       "      <td>женат / замужем</td>\n",
       "      <td>0</td>\n",
       "      <td>F</td>\n",
       "      <td>сотрудник</td>\n",
       "      <td>0</td>\n",
       "      <td>112080.014102</td>\n",
       "      <td>приобретение автомобиля</td>\n",
       "    </tr>\n",
       "    <tr>\n",
       "      <th>2</th>\n",
       "      <td>0</td>\n",
       "      <td>-5623.422610</td>\n",
       "      <td>33</td>\n",
       "      <td>Среднее</td>\n",
       "      <td>1</td>\n",
       "      <td>женат / замужем</td>\n",
       "      <td>0</td>\n",
       "      <td>M</td>\n",
       "      <td>сотрудник</td>\n",
       "      <td>0</td>\n",
       "      <td>145885.952297</td>\n",
       "      <td>покупка жилья</td>\n",
       "    </tr>\n",
       "    <tr>\n",
       "      <th>3</th>\n",
       "      <td>3</td>\n",
       "      <td>-4124.747207</td>\n",
       "      <td>32</td>\n",
       "      <td>среднее</td>\n",
       "      <td>1</td>\n",
       "      <td>женат / замужем</td>\n",
       "      <td>0</td>\n",
       "      <td>M</td>\n",
       "      <td>сотрудник</td>\n",
       "      <td>0</td>\n",
       "      <td>267628.550329</td>\n",
       "      <td>дополнительное образование</td>\n",
       "    </tr>\n",
       "    <tr>\n",
       "      <th>4</th>\n",
       "      <td>0</td>\n",
       "      <td>340266.072047</td>\n",
       "      <td>53</td>\n",
       "      <td>среднее</td>\n",
       "      <td>1</td>\n",
       "      <td>гражданский брак</td>\n",
       "      <td>1</td>\n",
       "      <td>F</td>\n",
       "      <td>пенсионер</td>\n",
       "      <td>0</td>\n",
       "      <td>158616.077870</td>\n",
       "      <td>сыграть свадьбу</td>\n",
       "    </tr>\n",
       "    <tr>\n",
       "      <th>5</th>\n",
       "      <td>0</td>\n",
       "      <td>-926.185831</td>\n",
       "      <td>27</td>\n",
       "      <td>высшее</td>\n",
       "      <td>0</td>\n",
       "      <td>гражданский брак</td>\n",
       "      <td>1</td>\n",
       "      <td>M</td>\n",
       "      <td>компаньон</td>\n",
       "      <td>0</td>\n",
       "      <td>255763.565419</td>\n",
       "      <td>покупка жилья</td>\n",
       "    </tr>\n",
       "    <tr>\n",
       "      <th>6</th>\n",
       "      <td>0</td>\n",
       "      <td>-2879.202052</td>\n",
       "      <td>43</td>\n",
       "      <td>высшее</td>\n",
       "      <td>0</td>\n",
       "      <td>женат / замужем</td>\n",
       "      <td>0</td>\n",
       "      <td>F</td>\n",
       "      <td>компаньон</td>\n",
       "      <td>0</td>\n",
       "      <td>240525.971920</td>\n",
       "      <td>операции с жильем</td>\n",
       "    </tr>\n",
       "    <tr>\n",
       "      <th>7</th>\n",
       "      <td>0</td>\n",
       "      <td>-152.779569</td>\n",
       "      <td>50</td>\n",
       "      <td>СРЕДНЕЕ</td>\n",
       "      <td>1</td>\n",
       "      <td>женат / замужем</td>\n",
       "      <td>0</td>\n",
       "      <td>M</td>\n",
       "      <td>сотрудник</td>\n",
       "      <td>0</td>\n",
       "      <td>135823.934197</td>\n",
       "      <td>образование</td>\n",
       "    </tr>\n",
       "    <tr>\n",
       "      <th>8</th>\n",
       "      <td>2</td>\n",
       "      <td>-6929.865299</td>\n",
       "      <td>35</td>\n",
       "      <td>ВЫСШЕЕ</td>\n",
       "      <td>0</td>\n",
       "      <td>гражданский брак</td>\n",
       "      <td>1</td>\n",
       "      <td>F</td>\n",
       "      <td>сотрудник</td>\n",
       "      <td>0</td>\n",
       "      <td>95856.832424</td>\n",
       "      <td>на проведение свадьбы</td>\n",
       "    </tr>\n",
       "    <tr>\n",
       "      <th>9</th>\n",
       "      <td>0</td>\n",
       "      <td>-2188.756445</td>\n",
       "      <td>41</td>\n",
       "      <td>среднее</td>\n",
       "      <td>1</td>\n",
       "      <td>женат / замужем</td>\n",
       "      <td>0</td>\n",
       "      <td>M</td>\n",
       "      <td>сотрудник</td>\n",
       "      <td>0</td>\n",
       "      <td>144425.938277</td>\n",
       "      <td>покупка жилья для семьи</td>\n",
       "    </tr>\n",
       "    <tr>\n",
       "      <th>10</th>\n",
       "      <td>2</td>\n",
       "      <td>-4171.483647</td>\n",
       "      <td>36</td>\n",
       "      <td>высшее</td>\n",
       "      <td>0</td>\n",
       "      <td>женат / замужем</td>\n",
       "      <td>0</td>\n",
       "      <td>M</td>\n",
       "      <td>компаньон</td>\n",
       "      <td>0</td>\n",
       "      <td>113943.491460</td>\n",
       "      <td>покупка недвижимости</td>\n",
       "    </tr>\n",
       "    <tr>\n",
       "      <th>11</th>\n",
       "      <td>0</td>\n",
       "      <td>-792.701887</td>\n",
       "      <td>40</td>\n",
       "      <td>среднее</td>\n",
       "      <td>1</td>\n",
       "      <td>женат / замужем</td>\n",
       "      <td>0</td>\n",
       "      <td>F</td>\n",
       "      <td>сотрудник</td>\n",
       "      <td>0</td>\n",
       "      <td>77069.234271</td>\n",
       "      <td>покупка коммерческой недвижимости</td>\n",
       "    </tr>\n",
       "    <tr>\n",
       "      <th>12</th>\n",
       "      <td>0</td>\n",
       "      <td>NaN</td>\n",
       "      <td>65</td>\n",
       "      <td>среднее</td>\n",
       "      <td>1</td>\n",
       "      <td>гражданский брак</td>\n",
       "      <td>1</td>\n",
       "      <td>M</td>\n",
       "      <td>пенсионер</td>\n",
       "      <td>0</td>\n",
       "      <td>NaN</td>\n",
       "      <td>сыграть свадьбу</td>\n",
       "    </tr>\n",
       "    <tr>\n",
       "      <th>13</th>\n",
       "      <td>0</td>\n",
       "      <td>-1846.641941</td>\n",
       "      <td>54</td>\n",
       "      <td>неоконченное высшее</td>\n",
       "      <td>2</td>\n",
       "      <td>женат / замужем</td>\n",
       "      <td>0</td>\n",
       "      <td>F</td>\n",
       "      <td>сотрудник</td>\n",
       "      <td>0</td>\n",
       "      <td>130458.228857</td>\n",
       "      <td>приобретение автомобиля</td>\n",
       "    </tr>\n",
       "    <tr>\n",
       "      <th>14</th>\n",
       "      <td>0</td>\n",
       "      <td>-1844.956182</td>\n",
       "      <td>56</td>\n",
       "      <td>высшее</td>\n",
       "      <td>0</td>\n",
       "      <td>гражданский брак</td>\n",
       "      <td>1</td>\n",
       "      <td>F</td>\n",
       "      <td>компаньон</td>\n",
       "      <td>1</td>\n",
       "      <td>165127.911772</td>\n",
       "      <td>покупка жилой недвижимости</td>\n",
       "    </tr>\n",
       "    <tr>\n",
       "      <th>15</th>\n",
       "      <td>1</td>\n",
       "      <td>-972.364419</td>\n",
       "      <td>26</td>\n",
       "      <td>среднее</td>\n",
       "      <td>1</td>\n",
       "      <td>женат / замужем</td>\n",
       "      <td>0</td>\n",
       "      <td>F</td>\n",
       "      <td>сотрудник</td>\n",
       "      <td>0</td>\n",
       "      <td>116820.904450</td>\n",
       "      <td>строительство собственной недвижимости</td>\n",
       "    </tr>\n",
       "    <tr>\n",
       "      <th>16</th>\n",
       "      <td>0</td>\n",
       "      <td>-1719.934226</td>\n",
       "      <td>35</td>\n",
       "      <td>среднее</td>\n",
       "      <td>1</td>\n",
       "      <td>женат / замужем</td>\n",
       "      <td>0</td>\n",
       "      <td>F</td>\n",
       "      <td>сотрудник</td>\n",
       "      <td>0</td>\n",
       "      <td>289202.704229</td>\n",
       "      <td>недвижимость</td>\n",
       "    </tr>\n",
       "    <tr>\n",
       "      <th>17</th>\n",
       "      <td>0</td>\n",
       "      <td>-2369.999720</td>\n",
       "      <td>33</td>\n",
       "      <td>высшее</td>\n",
       "      <td>0</td>\n",
       "      <td>гражданский брак</td>\n",
       "      <td>1</td>\n",
       "      <td>M</td>\n",
       "      <td>сотрудник</td>\n",
       "      <td>0</td>\n",
       "      <td>90410.586745</td>\n",
       "      <td>строительство недвижимости</td>\n",
       "    </tr>\n",
       "    <tr>\n",
       "      <th>18</th>\n",
       "      <td>0</td>\n",
       "      <td>400281.136913</td>\n",
       "      <td>53</td>\n",
       "      <td>среднее</td>\n",
       "      <td>1</td>\n",
       "      <td>вдовец / вдова</td>\n",
       "      <td>2</td>\n",
       "      <td>F</td>\n",
       "      <td>пенсионер</td>\n",
       "      <td>0</td>\n",
       "      <td>56823.777243</td>\n",
       "      <td>на покупку подержанного автомобиля</td>\n",
       "    </tr>\n",
       "    <tr>\n",
       "      <th>19</th>\n",
       "      <td>0</td>\n",
       "      <td>-10038.818549</td>\n",
       "      <td>48</td>\n",
       "      <td>СРЕДНЕЕ</td>\n",
       "      <td>1</td>\n",
       "      <td>в разводе</td>\n",
       "      <td>3</td>\n",
       "      <td>F</td>\n",
       "      <td>сотрудник</td>\n",
       "      <td>0</td>\n",
       "      <td>242831.107982</td>\n",
       "      <td>на покупку своего автомобиля</td>\n",
       "    </tr>\n",
       "  </tbody>\n",
       "</table>\n",
       "</div>"
      ],
      "text/plain": [
       "    children  days_employed  dob_years            education  education_id  \\\n",
       "0          1   -8437.673028         42               высшее             0   \n",
       "1          1   -4024.803754         36              среднее             1   \n",
       "2          0   -5623.422610         33              Среднее             1   \n",
       "3          3   -4124.747207         32              среднее             1   \n",
       "4          0  340266.072047         53              среднее             1   \n",
       "5          0    -926.185831         27               высшее             0   \n",
       "6          0   -2879.202052         43               высшее             0   \n",
       "7          0    -152.779569         50              СРЕДНЕЕ             1   \n",
       "8          2   -6929.865299         35               ВЫСШЕЕ             0   \n",
       "9          0   -2188.756445         41              среднее             1   \n",
       "10         2   -4171.483647         36               высшее             0   \n",
       "11         0    -792.701887         40              среднее             1   \n",
       "12         0            NaN         65              среднее             1   \n",
       "13         0   -1846.641941         54  неоконченное высшее             2   \n",
       "14         0   -1844.956182         56               высшее             0   \n",
       "15         1    -972.364419         26              среднее             1   \n",
       "16         0   -1719.934226         35              среднее             1   \n",
       "17         0   -2369.999720         33               высшее             0   \n",
       "18         0  400281.136913         53              среднее             1   \n",
       "19         0  -10038.818549         48              СРЕДНЕЕ             1   \n",
       "\n",
       "       family_status  family_status_id gender income_type  debt  \\\n",
       "0    женат / замужем                 0      F   сотрудник     0   \n",
       "1    женат / замужем                 0      F   сотрудник     0   \n",
       "2    женат / замужем                 0      M   сотрудник     0   \n",
       "3    женат / замужем                 0      M   сотрудник     0   \n",
       "4   гражданский брак                 1      F   пенсионер     0   \n",
       "5   гражданский брак                 1      M   компаньон     0   \n",
       "6    женат / замужем                 0      F   компаньон     0   \n",
       "7    женат / замужем                 0      M   сотрудник     0   \n",
       "8   гражданский брак                 1      F   сотрудник     0   \n",
       "9    женат / замужем                 0      M   сотрудник     0   \n",
       "10   женат / замужем                 0      M   компаньон     0   \n",
       "11   женат / замужем                 0      F   сотрудник     0   \n",
       "12  гражданский брак                 1      M   пенсионер     0   \n",
       "13   женат / замужем                 0      F   сотрудник     0   \n",
       "14  гражданский брак                 1      F   компаньон     1   \n",
       "15   женат / замужем                 0      F   сотрудник     0   \n",
       "16   женат / замужем                 0      F   сотрудник     0   \n",
       "17  гражданский брак                 1      M   сотрудник     0   \n",
       "18    вдовец / вдова                 2      F   пенсионер     0   \n",
       "19         в разводе                 3      F   сотрудник     0   \n",
       "\n",
       "     total_income                                 purpose  \n",
       "0   253875.639453                           покупка жилья  \n",
       "1   112080.014102                 приобретение автомобиля  \n",
       "2   145885.952297                           покупка жилья  \n",
       "3   267628.550329              дополнительное образование  \n",
       "4   158616.077870                         сыграть свадьбу  \n",
       "5   255763.565419                           покупка жилья  \n",
       "6   240525.971920                       операции с жильем  \n",
       "7   135823.934197                             образование  \n",
       "8    95856.832424                   на проведение свадьбы  \n",
       "9   144425.938277                 покупка жилья для семьи  \n",
       "10  113943.491460                    покупка недвижимости  \n",
       "11   77069.234271       покупка коммерческой недвижимости  \n",
       "12            NaN                         сыграть свадьбу  \n",
       "13  130458.228857                 приобретение автомобиля  \n",
       "14  165127.911772              покупка жилой недвижимости  \n",
       "15  116820.904450  строительство собственной недвижимости  \n",
       "16  289202.704229                            недвижимость  \n",
       "17   90410.586745              строительство недвижимости  \n",
       "18   56823.777243      на покупку подержанного автомобиля  \n",
       "19  242831.107982            на покупку своего автомобиля  "
      ]
     },
     "execution_count": 2,
     "metadata": {},
     "output_type": "execute_result"
    }
   ],
   "source": [
    "data.head(20)"
   ]
  },
  {
   "cell_type": "markdown",
   "id": "415b1038",
   "metadata": {
    "deletable": false,
    "editable": false,
    "id": "1c12e233"
   },
   "source": [
    "**Задание 3. Выведите основную информацию о датафрейме с помощью метода `info()`.**"
   ]
  },
  {
   "cell_type": "code",
   "execution_count": 3,
   "id": "10227cec",
   "metadata": {
    "deletable": false,
    "id": "2b757bca",
    "outputId": "15376089-8dad-46c9-b520-c05248d43158"
   },
   "outputs": [
    {
     "name": "stdout",
     "output_type": "stream",
     "text": [
      "<class 'pandas.core.frame.DataFrame'>\n",
      "RangeIndex: 21525 entries, 0 to 21524\n",
      "Data columns (total 12 columns):\n",
      " #   Column            Non-Null Count  Dtype  \n",
      "---  ------            --------------  -----  \n",
      " 0   children          21525 non-null  int64  \n",
      " 1   days_employed     19351 non-null  float64\n",
      " 2   dob_years         21525 non-null  int64  \n",
      " 3   education         21525 non-null  object \n",
      " 4   education_id      21525 non-null  int64  \n",
      " 5   family_status     21525 non-null  object \n",
      " 6   family_status_id  21525 non-null  int64  \n",
      " 7   gender            21525 non-null  object \n",
      " 8   income_type       21525 non-null  object \n",
      " 9   debt              21525 non-null  int64  \n",
      " 10  total_income      19351 non-null  float64\n",
      " 11  purpose           21525 non-null  object \n",
      "dtypes: float64(2), int64(5), object(5)\n",
      "memory usage: 2.0+ MB\n"
     ]
    }
   ],
   "source": [
    "data.info()"
   ]
  },
  {
   "cell_type": "markdown",
   "id": "19e23d3f",
   "metadata": {},
   "source": [
    "<div class=\"alert alert-success\">\n",
    "<b>Комментарий ревьюера №1</b> ✅\n",
    "    \n",
    "Разделы работы можно заканчивать промежуточными выводами\n",
    "</div>"
   ]
  },
  {
   "cell_type": "markdown",
   "id": "237711a9",
   "metadata": {
    "deletable": false,
    "editable": false,
    "id": "333ec665"
   },
   "source": [
    "## Предобработка данных"
   ]
  },
  {
   "cell_type": "markdown",
   "id": "ba975517",
   "metadata": {
    "deletable": false,
    "editable": false,
    "id": "02d92d53"
   },
   "source": [
    "### Удаление пропусков"
   ]
  },
  {
   "cell_type": "markdown",
   "id": "aaf3b613",
   "metadata": {
    "deletable": false,
    "editable": false,
    "id": "cd84967c"
   },
   "source": [
    "**Задание 4. Выведите количество пропущенных значений для каждого столбца. Используйте комбинацию двух методов.**"
   ]
  },
  {
   "cell_type": "code",
   "execution_count": 4,
   "id": "a3e31d6d",
   "metadata": {
    "deletable": false,
    "id": "7f9b2309",
    "outputId": "81f4d817-781c-465c-ed15-91ce4446810d"
   },
   "outputs": [
    {
     "data": {
      "text/plain": [
       "children               0\n",
       "days_employed       2174\n",
       "dob_years              0\n",
       "education              0\n",
       "education_id           0\n",
       "family_status          0\n",
       "family_status_id       0\n",
       "gender                 0\n",
       "income_type            0\n",
       "debt                   0\n",
       "total_income        2174\n",
       "purpose                0\n",
       "dtype: int64"
      ]
     },
     "execution_count": 4,
     "metadata": {},
     "output_type": "execute_result"
    }
   ],
   "source": [
    "data.isna().sum()"
   ]
  },
  {
   "cell_type": "markdown",
   "id": "64e2bc5e",
   "metadata": {
    "deletable": false,
    "editable": false,
    "id": "db86e27b"
   },
   "source": [
    "**Задание 5. В двух столбцах есть пропущенные значения. Один из них — `days_employed`. Пропуски в этом столбце вы обработаете на следующем этапе. Другой столбец с пропущенными значениями — `total_income` — хранит данные о доходах. На сумму дохода сильнее всего влияет тип занятости, поэтому заполнить пропуски в этом столбце нужно медианным значением по каждому типу из столбца `income_type`. Например, у человека с типом занятости `сотрудник` пропуск в столбце `total_income` должен быть заполнен медианным доходом среди всех записей с тем же типом.**"
   ]
  },
  {
   "cell_type": "code",
   "execution_count": 5,
   "id": "eeb48163",
   "metadata": {
    "deletable": false,
    "id": "42006a93"
   },
   "outputs": [],
   "source": [
    "for t in data['income_type'].unique():\n",
    "    data.loc[(data['income_type'] == t) & (data['total_income'].isna()), 'total_income'] = \\\n",
    "    data.loc[(data['income_type'] == t), 'total_income'].median()"
   ]
  },
  {
   "cell_type": "markdown",
   "id": "751ee330",
   "metadata": {
    "deletable": false,
    "editable": false,
    "id": "89da5ece"
   },
   "source": [
    "### Обработка аномальных значений"
   ]
  },
  {
   "cell_type": "markdown",
   "id": "6efa1ad8",
   "metadata": {
    "deletable": false,
    "editable": false,
    "id": "57964554"
   },
   "source": [
    "**Задание 6. В данных могут встречаться артефакты (аномалии) — значения, которые не отражают действительность и появились по какой-то ошибке. таким артефактом будет отрицательное количество дней трудового стажа в столбце `days_employed`. Для реальных данных это нормально. Обработайте значения в этом столбце: замените все отрицательные значения положительными с помощью метода `abs()`.**"
   ]
  },
  {
   "cell_type": "code",
   "execution_count": 6,
   "id": "cf0f07da",
   "metadata": {
    "deletable": false,
    "id": "f6f055bf"
   },
   "outputs": [],
   "source": [
    "data['days_employed'] = data['days_employed'].abs()"
   ]
  },
  {
   "cell_type": "markdown",
   "id": "3cffda2b",
   "metadata": {
    "deletable": false,
    "editable": false,
    "id": "6107dd2f"
   },
   "source": [
    "**Задание 7. Для каждого типа занятости выведите медианное значение трудового стажа `days_employed` в днях.**"
   ]
  },
  {
   "cell_type": "code",
   "execution_count": 7,
   "id": "4ed42733",
   "metadata": {
    "deletable": false,
    "id": "85a5faf6",
    "outputId": "801ef80e-522b-4668-f34e-565af7432bcf"
   },
   "outputs": [
    {
     "data": {
      "text/plain": [
       "income_type\n",
       "безработный        366413.652744\n",
       "в декрете            3296.759962\n",
       "госслужащий          2689.368353\n",
       "компаньон            1547.382223\n",
       "пенсионер          365213.306266\n",
       "предприниматель       520.848083\n",
       "сотрудник            1574.202821\n",
       "студент               578.751554\n",
       "Name: days_employed, dtype: float64"
      ]
     },
     "execution_count": 7,
     "metadata": {},
     "output_type": "execute_result"
    }
   ],
   "source": [
    "data.groupby('income_type')['days_employed'].agg('median')"
   ]
  },
  {
   "cell_type": "markdown",
   "id": "9a60f722",
   "metadata": {
    "deletable": false,
    "editable": false,
    "id": "38d1a030"
   },
   "source": [
    "У двух типов (безработные и пенсионеры) получатся аномально большие значения. Исправить такие значения сложно, поэтому оставьте их как есть. Тем более этот столбец не понадобится вам для исследования."
   ]
  },
  {
   "cell_type": "markdown",
   "id": "742311a6",
   "metadata": {
    "deletable": false,
    "editable": false,
    "id": "d8a9f147"
   },
   "source": [
    "**Задание 8. Выведите перечень уникальных значений столбца `children`.**"
   ]
  },
  {
   "cell_type": "code",
   "execution_count": 8,
   "id": "386a38d2",
   "metadata": {
    "deletable": false,
    "id": "ef5056eb",
    "outputId": "6975b15c-7f95-4697-d16d-a0c79b657b03"
   },
   "outputs": [
    {
     "data": {
      "text/plain": [
       "array([ 1,  0,  3,  2, -1,  4, 20,  5])"
      ]
     },
     "execution_count": 8,
     "metadata": {},
     "output_type": "execute_result"
    }
   ],
   "source": [
    "data['children'].unique()"
   ]
  },
  {
   "cell_type": "markdown",
   "id": "84e40b74",
   "metadata": {
    "deletable": false,
    "editable": false,
    "id": "40b9ebf2"
   },
   "source": [
    "**Задание 9. В столбце `children` есть два аномальных значения. Удалите строки, в которых встречаются такие аномальные значения из датафрейма `data`.**"
   ]
  },
  {
   "cell_type": "code",
   "execution_count": 9,
   "id": "8998a81c",
   "metadata": {
    "deletable": false,
    "id": "3ff9801d"
   },
   "outputs": [],
   "source": [
    "data = data[(data['children'] != -1) & (data['children'] != 20)]"
   ]
  },
  {
   "cell_type": "markdown",
   "id": "c691e0f4",
   "metadata": {
    "deletable": false,
    "editable": false,
    "id": "bbc4d0ce"
   },
   "source": [
    "**Задание 10. Ещё раз выведите перечень уникальных значений столбца `children`, чтобы убедиться, что артефакты удалены.**"
   ]
  },
  {
   "cell_type": "code",
   "execution_count": 10,
   "id": "0fea7f53",
   "metadata": {
    "deletable": false,
    "id": "ad4fa8b7",
    "outputId": "b2097101-d49d-44d9-901b-32a65c9463d1"
   },
   "outputs": [
    {
     "data": {
      "text/plain": [
       "array([1, 0, 3, 2, 4, 5])"
      ]
     },
     "execution_count": 10,
     "metadata": {},
     "output_type": "execute_result"
    }
   ],
   "source": [
    "data['children'].unique()"
   ]
  },
  {
   "cell_type": "markdown",
   "id": "ee756e86",
   "metadata": {
    "deletable": false,
    "editable": false,
    "id": "75440b63"
   },
   "source": [
    "### Удаление пропусков (продолжение)"
   ]
  },
  {
   "cell_type": "markdown",
   "id": "90aa0f3b",
   "metadata": {
    "deletable": false,
    "editable": false,
    "id": "f4ea573f"
   },
   "source": [
    "**Задание 11. Заполните пропуски в столбце `days_employed` медианными значениями по каждого типа занятости `income_type`.**"
   ]
  },
  {
   "cell_type": "code",
   "execution_count": 11,
   "id": "e589152e",
   "metadata": {
    "deletable": false,
    "id": "af6b1a7e"
   },
   "outputs": [],
   "source": [
    "for t in data['income_type'].unique():\n",
    "    data.loc[(data['income_type'] == t) & (data['days_employed'].isna()), 'days_employed'] = \\\n",
    "    data.loc[(data['income_type'] == t), 'days_employed'].median()"
   ]
  },
  {
   "cell_type": "markdown",
   "id": "15a84b3e",
   "metadata": {
    "deletable": false,
    "editable": false,
    "id": "2753f40d"
   },
   "source": [
    "**Задание 12. Убедитесь, что все пропуски заполнены. Проверьте себя и ещё раз выведите количество пропущенных значений для каждого столбца с помощью двух методов.**"
   ]
  },
  {
   "cell_type": "code",
   "execution_count": 12,
   "id": "4c19a509",
   "metadata": {
    "deletable": false,
    "id": "55f78bc2",
    "outputId": "8da1e4e1-358e-4e87-98c9-f261bce0a7b2"
   },
   "outputs": [
    {
     "data": {
      "text/plain": [
       "children            0\n",
       "days_employed       0\n",
       "dob_years           0\n",
       "education           0\n",
       "education_id        0\n",
       "family_status       0\n",
       "family_status_id    0\n",
       "gender              0\n",
       "income_type         0\n",
       "debt                0\n",
       "total_income        0\n",
       "purpose             0\n",
       "dtype: int64"
      ]
     },
     "execution_count": 12,
     "metadata": {},
     "output_type": "execute_result"
    }
   ],
   "source": [
    "data.isna().sum()"
   ]
  },
  {
   "cell_type": "markdown",
   "id": "9b634a43",
   "metadata": {
    "deletable": false,
    "editable": false,
    "id": "ddc81e43"
   },
   "source": [
    "### Изменение типов данных"
   ]
  },
  {
   "cell_type": "markdown",
   "id": "b29c7084",
   "metadata": {
    "deletable": false,
    "editable": false,
    "id": "42d19d24"
   },
   "source": [
    "**Задание 13. Замените вещественный тип данных в столбце `total_income` на целочисленный с помощью метода `astype()`.**"
   ]
  },
  {
   "cell_type": "code",
   "execution_count": 13,
   "id": "d9ed66c8",
   "metadata": {
    "deletable": false,
    "id": "920b65ad"
   },
   "outputs": [],
   "source": [
    "data['total_income'] = data['total_income'].astype(int)"
   ]
  },
  {
   "cell_type": "markdown",
   "id": "aa44eac7",
   "metadata": {
    "deletable": false,
    "editable": false,
    "id": "80c420ba"
   },
   "source": [
    "### Обработка дубликатов"
   ]
  },
  {
   "cell_type": "markdown",
   "id": "d780da8d",
   "metadata": {
    "deletable": false,
    "editable": false
   },
   "source": [
    "**Задание 14. Обработайте неявные дубликаты в столбце `education`. В этом столбце есть одни и те же значения, но записанные по-разному: с использованием заглавных и строчных букв. Приведите их к нижнему регистру. Проверьте остальные столбцы.**"
   ]
  },
  {
   "cell_type": "code",
   "execution_count": 14,
   "id": "60d348ae",
   "metadata": {
    "deletable": false
   },
   "outputs": [],
   "source": [
    "data['education'] = data['education'].str.lower()"
   ]
  },
  {
   "cell_type": "markdown",
   "id": "abf79630",
   "metadata": {
    "deletable": false,
    "editable": false,
    "id": "dc587695"
   },
   "source": [
    "**Задание 15. Выведите на экран количество строк-дубликатов в данных. Если такие строки присутствуют, удалите их.**"
   ]
  },
  {
   "cell_type": "code",
   "execution_count": 15,
   "id": "f4efc5c1",
   "metadata": {
    "deletable": false,
    "id": "3ee445e4",
    "outputId": "9684deba-1934-42d1-99e1-cda61740f822"
   },
   "outputs": [
    {
     "data": {
      "text/plain": [
       "71"
      ]
     },
     "execution_count": 15,
     "metadata": {},
     "output_type": "execute_result"
    }
   ],
   "source": [
    "data.duplicated().sum()"
   ]
  },
  {
   "cell_type": "code",
   "execution_count": 16,
   "id": "cf4dd5df",
   "metadata": {
    "deletable": false,
    "id": "8575fe05"
   },
   "outputs": [],
   "source": [
    "data = data.drop_duplicates()"
   ]
  },
  {
   "cell_type": "markdown",
   "id": "abd62df2",
   "metadata": {
    "deletable": false,
    "editable": false,
    "id": "9904cf55"
   },
   "source": [
    "### Категоризация данных"
   ]
  },
  {
   "cell_type": "markdown",
   "id": "9713a214",
   "metadata": {
    "deletable": false,
    "editable": false,
    "id": "72fcc8a2"
   },
   "source": [
    "**Задание 16. На основании диапазонов, указанных ниже, создайте в датафрейме `data` столбец `total_income_category` с категориями:**\n",
    "\n",
    "- 0–30000 — `'E'`;\n",
    "- 30001–50000 — `'D'`;\n",
    "- 50001–200000 — `'C'`;\n",
    "- 200001–1000000 — `'B'`;\n",
    "- 1000001 и выше — `'A'`.\n",
    "\n",
    "\n",
    "**Например, кредитополучателю с доходом 25000 нужно назначить категорию `'E'`, а клиенту, получающему 235000, — `'B'`. Используйте собственную функцию с именем `categorize_income()` и метод `apply()`.**"
   ]
  },
  {
   "cell_type": "code",
   "execution_count": 17,
   "id": "cd866e2e",
   "metadata": {
    "deletable": false,
    "id": "e1771346"
   },
   "outputs": [],
   "source": [
    "def categorize_income(income):\n",
    "    try:\n",
    "        if 0 <= income <= 30000:\n",
    "            return 'E'\n",
    "        elif 30001 <= income <= 50000:\n",
    "            return 'D'\n",
    "        elif 50001 <= income <= 200000:\n",
    "            return 'C'\n",
    "        elif 200001 <= income <= 1000000:\n",
    "            return 'B'\n",
    "        elif income >= 1000001:\n",
    "            return 'A'\n",
    "    except:\n",
    "        pass"
   ]
  },
  {
   "cell_type": "code",
   "execution_count": 18,
   "id": "eb3e52be",
   "metadata": {
    "deletable": false,
    "id": "d5f3586d"
   },
   "outputs": [],
   "source": [
    "data['total_income_category'] = data['total_income'].apply(categorize_income)"
   ]
  },
  {
   "cell_type": "markdown",
   "id": "db16e021",
   "metadata": {
    "deletable": false,
    "editable": false,
    "id": "dde49b5c"
   },
   "source": [
    "**Задание 17. Выведите на экран перечень уникальных целей взятия кредита из столбца `purpose`.**"
   ]
  },
  {
   "cell_type": "code",
   "execution_count": 19,
   "id": "52155dcb",
   "metadata": {
    "deletable": false,
    "id": "f67ce9b3",
    "outputId": "673c12d9-7d7e-4ae0-9812-c622c89dd244"
   },
   "outputs": [
    {
     "data": {
      "text/plain": [
       "array(['покупка жилья', 'приобретение автомобиля',\n",
       "       'дополнительное образование', 'сыграть свадьбу',\n",
       "       'операции с жильем', 'образование', 'на проведение свадьбы',\n",
       "       'покупка жилья для семьи', 'покупка недвижимости',\n",
       "       'покупка коммерческой недвижимости', 'покупка жилой недвижимости',\n",
       "       'строительство собственной недвижимости', 'недвижимость',\n",
       "       'строительство недвижимости', 'на покупку подержанного автомобиля',\n",
       "       'на покупку своего автомобиля',\n",
       "       'операции с коммерческой недвижимостью',\n",
       "       'строительство жилой недвижимости', 'жилье',\n",
       "       'операции со своей недвижимостью', 'автомобили',\n",
       "       'заняться образованием', 'сделка с подержанным автомобилем',\n",
       "       'получение образования', 'автомобиль', 'свадьба',\n",
       "       'получение дополнительного образования', 'покупка своего жилья',\n",
       "       'операции с недвижимостью', 'получение высшего образования',\n",
       "       'свой автомобиль', 'сделка с автомобилем',\n",
       "       'профильное образование', 'высшее образование',\n",
       "       'покупка жилья для сдачи', 'на покупку автомобиля', 'ремонт жилью',\n",
       "       'заняться высшим образованием'], dtype=object)"
      ]
     },
     "execution_count": 19,
     "metadata": {},
     "output_type": "execute_result"
    }
   ],
   "source": [
    "data['purpose'].unique()"
   ]
  },
  {
   "cell_type": "markdown",
   "id": "ba78b7f3",
   "metadata": {
    "deletable": false,
    "editable": false,
    "id": "85d0aef0"
   },
   "source": [
    "**Задание 18. Создайте функцию, которая на основании данных из столбца `purpose` сформирует новый столбец `purpose_category`, в который войдут следующие категории:**\n",
    "\n",
    "- `'операции с автомобилем'`,\n",
    "- `'операции с недвижимостью'`,\n",
    "- `'проведение свадьбы'`,\n",
    "- `'получение образования'`.\n",
    "\n",
    "**Например, если в столбце `purpose` находится подстрока `'на покупку автомобиля'`, то в столбце `purpose_category` должна появиться строка `'операции с автомобилем'`.**\n",
    "\n",
    "**Используйте собственную функцию с именем `categorize_purpose()` и метод `apply()`. Изучите данные в столбце `purpose` и определите, какие подстроки помогут вам правильно определить категорию.**"
   ]
  },
  {
   "cell_type": "code",
   "execution_count": 20,
   "id": "21048f7d",
   "metadata": {
    "deletable": false,
    "id": "e149fab4"
   },
   "outputs": [],
   "source": [
    "def categorize_purpose(row):\n",
    "    try:\n",
    "        if 'автом' in row:\n",
    "            return 'операции с автомобилем'\n",
    "        elif 'жил' in row or 'недвиж' in row:\n",
    "            return 'операции с недвижимостью'\n",
    "        elif 'свад' in row:\n",
    "            return 'проведение свадьбы'\n",
    "        elif 'образов' in row:\n",
    "            return 'получение образования'\n",
    "    except:\n",
    "        return 'нет категории'"
   ]
  },
  {
   "cell_type": "code",
   "execution_count": 21,
   "id": "a0c86f42",
   "metadata": {
    "deletable": false,
    "id": "bf36e69b"
   },
   "outputs": [],
   "source": [
    "data['purpose_category'] = data['purpose'].apply(categorize_purpose)"
   ]
  },
  {
   "cell_type": "markdown",
   "id": "b1011239",
   "metadata": {
    "deletable": false,
    "editable": false,
    "id": "09b242bf"
   },
   "source": [
    "### Шаг 3. Исследуйте данные и ответьте на вопросы"
   ]
  },
  {
   "cell_type": "markdown",
   "id": "d0e97fda",
   "metadata": {},
   "source": [
    "<div class=\"alert alert-danger\">\n",
    "<b>Комментарий ревьюера №1</b> ❌ Замечание по всему разделу ответов на вопросы \n",
    "    \n",
    "В каждом вопросе нужно вывести сводную. Здесь можно воспользоваться `pivot_table()`.\n",
    "    \n",
    "Чтобы найти долю должников, нужно количество должников поделить на общее число заемщиков. Эту долю можно найти с помощью функции агрегации `mean`\n",
    "    \n",
    "Попробуй получить сводную следующего вида. В индексе столбец, который исследуем (в первом вопросе это количество детей), а столбцы: 'Всего кредитополучателей', 'Всего должников', 'Доля должников'. Учитывай, что использовать параметр columns необязательно, а в параметр aggfunc можно указывать несколько функций агрегации сразу.\n",
    "\n",
    "Также могу посоветовать переименовать столбцы и написать функцию для построения сводных во всех вопросах.\n",
    "</div>"
   ]
  },
  {
   "cell_type": "markdown",
   "id": "80e42049",
   "metadata": {},
   "source": [
    "<div class=\"alert alert-info\">\n",
    "<b>Комментарий студента №1</b>\n",
    "    \n",
    "Добавила метод перед началом задач, который будет возвращать сводную таблицу. Добавила в каждое задание ещё один блок с кодом, который пометила как вариант 2\n",
    "</div>"
   ]
  },
  {
   "cell_type": "code",
   "execution_count": 22,
   "id": "1bbca51b",
   "metadata": {},
   "outputs": [],
   "source": [
    "# Универсальный метод для дальнейших задач анализа,который будет возвращать красивую сводную таблицу\n",
    "def form_pivot_table(data, group_by_value):\n",
    "    # Формируем сводную таблицу\n",
    "    temp_for_pivot_table = data.pivot_table(index = [group_by_value], values = 'debt', aggfunc = {'count','sum','mean'})\n",
    "    # Переименовываем столбцы для удобства\n",
    "    temp_for_pivot_table = temp_for_pivot_table.rename(columns={'count':'Всего кредитополучателей','sum':'Всего должников','mean':'Доля должников'}) \n",
    "    # Сортируем по значениям, по которым группируем\n",
    "    temp_for_pivot_table = temp_for_pivot_table.sort_values(by=group_by_value) \n",
    "    return temp_for_pivot_table[['Всего кредитополучателей','Всего должников', 'Доля должников']]"
   ]
  },
  {
   "cell_type": "markdown",
   "id": "74f770f4",
   "metadata": {
    "deletable": false,
    "editable": false,
    "id": "c5d66278"
   },
   "source": [
    "#### 3.1 Есть ли зависимость между количеством детей и возвратом кредита в срок?"
   ]
  },
  {
   "cell_type": "code",
   "execution_count": 23,
   "id": "cf98d36a",
   "metadata": {},
   "outputs": [
    {
     "name": "stdout",
     "output_type": "stream",
     "text": [
      "Кол-во детей: 0, процент просрочек: 7.54%\n",
      "Кол-во детей: 1, процент просрочек: 9.23%\n",
      "Кол-во детей: 2, процент просрочек: 9.45%\n",
      "Кол-во детей: 3, процент просрочек: 8.18%\n",
      "Кол-во детей: 4, процент просрочек: 9.76%\n",
      "Кол-во детей: 5, процент просрочек: nan%\n"
     ]
    }
   ],
   "source": [
    "# ************ 1 вариант решения (до ревью) ************\n",
    "\n",
    "# поймём, какие категории по кол-ву детей есть\n",
    "children_quantitys = sorted(data['children'].unique())\n",
    "# print(children_quantitys) \n",
    "# Т.к. вариантов не много, можем не объединять разное кол-во детей в отдельные категории\n",
    "# Выведем информацию в виде сводной таблицы, где:\n",
    "# Группировка будет по кол-ву детей: index=['children']\n",
    "# Группируем значения по значениям задолженности: columns='debt'\n",
    "# В качестве значений будет кол-во клиентов*: values = 'purpose'\n",
    "# Кол-во клиентов находим через аггрегирующую функцию count: aggfunc='count'\n",
    "data_pivot = data.pivot_table(index=['children'], columns='debt', values = 'purpose', aggfunc='count')\n",
    "# print(data_pivot) # посмотрим, что получилось\n",
    "# *В values можем положить любой столбец кроме children и debt, это не повлияет на результат\n",
    "\n",
    "# Переберём children_quantitys и посчитаем процент заложенностей по каждому:\n",
    "for children_quantity in children_quantitys:\n",
    "    result = data_pivot[1][children_quantity] / (data_pivot[1][children_quantity] + data_pivot[0][children_quantity])\n",
    "    print(f'Кол-во детей: {children_quantity}, процент просрочек: {result*100:.2f}%')"
   ]
  },
  {
   "cell_type": "code",
   "execution_count": 24,
   "id": "7c5906a3",
   "metadata": {
    "deletable": false,
    "id": "2cacfc4a"
   },
   "outputs": [
    {
     "data": {
      "text/html": [
       "<div>\n",
       "<style scoped>\n",
       "    .dataframe tbody tr th:only-of-type {\n",
       "        vertical-align: middle;\n",
       "    }\n",
       "\n",
       "    .dataframe tbody tr th {\n",
       "        vertical-align: top;\n",
       "    }\n",
       "\n",
       "    .dataframe thead th {\n",
       "        text-align: right;\n",
       "    }\n",
       "</style>\n",
       "<table border=\"1\" class=\"dataframe\">\n",
       "  <thead>\n",
       "    <tr style=\"text-align: right;\">\n",
       "      <th></th>\n",
       "      <th>Всего кредитополучателей</th>\n",
       "      <th>Всего должников</th>\n",
       "      <th>Доля должников</th>\n",
       "    </tr>\n",
       "    <tr>\n",
       "      <th>children</th>\n",
       "      <th></th>\n",
       "      <th></th>\n",
       "      <th></th>\n",
       "    </tr>\n",
       "  </thead>\n",
       "  <tbody>\n",
       "    <tr>\n",
       "      <th>0</th>\n",
       "      <td>14091.0</td>\n",
       "      <td>1063.0</td>\n",
       "      <td>0.075438</td>\n",
       "    </tr>\n",
       "    <tr>\n",
       "      <th>1</th>\n",
       "      <td>4808.0</td>\n",
       "      <td>444.0</td>\n",
       "      <td>0.092346</td>\n",
       "    </tr>\n",
       "    <tr>\n",
       "      <th>2</th>\n",
       "      <td>2052.0</td>\n",
       "      <td>194.0</td>\n",
       "      <td>0.094542</td>\n",
       "    </tr>\n",
       "    <tr>\n",
       "      <th>3</th>\n",
       "      <td>330.0</td>\n",
       "      <td>27.0</td>\n",
       "      <td>0.081818</td>\n",
       "    </tr>\n",
       "    <tr>\n",
       "      <th>4</th>\n",
       "      <td>41.0</td>\n",
       "      <td>4.0</td>\n",
       "      <td>0.097561</td>\n",
       "    </tr>\n",
       "    <tr>\n",
       "      <th>5</th>\n",
       "      <td>9.0</td>\n",
       "      <td>0.0</td>\n",
       "      <td>0.000000</td>\n",
       "    </tr>\n",
       "  </tbody>\n",
       "</table>\n",
       "</div>"
      ],
      "text/plain": [
       "          Всего кредитополучателей  Всего должников  Доля должников\n",
       "children                                                           \n",
       "0                          14091.0           1063.0        0.075438\n",
       "1                           4808.0            444.0        0.092346\n",
       "2                           2052.0            194.0        0.094542\n",
       "3                            330.0             27.0        0.081818\n",
       "4                             41.0              4.0        0.097561\n",
       "5                              9.0              0.0        0.000000"
      ]
     },
     "execution_count": 24,
     "metadata": {},
     "output_type": "execute_result"
    }
   ],
   "source": [
    "# ************ 2 вариант решения (после 1 ревью) ************\n",
    "\n",
    "form_pivot_table(data, 'children')"
   ]
  },
  {
   "cell_type": "markdown",
   "id": "73010ffd",
   "metadata": {
    "deletable": false,
    "id": "3a6b99ec"
   },
   "source": [
    "**Вывод:**\n",
    "Самое первое, что бросается в глаза - процент просрочек у клиентов, у которых 5 детей. Так произошло по той причине, что у нас слишком маленькая выборка по такой категории:"
   ]
  },
  {
   "cell_type": "code",
   "execution_count": 25,
   "id": "01c5e53f",
   "metadata": {},
   "outputs": [
    {
     "data": {
      "text/plain": [
       "0    14091\n",
       "1     4808\n",
       "2     2052\n",
       "3      330\n",
       "4       41\n",
       "5        9\n",
       "Name: children, dtype: int64"
      ]
     },
     "execution_count": 25,
     "metadata": {},
     "output_type": "execute_result"
    }
   ],
   "source": [
    "data['children'].value_counts()"
   ]
  },
  {
   "cell_type": "markdown",
   "id": "0860939e",
   "metadata": {},
   "source": [
    "По той же причине анализ клиентов, имеющих 3 и 4 детей может быть менее точным, но с другой стороны, такая выборка может быть обусловлена тем, что сейчас 1-2 ребёнка в семье - ситуация более распространённая, чем 3 и более.\n",
    "Касательно итоговых результатов, с учётом малой выборки, видна тенденция, что чем больше детей в семье, тем чаще просрочки по кредиту. Это может быть обусловлено тем, что расходы семьи при наличии детей сложнее планировать:\n",
    "- Дети растут и нужно постоянно покупать новую одежду и обувь\n",
    "- Увеличиваются расходы на продукты питания\n",
    "- Увеличиваются расходы на медицину\n",
    "- И самое интересное для родителей - увеличиваются расходы на развлечения, досуг и игрушки"
   ]
  },
  {
   "cell_type": "markdown",
   "id": "c9bc9a02",
   "metadata": {},
   "source": [
    "<div class=\"alert alert-success\">\n",
    "<b>Комментарий ревьюера №1</b> ✅\n",
    "    \n",
    "Хорошо\n",
    "</div>"
   ]
  },
  {
   "cell_type": "markdown",
   "id": "eff6f6c4",
   "metadata": {},
   "source": [
    "#### 3.2 Есть ли зависимость между семейным положением и возвратом кредита в срок?"
   ]
  },
  {
   "cell_type": "code",
   "execution_count": 26,
   "id": "1fc7bdaa",
   "metadata": {
    "deletable": false,
    "id": "dc3f7ee8"
   },
   "outputs": [
    {
     "name": "stdout",
     "output_type": "stream",
     "text": [
      "Семейное положение: Не женат / не замужем, процент просрочек: 9.76%\n",
      "Семейное положение: в разводе, процент просрочек: 7.06%\n",
      "Семейное положение: вдовец / вдова, процент просрочек: 6.62%\n",
      "Семейное положение: гражданский брак, процент просрочек: 9.31%\n",
      "Семейное положение: женат / замужем, процент просрочек: 7.56%\n"
     ]
    }
   ],
   "source": [
    "# ************ 1 вариант решения (до ревью) ************\n",
    "\n",
    "# поймём, какие категории по есть по семейным статусам\n",
    "family_statuses = sorted(data['family_status'].unique())\n",
    "# print(family_statuses)\n",
    "# Также есть поле family_status_id\n",
    "family_status_ids = sorted(data['family_status_id'].unique())\n",
    "# print(family_status_ids)\n",
    "# Видим, что есть пять статусов и пять идентификаторов, при этом нет дубликатов\n",
    "\n",
    "# Выведем информацию в виде сводной таблицы, где:\n",
    "# Группировка будет по семейному положению: index=['family_status']\n",
    "# Группируем значения по значениям задолженности: columns='debt'\n",
    "# В качестве значений будет кол-во клиентов*: values = 'purpose'\n",
    "# Кол-во клиентов находим через аггрегирующую функцию count: aggfunc='count'\n",
    "data_pivot = data.pivot_table(index=['family_status'], columns='debt', values = 'purpose', aggfunc='count')\n",
    "# print(data_pivot) # посмотрим, что получилось\n",
    "\n",
    "# Переберём family_statuses и посчитаем процент заложенностей по каждому:\n",
    "for family_status in family_statuses:\n",
    "    result = data_pivot[1][family_status] / (data_pivot[1][family_status] + data_pivot[0][family_status])\n",
    "    print(f'Семейное положение: {family_status}, процент просрочек: {result*100:.2f}%')"
   ]
  },
  {
   "cell_type": "code",
   "execution_count": 27,
   "id": "bcb21153",
   "metadata": {},
   "outputs": [
    {
     "data": {
      "text/html": [
       "<div>\n",
       "<style scoped>\n",
       "    .dataframe tbody tr th:only-of-type {\n",
       "        vertical-align: middle;\n",
       "    }\n",
       "\n",
       "    .dataframe tbody tr th {\n",
       "        vertical-align: top;\n",
       "    }\n",
       "\n",
       "    .dataframe thead th {\n",
       "        text-align: right;\n",
       "    }\n",
       "</style>\n",
       "<table border=\"1\" class=\"dataframe\">\n",
       "  <thead>\n",
       "    <tr style=\"text-align: right;\">\n",
       "      <th></th>\n",
       "      <th>Всего кредитополучателей</th>\n",
       "      <th>Всего должников</th>\n",
       "      <th>Доля должников</th>\n",
       "    </tr>\n",
       "    <tr>\n",
       "      <th>family_status</th>\n",
       "      <th></th>\n",
       "      <th></th>\n",
       "      <th></th>\n",
       "    </tr>\n",
       "  </thead>\n",
       "  <tbody>\n",
       "    <tr>\n",
       "      <th>Не женат / не замужем</th>\n",
       "      <td>2796.0</td>\n",
       "      <td>273.0</td>\n",
       "      <td>0.097639</td>\n",
       "    </tr>\n",
       "    <tr>\n",
       "      <th>в разводе</th>\n",
       "      <td>1189.0</td>\n",
       "      <td>84.0</td>\n",
       "      <td>0.070648</td>\n",
       "    </tr>\n",
       "    <tr>\n",
       "      <th>вдовец / вдова</th>\n",
       "      <td>951.0</td>\n",
       "      <td>63.0</td>\n",
       "      <td>0.066246</td>\n",
       "    </tr>\n",
       "    <tr>\n",
       "      <th>гражданский брак</th>\n",
       "      <td>4134.0</td>\n",
       "      <td>385.0</td>\n",
       "      <td>0.093130</td>\n",
       "    </tr>\n",
       "    <tr>\n",
       "      <th>женат / замужем</th>\n",
       "      <td>12261.0</td>\n",
       "      <td>927.0</td>\n",
       "      <td>0.075606</td>\n",
       "    </tr>\n",
       "  </tbody>\n",
       "</table>\n",
       "</div>"
      ],
      "text/plain": [
       "                       Всего кредитополучателей  Всего должников  \\\n",
       "family_status                                                      \n",
       "Не женат / не замужем                    2796.0            273.0   \n",
       "в разводе                                1189.0             84.0   \n",
       "вдовец / вдова                            951.0             63.0   \n",
       "гражданский брак                         4134.0            385.0   \n",
       "женат / замужем                         12261.0            927.0   \n",
       "\n",
       "                       Доля должников  \n",
       "family_status                          \n",
       "Не женат / не замужем        0.097639  \n",
       "в разводе                    0.070648  \n",
       "вдовец / вдова               0.066246  \n",
       "гражданский брак             0.093130  \n",
       "женат / замужем              0.075606  "
      ]
     },
     "execution_count": 27,
     "metadata": {},
     "output_type": "execute_result"
    }
   ],
   "source": [
    "# ************ 2 вариант решения (после 1 ревью) ************\n",
    "\n",
    "form_pivot_table(data, 'family_status')"
   ]
  },
  {
   "cell_type": "markdown",
   "id": "965091e9",
   "metadata": {
    "deletable": false,
    "id": "1cef7837"
   },
   "source": [
    "**Вывод:** Аналогично с предыдущим заданием, оценим равномерность выборки:"
   ]
  },
  {
   "cell_type": "code",
   "execution_count": 28,
   "id": "2b1438f5",
   "metadata": {},
   "outputs": [
    {
     "data": {
      "text/plain": [
       "женат / замужем          12261\n",
       "гражданский брак          4134\n",
       "Не женат / не замужем     2796\n",
       "в разводе                 1189\n",
       "вдовец / вдова             951\n",
       "Name: family_status, dtype: int64"
      ]
     },
     "execution_count": 28,
     "metadata": {},
     "output_type": "execute_result"
    }
   ],
   "source": [
    "data['family_status'].value_counts()"
   ]
  },
  {
   "cell_type": "markdown",
   "id": "c5b871d7",
   "metadata": {},
   "source": [
    "~~При оценке по семейному положению выборка более равномерная, чем в предыдущем случае.~~\n",
    "\n",
    "~~В результатах есть закономерность, выделяются два \"лагеря\":~~\n",
    "~~1. Свободные люди (не женат / не замужем и гражданский брак (при учёте, если понимаем прод этим сожительство без оформления брака, а не классическое определение))~~\n",
    "~~2. Семейные люди (женат / замужем, в разводе и вдовец / вдова)\n",
    "Средний процент просрочек первой категории = 9.535%, второй = 7.08%, разница между ними = 2.455%~~\n",
    "\n",
    "~~Почему так могло произойти. Как правило, люди, которые не создают в принципе (не женат / не замужем) или официально (гражданский брак) семью ещё молоды => могут быть проблемы со стабильной хорошо оплачиваемой работой, скорее всего, может отсутсвовать опыт ведения собственного бюджета или даже пробелы в финансовой грамотности.  \n",
    "Люди семейные так или иначе сталкивались с вопросами планирования и распределения денег на некоторый период, поэтому им может быть легче с погашением в срок. Более того, как правило официально заводят семью люди, имеющие возможность её обеспечить финансово собственными силами, у них есть работа / сбережения / возможность \"жить на зарплату одного, гасить задолженность с зарплаты другого\".~~\n"
   ]
  },
  {
   "cell_type": "markdown",
   "id": "45d0ca70",
   "metadata": {},
   "source": [
    "<div class=\"alert alert-danger\">\n",
    "<b>Комментарий ревьюера №1</b> ❌\n",
    "    \n",
    "Среднее от среднего находить нельзя, оно будет отличаться от среднего без группировки. \n",
    "</div>"
   ]
  },
  {
   "cell_type": "markdown",
   "id": "cbc93e50",
   "metadata": {},
   "source": [
    "<div class=\"alert alert-info\">\n",
    "<b>Комментарий студента №2</b>\n",
    "    \n",
    "Убрала из вывода оценку среднего от среднего, в остальном вывод тот же\n",
    "</div>"
   ]
  },
  {
   "cell_type": "markdown",
   "id": "0c87863e",
   "metadata": {},
   "source": [
    "Вывод после 1 ревью:\n",
    "\n",
    "При оценке по семейному положению выборка более равномерная, чем в предыдущем случае.\n",
    "\n",
    "Как правило, люди, которые не создают в принципе (не женат / не замужем) или официально (гражданский брак) семью ещё молоды => могут быть проблемы со стабильной хорошо оплачиваемой работой, скорее всего, может отсутсвовать опыт ведения собственного бюджета или даже пробелы в финансовой грамотности.\n",
    "Люди семейные так или иначе сталкивались с вопросами планирования и распределения денег на некоторый период, поэтому им может быть легче с погашением в срок. Более того, как правило официально заводят семью люди, имеющие возможность её обеспечить финансово собственными силами, у них есть работа / сбережения / возможность \"жить на зарплату одного, гасить задолженность с зарплаты другого\".\n",
    "\n"
   ]
  },
  {
   "cell_type": "markdown",
   "id": "bc1e8a26",
   "metadata": {},
   "source": [
    "<div class=\"alert alert-success\">\n",
    "<b>Комментарий ревьюера №2</b> ✅\n",
    "    \n",
    "Люди, побывавшие в официальном браке, наиболее надежны. Возможно, есть связь с возрастом\n",
    "</div>"
   ]
  },
  {
   "cell_type": "markdown",
   "id": "4e1ad1a3",
   "metadata": {
    "deletable": false,
    "editable": false,
    "id": "1e8b2fca"
   },
   "source": [
    "#### 3.3 Есть ли зависимость между уровнем дохода и возвратом кредита в срок?"
   ]
  },
  {
   "cell_type": "code",
   "execution_count": 29,
   "id": "691052a0",
   "metadata": {
    "deletable": false,
    "id": "cd7e3720"
   },
   "outputs": [
    {
     "name": "stdout",
     "output_type": "stream",
     "text": [
      "Категория дохода: A, процент просрочек: 8.00%\n",
      "Категория дохода: B, процент просрочек: 7.06%\n",
      "Категория дохода: C, процент просрочек: 8.50%\n",
      "Категория дохода: D, процент просрочек: 6.02%\n",
      "Категория дохода: E, процент просрочек: 9.09%\n"
     ]
    }
   ],
   "source": [
    "# ************ 1 вариант решения (до ревью) ************\n",
    "\n",
    "# Ранее, в 16 задаче, уже были разбиты по категориям уровни дохода, ими и воспользуемся\n",
    "total_income_categories = sorted(data['total_income_category'].unique())\n",
    "# print(total_income_categories)\n",
    "\n",
    "# Выведем информацию в виде сводной таблицы, где:\n",
    "# Группировка будет по категориям дохода: index=['total_income_category']\n",
    "# Группируем значения по значениям задолженности: columns='debt'\n",
    "# В качестве значений будет кол-во клиентов*: values = 'purpose'\n",
    "# Кол-во клиентов находим через аггрегирующую функцию count: aggfunc='count'\n",
    "data_pivot = data.pivot_table(index=['total_income_category'], columns='debt', values = 'purpose', aggfunc='count')\n",
    "# print(data_pivot) # посмотрим, что получилось\n",
    "\n",
    "# Переберём family_statuses и посчитаем процент заложенностей по каждому:\n",
    "for total_income_category in total_income_categories:\n",
    "    result = data_pivot[1][total_income_category] / (data_pivot[1][total_income_category] + data_pivot[0][total_income_category])\n",
    "    print(f'Категория дохода: {total_income_category}, процент просрочек: {result*100:.2f}%')"
   ]
  },
  {
   "cell_type": "code",
   "execution_count": 30,
   "id": "8902afa1",
   "metadata": {},
   "outputs": [
    {
     "data": {
      "text/html": [
       "<div>\n",
       "<style scoped>\n",
       "    .dataframe tbody tr th:only-of-type {\n",
       "        vertical-align: middle;\n",
       "    }\n",
       "\n",
       "    .dataframe tbody tr th {\n",
       "        vertical-align: top;\n",
       "    }\n",
       "\n",
       "    .dataframe thead th {\n",
       "        text-align: right;\n",
       "    }\n",
       "</style>\n",
       "<table border=\"1\" class=\"dataframe\">\n",
       "  <thead>\n",
       "    <tr style=\"text-align: right;\">\n",
       "      <th></th>\n",
       "      <th>Всего кредитополучателей</th>\n",
       "      <th>Всего должников</th>\n",
       "      <th>Доля должников</th>\n",
       "    </tr>\n",
       "    <tr>\n",
       "      <th>total_income_category</th>\n",
       "      <th></th>\n",
       "      <th></th>\n",
       "      <th></th>\n",
       "    </tr>\n",
       "  </thead>\n",
       "  <tbody>\n",
       "    <tr>\n",
       "      <th>A</th>\n",
       "      <td>25.0</td>\n",
       "      <td>2.0</td>\n",
       "      <td>0.080000</td>\n",
       "    </tr>\n",
       "    <tr>\n",
       "      <th>B</th>\n",
       "      <td>5014.0</td>\n",
       "      <td>354.0</td>\n",
       "      <td>0.070602</td>\n",
       "    </tr>\n",
       "    <tr>\n",
       "      <th>C</th>\n",
       "      <td>15921.0</td>\n",
       "      <td>1353.0</td>\n",
       "      <td>0.084982</td>\n",
       "    </tr>\n",
       "    <tr>\n",
       "      <th>D</th>\n",
       "      <td>349.0</td>\n",
       "      <td>21.0</td>\n",
       "      <td>0.060172</td>\n",
       "    </tr>\n",
       "    <tr>\n",
       "      <th>E</th>\n",
       "      <td>22.0</td>\n",
       "      <td>2.0</td>\n",
       "      <td>0.090909</td>\n",
       "    </tr>\n",
       "  </tbody>\n",
       "</table>\n",
       "</div>"
      ],
      "text/plain": [
       "                       Всего кредитополучателей  Всего должников  \\\n",
       "total_income_category                                              \n",
       "A                                          25.0              2.0   \n",
       "B                                        5014.0            354.0   \n",
       "C                                       15921.0           1353.0   \n",
       "D                                         349.0             21.0   \n",
       "E                                          22.0              2.0   \n",
       "\n",
       "                       Доля должников  \n",
       "total_income_category                  \n",
       "A                            0.080000  \n",
       "B                            0.070602  \n",
       "C                            0.084982  \n",
       "D                            0.060172  \n",
       "E                            0.090909  "
      ]
     },
     "execution_count": 30,
     "metadata": {},
     "output_type": "execute_result"
    }
   ],
   "source": [
    "# ************ 2 вариант решения (после 1 ревью) ************\n",
    "\n",
    "form_pivot_table(data, 'total_income_category')"
   ]
  },
  {
   "cell_type": "markdown",
   "id": "fcac8b2f",
   "metadata": {
    "deletable": false,
    "id": "e8593def"
   },
   "source": [
    "**Вывод:** \n",
    "Ещё раз посмотрим вилки категорий:  \n",
    "0–30000 — 'E';  \n",
    "30001–50000 — 'D';  \n",
    "50001–200000 — 'C';  \n",
    "200001–1000000 — 'B';  \n",
    "1000001 и выше — 'A'.  \n",
    "Оценим равномерность выборки:"
   ]
  },
  {
   "cell_type": "code",
   "execution_count": 31,
   "id": "fc5bd007",
   "metadata": {},
   "outputs": [
    {
     "data": {
      "text/plain": [
       "C    15921\n",
       "B     5014\n",
       "D      349\n",
       "A       25\n",
       "E       22\n",
       "Name: total_income_category, dtype: int64"
      ]
     },
     "execution_count": 31,
     "metadata": {},
     "output_type": "execute_result"
    }
   ],
   "source": [
    "data['total_income_category'].value_counts()"
   ]
  },
  {
   "cell_type": "markdown",
   "id": "3e253204",
   "metadata": {},
   "source": [
    "Видим, что категориии A и E, как крайние, проседают относительно \"середины\", поэтому тут может быть погрешность. Например, странно, что категория B имеет меньший процент просрочек, чем категория A (отрыв в 0.94%), скорее всего, в действительности, клиентам из категории А проще закрыть кредит вовремя.  \n",
    "Дальше рассмотрим категорию E, процент просрочек у них наиболее высокий, отсюда можем сделать вывод, что если клиент получает 30 тысяч и меньше, получаем наибольшую вероятность просрочки.  \n",
    "Категории C и D наиболее близки к медианным значениям, но между их выборками тоже (как у A и B) большая разница, поэтому результат по категории D не соответствует реальности. Предположу, что фактическое значение на большей выборки будет где-то между 9.09% и 8.5%.\n",
    "\n",
    "Итого, получается, что, чем выше доход клиента, тем с большей вероятностью кредит будет погашен в срок.\n"
   ]
  },
  {
   "cell_type": "markdown",
   "id": "bed8ceb1",
   "metadata": {},
   "source": [
    "<div class=\"alert alert-success\">\n",
    "<b>Комментарий ревьюера №1</b> ✅\n",
    "    \n",
    "Здесь лучше делать выводы по двум самым крупным категориям - B и С. По остальным категориям данных недостаточно для корректных выводов, статпогрешность большая. Чем выше доход, тем ниже доля должников\n",
    "</div>"
   ]
  },
  {
   "cell_type": "markdown",
   "id": "b1bc1584",
   "metadata": {
    "deletable": false,
    "editable": false,
    "id": "99ecbd1f"
   },
   "source": [
    "#### 3.4 Как разные цели кредита влияют на его возврат в срок?"
   ]
  },
  {
   "cell_type": "code",
   "execution_count": 32,
   "id": "6387cbd6",
   "metadata": {
    "deletable": false,
    "id": "2b687290"
   },
   "outputs": [
    {
     "name": "stdout",
     "output_type": "stream",
     "text": [
      "Цель взятия кредита: операции с автомобилем, процент просрочек: 9.35%\n",
      "Цель взятия кредита: операции с недвижимостью, процент просрочек: 7.26%\n",
      "Цель взятия кредита: получение образования, процент просрочек: 9.25%\n",
      "Цель взятия кредита: проведение свадьбы, процент просрочек: 7.91%\n"
     ]
    }
   ],
   "source": [
    "# ************ 1 вариант решения (до ревью) ************\n",
    "\n",
    "# Ранее, в 18 задаче, уже были разбиты по категориям цели взятия кредита, ими и воспользуемся\n",
    "purpose_categories = sorted(data['purpose_category'].unique())\n",
    "# print(purpose_categories)\n",
    "\n",
    "# Выведем информацию в виде сводной таблицы, где:\n",
    "# Группировка будет по категориям цели взятия кредита: index=['purpose_category']\n",
    "# Группируем значения по значениям задолженности: columns='debt'\n",
    "# В качестве значений будет кол-во клиентов*: values = 'purpose'\n",
    "# Кол-во клиентов находим через аггрегирующую функцию count: aggfunc='count'\n",
    "data_pivot = data.pivot_table(index=['purpose_category'], columns='debt', values = 'purpose', aggfunc='count')\n",
    "# print(data_pivot) # посмотрим, что получилось\n",
    "\n",
    "# Переберём purpose_categories и посчитаем процент заложенностей по каждому:\n",
    "for purpose_category in purpose_categories:\n",
    "    result = data_pivot[1][purpose_category] / (data_pivot[1][purpose_category] + data_pivot[0][purpose_category])\n",
    "    print(f'Цель взятия кредита: {purpose_category}, процент просрочек: {result*100:.2f}%')"
   ]
  },
  {
   "cell_type": "code",
   "execution_count": 33,
   "id": "1a9ee062",
   "metadata": {},
   "outputs": [
    {
     "data": {
      "text/html": [
       "<div>\n",
       "<style scoped>\n",
       "    .dataframe tbody tr th:only-of-type {\n",
       "        vertical-align: middle;\n",
       "    }\n",
       "\n",
       "    .dataframe tbody tr th {\n",
       "        vertical-align: top;\n",
       "    }\n",
       "\n",
       "    .dataframe thead th {\n",
       "        text-align: right;\n",
       "    }\n",
       "</style>\n",
       "<table border=\"1\" class=\"dataframe\">\n",
       "  <thead>\n",
       "    <tr style=\"text-align: right;\">\n",
       "      <th></th>\n",
       "      <th>Всего кредитополучателей</th>\n",
       "      <th>Всего должников</th>\n",
       "      <th>Доля должников</th>\n",
       "    </tr>\n",
       "    <tr>\n",
       "      <th>purpose_category</th>\n",
       "      <th></th>\n",
       "      <th></th>\n",
       "      <th></th>\n",
       "    </tr>\n",
       "  </thead>\n",
       "  <tbody>\n",
       "    <tr>\n",
       "      <th>операции с автомобилем</th>\n",
       "      <td>4279.0</td>\n",
       "      <td>400.0</td>\n",
       "      <td>0.093480</td>\n",
       "    </tr>\n",
       "    <tr>\n",
       "      <th>операции с недвижимостью</th>\n",
       "      <td>10751.0</td>\n",
       "      <td>780.0</td>\n",
       "      <td>0.072551</td>\n",
       "    </tr>\n",
       "    <tr>\n",
       "      <th>получение образования</th>\n",
       "      <td>3988.0</td>\n",
       "      <td>369.0</td>\n",
       "      <td>0.092528</td>\n",
       "    </tr>\n",
       "    <tr>\n",
       "      <th>проведение свадьбы</th>\n",
       "      <td>2313.0</td>\n",
       "      <td>183.0</td>\n",
       "      <td>0.079118</td>\n",
       "    </tr>\n",
       "  </tbody>\n",
       "</table>\n",
       "</div>"
      ],
      "text/plain": [
       "                          Всего кредитополучателей  Всего должников  \\\n",
       "purpose_category                                                      \n",
       "операции с автомобилем                      4279.0            400.0   \n",
       "операции с недвижимостью                   10751.0            780.0   \n",
       "получение образования                       3988.0            369.0   \n",
       "проведение свадьбы                          2313.0            183.0   \n",
       "\n",
       "                          Доля должников  \n",
       "purpose_category                          \n",
       "операции с автомобилем          0.093480  \n",
       "операции с недвижимостью        0.072551  \n",
       "получение образования           0.092528  \n",
       "проведение свадьбы              0.079118  "
      ]
     },
     "execution_count": 33,
     "metadata": {},
     "output_type": "execute_result"
    }
   ],
   "source": [
    "# ************ 2 вариант решения (после 1 ревью) ************\n",
    "\n",
    "form_pivot_table(data, 'purpose_category')"
   ]
  },
  {
   "cell_type": "markdown",
   "id": "8d137f41",
   "metadata": {
    "deletable": false,
    "id": "b4bb2ce6"
   },
   "source": [
    "**Вывод:** Оценим равномерность выборки:"
   ]
  },
  {
   "cell_type": "code",
   "execution_count": 34,
   "id": "7aa0939b",
   "metadata": {},
   "outputs": [
    {
     "data": {
      "text/plain": [
       "операции с недвижимостью    10751\n",
       "операции с автомобилем       4279\n",
       "получение образования        3988\n",
       "проведение свадьбы           2313\n",
       "Name: purpose_category, dtype: int64"
      ]
     },
     "execution_count": 34,
     "metadata": {},
     "output_type": "execute_result"
    }
   ],
   "source": [
    "data['purpose_category'].value_counts()"
   ]
  },
  {
   "cell_type": "markdown",
   "id": "97fb102d",
   "metadata": {},
   "source": [
    "Выборка достаточно равномерна, более того, хорошо видно, что чаще всего кредиты берут на покупку недвижимости.\n",
    "\n",
    "Начнём с недвижимости. Как правило, покупка недвижимости - это очень крупная сделка, к которой нужно подготовиться морально и финансово, иначе её можно и не инициировать. Ввиду того, что такие кредиты берутся на десятилетия, клиенты очень ответственно к ним подходят, т.к. не хотят потерять жильё за непогашение кредита. Такие кредиты просрочиваются из-за непредвиденных обстоятельств на длинной дистанции (несчатный случай, сокращение и т.п.).  \n",
    "Следующая цель - проведение свадьбы. Специфика этого мероприятия - небольшая длительность по времени (как само событие, это чаще всего 1 день) относительно других целей и некоторый \"кешбек\" в виде подарков от гостей. В среднем, на организацию свадьбы тратят ~300 тысяч, что делает этот кредит ещё и самым маленьким по стоимости. И эти три фактора делают кредит на проведение свадьбы вторым по безопасности для банка.  \n",
    "Дальше с отрывом более чем в процент идут категории операции с автомобилем и получение образования. Продолжим с образованием. Средняя стоимость обучения на программах бакалавриата и специалитета на сегодняшний день составляет 184.5 тыс. рублей в год, это в среднем 738-922.5 тыс. рублей за весь период обучения. Если перевести на ежемесячный платёж - 14000. Эти цифры были без банковских процентов. Если обучение оплачивают родители, не каждая семья может себе позволить такие дополниельные расходы. Если же сами студенты, пытаясь совместить работу и учёбу, тут стоит уточнить, что на неполную ставку и без оконченного высшего или специального образования большие зарплаты не предлагают, поэтому, сумма платежа тоже не всем будт по карману.  \n",
    "Что с автомобилями, последнее время цены на авто сильно выросли, часть марок ушла с рынка и вместе с эти увеличился ассортимент китайских автомобилей => выбор, как и оценку фактической стоимости, стало сделать сложнее, клиенты вынуждены брать кредиты на большую сумму, чем они могли бы до изменений на рынке. Если принять во внимание качество материалов и сборки бюджетных и средних по стоимости авто, то клиент будет нести дополнительные расходы (не всегда ожидаемые) на ремонт.\n",
    "\n",
    "Безопаснее всего давать кредиты на покупку недвижимости или проведение свадьбы."
   ]
  },
  {
   "cell_type": "markdown",
   "id": "0743a244",
   "metadata": {},
   "source": [
    "<div class=\"alert alert-success\">\n",
    "<b>Комментарий ревьюера №1</b> ✅ \n",
    "    \n",
    "Верно\n",
    "</div>"
   ]
  },
  {
   "cell_type": "markdown",
   "id": "82e2475f",
   "metadata": {
    "deletable": false,
    "editable": false,
    "id": "09c3ac4c"
   },
   "source": [
    "#### 3.5 Приведите возможные причины появления пропусков в исходных данных."
   ]
  },
  {
   "cell_type": "markdown",
   "id": "8ab4797f",
   "metadata": {
    "deletable": false,
    "id": "9da2ceda"
   },
   "source": [
    "*Ответ:*  \n",
    "Пропуски могут возникнуть по нескольким причинам:\n",
    "1. Сбои в работе/операциях БД\n",
    "2. Ошибки при ручном заполнении оператором\n",
    "3. Ошибки при ручном заполнением через онлайн анкету на стороне web-сервиса\n",
    "4. Аппаратные проблемы"
   ]
  },
  {
   "cell_type": "markdown",
   "id": "63c955ca",
   "metadata": {},
   "source": [
    "<div class=\"alert alert-success\">\n",
    "<b>Комментарий ревьюера №1</b> ✅\n",
    "    \n",
    "Клиенты могли не предоставить данные. Возможно, эту информацию не требуют в некоторых случаях. Проблемы могли возникнуть на этапе загрузки и на этапе выгрузки данных. Неправильный запрос, объединение таблиц также может быть причиной.\n",
    "</div>"
   ]
  },
  {
   "cell_type": "markdown",
   "id": "14710cfd",
   "metadata": {},
   "source": [
    "#### 3.6 Объясните, почему заполнить пропуски медианным значением — лучшее решение для количественных переменных."
   ]
  },
  {
   "cell_type": "markdown",
   "id": "e2b1d5fb",
   "metadata": {
    "deletable": false,
    "id": "7ecf2b8e"
   },
   "source": [
    "*Ответ:*  \n",
    "Пропуски для количественных переменных можно обработать несколькими способами:\n",
    "- Оставить их как есть => получаем искажение в итоговых результатах\n",
    "- Удалить строки, где есть пропущенных значения => теряем часть выборки\n",
    "- Заполнить средним арифметическим значением => не плохой вариант, если нет артефактов (очень больших или очень маленьких значений относительно общей массы), если они есть, то заполнение будет не наиболее точным из возможного\n",
    "- Заполнить медианным значением => оптимальный вариант, которому не страшны артефакты\n",
    "\n",
    "И таким образом, медианное значение - наилучший вариант обработки пропусков."
   ]
  },
  {
   "cell_type": "markdown",
   "id": "294269ea",
   "metadata": {},
   "source": [
    "<div class=\"alert alert-success\">\n",
    "<b>Комментарий ревьюера №1</b> ✅\n",
    "    \n",
    "Да, смотрим на наличие выбросов👍\n",
    "</div>"
   ]
  },
  {
   "cell_type": "markdown",
   "id": "fc677197",
   "metadata": {
    "deletable": false,
    "editable": false,
    "id": "6db5255a"
   },
   "source": [
    "### Шаг 4: общий вывод."
   ]
  },
  {
   "cell_type": "markdown",
   "id": "426132dd",
   "metadata": {
    "deletable": false,
    "id": "bad65432"
   },
   "source": [
    "Для получения полезной информации из пула данных, необходимо провести эти данные через этап предобработки:\n",
    "1. Изучить имеющиеся данные\n",
    "2. Обработать пропуски\n",
    "3. Обработать явные и не явные дубликаты\n",
    "4. Категоризовать данные \n",
    "\n",
    "После того, как данные обработаны, можно переходить к их анализу для того, чтобы получить полезную для бизнеса информацию. В рамках исследования надёжности заёмщиков можем сделать ряд заключений по категориям заёмщиков, кто реже опаздывает с погашением кредита:\n",
    "1. \"Семейные\" клиенты\n",
    "2. Клиенты, чей доход начинается от 50001 рублей\n",
    "3. Клиенты, берущие кредит на покупку недвижимости или проведение свадьбы\n",
    "4. Клиенты без детей"
   ]
  },
  {
   "cell_type": "markdown",
   "id": "b8baec2a",
   "metadata": {},
   "source": [
    "<div class=\"alert alert-danger\">\n",
    "<b>Комментарий ревьюера №1</b> ❌\n",
    "\n",
    "Выводы по доходу нужно будет исправить. Опиши все зависимости. Здесь также нужно добавить рекомендации банку-заказчику\n",
    "\n",
    "</div>"
   ]
  },
  {
   "cell_type": "markdown",
   "id": "dc12f3ca",
   "metadata": {},
   "source": [
    "<div class=\"alert alert-info\">\n",
    "<b>Комментарий студента №3</b>\n",
    "    \n",
    "Ниже добавила дополнение по общему выводу с недостающей информацией. Если вывод всё же не тот, можно переформулировать часть комментария \"Выводы по доходу нужно будет Опиши все зависимости\"?\n",
    "</div>"
   ]
  },
  {
   "cell_type": "markdown",
   "id": "c504252a",
   "metadata": {},
   "source": [
    "Дополнения после 1 ревью:  \n",
    "\n",
    "**Подробнее про доходы клиента.**  \n",
    "Относительно точные показатели возможно дать только по клиентам, доходы которых относятся к категориям:  \n",
    "50001–200000 руб. — 'C'  \n",
    "200001–1000000 руб. — 'B'  \n",
    "Т.к. по остальным очень мало данных; кол-во клинетов по категориям их дохода:  \n",
    "C = 15921 чел.  \n",
    "B = 5014 чел.  \n",
    "D = 349 чел.  \n",
    "A = 25 чел.  \n",
    "E = 22 чел.  \n",
    "\n",
    "Исходя из того, что валидными для анализа остаются две категории:  \n",
    "Категория дохода: B, процент просрочек: 7.06%  \n",
    "Категория дохода: C, процент просрочек: 8.50%  \n",
    "Между ними есть зависимость: чем выше доход клиента, тем больше вероятность, что он не просрочит платёж.\n",
    "\n",
    "**Рекомендации банку-заказчику.**  \n",
    "Исходя из анализа имеющихся данных, можем выделить ряд рекомендаций, которые помогут снизить вероятность просрочек платежей банку-заказчику по кредитам:  \n",
    "1. Чем выше доход клиента, тем с большей вероятностью кредит будет погашен в срок\n",
    "2. Бездетные клиенты реже просрачивают платежи\n",
    "3. По ипотекам и кредитам на свадьбу просрочки реже, чем по кредитам на авто и образование\n",
    "4. Клиенты состоящие или состоявшие в браке отвественнее подходят к погашению платежей в срок\n",
    "\n",
    "**Портрет идеального клиента**, запрашивающего кредит - бездетный женатый/замужний клиент, имеющий доход категории B и выше, берущий ипотеку или кредит на свадьбу.  \n",
    "Т.к. клиентов, у которых доход начинается от 200 тыс. руб., меньше, чем клиентов среднего достатка (50-200 тыс. руб.), банк-заказчик потеряет много возможных сделок, поэтому одобрять кредиты только для \"идеального клиента\" не выгодно. В вопросе дохода клиента можно ориентироваться на общую рекомендацию №1 (из списка выше).\n"
   ]
  },
  {
   "cell_type": "markdown",
   "id": "525ff74b",
   "metadata": {},
   "source": [
    "<div class=\"alert alert-success\">\n",
    "<b>Комментарий ревьюера №2</b> ✅\n",
    "    \n",
    "В качестве рекомендаций можно предложить другую категоризацию по доходам. Или исследовать другие признаки, рассчитать другие метрики (отношение дохода к сумме выплат и др.). В анкете сделать поля о доходе и стаже обязательными к заполнению, добавить автопроверку на формат вводимых пользователем данных\n",
    "</div>"
   ]
  },
  {
   "cell_type": "markdown",
   "id": "75af07bb",
   "metadata": {},
   "source": [
    "<div style=\"border:solid purple 2px; padding: 20px\"> \n",
    "<b> <font color='purple' >   \n",
    "    \n",
    "В целом, работа хорошая. У тебя отличные аналитические навыки, но остались небольшие доработки. Нужно вывести сводные в каждом вопросе, проверить выводы. Доделывай и присылай на повторную проверку.\n",
    "        \n",
    "Жду твоих исправлений 😊\n",
    "</font></b>\n",
    "</div>"
   ]
  },
  {
   "cell_type": "markdown",
   "id": "507fa110",
   "metadata": {},
   "source": [
    "<div style=\"border:solid purple 2px; padding: 20px\"> \n",
    "<b> <font color='purple' >   \n",
    "Отлично! Критических замечаний больше нет. Проект принят! 👏 Поздравляю и желаю удачи!\n",
    "</font></b>\n",
    "</div>"
   ]
  }
 ],
 "metadata": {
  "ExecuteTimeLog": [
   {
    "duration": 753,
    "start_time": "2023-10-02T17:53:45.670Z"
   },
   {
    "duration": 27,
    "start_time": "2023-10-02T17:53:46.425Z"
   },
   {
    "duration": 23,
    "start_time": "2023-10-02T17:53:46.454Z"
   },
   {
    "duration": 12,
    "start_time": "2023-10-02T17:53:46.480Z"
   },
   {
    "duration": 40,
    "start_time": "2023-10-02T17:53:46.494Z"
   },
   {
    "duration": 4,
    "start_time": "2023-10-02T17:53:46.536Z"
   },
   {
    "duration": 31,
    "start_time": "2023-10-02T17:53:46.542Z"
   },
   {
    "duration": 10,
    "start_time": "2023-10-02T17:53:46.575Z"
   },
   {
    "duration": 34,
    "start_time": "2023-10-02T17:53:46.587Z"
   },
   {
    "duration": 12,
    "start_time": "2023-10-02T17:53:46.623Z"
   },
   {
    "duration": 58,
    "start_time": "2023-10-02T17:53:46.636Z"
   },
   {
    "duration": 12,
    "start_time": "2023-10-02T17:53:46.696Z"
   },
   {
    "duration": 8,
    "start_time": "2023-10-02T17:53:46.709Z"
   },
   {
    "duration": 15,
    "start_time": "2023-10-02T17:53:46.718Z"
   },
   {
    "duration": 23,
    "start_time": "2023-10-02T17:53:46.734Z"
   },
   {
    "duration": 44,
    "start_time": "2023-10-02T17:53:46.759Z"
   },
   {
    "duration": 13,
    "start_time": "2023-10-02T17:53:46.805Z"
   },
   {
    "duration": 13,
    "start_time": "2023-10-02T17:53:46.820Z"
   },
   {
    "duration": 14,
    "start_time": "2023-10-02T17:53:46.835Z"
   },
   {
    "duration": 26,
    "start_time": "2023-10-02T17:53:46.850Z"
   },
   {
    "duration": 24,
    "start_time": "2023-10-02T17:53:46.878Z"
   },
   {
    "duration": 30,
    "start_time": "2023-10-02T17:53:46.904Z"
   },
   {
    "duration": 26,
    "start_time": "2023-10-02T17:53:46.937Z"
   },
   {
    "duration": 10,
    "start_time": "2023-10-02T17:53:46.965Z"
   },
   {
    "duration": 8,
    "start_time": "2023-10-02T17:53:46.977Z"
   },
   {
    "duration": 693,
    "start_time": "2023-10-03T16:48:33.847Z"
   },
   {
    "duration": 37,
    "start_time": "2023-10-03T16:48:34.546Z"
   },
   {
    "duration": 30,
    "start_time": "2023-10-03T16:48:34.585Z"
   },
   {
    "duration": 16,
    "start_time": "2023-10-03T16:48:34.618Z"
   },
   {
    "duration": 72,
    "start_time": "2023-10-03T16:48:34.637Z"
   },
   {
    "duration": 5,
    "start_time": "2023-10-03T16:48:34.712Z"
   },
   {
    "duration": 17,
    "start_time": "2023-10-03T16:48:34.720Z"
   },
   {
    "duration": 30,
    "start_time": "2023-10-03T16:48:34.740Z"
   },
   {
    "duration": 47,
    "start_time": "2023-10-03T16:48:34.773Z"
   },
   {
    "duration": 19,
    "start_time": "2023-10-03T16:48:34.822Z"
   },
   {
    "duration": 49,
    "start_time": "2023-10-03T16:48:34.843Z"
   },
   {
    "duration": 12,
    "start_time": "2023-10-03T16:48:34.893Z"
   },
   {
    "duration": 17,
    "start_time": "2023-10-03T16:48:34.906Z"
   },
   {
    "duration": 20,
    "start_time": "2023-10-03T16:48:34.926Z"
   },
   {
    "duration": 31,
    "start_time": "2023-10-03T16:48:34.948Z"
   },
   {
    "duration": 23,
    "start_time": "2023-10-03T16:48:34.981Z"
   },
   {
    "duration": 40,
    "start_time": "2023-10-03T16:48:35.005Z"
   },
   {
    "duration": 41,
    "start_time": "2023-10-03T16:48:35.047Z"
   },
   {
    "duration": 30,
    "start_time": "2023-10-03T16:48:35.090Z"
   },
   {
    "duration": 40,
    "start_time": "2023-10-03T16:48:35.122Z"
   },
   {
    "duration": 482,
    "start_time": "2023-10-03T16:48:35.165Z"
   },
   {
    "duration": 185,
    "start_time": "2023-10-03T16:48:35.650Z"
   },
   {
    "duration": 64,
    "start_time": "2023-10-03T16:48:35.837Z"
   },
   {
    "duration": 74,
    "start_time": "2023-10-03T16:48:35.903Z"
   },
   {
    "duration": 76,
    "start_time": "2023-10-03T16:48:35.979Z"
   },
   {
    "duration": 5,
    "start_time": "2023-10-03T16:49:11.157Z"
   },
   {
    "duration": 5,
    "start_time": "2023-10-03T16:49:22.343Z"
   },
   {
    "duration": 8,
    "start_time": "2023-10-03T16:50:58.697Z"
   },
   {
    "duration": 10,
    "start_time": "2023-10-03T16:51:31.702Z"
   },
   {
    "duration": 72,
    "start_time": "2023-10-03T16:58:33.122Z"
   },
   {
    "duration": 15,
    "start_time": "2023-10-03T16:58:46.203Z"
   },
   {
    "duration": 23,
    "start_time": "2023-10-03T16:58:51.237Z"
   },
   {
    "duration": 34,
    "start_time": "2023-10-03T17:00:04.577Z"
   },
   {
    "duration": 21,
    "start_time": "2023-10-03T17:01:38.353Z"
   },
   {
    "duration": 28,
    "start_time": "2023-10-03T17:04:03.980Z"
   },
   {
    "duration": 23,
    "start_time": "2023-10-03T17:07:35.047Z"
   },
   {
    "duration": 1682,
    "start_time": "2023-10-03T17:10:57.790Z"
   },
   {
    "duration": 21,
    "start_time": "2023-10-03T17:11:31.099Z"
   },
   {
    "duration": 19,
    "start_time": "2023-10-03T17:11:40.032Z"
   },
   {
    "duration": 22,
    "start_time": "2023-10-03T17:12:46.799Z"
   },
   {
    "duration": 22,
    "start_time": "2023-10-03T17:13:18.243Z"
   },
   {
    "duration": 25,
    "start_time": "2023-10-03T17:16:06.698Z"
   },
   {
    "duration": 18,
    "start_time": "2023-10-03T17:16:20.461Z"
   },
   {
    "duration": 19,
    "start_time": "2023-10-03T17:16:29.849Z"
   },
   {
    "duration": 22,
    "start_time": "2023-10-03T17:16:48.258Z"
   },
   {
    "duration": 23,
    "start_time": "2023-10-03T17:35:23.783Z"
   },
   {
    "duration": 23,
    "start_time": "2023-10-03T17:35:46.364Z"
   },
   {
    "duration": 30,
    "start_time": "2023-10-03T17:36:30.548Z"
   },
   {
    "duration": 22,
    "start_time": "2023-10-03T17:38:32.371Z"
   },
   {
    "duration": 20,
    "start_time": "2023-10-03T17:38:58.803Z"
   },
   {
    "duration": 23,
    "start_time": "2023-10-03T17:39:13.838Z"
   },
   {
    "duration": 19,
    "start_time": "2023-10-03T17:39:43.874Z"
   },
   {
    "duration": 25,
    "start_time": "2023-10-03T17:39:54.923Z"
   },
   {
    "duration": 23,
    "start_time": "2023-10-03T17:40:19.737Z"
   },
   {
    "duration": 20,
    "start_time": "2023-10-03T17:40:28.873Z"
   },
   {
    "duration": 20,
    "start_time": "2023-10-03T17:40:41.587Z"
   },
   {
    "duration": 20,
    "start_time": "2023-10-03T17:40:48.920Z"
   },
   {
    "duration": 19,
    "start_time": "2023-10-03T17:41:12.061Z"
   },
   {
    "duration": 7,
    "start_time": "2023-10-04T09:11:59.376Z"
   },
   {
    "duration": 6,
    "start_time": "2023-10-04T09:12:52.306Z"
   },
   {
    "duration": 21,
    "start_time": "2023-10-04T09:15:24.474Z"
   },
   {
    "duration": 19,
    "start_time": "2023-10-04T09:19:18.139Z"
   },
   {
    "duration": 22,
    "start_time": "2023-10-04T09:25:59.690Z"
   },
   {
    "duration": 22,
    "start_time": "2023-10-04T09:29:31.935Z"
   },
   {
    "duration": 8,
    "start_time": "2023-10-04T09:46:02.910Z"
   },
   {
    "duration": 4,
    "start_time": "2023-10-04T09:46:13.293Z"
   },
   {
    "duration": 18,
    "start_time": "2023-10-04T09:47:42.240Z"
   },
   {
    "duration": 20,
    "start_time": "2023-10-04T09:51:17.553Z"
   },
   {
    "duration": 491,
    "start_time": "2023-10-04T09:52:56.025Z"
   },
   {
    "duration": 23,
    "start_time": "2023-10-04T09:52:56.518Z"
   },
   {
    "duration": 43,
    "start_time": "2023-10-04T09:52:56.543Z"
   },
   {
    "duration": 40,
    "start_time": "2023-10-04T09:52:56.588Z"
   },
   {
    "duration": 77,
    "start_time": "2023-10-04T09:52:56.630Z"
   },
   {
    "duration": 3,
    "start_time": "2023-10-04T09:52:56.709Z"
   },
   {
    "duration": 42,
    "start_time": "2023-10-04T09:52:56.714Z"
   },
   {
    "duration": 37,
    "start_time": "2023-10-04T09:52:56.758Z"
   },
   {
    "duration": 34,
    "start_time": "2023-10-04T09:52:56.797Z"
   },
   {
    "duration": 39,
    "start_time": "2023-10-04T09:52:56.833Z"
   },
   {
    "duration": 68,
    "start_time": "2023-10-04T09:52:56.874Z"
   },
   {
    "duration": 10,
    "start_time": "2023-10-04T09:52:56.944Z"
   },
   {
    "duration": 43,
    "start_time": "2023-10-04T09:52:56.956Z"
   },
   {
    "duration": 27,
    "start_time": "2023-10-04T09:52:57.002Z"
   },
   {
    "duration": 40,
    "start_time": "2023-10-04T09:52:57.031Z"
   },
   {
    "duration": 29,
    "start_time": "2023-10-04T09:52:57.073Z"
   },
   {
    "duration": 3,
    "start_time": "2023-10-04T09:52:57.104Z"
   },
   {
    "duration": 24,
    "start_time": "2023-10-04T09:52:57.109Z"
   },
   {
    "duration": 27,
    "start_time": "2023-10-04T09:52:57.135Z"
   },
   {
    "duration": 53,
    "start_time": "2023-10-04T09:52:57.164Z"
   },
   {
    "duration": 39,
    "start_time": "2023-10-04T09:52:57.219Z"
   },
   {
    "duration": 40,
    "start_time": "2023-10-04T09:52:57.260Z"
   },
   {
    "duration": 22,
    "start_time": "2023-10-04T09:52:57.302Z"
   },
   {
    "duration": 38,
    "start_time": "2023-10-04T09:52:57.326Z"
   },
   {
    "duration": 28,
    "start_time": "2023-10-04T09:52:57.366Z"
   },
   {
    "duration": 28,
    "start_time": "2023-10-04T09:53:20.936Z"
   },
   {
    "duration": 29,
    "start_time": "2023-10-04T09:53:33.693Z"
   },
   {
    "duration": 60,
    "start_time": "2023-10-04T15:06:16.164Z"
   },
   {
    "duration": 1057,
    "start_time": "2023-10-04T15:06:26.311Z"
   },
   {
    "duration": 21,
    "start_time": "2023-10-04T15:06:27.370Z"
   },
   {
    "duration": 15,
    "start_time": "2023-10-04T15:06:27.393Z"
   },
   {
    "duration": 34,
    "start_time": "2023-10-04T15:06:27.409Z"
   },
   {
    "duration": 93,
    "start_time": "2023-10-04T15:06:27.444Z"
   },
   {
    "duration": 172,
    "start_time": "2023-10-04T15:06:27.539Z"
   },
   {
    "duration": 36,
    "start_time": "2023-10-04T15:06:27.713Z"
   },
   {
    "duration": 34,
    "start_time": "2023-10-04T15:06:27.751Z"
   },
   {
    "duration": 64,
    "start_time": "2023-10-04T15:06:27.786Z"
   },
   {
    "duration": 13,
    "start_time": "2023-10-04T15:06:27.852Z"
   },
   {
    "duration": 55,
    "start_time": "2023-10-04T15:06:27.866Z"
   },
   {
    "duration": 11,
    "start_time": "2023-10-04T15:06:27.923Z"
   },
   {
    "duration": 29,
    "start_time": "2023-10-04T15:06:27.935Z"
   },
   {
    "duration": 45,
    "start_time": "2023-10-04T15:06:27.965Z"
   },
   {
    "duration": 42,
    "start_time": "2023-10-04T15:06:28.012Z"
   },
   {
    "duration": 25,
    "start_time": "2023-10-04T15:06:28.056Z"
   },
   {
    "duration": 19,
    "start_time": "2023-10-04T15:06:28.083Z"
   },
   {
    "duration": 23,
    "start_time": "2023-10-04T15:06:28.105Z"
   },
   {
    "duration": 40,
    "start_time": "2023-10-04T15:06:28.130Z"
   },
   {
    "duration": 13,
    "start_time": "2023-10-04T15:06:28.171Z"
   },
   {
    "duration": 41,
    "start_time": "2023-10-04T15:06:28.185Z"
   },
   {
    "duration": 41,
    "start_time": "2023-10-04T15:06:28.228Z"
   },
   {
    "duration": 34,
    "start_time": "2023-10-04T15:06:28.271Z"
   },
   {
    "duration": 25,
    "start_time": "2023-10-04T15:06:28.306Z"
   },
   {
    "duration": 30,
    "start_time": "2023-10-04T15:06:28.333Z"
   },
   {
    "duration": 16,
    "start_time": "2023-10-04T15:06:44.855Z"
   },
   {
    "duration": 15,
    "start_time": "2023-10-04T15:07:41.051Z"
   },
   {
    "duration": 13,
    "start_time": "2023-10-04T15:07:49.149Z"
   },
   {
    "duration": 16,
    "start_time": "2023-10-04T15:08:04.864Z"
   },
   {
    "duration": 16,
    "start_time": "2023-10-04T15:08:30.936Z"
   },
   {
    "duration": 16,
    "start_time": "2023-10-04T15:08:36.547Z"
   },
   {
    "duration": 17,
    "start_time": "2023-10-04T15:09:19.800Z"
   },
   {
    "duration": 16,
    "start_time": "2023-10-04T15:09:53.300Z"
   },
   {
    "duration": 17,
    "start_time": "2023-10-04T15:10:18.276Z"
   },
   {
    "duration": 455,
    "start_time": "2023-10-04T15:13:24.868Z"
   },
   {
    "duration": 21,
    "start_time": "2023-10-04T15:13:25.324Z"
   },
   {
    "duration": 41,
    "start_time": "2023-10-04T15:13:25.346Z"
   },
   {
    "duration": 29,
    "start_time": "2023-10-04T15:13:25.389Z"
   },
   {
    "duration": 76,
    "start_time": "2023-10-04T15:13:25.419Z"
   },
   {
    "duration": 4,
    "start_time": "2023-10-04T15:13:25.496Z"
   },
   {
    "duration": 37,
    "start_time": "2023-10-04T15:13:25.501Z"
   },
   {
    "duration": 38,
    "start_time": "2023-10-04T15:13:25.539Z"
   },
   {
    "duration": 29,
    "start_time": "2023-10-04T15:13:25.579Z"
   },
   {
    "duration": 24,
    "start_time": "2023-10-04T15:13:25.610Z"
   },
   {
    "duration": 59,
    "start_time": "2023-10-04T15:13:25.636Z"
   },
   {
    "duration": 22,
    "start_time": "2023-10-04T15:13:25.696Z"
   },
   {
    "duration": 26,
    "start_time": "2023-10-04T15:13:25.720Z"
   },
   {
    "duration": 38,
    "start_time": "2023-10-04T15:13:25.748Z"
   },
   {
    "duration": 44,
    "start_time": "2023-10-04T15:13:25.787Z"
   },
   {
    "duration": 23,
    "start_time": "2023-10-04T15:13:25.833Z"
   },
   {
    "duration": 25,
    "start_time": "2023-10-04T15:13:25.858Z"
   },
   {
    "duration": 43,
    "start_time": "2023-10-04T15:13:25.884Z"
   },
   {
    "duration": 23,
    "start_time": "2023-10-04T15:13:25.929Z"
   },
   {
    "duration": 26,
    "start_time": "2023-10-04T15:13:25.954Z"
   },
   {
    "duration": 28,
    "start_time": "2023-10-04T15:13:25.982Z"
   },
   {
    "duration": 28,
    "start_time": "2023-10-04T15:13:26.012Z"
   },
   {
    "duration": 28,
    "start_time": "2023-10-04T15:13:26.043Z"
   },
   {
    "duration": 30,
    "start_time": "2023-10-04T15:13:26.073Z"
   },
   {
    "duration": 29,
    "start_time": "2023-10-04T15:13:26.105Z"
   },
   {
    "duration": 5,
    "start_time": "2023-10-04T15:17:27.529Z"
   },
   {
    "duration": 7,
    "start_time": "2023-10-04T15:29:07.439Z"
   },
   {
    "duration": 7,
    "start_time": "2023-10-04T15:31:13.348Z"
   },
   {
    "duration": 8,
    "start_time": "2023-10-04T15:31:42.970Z"
   },
   {
    "duration": 481,
    "start_time": "2023-10-04T16:25:21.243Z"
   },
   {
    "duration": 19,
    "start_time": "2023-10-04T16:25:21.726Z"
   },
   {
    "duration": 25,
    "start_time": "2023-10-04T16:25:21.747Z"
   },
   {
    "duration": 31,
    "start_time": "2023-10-04T16:25:21.774Z"
   },
   {
    "duration": 36,
    "start_time": "2023-10-04T16:25:21.806Z"
   },
   {
    "duration": 3,
    "start_time": "2023-10-04T16:25:21.844Z"
   },
   {
    "duration": 24,
    "start_time": "2023-10-04T16:25:21.849Z"
   },
   {
    "duration": 23,
    "start_time": "2023-10-04T16:25:21.874Z"
   },
   {
    "duration": 30,
    "start_time": "2023-10-04T16:25:21.899Z"
   },
   {
    "duration": 27,
    "start_time": "2023-10-04T16:25:21.931Z"
   },
   {
    "duration": 55,
    "start_time": "2023-10-04T16:25:21.966Z"
   },
   {
    "duration": 9,
    "start_time": "2023-10-04T16:25:22.023Z"
   },
   {
    "duration": 32,
    "start_time": "2023-10-04T16:25:22.033Z"
   },
   {
    "duration": 27,
    "start_time": "2023-10-04T16:25:22.069Z"
   },
   {
    "duration": 55,
    "start_time": "2023-10-04T16:25:22.098Z"
   },
   {
    "duration": 20,
    "start_time": "2023-10-04T16:25:22.154Z"
   },
   {
    "duration": 4,
    "start_time": "2023-10-04T16:25:22.175Z"
   },
   {
    "duration": 44,
    "start_time": "2023-10-04T16:25:22.180Z"
   },
   {
    "duration": 40,
    "start_time": "2023-10-04T16:25:22.226Z"
   },
   {
    "duration": 10,
    "start_time": "2023-10-04T16:25:22.268Z"
   },
   {
    "duration": 31,
    "start_time": "2023-10-04T16:25:22.280Z"
   },
   {
    "duration": 67,
    "start_time": "2023-10-04T16:25:22.312Z"
   },
   {
    "duration": 17,
    "start_time": "2023-10-04T16:25:22.381Z"
   },
   {
    "duration": 26,
    "start_time": "2023-10-04T16:25:22.400Z"
   },
   {
    "duration": 36,
    "start_time": "2023-10-04T16:25:22.428Z"
   },
   {
    "duration": 16,
    "start_time": "2023-10-04T16:25:22.467Z"
   },
   {
    "duration": 28,
    "start_time": "2023-10-04T16:25:22.484Z"
   },
   {
    "duration": 60,
    "start_time": "2023-10-04T16:25:22.514Z"
   },
   {
    "duration": 41,
    "start_time": "2023-10-04T16:25:22.576Z"
   },
   {
    "duration": 454,
    "start_time": "2023-10-04T17:15:18.915Z"
   },
   {
    "duration": 21,
    "start_time": "2023-10-04T17:15:19.371Z"
   },
   {
    "duration": 15,
    "start_time": "2023-10-04T17:15:19.393Z"
   },
   {
    "duration": 11,
    "start_time": "2023-10-04T17:15:19.410Z"
   },
   {
    "duration": 58,
    "start_time": "2023-10-04T17:15:19.423Z"
   },
   {
    "duration": 3,
    "start_time": "2023-10-04T17:15:19.483Z"
   },
   {
    "duration": 13,
    "start_time": "2023-10-04T17:15:19.488Z"
   },
   {
    "duration": 21,
    "start_time": "2023-10-04T17:15:19.502Z"
   },
   {
    "duration": 23,
    "start_time": "2023-10-04T17:15:19.524Z"
   },
   {
    "duration": 18,
    "start_time": "2023-10-04T17:15:19.549Z"
   },
   {
    "duration": 38,
    "start_time": "2023-10-04T17:15:19.568Z"
   },
   {
    "duration": 11,
    "start_time": "2023-10-04T17:15:19.607Z"
   },
   {
    "duration": 9,
    "start_time": "2023-10-04T17:15:19.620Z"
   },
   {
    "duration": 22,
    "start_time": "2023-10-04T17:15:19.630Z"
   },
   {
    "duration": 27,
    "start_time": "2023-10-04T17:15:19.654Z"
   },
   {
    "duration": 33,
    "start_time": "2023-10-04T17:15:19.682Z"
   },
   {
    "duration": 3,
    "start_time": "2023-10-04T17:15:19.718Z"
   },
   {
    "duration": 36,
    "start_time": "2023-10-04T17:15:19.723Z"
   },
   {
    "duration": 8,
    "start_time": "2023-10-04T17:15:19.760Z"
   },
   {
    "duration": 20,
    "start_time": "2023-10-04T17:15:19.769Z"
   },
   {
    "duration": 14,
    "start_time": "2023-10-04T17:15:19.790Z"
   },
   {
    "duration": 27,
    "start_time": "2023-10-04T17:15:19.805Z"
   },
   {
    "duration": 5,
    "start_time": "2023-10-04T17:15:19.833Z"
   },
   {
    "duration": 32,
    "start_time": "2023-10-04T17:15:19.839Z"
   },
   {
    "duration": 17,
    "start_time": "2023-10-04T17:15:19.873Z"
   },
   {
    "duration": 54,
    "start_time": "2023-10-04T17:15:19.891Z"
   },
   {
    "duration": 12,
    "start_time": "2023-10-04T17:15:19.947Z"
   },
   {
    "duration": 40,
    "start_time": "2023-10-04T17:15:19.966Z"
   },
   {
    "duration": 16,
    "start_time": "2023-10-04T17:15:20.008Z"
   },
   {
    "duration": 514,
    "start_time": "2023-10-04T18:04:17.504Z"
   },
   {
    "duration": 30,
    "start_time": "2023-10-04T18:04:18.020Z"
   },
   {
    "duration": 20,
    "start_time": "2023-10-04T18:04:18.052Z"
   },
   {
    "duration": 35,
    "start_time": "2023-10-04T18:04:18.074Z"
   },
   {
    "duration": 44,
    "start_time": "2023-10-04T18:04:18.111Z"
   },
   {
    "duration": 3,
    "start_time": "2023-10-04T18:04:18.157Z"
   },
   {
    "duration": 15,
    "start_time": "2023-10-04T18:04:18.162Z"
   },
   {
    "duration": 4,
    "start_time": "2023-10-04T18:04:18.179Z"
   },
   {
    "duration": 25,
    "start_time": "2023-10-04T18:04:18.184Z"
   },
   {
    "duration": 5,
    "start_time": "2023-10-04T18:04:18.212Z"
   },
   {
    "duration": 38,
    "start_time": "2023-10-04T18:04:18.218Z"
   },
   {
    "duration": 10,
    "start_time": "2023-10-04T18:04:18.258Z"
   },
   {
    "duration": 12,
    "start_time": "2023-10-04T18:04:18.270Z"
   },
   {
    "duration": 38,
    "start_time": "2023-10-04T18:04:18.283Z"
   },
   {
    "duration": 23,
    "start_time": "2023-10-04T18:04:18.323Z"
   },
   {
    "duration": 21,
    "start_time": "2023-10-04T18:04:18.348Z"
   },
   {
    "duration": 4,
    "start_time": "2023-10-04T18:04:18.371Z"
   },
   {
    "duration": 33,
    "start_time": "2023-10-04T18:04:18.377Z"
   },
   {
    "duration": 11,
    "start_time": "2023-10-04T18:04:18.411Z"
   },
   {
    "duration": 4,
    "start_time": "2023-10-04T18:04:18.423Z"
   },
   {
    "duration": 22,
    "start_time": "2023-10-04T18:04:18.428Z"
   },
   {
    "duration": 25,
    "start_time": "2023-10-04T18:04:18.452Z"
   },
   {
    "duration": 17,
    "start_time": "2023-10-04T18:04:18.479Z"
   },
   {
    "duration": 36,
    "start_time": "2023-10-04T18:04:18.498Z"
   },
   {
    "duration": 29,
    "start_time": "2023-10-04T18:04:18.536Z"
   },
   {
    "duration": 24,
    "start_time": "2023-10-04T18:04:18.568Z"
   },
   {
    "duration": 9,
    "start_time": "2023-10-04T18:04:18.594Z"
   },
   {
    "duration": 44,
    "start_time": "2023-10-04T18:04:18.606Z"
   },
   {
    "duration": 8,
    "start_time": "2023-10-04T18:04:18.651Z"
   },
   {
    "duration": 54,
    "start_time": "2023-10-05T09:13:25.047Z"
   },
   {
    "duration": 731,
    "start_time": "2023-10-05T09:13:29.910Z"
   },
   {
    "duration": 25,
    "start_time": "2023-10-05T09:13:30.643Z"
   },
   {
    "duration": 293,
    "start_time": "2023-10-05T09:13:30.670Z"
   },
   {
    "duration": 74,
    "start_time": "2023-10-05T09:13:30.965Z"
   },
   {
    "duration": 93,
    "start_time": "2023-10-05T09:13:31.041Z"
   },
   {
    "duration": 53,
    "start_time": "2023-10-05T09:13:31.136Z"
   },
   {
    "duration": 76,
    "start_time": "2023-10-05T09:13:31.191Z"
   },
   {
    "duration": 58,
    "start_time": "2023-10-05T09:13:31.269Z"
   },
   {
    "duration": 61,
    "start_time": "2023-10-05T09:13:31.330Z"
   },
   {
    "duration": 33,
    "start_time": "2023-10-05T09:13:31.395Z"
   },
   {
    "duration": 74,
    "start_time": "2023-10-05T09:13:31.430Z"
   },
   {
    "duration": 70,
    "start_time": "2023-10-05T09:13:31.505Z"
   },
   {
    "duration": 50,
    "start_time": "2023-10-05T09:13:31.576Z"
   },
   {
    "duration": 54,
    "start_time": "2023-10-05T09:13:31.628Z"
   },
   {
    "duration": 86,
    "start_time": "2023-10-05T09:13:31.684Z"
   },
   {
    "duration": 56,
    "start_time": "2023-10-05T09:13:31.772Z"
   },
   {
    "duration": 329,
    "start_time": "2023-10-05T09:13:31.829Z"
   },
   {
    "duration": 143,
    "start_time": "2023-10-05T09:13:32.160Z"
   },
   {
    "duration": 35,
    "start_time": "2023-10-05T09:13:32.305Z"
   },
   {
    "duration": 40,
    "start_time": "2023-10-05T09:13:32.342Z"
   },
   {
    "duration": 66,
    "start_time": "2023-10-05T09:13:32.385Z"
   },
   {
    "duration": 44,
    "start_time": "2023-10-05T09:13:32.453Z"
   },
   {
    "duration": 37,
    "start_time": "2023-10-05T09:13:32.499Z"
   },
   {
    "duration": 45,
    "start_time": "2023-10-05T09:13:32.538Z"
   },
   {
    "duration": 99,
    "start_time": "2023-10-05T09:13:32.586Z"
   },
   {
    "duration": 36,
    "start_time": "2023-10-05T09:13:32.687Z"
   },
   {
    "duration": 56,
    "start_time": "2023-10-05T09:13:32.725Z"
   },
   {
    "duration": 90,
    "start_time": "2023-10-05T09:13:32.785Z"
   },
   {
    "duration": 74,
    "start_time": "2023-10-05T09:13:32.877Z"
   },
   {
    "duration": 73,
    "start_time": "2023-10-05T09:13:32.953Z"
   },
   {
    "duration": 17,
    "start_time": "2023-10-05T09:22:10.766Z"
   },
   {
    "duration": 23,
    "start_time": "2023-10-05T09:22:16.489Z"
   },
   {
    "duration": 26,
    "start_time": "2023-10-05T09:22:27.002Z"
   },
   {
    "duration": 27,
    "start_time": "2023-10-05T09:23:32.124Z"
   },
   {
    "duration": 43,
    "start_time": "2023-10-05T09:28:36.340Z"
   },
   {
    "duration": 26,
    "start_time": "2023-10-05T09:44:42.153Z"
   },
   {
    "duration": 23,
    "start_time": "2023-10-05T09:46:28.395Z"
   },
   {
    "duration": 529,
    "start_time": "2023-10-05T09:48:28.574Z"
   },
   {
    "duration": 42,
    "start_time": "2023-10-05T09:48:46.103Z"
   },
   {
    "duration": 29,
    "start_time": "2023-10-05T09:50:14.346Z"
   },
   {
    "duration": 28,
    "start_time": "2023-10-05T09:51:08.734Z"
   },
   {
    "duration": 26,
    "start_time": "2023-10-05T09:52:14.400Z"
   },
   {
    "duration": 19,
    "start_time": "2023-10-05T09:54:36.427Z"
   },
   {
    "duration": 20,
    "start_time": "2023-10-05T09:55:09.581Z"
   },
   {
    "duration": 22,
    "start_time": "2023-10-05T09:55:23.141Z"
   },
   {
    "duration": 25,
    "start_time": "2023-10-05T09:55:31.272Z"
   },
   {
    "duration": 481,
    "start_time": "2023-10-05T09:58:25.494Z"
   },
   {
    "duration": 25,
    "start_time": "2023-10-05T09:58:25.977Z"
   },
   {
    "duration": 20,
    "start_time": "2023-10-05T09:58:26.003Z"
   },
   {
    "duration": 27,
    "start_time": "2023-10-05T09:58:26.026Z"
   },
   {
    "duration": 48,
    "start_time": "2023-10-05T09:58:26.057Z"
   },
   {
    "duration": 4,
    "start_time": "2023-10-05T09:58:26.107Z"
   },
   {
    "duration": 23,
    "start_time": "2023-10-05T09:58:26.113Z"
   },
   {
    "duration": 31,
    "start_time": "2023-10-05T09:58:26.137Z"
   },
   {
    "duration": 27,
    "start_time": "2023-10-05T09:58:26.170Z"
   },
   {
    "duration": 23,
    "start_time": "2023-10-05T09:58:26.200Z"
   },
   {
    "duration": 61,
    "start_time": "2023-10-05T09:58:26.225Z"
   },
   {
    "duration": 11,
    "start_time": "2023-10-05T09:58:26.288Z"
   },
   {
    "duration": 43,
    "start_time": "2023-10-05T09:58:26.301Z"
   },
   {
    "duration": 40,
    "start_time": "2023-10-05T09:58:26.350Z"
   },
   {
    "duration": 41,
    "start_time": "2023-10-05T09:58:26.392Z"
   },
   {
    "duration": 26,
    "start_time": "2023-10-05T09:58:26.434Z"
   },
   {
    "duration": 5,
    "start_time": "2023-10-05T09:58:26.462Z"
   },
   {
    "duration": 33,
    "start_time": "2023-10-05T09:58:26.469Z"
   },
   {
    "duration": 59,
    "start_time": "2023-10-05T09:58:26.504Z"
   },
   {
    "duration": 13,
    "start_time": "2023-10-05T09:58:26.565Z"
   },
   {
    "duration": 13,
    "start_time": "2023-10-05T09:58:26.579Z"
   },
   {
    "duration": 4,
    "start_time": "2023-10-05T09:58:26.594Z"
   },
   {
    "duration": 38,
    "start_time": "2023-10-05T09:58:26.600Z"
   },
   {
    "duration": 37,
    "start_time": "2023-10-05T09:58:26.640Z"
   },
   {
    "duration": 23,
    "start_time": "2023-10-05T09:58:26.679Z"
   },
   {
    "duration": 41,
    "start_time": "2023-10-05T09:58:26.704Z"
   },
   {
    "duration": 21,
    "start_time": "2023-10-05T09:58:26.748Z"
   },
   {
    "duration": 37,
    "start_time": "2023-10-05T09:58:26.772Z"
   },
   {
    "duration": 20,
    "start_time": "2023-10-05T09:58:26.811Z"
   },
   {
    "duration": 41,
    "start_time": "2023-10-05T09:58:26.833Z"
   },
   {
    "duration": 11,
    "start_time": "2023-10-05T09:58:26.876Z"
   },
   {
    "duration": 24,
    "start_time": "2023-10-05T10:00:23.363Z"
   },
   {
    "duration": 23,
    "start_time": "2023-10-05T10:00:49.212Z"
   },
   {
    "duration": 25,
    "start_time": "2023-10-05T10:01:01.793Z"
   },
   {
    "duration": 19,
    "start_time": "2023-10-05T10:05:32.681Z"
   },
   {
    "duration": 750,
    "start_time": "2023-10-05T11:43:16.271Z"
   },
   {
    "duration": 25,
    "start_time": "2023-10-05T11:43:17.023Z"
   },
   {
    "duration": 44,
    "start_time": "2023-10-05T11:43:17.050Z"
   },
   {
    "duration": 19,
    "start_time": "2023-10-05T11:43:17.097Z"
   },
   {
    "duration": 89,
    "start_time": "2023-10-05T11:43:17.118Z"
   },
   {
    "duration": 25,
    "start_time": "2023-10-05T11:43:17.209Z"
   },
   {
    "duration": 28,
    "start_time": "2023-10-05T11:43:17.236Z"
   },
   {
    "duration": 29,
    "start_time": "2023-10-05T11:43:17.266Z"
   },
   {
    "duration": 25,
    "start_time": "2023-10-05T11:43:17.297Z"
   },
   {
    "duration": 24,
    "start_time": "2023-10-05T11:43:17.327Z"
   },
   {
    "duration": 66,
    "start_time": "2023-10-05T11:43:17.353Z"
   },
   {
    "duration": 11,
    "start_time": "2023-10-05T11:43:17.421Z"
   },
   {
    "duration": 21,
    "start_time": "2023-10-05T11:43:17.433Z"
   },
   {
    "duration": 41,
    "start_time": "2023-10-05T11:43:17.456Z"
   },
   {
    "duration": 44,
    "start_time": "2023-10-05T11:43:17.499Z"
   },
   {
    "duration": 28,
    "start_time": "2023-10-05T11:43:17.545Z"
   },
   {
    "duration": 6,
    "start_time": "2023-10-05T11:43:17.575Z"
   },
   {
    "duration": 32,
    "start_time": "2023-10-05T11:43:17.582Z"
   },
   {
    "duration": 30,
    "start_time": "2023-10-05T11:43:17.616Z"
   },
   {
    "duration": 32,
    "start_time": "2023-10-05T11:43:17.647Z"
   },
   {
    "duration": 40,
    "start_time": "2023-10-05T11:43:17.680Z"
   },
   {
    "duration": 27,
    "start_time": "2023-10-05T11:43:17.722Z"
   },
   {
    "duration": 44,
    "start_time": "2023-10-05T11:43:17.751Z"
   },
   {
    "duration": 33,
    "start_time": "2023-10-05T11:43:17.797Z"
   },
   {
    "duration": 12,
    "start_time": "2023-10-05T11:43:17.832Z"
   },
   {
    "duration": 58,
    "start_time": "2023-10-05T11:43:17.846Z"
   },
   {
    "duration": 41,
    "start_time": "2023-10-05T11:43:17.906Z"
   },
   {
    "duration": 6,
    "start_time": "2023-10-05T11:43:17.952Z"
   },
   {
    "duration": 44,
    "start_time": "2023-10-05T11:43:17.960Z"
   },
   {
    "duration": 68,
    "start_time": "2023-10-05T11:43:18.007Z"
   },
   {
    "duration": 8,
    "start_time": "2023-10-05T11:43:18.077Z"
   },
   {
    "duration": 34,
    "start_time": "2023-10-05T11:43:18.087Z"
   },
   {
    "duration": 68,
    "start_time": "2023-10-05T11:43:18.123Z"
   },
   {
    "duration": 32,
    "start_time": "2023-10-05T11:43:18.192Z"
   }
  ],
  "colab": {
   "name": "dpp_template_part2.ipynb",
   "provenance": []
  },
  "kernelspec": {
   "display_name": "Python 3 (ipykernel)",
   "language": "python",
   "name": "python3"
  },
  "language_info": {
   "codemirror_mode": {
    "name": "ipython",
    "version": 3
   },
   "file_extension": ".py",
   "mimetype": "text/x-python",
   "name": "python",
   "nbconvert_exporter": "python",
   "pygments_lexer": "ipython3",
   "version": "3.9.5"
  },
  "toc": {
   "base_numbering": 1,
   "nav_menu": {},
   "number_sections": true,
   "sideBar": true,
   "skip_h1_title": true,
   "title_cell": "Table of Contents",
   "title_sidebar": "Contents",
   "toc_cell": false,
   "toc_position": {},
   "toc_section_display": true,
   "toc_window_display": false
  }
 },
 "nbformat": 4,
 "nbformat_minor": 5
}
